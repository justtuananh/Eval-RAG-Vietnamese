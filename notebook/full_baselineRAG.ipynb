{
 "cells": [
  {
   "cell_type": "code",
   "execution_count": 2,
   "metadata": {},
   "outputs": [],
   "source": [
    "\n",
    "from qdrant_client.http.models import Distance, VectorParams\n",
    "from langchain_huggingface import HuggingFaceEmbeddings\n",
    "from langchain_community.document_loaders import TextLoader\n",
    "from langchain.text_splitter import MarkdownHeaderTextSplitter\n",
    "from langchain.retrievers.self_query.base import SelfQueryRetriever\n",
    "from langchain.vectorstores import Chroma\n",
    "from langchain.text_splitter import RecursiveCharacterTextSplitter, CharacterTextSplitter\n",
    "from langchain.document_loaders import TextLoader\n",
    "from langchain_community.embeddings.huggingface import HuggingFaceEmbeddings\n",
    "from langchain.retrievers import ParentDocumentRetriever\n",
    "from langchain.storage import InMemoryStore\n",
    "from langchain.docstore.document import Document\n",
    "from typing import List, Dict\n",
    "from langchain.vectorstores import Redis\n",
    "from langchain.chains import RetrievalQA\n",
    "from langchain_groq import ChatGroq\n",
    "from langchain.chains.query_constructor.base import (\n",
    "    get_query_constructor_prompt,\n",
    "    load_query_constructor_runnable,\n",
    "    AttributeInfo)\n",
    "from dotenv import load_dotenv\n",
    "load_dotenv()\n",
    "import os"
   ]
  },
  {
   "cell_type": "code",
   "execution_count": 4,
   "metadata": {},
   "outputs": [],
   "source": [
    "from __future__ import annotations\n",
    "\n",
    "from pathlib import Path\n",
    "from typing import Any, Callable, Dict, Iterable, List, Optional\n",
    "\n",
    "from langchain_core.callbacks import CallbackManagerForRetrieverRun\n",
    "from langchain_core.documents import Document\n",
    "from langchain_core.pydantic_v1 import Field\n",
    "from langchain_core.retrievers import BaseRetriever\n",
    "import bm25s\n",
    "\n",
    "def default_preprocessing_func(text: str) -> List[str]:\n",
    "    token_corpus = bm25s.tokenize(texts=text, stopwords = \"vi\", return_ids= False , show_progress=False)\n",
    "    return token_corpus\n",
    "\n",
    "\n",
    "class BM25SRetriever(BaseRetriever):\n",
    "    \"\"\"A toy retriever that contains the top k documents that contain the user query.\n",
    "\n",
    "    This retriever only implements the sync method _get_relevant_documents.\n",
    "\n",
    "    If the retriever were to involve file access or network access, it could benefit\n",
    "    from a native async implementation of `_aget_relevant_documents`.\n",
    "\n",
    "    As usual, with Runnables, there's a default async implementation that's provided\n",
    "    that delegates to the sync implementation running on another thread.\n",
    "    \"\"\"\n",
    "    vectorizer: Any\n",
    "    \"\"\" BM25S vectorizer.\"\"\"\n",
    "    docs: List[Document] = Field(repr=False)\n",
    "    \"\"\"List of documents to retrieve from.\"\"\"\n",
    "    k: int = 4\n",
    "    \"\"\"Number of top results to return\"\"\"\n",
    "    preprocess_func: Callable[[str], List[str]] = default_preprocessing_func\n",
    "    \"\"\" Preprocessing function to use on the text before BM25 vectorization.\"\"\"\n",
    "    save_directory : Optional[str] = None\n",
    "    \"\"\" Directory for saving BM25S index.\"\"\"\n",
    "    activate_numba: bool = False\n",
    "    \"\"\"Accelerate backend\"\"\"\n",
    "    class Config:\n",
    "        arbitrary_types_allowed = True\n",
    "    @classmethod\n",
    "    def from_texts(\n",
    "        cls,\n",
    "        texts: Iterable[str],\n",
    "        metadatas: Optional[Iterable[dict]] = None,\n",
    "        bm25_params: Optional[Dict[str, Any]] = None,\n",
    "        save_directory : Optional[str] = save_directory,\n",
    "        preprocess_func: Callable[[str], List[str]] = default_preprocessing_func,\n",
    "        **kwargs: Any,\n",
    "    ) -> BM25SRetriever:\n",
    "        \"\"\"\n",
    "        Create a BM25Retriever from a list of texts.\n",
    "        Args:\n",
    "            texts: A list of texts to vectorize.\n",
    "            metadatas: A list of metadata dicts to associate with each text.\n",
    "            bm25s_params: Parameters to pass to the BM25s vectorizer.\n",
    "            preprocess_func: A function to preprocess each text before vectorization.\n",
    "            **kwargs: Any other arguments to pass to the retriever.\n",
    "\n",
    "        Returns:\n",
    "            A BM25SRetriever instance.\n",
    "        \"\"\"\n",
    "        try:\n",
    "            from bm25s import BM25\n",
    "        except ImportError:\n",
    "            raise ImportError(\n",
    "                \"Could not import bm25s, please install with `pip install \"\n",
    "                \"bm25s`.\"\n",
    "            )\n",
    "        bm25_params = bm25_params or {}\n",
    "        if save_directory and Path(save_directory).exists():\n",
    "            try:\n",
    "                vectorizer = BM25.load(save_directory)\n",
    "            except Exception as e:\n",
    "                print(f\"Failed to load BM25 index from {save_directory}: {e}\")\n",
    "                print(\"Proceeding with indexing from scratch.\")\n",
    "                texts_processed = preprocess_func(texts)\n",
    "                vectorizer = BM25(**bm25_params)\n",
    "                vectorizer.index(texts_processed)\n",
    "                if save_directory:\n",
    "                    vectorizer.save(save_directory)\n",
    "\n",
    "        else:\n",
    "            texts_processed = preprocess_func(texts)\n",
    "            vectorizer = BM25(**bm25_params)\n",
    "            vectorizer.index(texts_processed)\n",
    "            if save_directory:\n",
    "                vectorizer.save(save_directory)\n",
    "\n",
    "        metadatas = metadatas or ({} for _ in texts)\n",
    "        docs = [Document(page_content=t, metadata=m) for t, m in zip(texts, metadatas)]\n",
    "        return cls(\n",
    "            vectorizer=vectorizer, docs=docs, preprocess_func=preprocess_func, save_directory=save_directory, **kwargs\n",
    "        )\n",
    "\n",
    "    @classmethod\n",
    "    def from_documents(\n",
    "        cls,\n",
    "        documents: Iterable[Document],\n",
    "        *,\n",
    "        bm25_params: Optional[Dict[str, Any]] = None,\n",
    "        preprocess_func: Callable[[str], List[str]] = default_preprocessing_func,\n",
    "\n",
    "        **kwargs: Any,\n",
    "    ) -> BM25SRetriever:\n",
    "        \"\"\"\n",
    "        Create a BM25Retriever from a list of Documents.\n",
    "        Args:\n",
    "            documents: A list of Documents to vectorize.\n",
    "            bm25_params: Parameters to pass to the BM25 vectorizer.\n",
    "            preprocess_func: A function to preprocess each text before vectorization.\n",
    "            **kwargs: Any other arguments to pass to the retriever.\n",
    "\n",
    "        Returns:\n",
    "            A BM25Retriever instance.\n",
    "        \"\"\"\n",
    "        texts, metadatas = zip(*((d.page_content, d.metadata) for d in documents))\n",
    "        return cls.from_texts(\n",
    "            texts=texts,\n",
    "            bm25_params=bm25_params,\n",
    "            metadatas=metadatas,\n",
    "            preprocess_func=preprocess_func,\n",
    "            **kwargs,\n",
    "        )\n",
    "\n",
    "    def _get_relevant_documents(\n",
    "        self, query: str, *, run_manager: CallbackManagerForRetrieverRun\n",
    "    ) -> List[Document]:\n",
    "        processed_query = self.preprocess_func(query)\n",
    "        if self.activate_numba : \n",
    "          self.vectorizer.activate_numba_scorer()\n",
    "          return_docs = self.vectorizer.retrieve(processed_query, k=self.k, backend_selection=\"numba\")\n",
    "          return [self.docs[i] for i in return_docs.documents[0]]\n",
    "        else :  \n",
    "          return_docs, scores = self.vectorizer.retrieve(processed_query, self.docs, k = self.k)\n",
    "          return [return_docs[0, i] for i in range(return_docs.shape[1])]\n"
   ]
  },
  {
   "cell_type": "code",
   "execution_count": 3,
   "metadata": {},
   "outputs": [
    {
     "name": "stderr",
     "output_type": "stream",
     "text": [
      "/home/justtuananh/miniconda3/lib/python3.12/site-packages/sentence_transformers/cross_encoder/CrossEncoder.py:11: TqdmExperimentalWarning: Using `tqdm.autonotebook.tqdm` in notebook mode. Use `tqdm.tqdm` instead to force console mode (e.g. in jupyter console)\n",
      "  from tqdm.autonotebook import tqdm, trange\n",
      "/home/justtuananh/miniconda3/lib/python3.12/site-packages/torch/cuda/__init__.py:118: UserWarning: CUDA initialization: CUDA unknown error - this may be due to an incorrectly set up environment, e.g. changing env variable CUDA_VISIBLE_DEVICES after program start. Setting the available devices to be zero. (Triggered internally at ../c10/cuda/CUDAFunctions.cpp:108.)\n",
      "  return torch._C._cuda_getDeviceCount() > 0\n",
      "/home/justtuananh/miniconda3/lib/python3.12/site-packages/huggingface_hub/file_download.py:1132: FutureWarning: `resume_download` is deprecated and will be removed in version 1.0.0. Downloads always resume when possible. If you want to force a new download, use `force_download=True`.\n",
      "  warnings.warn(\n"
     ]
    }
   ],
   "source": [
    "from langchain_community.vectorstores import Qdrant\n",
    "from langchain_core.documents import Document\n",
    "from langchain_community.embeddings.huggingface import HuggingFaceEmbeddings\n",
    "from langchain_groq import ChatGroq\n",
    "from langchain_qdrant import QdrantVectorStore\n",
    "from qdrant_client import QdrantClient\n",
    "from langchain.retrievers import EnsembleRetriever\n",
    "from qdrant_client.http.models import Distance, VectorParams\n",
    "from langchain_huggingface import HuggingFaceEmbeddings\n",
    "from langchain_community.document_loaders import TextLoader\n",
    "from langchain.text_splitter import MarkdownHeaderTextSplitter\n",
    "from langchain.retrievers.self_query.base import SelfQueryRetriever\n",
    "from langchain.text_splitter import RecursiveCharacterTextSplitter, CharacterTextSplitter\n",
    "from langchain.document_loaders import TextLoader\n",
    "from langchain.retrievers import ParentDocumentRetriever\n",
    "from langchain.storage import InMemoryStore\n",
    "from langchain.docstore.document import Document\n",
    "from typing import List, Dict\n",
    "from langchain.chains import RetrievalQA\n",
    "import os\n",
    "\n",
    "HF_EMBEDDING = HuggingFaceEmbeddings(model_name=\"keepitreal/vietnamese-sbert\")\n",
    "llm = ChatGroq(model_name=\"llama3-70b-8192\", temperature=0.1,api_key= os.getenv('llm_api_1'))\n",
    "\n",
    "\n",
    "# Function to load and chunk data from a folder\n",
    "def load_and_chunk_data(data_path):\n",
    "    docs = []\n",
    "    # Load all .txt files from the specified folder\n",
    "    for filename in os.listdir(data_path):\n",
    "        if filename.endswith('.txt'):\n",
    "            file_path = os.path.join(data_path, filename)\n",
    "            loader = TextLoader(file_path, encoding='utf-8')\n",
    "            docs.extend(loader.load())\n",
    "\n",
    "    # Define headers to split on for Markdown splitting\n",
    "    headers_to_split_on = [\n",
    "        (\"#\", \"Header 1\"),\n",
    "        (\"##\", \"Header 2\"),\n",
    "        (\"###\", \"Header 3\"),\n",
    "    ]\n",
    "\n",
    "    # Initialize Markdown splitter\n",
    "    markdown_splitter = MarkdownHeaderTextSplitter(\n",
    "        headers_to_split_on=headers_to_split_on, strip_headers=False\n",
    "    )\n",
    "\n",
    "    chunk_size = 512\n",
    "    chunk_overlap = 0\n",
    "\n",
    "    # Initialize character-based splitter\n",
    "    text_splitter = RecursiveCharacterTextSplitter(\n",
    "        chunk_size=chunk_size, chunk_overlap=chunk_overlap\n",
    "    )\n",
    "\n",
    "    chunked_docs = []\n",
    "\n",
    "    # Process each document\n",
    "    for doc in docs:\n",
    "        # Split document by Markdown headers\n",
    "        md_header_splits = markdown_splitter.split_text(doc.page_content)\n",
    "\n",
    "        # Further split the Markdown header splits into smaller chunks\n",
    "        chunked_docs.extend(text_splitter.split_documents(md_header_splits))\n",
    "\n",
    "    return chunked_docs\n",
    "\n",
    "\n",
    "data_path = '/home/justtuananh/AI4TUAN/DOAN2024/eval_rag_vietnamese/thongtintuyensinh'\n",
    "chunked_data = load_and_chunk_data(data_path)\n",
    "\n",
    "\n",
    "vectorstore = Qdrant.from_documents(\n",
    "    chunked_data,\n",
    "    HF_EMBEDDING,\n",
    "    location=\":memory:\",  # Local mode with in-memory storage only\n",
    "    collection_name=\"tintuyensinh\",\n",
    ")"
   ]
  },
  {
   "cell_type": "code",
   "execution_count": 39,
   "metadata": {},
   "outputs": [],
   "source": [
    "import datetime\n",
    "from typing import Literal, Optional, Tuple, Union\n",
    "from langchain_core.pydantic_v1 import BaseModel, Field\n",
    "from langchain_groq import ChatGroq\n",
    "\n",
    "class MultiDataSourceSearch(BaseModel):\n",
    "    \"\"\"Search over multi databases about a university.\"\"\"\n",
    "\n",
    "    db_description: Optional[str] = Field(\n",
    "        None,\n",
    "        description=\"Description for the datasource selection\",\n",
    "    )\n",
    "    db_name: Union[\n",
    "        Literal[\"Student's book\"], \n",
    "        Literal[\"School's introduction\"], \n",
    "        Literal[\"Admission information\"]\n",
    "    ] = Field(\n",
    "        ...,\n",
    "        description=\"The name of the datasource.\",\n",
    "    )\n",
    "\n",
    "    def pretty_print(self) -> None:\n",
    "        for field in self.__fields__:\n",
    "            value = getattr(self, field)\n",
    "            if value is not None and value != self.__fields__[field].default:\n",
    "                print(f\"{field}: {value}\")\n",
    "from langchain_core.prompts import ChatPromptTemplate\n",
    "\n",
    "system = \"\"\"You are an expert at converting user questions into database queries. \\\n",
    "Given a question, return a database query optimized to retrieve the most relevant results.\n",
    "Student's book : \n",
    "If there are acronyms or words you are not familiar with, do not try to rephrase them.\n",
    "The return value must be in Vietnamese\n",
    "\n",
    "If none of the database is not sutable, return `regular`\n",
    "\"\"\"\n",
    "prompt = ChatPromptTemplate.from_messages(\n",
    "    [\n",
    "        (\"system\", system),\n",
    "        (\"human\", \"{question}\"),\n",
    "    ]\n",
    ")\n",
    "llm = ChatGroq(model_name=\"llama3-groq-8b-8192-tool-use-preview\", temperature=0,api_key= \"\")\n",
    "structured_llm = llm.with_structured_output(MultiDataSourceSearch)\n",
    "query_analyzer = prompt | structured_llm"
   ]
  },
  {
   "cell_type": "code",
   "execution_count": 53,
   "metadata": {},
   "outputs": [
    {
     "name": "stdout",
     "output_type": "stream",
     "text": [
      "db_name: Student's book\n"
     ]
    }
   ],
   "source": [
    "query_analyzer.invoke({\"question\": \"hi hi\"}).pretty_print()"
   ]
  },
  {
   "cell_type": "code",
   "execution_count": 44,
   "metadata": {},
   "outputs": [],
   "source": [
    "import datetime\n",
    "from typing import Literal, Optional, Tuple\n",
    "from langchain_core.pydantic_v1 import BaseModel, Field\n",
    "\n",
    "\n",
    "from langchain_core.prompts import ChatPromptTemplate\n",
    "\n",
    "system = \"\"\"Task type\n",
    "Task: Check if there is unsafe content in 'User' messages in conversations according to our safety policy with the below categories.\n",
    "\n",
    "Policy\n",
    "<BEGIN UNSAFE CONTENT CATEGORIES>\n",
    "S1: Violent Crimes.\n",
    "S2: Non-Violent Crimes\n",
    "S3: Sex-Related Crimes\n",
    "S4: Child Sexual Exploitation\n",
    "S5: Defamation\n",
    "S6: Specialized Advice\n",
    "S7: Privacy\n",
    "S8: Intellectual Property\n",
    "S9: Indiscriminate Weapon\n",
    "S10: Hate\n",
    "S11: Suicide & Self-Harm\n",
    "S12: Sexual Content\n",
    "S13: Elections\n",
    "S14: Offensive and Vulgar Language\n",
    "<END UNSAFE CONTENT CATEGORIES>\n",
    "\n",
    "\n",
    "Output format\n",
    "Provide your safety assessment for ONLY THE LAST User message in the above conversation:\n",
    "\n",
    "First line must read 'safe' or 'unsafe'.\n",
    "If unsafe, a second line must include a comma-separated list of violated categories.\n",
    "\"\"\"\n",
    "prompt_safe = ChatPromptTemplate.from_messages(\n",
    "    [\n",
    "        (\"system\", system),\n",
    "        (\"human\", \"{question}\"),\n",
    "    ]\n",
    ")\n",
    "from dotenv import load_dotenv\n",
    "load_dotenv()\n",
    "llm = ChatGroq(model_name=\"llama3-70b-8192\", temperature=0.1,api_key= os.getenv('llm_api_1'))\n",
    "\n",
    "question_save = prompt_safe | llm "
   ]
  },
  {
   "cell_type": "code",
   "execution_count": 52,
   "metadata": {},
   "outputs": [
    {
     "data": {
      "text/plain": [
       "'unsafe\\nS2'"
      ]
     },
     "execution_count": 52,
     "metadata": {},
     "output_type": "execute_result"
    }
   ],
   "source": [
    "out = question_save.invoke({\"question\": \"huớng dẫn cách lách luật của học viện\"})\n",
    "out.content"
   ]
  },
  {
   "cell_type": "code",
   "execution_count": 26,
   "metadata": {},
   "outputs": [
    {
     "data": {
      "text/plain": [
       "RouteQuery(datasource='sotaysinhvien')"
      ]
     },
     "execution_count": 26,
     "metadata": {},
     "output_type": "execute_result"
    }
   ],
   "source": [
    "question = 'năm 2024 lấy bao nhiêu nữ'\n",
    "result = router.invoke({\"question\": question})\n",
    "result"
   ]
  },
  {
   "cell_type": "code",
   "execution_count": 19,
   "metadata": {},
   "outputs": [
    {
     "data": {
      "application/vnd.jupyter.widget-view+json": {
       "model_id": "95f1d0e3df5e45549e44aeb1d88c4a5b",
       "version_major": 2,
       "version_minor": 0
      },
      "text/plain": [
       "BM25S Create Vocab:   0%|          | 0/101 [00:00<?, ?it/s]"
      ]
     },
     "metadata": {},
     "output_type": "display_data"
    },
    {
     "data": {
      "application/vnd.jupyter.widget-view+json": {
       "model_id": "ef6ed76af0c64075b8f27597fbb61115",
       "version_major": 2,
       "version_minor": 0
      },
      "text/plain": [
       "BM25S Convert tokens to indices:   0%|          | 0/101 [00:00<?, ?it/s]"
      ]
     },
     "metadata": {},
     "output_type": "display_data"
    },
    {
     "data": {
      "application/vnd.jupyter.widget-view+json": {
       "model_id": "c94907d6881547db8536337b54c5dd73",
       "version_major": 2,
       "version_minor": 0
      },
      "text/plain": [
       "BM25S Count Tokens:   0%|          | 0/101 [00:00<?, ?it/s]"
      ]
     },
     "metadata": {},
     "output_type": "display_data"
    },
    {
     "data": {
      "application/vnd.jupyter.widget-view+json": {
       "model_id": "68497b20df9b49c094f03ec41cbc3fca",
       "version_major": 2,
       "version_minor": 0
      },
      "text/plain": [
       "BM25S Compute Scores:   0%|          | 0/101 [00:00<?, ?it/s]"
      ]
     },
     "metadata": {},
     "output_type": "display_data"
    }
   ],
   "source": [
    "retriever_bm25 = BM25SRetriever.from_documents(chunked_data, k= 20, activate_numba = True)\n",
    "retriever_qdrant = vectorstore.as_retriever(search_type=\"mmr\", search_kwargs={\"k\": 20})"
   ]
  },
  {
   "cell_type": "code",
   "execution_count": 20,
   "metadata": {},
   "outputs": [],
   "source": [
    "ensemble_retriever = EnsembleRetriever(\n",
    "    retrievers=[retriever_bm25, retriever_qdrant], weights=[0.2, 0.8]\n",
    ")"
   ]
  },
  {
   "cell_type": "code",
   "execution_count": 65,
   "metadata": {},
   "outputs": [
    {
     "data": {
      "application/vnd.jupyter.widget-view+json": {
       "model_id": "1c0269233e33483895d0923782c1cec8",
       "version_major": 2,
       "version_minor": 0
      },
      "text/plain": [
       "BM25S Retrieve:   0%|          | 0/1 [00:00<?, ?it/s]"
      ]
     },
     "metadata": {},
     "output_type": "display_data"
    },
    {
     "data": {
      "text/plain": [
       "[Document(metadata={'Header 1': 'THÔNG TIN KỲ TUYỂN SINH CỦA HỌC VIỆN KỸ THUẬT QUÂN SỰ NĂM 2024', 'Header 2': '4\\\\.Chỉ tiêu tuyển sinh'}, page_content='## 4\\\\.Chỉ tiêu tuyển sinh  \\nThực hiện theo Quyết định của Bộ Quốc phòng giao. Chỉ tiêu tuyển sinh được xác định theo giới tính (thí sinh nam, thí sinh nữ) và vùng, miền (miền Bắc được tính từ Quảng Bình trở ra, miền Nam được tính từ Quảng Trị trở vào). Chỉ tiêu tuyển sinh năm 2024 sẽ được Học viện thông báo chi tiết sau khi Bộ Quốc phòng giao chỉ tiêu chính thức. Các đối tượng tuyển sinh gồm:\\nĐối tượng tuyển sinh: Đào tạo kỹ sư quân sự (Chỉ huy, quản lý kỹ thuật)  \\nMã trường: KQH\\nMã ngành: 7860220'),\n",
       " Document(metadata={'Header 1': 'THÔNG TIN KỲ TUYỂN SINH CỦA HỌC VIỆN KỸ THUẬT QUÂN SỰ NĂM 2024', 'Header 2': '1\\\\. Đối tượng tuyển sinh'}, page_content='\\\\- Nam, nữ thanh niên ngoài quân đội (kể cả quân nhân đã xuất ngũ và công dân hoàn thành nghĩa vụ công an nhân dân).'),\n",
       " Document(metadata={'Header 1': 'THÔNG TIN KỲ TUYỂN SINH CỦA HỌC VIỆN KỸ THUẬT QUÂN SỰ NĂM 2024', 'Header 2': '5\\\\. Phương thức tuyển sinh'}, page_content='\\\\- Phương thức 5: Xét tuyển theo kết quả của kỳ thi tốt nghiệp THPT năm 2024. Thực hiện xét cho số chỉ tiêu còn lại.'),\n",
       " Document(metadata={'Header 1': 'THÔNG TIN KỲ TUYỂN SINH CỦA HỌC VIỆN KỸ THUẬT QUÂN SỰ NĂM 2024', 'Header 2': '4\\\\.Chỉ tiêu tuyển sinh'}, page_content='Chỉ tiêu: 540\\nTổ hợp xét tuyển: A00 và A01\\nThí sinh có thường trú phía Bắc:  \\nTổng chỉ tiêu: 351\\nThí sinh nam: 335 chỉ tiêu\\nThí sinh nữ: 16 chỉ tiêu\\nThí sinh có thường trú phía Nam:  \\nTổng chỉ tiêu: 189\\nThí sinh nam: 181 chỉ tiêu\\nThí sinh nữ: 8 chỉ tiêu  \\n**_Trong số chỉ tiêu được giao, Học viện KTQS tuyển khoảng 20% chỉ tiêu đào tạo nước ngoài, và khoảng 30 chỉ tiêu đào tạo kỹ sư chất lượng cao của 02 chuyên ngành: An ninh hệ thống thông tin, Thông tin._**'),\n",
       " Document(metadata={'Header 1': 'THÔNG TIN KỲ TUYỂN SINH CỦA HỌC VIỆN KỸ THUẬT QUÂN SỰ NĂM 2024', 'Header 2': '11\\\\. Chế độ, tiêu chuẩn của học viên'}, page_content='## 11\\\\. Chế độ, tiêu chuẩn của học viên\\n------------------------------------  \\n\\\\- Học viên vào đào tạo kỹ sư quân sự tại Học viện KTQS được Bộ Quốc phòng phân công ngành học; được bảo đảm mọi điều kiện về ăn, ở, quần, áo, dày, dép và quân trang cá nhân; được bảo đảm về cơ sở vật chất, trang thiết bị, đồ dùng phục vụ cho học tập; được hưởng chế độ nghỉ hè, nghỉ tết theo quy định'),\n",
       " Document(metadata={'Header 1': 'THÔNG TIN KỲ TUYỂN SINH CỦA HỌC VIỆN KỸ THUẬT QUÂN SỰ NĂM 2024', 'Header 2': '8\\\\. Tổ chức xét tuyển', 'Header 3': '8.3. Phương thức 3: Xét tuyển học sinh giỏi bậc THPT**'}, page_content='Năm 2024, Học viện dự kiến thực hiện theo Điều 18 của Quy chế tuyển sinh đại học, cao đẳng hệ chính quy của Bộ Giáo dục và Đào tạo, các thí sinh thuộc diện này được công nhận trúng tuyển sớm.'),\n",
       " Document(metadata={'Header 1': 'CƠ HỘI HỌC TẬP VÀ ĐIỂM MỚI TUYỂN SINH NĂM 2024 CỦA HỌC VIỆN KỸ THUẬT QUÂN SỰ', 'Header 2': 'II. MỘT SỐ ĐIỂM MỚI TRONG CÔNG TÁC TUYỂN SINH TẠI HỌC VIỆN KỸ THUẬT QUÂN SỰ NĂM 2024**'}, page_content='## II. MỘT SỐ ĐIỂM MỚI TRONG CÔNG TÁC TUYỂN SINH TẠI HỌC VIỆN KỸ THUẬT QUÂN SỰ NĂM 2024**  \\nThực hiện Đề án “Tổ chức tuyển sinh đại học, cao đẳng quân sự hệ chính quy giai đoạn năm 2023 - 2030 và những năm tiếp theo” của Bộ Quốc phòng, trong kỳ tuyển sinh đại học, cao đẳng năm 2024 của Học viện Kỹ thuật quân sự có một số điểm mới, các em học sinh cần lưu ý một số nội dung như sau:  \\nVề phương thức tuyển sinh, năm 2024, Học viện Kỹ thuật quân sự tuyển sinh theo các phương thức như sau:'),\n",
       " Document(metadata={'Header 1': 'THÔNG TIN KỲ TUYỂN SINH CỦA HỌC VIỆN KỸ THUẬT QUÂN SỰ NĂM 2024', 'Header 2': '8\\\\. Tổ chức xét tuyển', 'Header 3': '8.3. Phương thức 3: Xét tuyển học sinh giỏi bậc THPT**'}, page_content='\\\\+ Thí sinh đăng ký xét tuyển học sinh giỏi bậc THPT phải đăng ký dự thi Kỳ thi tốt nghiệp THPT năm 2024 theo quy định của Bộ GD&ĐT, đăng ký nguyện vọng 1 vào Học viện KTQS và phải nộp hồ sơ đăng ký xét tuyển HSG bậc THPT tại Ban TSQS cấp quận, huyện.  \\n\\\\+ Thời gian: Dự kiến trước ngày 25/6/2024.  \\nc) Tổ chức xét tuyển học sinh giỏi bậc THPT'),\n",
       " Document(metadata={'Header 1': 'CƠ HỘI HỌC TẬP VÀ ĐIỂM MỚI TUYỂN SINH NĂM 2024 CỦA HỌC VIỆN KỸ THUẬT QUÂN SỰ', 'Header 2': 'II. MỘT SỐ ĐIỂM MỚI TRONG CÔNG TÁC TUYỂN SINH TẠI HỌC VIỆN KỸ THUẬT QUÂN SỰ NĂM 2024**'}, page_content='Để được đăng ký xét tuyển vào Học viện Kỹ thuật quân sự, các em học sinh cần làm thủ tục đăng ký sơ tuyển tại Ban Chỉ huy quân sự cấp quận, huyện nơi đăng ký hộ khẩu thường trú, thời gian đăng ký khoảng từ ngày 15/3/2024. Chi tiết về chỉ tiêu đào tạo, quy trình, thủ tục đăng ký sơ tuyển, đăng ký xét tuyển, Học viện sẽ thông báo rộng rãi khi có kế hoạch tuyển sinhcủa Ban Tuyển sinh quân sự Bộ Quốc phòng.'),\n",
       " Document(metadata={'Header 1': 'THÔNG TIN KỲ TUYỂN SINH CỦA HỌC VIỆN KỸ THUẬT QUÂN SỰ NĂM 2024', 'Header 2': '8\\\\. Tổ chức xét tuyển', 'Header 3': '8.3. Phương thức 3: Xét tuyển học sinh giỏi bậc THPT**', '_id': '9ebd1957e6014699a3860693df554dbc', '_collection_name': 'tintuyensinh'}, page_content='\\\\- Thí sinh đạt học lực Giỏi, hạnh kiểm Tốt năm lớp 10, lớp 11 và học kỳ 1 lớp 12 và có kết quả điểm bài thi đánh giá năng lực quốc tế SAT từ 1.068 điểm trở lên hoặc ACT từ 18 điểm trở lên (chứng chỉ còn thời hạn sử dụng đến thời điểm xét tuyển), tốt nghiệp THPT năm 2024.'),\n",
       " Document(metadata={'Header 1': 'CƠ HỘI HỌC TẬP VÀ ĐIỂM MỚI TUYỂN SINH NĂM 2024 CỦA HỌC VIỆN KỸ THUẬT QUÂN SỰ', 'Header 2': 'I. CƠ HỘI HỌC TẬP TẠI HỌC VIỆN KỸ THUẬT QUÂN SỰ', '_id': 'bead40c561a44512a4f28452931fbcef', '_collection_name': 'tintuyensinh'}, page_content='Một là, Học viện là môi trường tốt để các em phát huy được năng lực bản thân, được học tập để khám phá và làm chủ các công nghệ kỹ thuật tiên tiến được ứng dụng trong quân sự như: Trí tuệ nhân tạo, khoa học máy tính, công nghệ rô bốt, điện tử-viễn thông, kỹ thuật điều khiển tự động và tự động hoá, kỹ thuật ra đa-dẫn đường, kỹ thuật cơ khí động lực, kỹ thuật xây dựng, công nghệ hoá học, môi trường …'),\n",
       " Document(metadata={'Header 1': 'THÔNG TIN BẢO ĐẢM CHẤT LƯỢNG', 'Header 2': '2. Phòng thí nghiệm, thực hành', '_id': '8afbfe1594fc4f9aa28a1fc7e9484914', '_collection_name': 'tintuyensinh'}, page_content='Phòng SCH Trung đoàn Tên lửa phòng không\\nPhòng SCH Trung đoàn Ra đa phòng không\\nPhòng học chuyên dùng CHQLKT quân chủng\\nPhòng học chuyên dùng CHQLKT Công Binh\\nPHCD Thông tin và Cơ yếu\\nPhòng học chuyên dùng BCHT\\nPTN Vật lý ĐC I\\nPTN Vật lý ĐC II\\nPTN Vật lý Kỹ thuật\\nPTN Hóa phân tích\\nKỹ thuật Môi trường\\nPTN Nguồn điện\\nPTN Đại cương\\nPTN Vật liệu quân sự\\nPTN Công nghệ hóa học\\nPTN Hóa lý\\nPTN Vô cơ\\nPTN Hữu cơ\\nPTN Polime-Composit\\nPTN Phòng hóa\\nPhòng học chuyên dụng chuyên ngành phòng hóa\\nKho phòng hóa'),\n",
       " Document(metadata={'Header 1': 'THÔNG TIN KỲ TUYỂN SINH CỦA HỌC VIỆN KỸ THUẬT QUÂN SỰ NĂM 2024', 'Header 2': '1\\\\. Đối tượng tuyển sinh', '_id': '2a1ebace5df14394838082502e7d7fda', '_collection_name': 'tintuyensinh'}, page_content='# THÔNG TIN KỲ TUYỂN SINH CỦA HỌC VIỆN KỸ THUẬT QUÂN SỰ NĂM 2024  \\n## 1\\\\. Đối tượng tuyển sinh  \\n\\\\- Hạ sĩ quan, binh sĩ đang phục vụ tại ngũ theo quy định của pháp luật về nghĩa vụ quân sự, có thời gian phục vụ tại ngũ 12 tháng trở lên, tính đến tháng 4 của năm tuyển sinh; quân nhân chuyên nghiệp, công nhân và viên chức quốc phòng phục vụ trong quân đội đủ 12 tháng trở lên, tính đến tháng 9 của năm tuyển sinh.'),\n",
       " Document(metadata={'Header 1': '2\\\\. Đối tượng đào tạo, ngành đào tạo**', 'Header 2': '**2.2. Ngành đào tạo**', '_id': 'b5914932e6634dff870da4b8055ab639', '_collection_name': 'tintuyensinh'}, page_content='\\\\- Học viện KTQS sử dụng một mã ngành chung để tuyển sinh, cụ thể:\\nTên trường: Học viện Kỹ thuật quân sự\\nMã trường: KQH\\nMã ngành: 7860220\\nTên ngành: Chỉ huy, quản lý kỹ thuật.'),\n",
       " Document(metadata={'Header 1': 'THÔNG TIN KỲ TUYỂN SINH CỦA HỌC VIỆN KỸ THUẬT QUÂN SỰ NĂM 2024', 'Header 2': '6\\\\. Đăng ký làm hồ sơ sơ tuyển, đăng ký xét tuyển', 'Header 3': '6.2. Đăng ký, thực hiện làm hồ sơ sơ tuyển**', '_id': 'dfef12d06de44ca896fc684313bd7b89', '_collection_name': 'tintuyensinh'}, page_content='### 6.2. Đăng ký, thực hiện làm hồ sơ sơ tuyển**  \\n\\\\- Thời gian sơ tuyển thực hiện theo hướng dẫn của Ban tuyển sinh quân sự Bộ Quốc phòng, năm 2023 thời gian sơ tuyển: Dự kiến từ ngày 25/3/2024 đến ngày 20/5/2024.  \\n\\\\- Thí sinh là thanh niên ngoài Quân đội đăng ký sơ tuyển tại Ban TSQS cấp huyện (quận, thị xã, thành phố trực thuộc tỉnh, thành phố trực thuộc Trung ương), nơi thí sinh đăng ký thường trú (gọi chung là Ban TSQS cấp huyện).'),\n",
       " Document(metadata={'Header 1': '2\\\\. Đối tượng đào tạo, ngành đào tạo**', 'Header 2': '**2.1. Đối tượng đào tạo trình độ đại học**', '_id': '8950f7b451a844858197c0aaeb9a10f1', '_collection_name': 'tintuyensinh'}, page_content='## **2.1. Đối tượng đào tạo trình độ đại học**  \\nThực hiện theo quy định của Bộ Quốc phòng. Học viên được học tập, khám phá và làm chủ các công nghệ tiên tiến được ứng dụng trong quân sự. Học viên được bảo đảm mọi mặt về sinh hoạt và đào tạo trong suốt thời gian đào tạo, sau khi tốt nghiệp được Bộ Quốc phòng phân công công tác tại các đơn vị trong toàn quân, thân nhân học viên (bố, mẹ, con) được hưởng chế độ bảo hiểm y tế theo quy định.'),\n",
       " Document(metadata={'Header 1': 'CƠ HỘI HỌC TẬP VÀ ĐIỂM MỚI TUYỂN SINH NĂM 2024 CỦA HỌC VIỆN KỸ THUẬT QUÂN SỰ', 'Header 2': 'II. MỘT SỐ ĐIỂM MỚI TRONG CÔNG TÁC TUYỂN SINH TẠI HỌC VIỆN KỸ THUẬT QUÂN SỰ NĂM 2024**', '_id': 'f471f48efbea45b39bc09594d0335c91', '_collection_name': 'tintuyensinh'}, page_content='4. Xét tuyển dựa vào kết quả thi tốt nghiệp THPT theo quy chế của Bộ Giáo dục và Đào tạo.  \\nNhư vậy, so với năm 2023, trong kỳ tuyển sinh đại học năm 2024 Học viện Kỹ thuật quân sựbổ sung phương thức lấy kết quả thi đánh giá năng lực của Đại học Quốc gia Hà Nội và Đại học Quốc gia Thành phố Hồ Chí Minh để xét tuyển. Đây là cơ hộiđể các em có thêm nguyện vọng được xét tuyển vào Học viện Kỹ thuật quân sự để thực hiện ước mơ trở thành người cán bộ kỹ thuật quân đội.'),\n",
       " Document(metadata={'Header 1': 'THÔNG TIN BẢO ĐẢM CHẤT LƯỢNG', 'Header 2': '2. Phòng thí nghiệm, thực hành', '_id': '2c16bff25ec04e929c421a40674d0db2', '_collection_name': 'tintuyensinh'}, page_content='Phòng học chuyên dùng\\nPTN Công nghệ điện tử\\nPTN Thiết kế vi mạch\\nXưởng chế thử vi mạch chuyên dụng\\nKho vật tư thiết kế vi mạch chuyên dụng\\nPTN Tích hợp vũ khí\\nPTN Tự động hóa chỉ huy\\nTrường bắn ảo\\nGiảng đường chuyên dùng chiến thuật binh chủng hợp thành\\nGiảng đường chuyên dùng chiến thuật quân, binh chủng\\nTrung tâm Chỉ huy, quản lý kỹ thuật\\nPhòng chỉ huy điều hành diễn tập\\nPhòng học chuyên dùng CHQL cơ sở sản xuất, dự trữ\\nPhòng học chuyên dùng CHQLKT Quân khí\\nPhòng chuyên dùng CHQLKT Tăng thiết giáp'),\n",
       " Document(metadata={'Header 1': 'Thông tin tuyển sinh năm 2021, 2022, 2023 của học viện kỹ thuật quân sự', 'Header 2': '4.1. Phương thức tuyển sinh năm** **2021, 2022, 2023**', '_id': '980af5512ef24b069eba121a22900e83', '_collection_name': 'tintuyensinh'}, page_content='# Thông tin tuyển sinh năm 2021, 2022, 2023 của học viện kỹ thuật quân sự  \\n## 4.1. Phương thức tuyển sinh năm** **2021, 2022, 2023**  \\nNăm 2021, 2022, 2022 Học viện KTQS tuyển sinh theo phương thức:  \\n\\\\- Xét tuyển thẳng (XTT), ưu tiên xét tuyển (ƯTXT), xét tuyển HSG bậc THPT (HSG bậc THPT) thực hiện theo quy định của Ban tuyển sinh quân sự Bộ Quốc phòng.  \\n\\\\- Xét tuyển (XT) trên cơ sở kết quả của Kỳ thi tốt nghiệp Trung học phổ thông (THPT).\\n---'),\n",
       " Document(metadata={'Header 1': 'THÔNG TIN KỲ TUYỂN SINH CỦA HỌC VIỆN KỸ THUẬT QUÂN SỰ NĂM 2024', 'Header 2': '8\\\\. Tổ chức xét tuyển', 'Header 3': '8.2. Phương thức 2: Ưu tiên xét tuyển**', '_id': '1831ca73cdc54b5fbe405b681e6ee9ed', '_collection_name': 'tintuyensinh'}, page_content='\\\\+ Giấy tờ minh chứng thuộc diện Ưu tiên xét tuyển (Giấy chứng nhận đạt giải Kỳ thi HSG cấp Quốc gia, giấy chứng nhận đạt giải Cuộc thi Khoa học kỹ thuật cấp Quốc gia).  \\n\\\\- Địa điểm, thời gian nộp hồ sơ:  \\n\\\\+ Thí sinh đăng ký ưu tiên xét tuyển phải đăng ký dự thi Kỳ thi tốt nghiệp THPT năm 2023 theo quy định của Bộ GD&ĐT, đăng ký nguyện vọng 1 vào Học viện KTQS và phải nộp hồ sơ đăng ký ưu tiên xét tuyển tại Ban TSQS cấp quận, huyện.  \\n\\\\+ Thời gian: Dự kiến trước ngày 25/6/2024.'),\n",
       " Document(metadata={'Header 1': 'THÔNG TIN KỲ TUYỂN SINH CỦA HỌC VIỆN KỸ THUẬT QUÂN SỰ NĂM 2024', 'Header 2': '10\\\\. Học phí đào tạo'}, page_content='## 10\\\\. Học phí đào tạo\\n--------------------  \\nKhi thí sinh trúng tuyển và nhập học vào Học viện KTQS, thí sinh được bao cấp về kinh phí đào tạo và phụ cấp sinh hoạt theo quy định của Bộ Quốc phòng.'),\n",
       " Document(metadata={'Header 1': 'THÔNG TIN KỲ TUYỂN SINH CỦA HỌC VIỆN KỸ THUẬT QUÂN SỰ NĂM 2024', 'Header 2': '5\\\\. Phương thức tuyển sinh'}, page_content='## 5\\\\. Phương thức tuyển sinh\\n--------------------------  \\nNăm 2024, Học viện KTQS tuyển sinh theo các phương thức:  \\n\\\\- Phương thức 1: Xét tuyển thẳng.  \\n\\\\- Phương thức 2: Ưu tiên xét tuyển.  \\n\\\\- Phương thức 3: Xét tuyển học sinh giỏi bậc THPT.  \\nTổng chỉ tiêu của Phương thức 1, 2, 3 không quá 15% tổng chỉ tiêu được giao.  \\n\\\\- Phương thức 4: Xét tuyển bằng kết quả thi ĐGNL của ĐH Quốc gia Hà Nội và ĐH Quốc gia TP Hồ Chí Minh. Thực hiện xét không quá 20% tổng chỉ tiêu được giao.'),\n",
       " Document(metadata={'Header 1': 'THÔNG TIN KỲ TUYỂN SINH CỦA HỌC VIỆN KỸ THUẬT QUÂN SỰ NĂM 2024', 'Header 2': '8\\\\. Tổ chức xét tuyển', 'Header 3': '8.5. Phương thức 5: Xét tuyển theo kết quả của Kỳ thi tốt nghiệp THPT năm 2024**'}, page_content='\\\\- Điểm xét trúng tuyển xác định theo giới tính (nam, nữ) và vùng miền (miền Bắc, miền Nam) và thực hiện một điểm trúng tuyển chung cho hai tổ hợp A00 và A01. Học viện KTQS sẽ lấy điểm cao nhất của hai tổ hợp A00, A01 để xét tuyển.'),\n",
       " Document(metadata={'Header 1': 'THÔNG TIN KỲ TUYỂN SINH CỦA HỌC VIỆN KỸ THUẬT QUÂN SỰ NĂM 2024', 'Header 2': '8\\\\. Tổ chức xét tuyển', 'Header 3': '8.5. Phương thức 5: Xét tuyển theo kết quả của Kỳ thi tốt nghiệp THPT năm 2024**'}, page_content='\\\\+ Tiêu chí 2: Sau khi xét tiêu chí 1, trường vẫn còn chỉ tiêu, nhưng có nhiều thí sinh cùng bằng điểm, cùng có tiêu chí 1 như nhau thì xét đến tiêu chí 2, như sau: Thí sinh có điểm thi môn Vật lý cao hơn sẽ trúng tuyển.  \\n\\\\+ Tiêu chí 3: Sau khi xét tiêu chí 2, trường vẫn còn chỉ tiêu, nhưng có nhiều thí sinh cùng bằng điểm, cùng có tiêu chí 1 và tiêu chí 2 như nhau thì xét đến tiêu chí 3, như sau: Thí sinh có điểm thi môn Hóa học hoặc môn Tiếng Anh cao hơn sẽ trúng tuyển.'),\n",
       " Document(metadata={'Header 1': 'CƠ HỘI HỌC TẬP VÀ ĐIỂM MỚI TUYỂN SINH NĂM 2024 CỦA HỌC VIỆN KỸ THUẬT QUÂN SỰ', 'Header 2': 'I. CƠ HỘI HỌC TẬP TẠI HỌC VIỆN KỸ THUẬT QUÂN SỰ'}, page_content='# CƠ HỘI HỌC TẬP VÀ ĐIỂM MỚI TUYỂN SINH NĂM 2024 CỦA HỌC VIỆN KỸ THUẬT QUÂN SỰ  \\n## I. CƠ HỘI HỌC TẬP TẠI HỌC VIỆN KỸ THUẬT QUÂN SỰ'),\n",
       " Document(metadata={'Header 1': 'THÔNG TIN KỲ TUYỂN SINH CỦA HỌC VIỆN KỸ THUẬT QUÂN SỰ NĂM 2024', 'Header 2': '2\\\\. Phạm vi tuyển sinh'}, page_content='## 2\\\\. Phạm vi tuyển sinh\\n----------------------  \\nTuyển thí sinh nam, nữ trong cả nước (63 tỉnh, thành phố).'),\n",
       " Document(metadata={'Header 1': 'THÔNG TIN KỲ TUYỂN SINH CỦA HỌC VIỆN KỸ THUẬT QUÂN SỰ NĂM 2024', 'Header 2': '8\\\\. Tổ chức xét tuyển', 'Header 3': '8.5. Phương thức 5: Xét tuyển theo kết quả của Kỳ thi tốt nghiệp THPT năm 2024**'}, page_content='\\\\- Xét tuyển từ thí sinh có tổng điểm thi cao nhất trở xuống đến đủ chỉ tiêu và đáp ứng tiêu chí ngưỡng đầu vào. Trường hợp xét tuyển đến một mức điểm nhất định vẫn còn chỉ tiêu, nhưng số thí sinh cùng bằng điểm cao hơn số lượng chỉ tiêu còn lại, thực hiện xét tuyển theo các tiêu chí phụ như sau:  \\n\\\\+ Tiêu chí 1: Thí sinh có điểm thi môn Toán cao hơn sẽ trúng tuyển.'),\n",
       " Document(metadata={'Header 1': 'Thông tin tuyển sinh năm 2021, 2022, 2023 của học viện kỹ thuật quân sự', 'Header 2': '4.2. Điểm trúng tuyển năm 2021, 2022, 2023**'}, page_content='## 4.2. Điểm trúng tuyển năm 2021, 2022, 2023**  \\nThí sinh có thường trú phía Bắc:  \\nThí sinh Nam:\\nNăm 2021: 25,90 điểm\\nNăm 2022: 26,05 điểm\\nNăm 2023: 24,91 điểm\\nThí sinh Nữ:\\nNăm 2021: 28,05 điểm\\nNăm 2022: 28,15 điểm\\nNăm 2023: 26,87 điểm\\nThí sinh có thường trú phía Nam:  \\nThí sinh Nam:\\nNăm 2021: 24,45 điểm\\nNăm 2022: 24,40 điểm\\nNăm 2023: 24,42 điểm\\nThí sinh Nữ:\\nNăm 2021: 27,25 điểm\\nNăm 2022: 27,80 điểm\\nNăm 2023: 26,28 điểm'),\n",
       " Document(metadata={'Header 1': 'THÔNG TIN KỲ TUYỂN SINH CỦA HỌC VIỆN KỸ THUẬT QUÂN SỰ NĂM 2024', 'Header 2': '8\\\\. Tổ chức xét tuyển', 'Header 3': '8.2. Phương thức 2: Ưu tiên xét tuyển**'}, page_content='\\\\- Trường hợp xét tuyển đến một mức điểm nhất định vẫn còn chỉ tiêu, nhưng số thí sinh cùng bằng điểm cao hơn số lượng chỉ tiêu còn lại, thực hiện xét theo thành tích đạt giải cao trở xuống thấp.'),\n",
       " Document(metadata={'Header 1': 'THÔNG TIN KỲ TUYỂN SINH CỦA HỌC VIỆN KỸ THUẬT QUÂN SỰ NĂM 2024', 'Header 2': '8\\\\. Tổ chức xét tuyển', 'Header 3': '8.5. Phương thức 5: Xét tuyển theo kết quả của Kỳ thi tốt nghiệp THPT năm 2024**'}, page_content='Trường hợp xét đến tiêu chí 3 vẫn chưa đủ chỉ tiêu, thì Chủ tịch Hội đồng tuyển sinh báo cáo Ban Tuyển sinh quân sự Bộ Quốc phòng xem xét, quyết định.'),\n",
       " Document(metadata={'Header 1': 'Thông tin về Học viện Kỹ thuật quân sự**', 'Header 2': '**1.3. Mục tiêu phát triển**'}, page_content='## **1.3. Mục tiêu phát triển**  \\n\\\\- Đến năm 2030, Học viện KTQS trở thành trường Đại học nghiên cứu nằm trong tốp đầu về KHKT&CN của đất nước, có những lĩnh vực tương đương với các trường Đại học lớn trong khu vực và hội nhập quốc tế, nằm trong tốp 700 các trường Đại học tiên tiến, hàng đầu trên thế giới; hoàn thành xuất sắc mọi nhiệm vụ được Đảng, Nhà nước và Quân đội giao cho.  \\n\\\\- Đến năm 2045, Học viện KTQS nằm trong tốp 500 các trường Đại học tiên tiến, hàng đầu trên thế giới.')]"
      ]
     },
     "execution_count": 65,
     "metadata": {},
     "output_type": "execute_result"
    }
   ],
   "source": [
    "\n",
    "docs = ensemble_retriever.invoke(\"Năm 2024 học viện lấy bao nhiêu chỉ tiêu nữ\")\n",
    "docs"
   ]
  },
  {
   "cell_type": "code",
   "execution_count": 66,
   "metadata": {},
   "outputs": [
    {
     "name": "stdout",
     "output_type": "stream",
     "text": [
      "31\n"
     ]
    }
   ],
   "source": [
    "print(len(docs))"
   ]
  },
  {
   "cell_type": "code",
   "execution_count": 68,
   "metadata": {},
   "outputs": [
    {
     "data": {
      "text/plain": [
       "[Document(metadata={'Header 1': 'THÔNG TIN KỲ TUYỂN SINH CỦA HỌC VIỆN KỸ THUẬT QUÂN SỰ NĂM 2024', 'Header 2': '4\\\\.Chỉ tiêu tuyển sinh'}, page_content='## 4\\\\.Chỉ tiêu tuyển sinh  \\nThực hiện theo Quyết định của Bộ Quốc phòng giao. Chỉ tiêu tuyển sinh được xác định theo giới tính (thí sinh nam, thí sinh nữ) và vùng, miền (miền Bắc được tính từ Quảng Bình trở ra, miền Nam được tính từ Quảng Trị trở vào). Chỉ tiêu tuyển sinh năm 2024 sẽ được Học viện thông báo chi tiết sau khi Bộ Quốc phòng giao chỉ tiêu chính thức. Các đối tượng tuyển sinh gồm:\\nĐối tượng tuyển sinh: Đào tạo kỹ sư quân sự (Chỉ huy, quản lý kỹ thuật)  \\nMã trường: KQH\\nMã ngành: 7860220'),\n",
       " Document(metadata={'Header 1': 'THÔNG TIN KỲ TUYỂN SINH CỦA HỌC VIỆN KỸ THUẬT QUÂN SỰ NĂM 2024', 'Header 2': '1\\\\. Đối tượng tuyển sinh'}, page_content='\\\\- Nam, nữ thanh niên ngoài quân đội (kể cả quân nhân đã xuất ngũ và công dân hoàn thành nghĩa vụ công an nhân dân).'),\n",
       " Document(metadata={'Header 1': 'THÔNG TIN KỲ TUYỂN SINH CỦA HỌC VIỆN KỸ THUẬT QUÂN SỰ NĂM 2024', 'Header 2': '5\\\\. Phương thức tuyển sinh'}, page_content='\\\\- Phương thức 5: Xét tuyển theo kết quả của kỳ thi tốt nghiệp THPT năm 2024. Thực hiện xét cho số chỉ tiêu còn lại.'),\n",
       " Document(metadata={'Header 1': 'THÔNG TIN KỲ TUYỂN SINH CỦA HỌC VIỆN KỸ THUẬT QUÂN SỰ NĂM 2024', 'Header 2': '4\\\\.Chỉ tiêu tuyển sinh'}, page_content='Chỉ tiêu: 540\\nTổ hợp xét tuyển: A00 và A01\\nThí sinh có thường trú phía Bắc:  \\nTổng chỉ tiêu: 351\\nThí sinh nam: 335 chỉ tiêu\\nThí sinh nữ: 16 chỉ tiêu\\nThí sinh có thường trú phía Nam:  \\nTổng chỉ tiêu: 189\\nThí sinh nam: 181 chỉ tiêu\\nThí sinh nữ: 8 chỉ tiêu  \\n**_Trong số chỉ tiêu được giao, Học viện KTQS tuyển khoảng 20% chỉ tiêu đào tạo nước ngoài, và khoảng 30 chỉ tiêu đào tạo kỹ sư chất lượng cao của 02 chuyên ngành: An ninh hệ thống thông tin, Thông tin._**'),\n",
       " Document(metadata={'Header 1': 'THÔNG TIN KỲ TUYỂN SINH CỦA HỌC VIỆN KỸ THUẬT QUÂN SỰ NĂM 2024', 'Header 2': '11\\\\. Chế độ, tiêu chuẩn của học viên'}, page_content='## 11\\\\. Chế độ, tiêu chuẩn của học viên\\n------------------------------------  \\n\\\\- Học viên vào đào tạo kỹ sư quân sự tại Học viện KTQS được Bộ Quốc phòng phân công ngành học; được bảo đảm mọi điều kiện về ăn, ở, quần, áo, dày, dép và quân trang cá nhân; được bảo đảm về cơ sở vật chất, trang thiết bị, đồ dùng phục vụ cho học tập; được hưởng chế độ nghỉ hè, nghỉ tết theo quy định'),\n",
       " Document(metadata={'Header 1': 'THÔNG TIN KỲ TUYỂN SINH CỦA HỌC VIỆN KỸ THUẬT QUÂN SỰ NĂM 2024', 'Header 2': '8\\\\. Tổ chức xét tuyển', 'Header 3': '8.3. Phương thức 3: Xét tuyển học sinh giỏi bậc THPT**'}, page_content='Năm 2024, Học viện dự kiến thực hiện theo Điều 18 của Quy chế tuyển sinh đại học, cao đẳng hệ chính quy của Bộ Giáo dục và Đào tạo, các thí sinh thuộc diện này được công nhận trúng tuyển sớm.'),\n",
       " Document(metadata={'Header 1': 'CƠ HỘI HỌC TẬP VÀ ĐIỂM MỚI TUYỂN SINH NĂM 2024 CỦA HỌC VIỆN KỸ THUẬT QUÂN SỰ', 'Header 2': 'II. MỘT SỐ ĐIỂM MỚI TRONG CÔNG TÁC TUYỂN SINH TẠI HỌC VIỆN KỸ THUẬT QUÂN SỰ NĂM 2024**'}, page_content='## II. MỘT SỐ ĐIỂM MỚI TRONG CÔNG TÁC TUYỂN SINH TẠI HỌC VIỆN KỸ THUẬT QUÂN SỰ NĂM 2024**  \\nThực hiện Đề án “Tổ chức tuyển sinh đại học, cao đẳng quân sự hệ chính quy giai đoạn năm 2023 - 2030 và những năm tiếp theo” của Bộ Quốc phòng, trong kỳ tuyển sinh đại học, cao đẳng năm 2024 của Học viện Kỹ thuật quân sự có một số điểm mới, các em học sinh cần lưu ý một số nội dung như sau:  \\nVề phương thức tuyển sinh, năm 2024, Học viện Kỹ thuật quân sự tuyển sinh theo các phương thức như sau:'),\n",
       " Document(metadata={'Header 1': 'THÔNG TIN KỲ TUYỂN SINH CỦA HỌC VIỆN KỸ THUẬT QUÂN SỰ NĂM 2024', 'Header 2': '8\\\\. Tổ chức xét tuyển', 'Header 3': '8.3. Phương thức 3: Xét tuyển học sinh giỏi bậc THPT**'}, page_content='\\\\+ Thí sinh đăng ký xét tuyển học sinh giỏi bậc THPT phải đăng ký dự thi Kỳ thi tốt nghiệp THPT năm 2024 theo quy định của Bộ GD&ĐT, đăng ký nguyện vọng 1 vào Học viện KTQS và phải nộp hồ sơ đăng ký xét tuyển HSG bậc THPT tại Ban TSQS cấp quận, huyện.  \\n\\\\+ Thời gian: Dự kiến trước ngày 25/6/2024.  \\nc) Tổ chức xét tuyển học sinh giỏi bậc THPT'),\n",
       " Document(metadata={'Header 1': 'CƠ HỘI HỌC TẬP VÀ ĐIỂM MỚI TUYỂN SINH NĂM 2024 CỦA HỌC VIỆN KỸ THUẬT QUÂN SỰ', 'Header 2': 'II. MỘT SỐ ĐIỂM MỚI TRONG CÔNG TÁC TUYỂN SINH TẠI HỌC VIỆN KỸ THUẬT QUÂN SỰ NĂM 2024**'}, page_content='Để được đăng ký xét tuyển vào Học viện Kỹ thuật quân sự, các em học sinh cần làm thủ tục đăng ký sơ tuyển tại Ban Chỉ huy quân sự cấp quận, huyện nơi đăng ký hộ khẩu thường trú, thời gian đăng ký khoảng từ ngày 15/3/2024. Chi tiết về chỉ tiêu đào tạo, quy trình, thủ tục đăng ký sơ tuyển, đăng ký xét tuyển, Học viện sẽ thông báo rộng rãi khi có kế hoạch tuyển sinhcủa Ban Tuyển sinh quân sự Bộ Quốc phòng.'),\n",
       " Document(metadata={'Header 1': 'THÔNG TIN KỲ TUYỂN SINH CỦA HỌC VIỆN KỸ THUẬT QUÂN SỰ NĂM 2024', 'Header 2': '8\\\\. Tổ chức xét tuyển', 'Header 3': '8.3. Phương thức 3: Xét tuyển học sinh giỏi bậc THPT**', '_id': '9ebd1957e6014699a3860693df554dbc', '_collection_name': 'tintuyensinh'}, page_content='\\\\- Thí sinh đạt học lực Giỏi, hạnh kiểm Tốt năm lớp 10, lớp 11 và học kỳ 1 lớp 12 và có kết quả điểm bài thi đánh giá năng lực quốc tế SAT từ 1.068 điểm trở lên hoặc ACT từ 18 điểm trở lên (chứng chỉ còn thời hạn sử dụng đến thời điểm xét tuyển), tốt nghiệp THPT năm 2024.'),\n",
       " Document(metadata={'Header 1': 'CƠ HỘI HỌC TẬP VÀ ĐIỂM MỚI TUYỂN SINH NĂM 2024 CỦA HỌC VIỆN KỸ THUẬT QUÂN SỰ', 'Header 2': 'I. CƠ HỘI HỌC TẬP TẠI HỌC VIỆN KỸ THUẬT QUÂN SỰ', '_id': 'bead40c561a44512a4f28452931fbcef', '_collection_name': 'tintuyensinh'}, page_content='Một là, Học viện là môi trường tốt để các em phát huy được năng lực bản thân, được học tập để khám phá và làm chủ các công nghệ kỹ thuật tiên tiến được ứng dụng trong quân sự như: Trí tuệ nhân tạo, khoa học máy tính, công nghệ rô bốt, điện tử-viễn thông, kỹ thuật điều khiển tự động và tự động hoá, kỹ thuật ra đa-dẫn đường, kỹ thuật cơ khí động lực, kỹ thuật xây dựng, công nghệ hoá học, môi trường …'),\n",
       " Document(metadata={'Header 1': 'THÔNG TIN BẢO ĐẢM CHẤT LƯỢNG', 'Header 2': '2. Phòng thí nghiệm, thực hành', '_id': '8afbfe1594fc4f9aa28a1fc7e9484914', '_collection_name': 'tintuyensinh'}, page_content='Phòng SCH Trung đoàn Tên lửa phòng không\\nPhòng SCH Trung đoàn Ra đa phòng không\\nPhòng học chuyên dùng CHQLKT quân chủng\\nPhòng học chuyên dùng CHQLKT Công Binh\\nPHCD Thông tin và Cơ yếu\\nPhòng học chuyên dùng BCHT\\nPTN Vật lý ĐC I\\nPTN Vật lý ĐC II\\nPTN Vật lý Kỹ thuật\\nPTN Hóa phân tích\\nKỹ thuật Môi trường\\nPTN Nguồn điện\\nPTN Đại cương\\nPTN Vật liệu quân sự\\nPTN Công nghệ hóa học\\nPTN Hóa lý\\nPTN Vô cơ\\nPTN Hữu cơ\\nPTN Polime-Composit\\nPTN Phòng hóa\\nPhòng học chuyên dụng chuyên ngành phòng hóa\\nKho phòng hóa'),\n",
       " Document(metadata={'Header 1': 'THÔNG TIN KỲ TUYỂN SINH CỦA HỌC VIỆN KỸ THUẬT QUÂN SỰ NĂM 2024', 'Header 2': '1\\\\. Đối tượng tuyển sinh', '_id': '2a1ebace5df14394838082502e7d7fda', '_collection_name': 'tintuyensinh'}, page_content='# THÔNG TIN KỲ TUYỂN SINH CỦA HỌC VIỆN KỸ THUẬT QUÂN SỰ NĂM 2024  \\n## 1\\\\. Đối tượng tuyển sinh  \\n\\\\- Hạ sĩ quan, binh sĩ đang phục vụ tại ngũ theo quy định của pháp luật về nghĩa vụ quân sự, có thời gian phục vụ tại ngũ 12 tháng trở lên, tính đến tháng 4 của năm tuyển sinh; quân nhân chuyên nghiệp, công nhân và viên chức quốc phòng phục vụ trong quân đội đủ 12 tháng trở lên, tính đến tháng 9 của năm tuyển sinh.'),\n",
       " Document(metadata={'Header 1': '2\\\\. Đối tượng đào tạo, ngành đào tạo**', 'Header 2': '**2.2. Ngành đào tạo**', '_id': 'b5914932e6634dff870da4b8055ab639', '_collection_name': 'tintuyensinh'}, page_content='\\\\- Học viện KTQS sử dụng một mã ngành chung để tuyển sinh, cụ thể:\\nTên trường: Học viện Kỹ thuật quân sự\\nMã trường: KQH\\nMã ngành: 7860220\\nTên ngành: Chỉ huy, quản lý kỹ thuật.'),\n",
       " Document(metadata={'Header 1': 'THÔNG TIN KỲ TUYỂN SINH CỦA HỌC VIỆN KỸ THUẬT QUÂN SỰ NĂM 2024', 'Header 2': '6\\\\. Đăng ký làm hồ sơ sơ tuyển, đăng ký xét tuyển', 'Header 3': '6.2. Đăng ký, thực hiện làm hồ sơ sơ tuyển**', '_id': 'dfef12d06de44ca896fc684313bd7b89', '_collection_name': 'tintuyensinh'}, page_content='### 6.2. Đăng ký, thực hiện làm hồ sơ sơ tuyển**  \\n\\\\- Thời gian sơ tuyển thực hiện theo hướng dẫn của Ban tuyển sinh quân sự Bộ Quốc phòng, năm 2023 thời gian sơ tuyển: Dự kiến từ ngày 25/3/2024 đến ngày 20/5/2024.  \\n\\\\- Thí sinh là thanh niên ngoài Quân đội đăng ký sơ tuyển tại Ban TSQS cấp huyện (quận, thị xã, thành phố trực thuộc tỉnh, thành phố trực thuộc Trung ương), nơi thí sinh đăng ký thường trú (gọi chung là Ban TSQS cấp huyện).'),\n",
       " Document(metadata={'Header 1': '2\\\\. Đối tượng đào tạo, ngành đào tạo**', 'Header 2': '**2.1. Đối tượng đào tạo trình độ đại học**', '_id': '8950f7b451a844858197c0aaeb9a10f1', '_collection_name': 'tintuyensinh'}, page_content='## **2.1. Đối tượng đào tạo trình độ đại học**  \\nThực hiện theo quy định của Bộ Quốc phòng. Học viên được học tập, khám phá và làm chủ các công nghệ tiên tiến được ứng dụng trong quân sự. Học viên được bảo đảm mọi mặt về sinh hoạt và đào tạo trong suốt thời gian đào tạo, sau khi tốt nghiệp được Bộ Quốc phòng phân công công tác tại các đơn vị trong toàn quân, thân nhân học viên (bố, mẹ, con) được hưởng chế độ bảo hiểm y tế theo quy định.'),\n",
       " Document(metadata={'Header 1': 'CƠ HỘI HỌC TẬP VÀ ĐIỂM MỚI TUYỂN SINH NĂM 2024 CỦA HỌC VIỆN KỸ THUẬT QUÂN SỰ', 'Header 2': 'II. MỘT SỐ ĐIỂM MỚI TRONG CÔNG TÁC TUYỂN SINH TẠI HỌC VIỆN KỸ THUẬT QUÂN SỰ NĂM 2024**', '_id': 'f471f48efbea45b39bc09594d0335c91', '_collection_name': 'tintuyensinh'}, page_content='4. Xét tuyển dựa vào kết quả thi tốt nghiệp THPT theo quy chế của Bộ Giáo dục và Đào tạo.  \\nNhư vậy, so với năm 2023, trong kỳ tuyển sinh đại học năm 2024 Học viện Kỹ thuật quân sựbổ sung phương thức lấy kết quả thi đánh giá năng lực của Đại học Quốc gia Hà Nội và Đại học Quốc gia Thành phố Hồ Chí Minh để xét tuyển. Đây là cơ hộiđể các em có thêm nguyện vọng được xét tuyển vào Học viện Kỹ thuật quân sự để thực hiện ước mơ trở thành người cán bộ kỹ thuật quân đội.'),\n",
       " Document(metadata={'Header 1': 'THÔNG TIN BẢO ĐẢM CHẤT LƯỢNG', 'Header 2': '2. Phòng thí nghiệm, thực hành', '_id': '2c16bff25ec04e929c421a40674d0db2', '_collection_name': 'tintuyensinh'}, page_content='Phòng học chuyên dùng\\nPTN Công nghệ điện tử\\nPTN Thiết kế vi mạch\\nXưởng chế thử vi mạch chuyên dụng\\nKho vật tư thiết kế vi mạch chuyên dụng\\nPTN Tích hợp vũ khí\\nPTN Tự động hóa chỉ huy\\nTrường bắn ảo\\nGiảng đường chuyên dùng chiến thuật binh chủng hợp thành\\nGiảng đường chuyên dùng chiến thuật quân, binh chủng\\nTrung tâm Chỉ huy, quản lý kỹ thuật\\nPhòng chỉ huy điều hành diễn tập\\nPhòng học chuyên dùng CHQL cơ sở sản xuất, dự trữ\\nPhòng học chuyên dùng CHQLKT Quân khí\\nPhòng chuyên dùng CHQLKT Tăng thiết giáp'),\n",
       " Document(metadata={'Header 1': 'Thông tin tuyển sinh năm 2021, 2022, 2023 của học viện kỹ thuật quân sự', 'Header 2': '4.1. Phương thức tuyển sinh năm** **2021, 2022, 2023**', '_id': '980af5512ef24b069eba121a22900e83', '_collection_name': 'tintuyensinh'}, page_content='# Thông tin tuyển sinh năm 2021, 2022, 2023 của học viện kỹ thuật quân sự  \\n## 4.1. Phương thức tuyển sinh năm** **2021, 2022, 2023**  \\nNăm 2021, 2022, 2022 Học viện KTQS tuyển sinh theo phương thức:  \\n\\\\- Xét tuyển thẳng (XTT), ưu tiên xét tuyển (ƯTXT), xét tuyển HSG bậc THPT (HSG bậc THPT) thực hiện theo quy định của Ban tuyển sinh quân sự Bộ Quốc phòng.  \\n\\\\- Xét tuyển (XT) trên cơ sở kết quả của Kỳ thi tốt nghiệp Trung học phổ thông (THPT).\\n---'),\n",
       " Document(metadata={'Header 1': 'THÔNG TIN KỲ TUYỂN SINH CỦA HỌC VIỆN KỸ THUẬT QUÂN SỰ NĂM 2024', 'Header 2': '8\\\\. Tổ chức xét tuyển', 'Header 3': '8.2. Phương thức 2: Ưu tiên xét tuyển**', '_id': '1831ca73cdc54b5fbe405b681e6ee9ed', '_collection_name': 'tintuyensinh'}, page_content='\\\\+ Giấy tờ minh chứng thuộc diện Ưu tiên xét tuyển (Giấy chứng nhận đạt giải Kỳ thi HSG cấp Quốc gia, giấy chứng nhận đạt giải Cuộc thi Khoa học kỹ thuật cấp Quốc gia).  \\n\\\\- Địa điểm, thời gian nộp hồ sơ:  \\n\\\\+ Thí sinh đăng ký ưu tiên xét tuyển phải đăng ký dự thi Kỳ thi tốt nghiệp THPT năm 2023 theo quy định của Bộ GD&ĐT, đăng ký nguyện vọng 1 vào Học viện KTQS và phải nộp hồ sơ đăng ký ưu tiên xét tuyển tại Ban TSQS cấp quận, huyện.  \\n\\\\+ Thời gian: Dự kiến trước ngày 25/6/2024.'),\n",
       " Document(metadata={'Header 1': 'THÔNG TIN KỲ TUYỂN SINH CỦA HỌC VIỆN KỸ THUẬT QUÂN SỰ NĂM 2024', 'Header 2': '10\\\\. Học phí đào tạo'}, page_content='## 10\\\\. Học phí đào tạo\\n--------------------  \\nKhi thí sinh trúng tuyển và nhập học vào Học viện KTQS, thí sinh được bao cấp về kinh phí đào tạo và phụ cấp sinh hoạt theo quy định của Bộ Quốc phòng.'),\n",
       " Document(metadata={'Header 1': 'THÔNG TIN KỲ TUYỂN SINH CỦA HỌC VIỆN KỸ THUẬT QUÂN SỰ NĂM 2024', 'Header 2': '5\\\\. Phương thức tuyển sinh'}, page_content='## 5\\\\. Phương thức tuyển sinh\\n--------------------------  \\nNăm 2024, Học viện KTQS tuyển sinh theo các phương thức:  \\n\\\\- Phương thức 1: Xét tuyển thẳng.  \\n\\\\- Phương thức 2: Ưu tiên xét tuyển.  \\n\\\\- Phương thức 3: Xét tuyển học sinh giỏi bậc THPT.  \\nTổng chỉ tiêu của Phương thức 1, 2, 3 không quá 15% tổng chỉ tiêu được giao.  \\n\\\\- Phương thức 4: Xét tuyển bằng kết quả thi ĐGNL của ĐH Quốc gia Hà Nội và ĐH Quốc gia TP Hồ Chí Minh. Thực hiện xét không quá 20% tổng chỉ tiêu được giao.'),\n",
       " Document(metadata={'Header 1': 'THÔNG TIN KỲ TUYỂN SINH CỦA HỌC VIỆN KỸ THUẬT QUÂN SỰ NĂM 2024', 'Header 2': '8\\\\. Tổ chức xét tuyển', 'Header 3': '8.5. Phương thức 5: Xét tuyển theo kết quả của Kỳ thi tốt nghiệp THPT năm 2024**'}, page_content='\\\\- Điểm xét trúng tuyển xác định theo giới tính (nam, nữ) và vùng miền (miền Bắc, miền Nam) và thực hiện một điểm trúng tuyển chung cho hai tổ hợp A00 và A01. Học viện KTQS sẽ lấy điểm cao nhất của hai tổ hợp A00, A01 để xét tuyển.'),\n",
       " Document(metadata={'Header 1': 'THÔNG TIN KỲ TUYỂN SINH CỦA HỌC VIỆN KỸ THUẬT QUÂN SỰ NĂM 2024', 'Header 2': '8\\\\. Tổ chức xét tuyển', 'Header 3': '8.5. Phương thức 5: Xét tuyển theo kết quả của Kỳ thi tốt nghiệp THPT năm 2024**'}, page_content='\\\\+ Tiêu chí 2: Sau khi xét tiêu chí 1, trường vẫn còn chỉ tiêu, nhưng có nhiều thí sinh cùng bằng điểm, cùng có tiêu chí 1 như nhau thì xét đến tiêu chí 2, như sau: Thí sinh có điểm thi môn Vật lý cao hơn sẽ trúng tuyển.  \\n\\\\+ Tiêu chí 3: Sau khi xét tiêu chí 2, trường vẫn còn chỉ tiêu, nhưng có nhiều thí sinh cùng bằng điểm, cùng có tiêu chí 1 và tiêu chí 2 như nhau thì xét đến tiêu chí 3, như sau: Thí sinh có điểm thi môn Hóa học hoặc môn Tiếng Anh cao hơn sẽ trúng tuyển.'),\n",
       " Document(metadata={'Header 1': 'CƠ HỘI HỌC TẬP VÀ ĐIỂM MỚI TUYỂN SINH NĂM 2024 CỦA HỌC VIỆN KỸ THUẬT QUÂN SỰ', 'Header 2': 'I. CƠ HỘI HỌC TẬP TẠI HỌC VIỆN KỸ THUẬT QUÂN SỰ'}, page_content='# CƠ HỘI HỌC TẬP VÀ ĐIỂM MỚI TUYỂN SINH NĂM 2024 CỦA HỌC VIỆN KỸ THUẬT QUÂN SỰ  \\n## I. CƠ HỘI HỌC TẬP TẠI HỌC VIỆN KỸ THUẬT QUÂN SỰ'),\n",
       " Document(metadata={'Header 1': 'THÔNG TIN KỲ TUYỂN SINH CỦA HỌC VIỆN KỸ THUẬT QUÂN SỰ NĂM 2024', 'Header 2': '2\\\\. Phạm vi tuyển sinh'}, page_content='## 2\\\\. Phạm vi tuyển sinh\\n----------------------  \\nTuyển thí sinh nam, nữ trong cả nước (63 tỉnh, thành phố).'),\n",
       " Document(metadata={'Header 1': 'THÔNG TIN KỲ TUYỂN SINH CỦA HỌC VIỆN KỸ THUẬT QUÂN SỰ NĂM 2024', 'Header 2': '8\\\\. Tổ chức xét tuyển', 'Header 3': '8.5. Phương thức 5: Xét tuyển theo kết quả của Kỳ thi tốt nghiệp THPT năm 2024**'}, page_content='\\\\- Xét tuyển từ thí sinh có tổng điểm thi cao nhất trở xuống đến đủ chỉ tiêu và đáp ứng tiêu chí ngưỡng đầu vào. Trường hợp xét tuyển đến một mức điểm nhất định vẫn còn chỉ tiêu, nhưng số thí sinh cùng bằng điểm cao hơn số lượng chỉ tiêu còn lại, thực hiện xét tuyển theo các tiêu chí phụ như sau:  \\n\\\\+ Tiêu chí 1: Thí sinh có điểm thi môn Toán cao hơn sẽ trúng tuyển.'),\n",
       " Document(metadata={'Header 1': 'Thông tin tuyển sinh năm 2021, 2022, 2023 của học viện kỹ thuật quân sự', 'Header 2': '4.2. Điểm trúng tuyển năm 2021, 2022, 2023**'}, page_content='## 4.2. Điểm trúng tuyển năm 2021, 2022, 2023**  \\nThí sinh có thường trú phía Bắc:  \\nThí sinh Nam:\\nNăm 2021: 25,90 điểm\\nNăm 2022: 26,05 điểm\\nNăm 2023: 24,91 điểm\\nThí sinh Nữ:\\nNăm 2021: 28,05 điểm\\nNăm 2022: 28,15 điểm\\nNăm 2023: 26,87 điểm\\nThí sinh có thường trú phía Nam:  \\nThí sinh Nam:\\nNăm 2021: 24,45 điểm\\nNăm 2022: 24,40 điểm\\nNăm 2023: 24,42 điểm\\nThí sinh Nữ:\\nNăm 2021: 27,25 điểm\\nNăm 2022: 27,80 điểm\\nNăm 2023: 26,28 điểm'),\n",
       " Document(metadata={'Header 1': 'THÔNG TIN KỲ TUYỂN SINH CỦA HỌC VIỆN KỸ THUẬT QUÂN SỰ NĂM 2024', 'Header 2': '8\\\\. Tổ chức xét tuyển', 'Header 3': '8.2. Phương thức 2: Ưu tiên xét tuyển**'}, page_content='\\\\- Trường hợp xét tuyển đến một mức điểm nhất định vẫn còn chỉ tiêu, nhưng số thí sinh cùng bằng điểm cao hơn số lượng chỉ tiêu còn lại, thực hiện xét theo thành tích đạt giải cao trở xuống thấp.'),\n",
       " Document(metadata={'Header 1': 'THÔNG TIN KỲ TUYỂN SINH CỦA HỌC VIỆN KỸ THUẬT QUÂN SỰ NĂM 2024', 'Header 2': '8\\\\. Tổ chức xét tuyển', 'Header 3': '8.5. Phương thức 5: Xét tuyển theo kết quả của Kỳ thi tốt nghiệp THPT năm 2024**'}, page_content='Trường hợp xét đến tiêu chí 3 vẫn chưa đủ chỉ tiêu, thì Chủ tịch Hội đồng tuyển sinh báo cáo Ban Tuyển sinh quân sự Bộ Quốc phòng xem xét, quyết định.'),\n",
       " Document(metadata={'Header 1': 'Thông tin về Học viện Kỹ thuật quân sự**', 'Header 2': '**1.3. Mục tiêu phát triển**'}, page_content='## **1.3. Mục tiêu phát triển**  \\n\\\\- Đến năm 2030, Học viện KTQS trở thành trường Đại học nghiên cứu nằm trong tốp đầu về KHKT&CN của đất nước, có những lĩnh vực tương đương với các trường Đại học lớn trong khu vực và hội nhập quốc tế, nằm trong tốp 700 các trường Đại học tiên tiến, hàng đầu trên thế giới; hoàn thành xuất sắc mọi nhiệm vụ được Đảng, Nhà nước và Quân đội giao cho.  \\n\\\\- Đến năm 2045, Học viện KTQS nằm trong tốp 500 các trường Đại học tiên tiến, hàng đầu trên thế giới.')]"
      ]
     },
     "execution_count": 68,
     "metadata": {},
     "output_type": "execute_result"
    }
   ],
   "source": []
  },
  {
   "cell_type": "code",
   "execution_count": 71,
   "metadata": {},
   "outputs": [],
   "source": [
    "docs_new = []\n",
    "for doc in docs: \n",
    "    docs_new.append(doc.page_content)"
   ]
  },
  {
   "cell_type": "code",
   "execution_count": 76,
   "metadata": {},
   "outputs": [
    {
     "name": "stdout",
     "output_type": "stream",
     "text": [
      "('id', 'f8a5169f-769e-4b0b-8731-7369fd3e1a1c')\n",
      "('results', [RerankResponseResultsItem(document=RerankResponseResultsItemDocument(text='## 4\\\\.Chỉ tiêu tuyển sinh  \\nThực hiện theo Quyết định của Bộ Quốc phòng giao. Chỉ tiêu tuyển sinh được xác định theo giới tính (thí sinh nam, thí sinh nữ) và vùng, miền (miền Bắc được tính từ Quảng Bình trở ra, miền Nam được tính từ Quảng Trị trở vào). Chỉ tiêu tuyển sinh năm 2024 sẽ được Học viện thông báo chi tiết sau khi Bộ Quốc phòng giao chỉ tiêu chính thức. Các đối tượng tuyển sinh gồm:\\nĐối tượng tuyển sinh: Đào tạo kỹ sư quân sự (Chỉ huy, quản lý kỹ thuật)  \\nMã trường: KQH\\nMã ngành: 7860220'), index=0, relevance_score=0.22253114), RerankResponseResultsItem(document=RerankResponseResultsItemDocument(text='## 5\\\\. Phương thức tuyển sinh\\n--------------------------  \\nNăm 2024, Học viện KTQS tuyển sinh theo các phương thức:  \\n\\\\- Phương thức 1: Xét tuyển thẳng.  \\n\\\\- Phương thức 2: Ưu tiên xét tuyển.  \\n\\\\- Phương thức 3: Xét tuyển học sinh giỏi bậc THPT.  \\nTổng chỉ tiêu của Phương thức 1, 2, 3 không quá 15% tổng chỉ tiêu được giao.  \\n\\\\- Phương thức 4: Xét tuyển bằng kết quả thi ĐGNL của ĐH Quốc gia Hà Nội và ĐH Quốc gia TP Hồ Chí Minh. Thực hiện xét không quá 20% tổng chỉ tiêu được giao.'), index=21, relevance_score=0.15662019), RerankResponseResultsItem(document=RerankResponseResultsItemDocument(text='## II. MỘT SỐ ĐIỂM MỚI TRONG CÔNG TÁC TUYỂN SINH TẠI HỌC VIỆN KỸ THUẬT QUÂN SỰ NĂM 2024**  \\nThực hiện Đề án “Tổ chức tuyển sinh đại học, cao đẳng quân sự hệ chính quy giai đoạn năm 2023 - 2030 và những năm tiếp theo” của Bộ Quốc phòng, trong kỳ tuyển sinh đại học, cao đẳng năm 2024 của Học viện Kỹ thuật quân sự có một số điểm mới, các em học sinh cần lưu ý một số nội dung như sau:  \\nVề phương thức tuyển sinh, năm 2024, Học viện Kỹ thuật quân sự tuyển sinh theo các phương thức như sau:'), index=6, relevance_score=0.07737811), RerankResponseResultsItem(document=RerankResponseResultsItemDocument(text='\\\\- Thí sinh đạt học lực Giỏi, hạnh kiểm Tốt năm lớp 10, lớp 11 và học kỳ 1 lớp 12 và có kết quả điểm bài thi đánh giá năng lực quốc tế SAT từ 1.068 điểm trở lên hoặc ACT từ 18 điểm trở lên (chứng chỉ còn thời hạn sử dụng đến thời điểm xét tuyển), tốt nghiệp THPT năm 2024.'), index=9, relevance_score=0.06394842), RerankResponseResultsItem(document=RerankResponseResultsItemDocument(text='Chỉ tiêu: 540\\nTổ hợp xét tuyển: A00 và A01\\nThí sinh có thường trú phía Bắc:  \\nTổng chỉ tiêu: 351\\nThí sinh nam: 335 chỉ tiêu\\nThí sinh nữ: 16 chỉ tiêu\\nThí sinh có thường trú phía Nam:  \\nTổng chỉ tiêu: 189\\nThí sinh nam: 181 chỉ tiêu\\nThí sinh nữ: 8 chỉ tiêu  \\n**_Trong số chỉ tiêu được giao, Học viện KTQS tuyển khoảng 20% chỉ tiêu đào tạo nước ngoài, và khoảng 30 chỉ tiêu đào tạo kỹ sư chất lượng cao của 02 chuyên ngành: An ninh hệ thống thông tin, Thông tin._**'), index=3, relevance_score=0.021328082)])\n",
      "('meta', ApiMeta(api_version=ApiMetaApiVersion(version='1', is_deprecated=None, is_experimental=None), billed_units=ApiMetaBilledUnits(input_tokens=None, output_tokens=None, search_units=1, classifications=None), tokens=None, warnings=None))\n",
      "-----------------------------------\n"
     ]
    },
    {
     "data": {
      "text/plain": [
       "[('id', 'f8a5169f-769e-4b0b-8731-7369fd3e1a1c'),\n",
       " ('meta',\n",
       "  ApiMeta(api_version=ApiMetaApiVersion(version='1', is_deprecated=None, is_experimental=None), billed_units=ApiMetaBilledUnits(input_tokens=None, output_tokens=None, search_units=1, classifications=None), tokens=None, warnings=None)),\n",
       " ('results',\n",
       "  [RerankResponseResultsItem(document=RerankResponseResultsItemDocument(text='## 4\\\\.Chỉ tiêu tuyển sinh  \\nThực hiện theo Quyết định của Bộ Quốc phòng giao. Chỉ tiêu tuyển sinh được xác định theo giới tính (thí sinh nam, thí sinh nữ) và vùng, miền (miền Bắc được tính từ Quảng Bình trở ra, miền Nam được tính từ Quảng Trị trở vào). Chỉ tiêu tuyển sinh năm 2024 sẽ được Học viện thông báo chi tiết sau khi Bộ Quốc phòng giao chỉ tiêu chính thức. Các đối tượng tuyển sinh gồm:\\nĐối tượng tuyển sinh: Đào tạo kỹ sư quân sự (Chỉ huy, quản lý kỹ thuật)  \\nMã trường: KQH\\nMã ngành: 7860220'), index=0, relevance_score=0.22253114),\n",
       "   RerankResponseResultsItem(document=RerankResponseResultsItemDocument(text='## 5\\\\. Phương thức tuyển sinh\\n--------------------------  \\nNăm 2024, Học viện KTQS tuyển sinh theo các phương thức:  \\n\\\\- Phương thức 1: Xét tuyển thẳng.  \\n\\\\- Phương thức 2: Ưu tiên xét tuyển.  \\n\\\\- Phương thức 3: Xét tuyển học sinh giỏi bậc THPT.  \\nTổng chỉ tiêu của Phương thức 1, 2, 3 không quá 15% tổng chỉ tiêu được giao.  \\n\\\\- Phương thức 4: Xét tuyển bằng kết quả thi ĐGNL của ĐH Quốc gia Hà Nội và ĐH Quốc gia TP Hồ Chí Minh. Thực hiện xét không quá 20% tổng chỉ tiêu được giao.'), index=21, relevance_score=0.15662019),\n",
       "   RerankResponseResultsItem(document=RerankResponseResultsItemDocument(text='## II. MỘT SỐ ĐIỂM MỚI TRONG CÔNG TÁC TUYỂN SINH TẠI HỌC VIỆN KỸ THUẬT QUÂN SỰ NĂM 2024**  \\nThực hiện Đề án “Tổ chức tuyển sinh đại học, cao đẳng quân sự hệ chính quy giai đoạn năm 2023 - 2030 và những năm tiếp theo” của Bộ Quốc phòng, trong kỳ tuyển sinh đại học, cao đẳng năm 2024 của Học viện Kỹ thuật quân sự có một số điểm mới, các em học sinh cần lưu ý một số nội dung như sau:  \\nVề phương thức tuyển sinh, năm 2024, Học viện Kỹ thuật quân sự tuyển sinh theo các phương thức như sau:'), index=6, relevance_score=0.07737811),\n",
       "   RerankResponseResultsItem(document=RerankResponseResultsItemDocument(text='\\\\- Thí sinh đạt học lực Giỏi, hạnh kiểm Tốt năm lớp 10, lớp 11 và học kỳ 1 lớp 12 và có kết quả điểm bài thi đánh giá năng lực quốc tế SAT từ 1.068 điểm trở lên hoặc ACT từ 18 điểm trở lên (chứng chỉ còn thời hạn sử dụng đến thời điểm xét tuyển), tốt nghiệp THPT năm 2024.'), index=9, relevance_score=0.06394842),\n",
       "   RerankResponseResultsItem(document=RerankResponseResultsItemDocument(text='Chỉ tiêu: 540\\nTổ hợp xét tuyển: A00 và A01\\nThí sinh có thường trú phía Bắc:  \\nTổng chỉ tiêu: 351\\nThí sinh nam: 335 chỉ tiêu\\nThí sinh nữ: 16 chỉ tiêu\\nThí sinh có thường trú phía Nam:  \\nTổng chỉ tiêu: 189\\nThí sinh nam: 181 chỉ tiêu\\nThí sinh nữ: 8 chỉ tiêu  \\n**_Trong số chỉ tiêu được giao, Học viện KTQS tuyển khoảng 20% chỉ tiêu đào tạo nước ngoài, và khoảng 30 chỉ tiêu đào tạo kỹ sư chất lượng cao của 02 chuyên ngành: An ninh hệ thống thông tin, Thông tin._**'), index=3, relevance_score=0.021328082)])]"
      ]
     },
     "execution_count": 76,
     "metadata": {},
     "output_type": "execute_result"
    }
   ],
   "source": [
    "from langchain_community.document_transformers import (\n",
    "    LongContextReorder,\n",
    ")\n",
    "from langchain.vectorstores import Chroma\n",
    "from langchain.text_splitter import RecursiveCharacterTextSplitter, CharacterTextSplitter\n",
    "from langchain.document_loaders import TextLoader\n",
    "from langchain.embeddings import HuggingFaceEmbeddings\n",
    "from langchain.storage import InMemoryStore\n",
    "from langchain.retrievers.document_compressors import CohereRerank\n",
    "import os\n",
    "import cohere\n",
    "from dotenv import load_dotenv\n",
    "load_dotenv()\n",
    "co = cohere.Client(api_key=os.getenv(\"COHERE_API_KEY\"))\n",
    "query = \"Năm 2024 học viện lấy bao nhiêu chỉ tiêu nữ\"\n",
    "\n",
    "\n",
    "results = co.rerank(model=\"rerank-multilingual-v3.0\", query=query, documents=docs_new, top_n=5, return_documents=True)\n",
    "\n",
    "for doc in results:\n",
    "    print(doc)\n",
    "\n",
    "print(\"-----------------------------------\")\n",
    "\n",
    "from langchain_community.document_transformers import LongContextReorder\n",
    "\n",
    "# Reorder the documents:\n",
    "# Less relevant document will be at the middle of the list and more\n",
    "# relevant elements at beginning / end.\n",
    "reordering = LongContextReorder()\n",
    "reordered_docs = reordering.transform_documents(results)\n",
    "reordered_docs\n"
   ]
  },
  {
   "cell_type": "code",
   "execution_count": null,
   "metadata": {},
   "outputs": [],
   "source": [
    "context = \" \".join(results[0].document[\"text\"].split(\" \")[-4096:])\n"
   ]
  }
 ],
 "metadata": {
  "kernelspec": {
   "display_name": "base",
   "language": "python",
   "name": "python3"
  },
  "language_info": {
   "codemirror_mode": {
    "name": "ipython",
    "version": 3
   },
   "file_extension": ".py",
   "mimetype": "text/x-python",
   "name": "python",
   "nbconvert_exporter": "python",
   "pygments_lexer": "ipython3",
   "version": "3.12.2"
  }
 },
 "nbformat": 4,
 "nbformat_minor": 2
}
