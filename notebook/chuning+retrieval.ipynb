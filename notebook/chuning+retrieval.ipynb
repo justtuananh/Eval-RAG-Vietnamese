{
 "cells": [
  {
   "cell_type": "code",
   "execution_count": null,
   "metadata": {},
   "outputs": [],
   "source": [
    "!pip install -qU langchain-huggingface\n",
    "!pip install -qU langchain-qdrant\n",
    "!pip install -q langchain\n",
    "!pip install -q langchain-community\n",
    "!pip install -U langchain-text-splitter\n",
    "!pip install -U redis\n",
    "!pip install -U langchain-groq\n",
    "!pip install -U chromadb\n",
    "!pip install --upgrade --quiet  redis redisvl langchain-openai tiktoken lark"
   ]
  },
  {
   "cell_type": "code",
   "execution_count": 1,
   "metadata": {},
   "outputs": [],
   "source": [
    "\n",
    "from langchain_qdrant import QdrantVectorStore\n",
    "from qdrant_client import QdrantClient\n",
    "from qdrant_client.http.models import Distance, VectorParams\n",
    "from langchain_huggingface import HuggingFaceEmbeddings\n",
    "from langchain_community.document_loaders import TextLoader\n",
    "from langchain.text_splitter import MarkdownHeaderTextSplitter\n",
    "from langchain.retrievers.self_query.base import SelfQueryRetriever\n",
    "from langchain.vectorstores import Chroma\n",
    "from langchain.text_splitter import RecursiveCharacterTextSplitter, CharacterTextSplitter\n",
    "from langchain.document_loaders import TextLoader\n",
    "from langchain_community.embeddings.huggingface import HuggingFaceEmbeddings\n",
    "from langchain.retrievers import ParentDocumentRetriever\n",
    "from langchain.storage import InMemoryStore\n",
    "from langchain.docstore.document import Document\n",
    "from typing import List, Dict\n",
    "from langchain.vectorstores import Redis\n",
    "from langchain.chains import RetrievalQA\n",
    "from langchain_groq import ChatGroq\n",
    "import os"
   ]
  },
  {
   "cell_type": "code",
   "execution_count": 2,
   "metadata": {},
   "outputs": [],
   "source": [
    "\n",
    "\n",
    "# Function to load and chunk data from a folder\n",
    "def load_and_chunk_data(data_path):\n",
    "    docs = []\n",
    "    # Load all .txt files from the specified folder\n",
    "    for filename in os.listdir(data_path):\n",
    "        if filename.endswith('.txt'):\n",
    "            file_path = os.path.join(data_path, filename)\n",
    "            loader = TextLoader(file_path, encoding='utf-8')\n",
    "            docs.extend(loader.load())\n",
    "\n",
    "    # Define headers to split on for Markdown splitting\n",
    "    headers_to_split_on = [\n",
    "        (\"#\", \"Header 1\"),\n",
    "        (\"##\", \"Header 2\"),\n",
    "        (\"###\", \"Header 3\"),\n",
    "    ]\n",
    "\n",
    "    # Initialize Markdown splitter\n",
    "    markdown_splitter = MarkdownHeaderTextSplitter(\n",
    "        headers_to_split_on=headers_to_split_on, strip_headers=False\n",
    "    )\n",
    "\n",
    "    chunk_size = 512\n",
    "    chunk_overlap = 0\n",
    "\n",
    "    # Initialize character-based splitter\n",
    "    text_splitter = RecursiveCharacterTextSplitter(\n",
    "        chunk_size=chunk_size, chunk_overlap=chunk_overlap\n",
    "    )\n",
    "\n",
    "    chunked_docs = []\n",
    "\n",
    "    # Process each document\n",
    "    for doc in docs:\n",
    "        # Split document by Markdown headers\n",
    "        md_header_splits = markdown_splitter.split_text(doc.page_content)\n",
    "\n",
    "        # Further split the Markdown header splits into smaller chunks\n",
    "        chunked_docs.extend(text_splitter.split_documents(md_header_splits))\n",
    "\n",
    "    return chunked_docs\n",
    "\n",
    "\n",
    "data_path = '/home/justtuananh/AI4TUAN/DOAN2024/eval_rag_vietnamese/thongtintuyensinh'\n",
    "chunked_data = load_and_chunk_data(data_path)\n"
   ]
  },
  {
   "cell_type": "code",
   "execution_count": 3,
   "metadata": {},
   "outputs": [
    {
     "name": "stdout",
     "output_type": "stream",
     "text": [
      "{'text': [{'name': 'Header 1'}, {'name': 'Header 2'}, {'name': 'Header 3'}]}\n"
     ]
    }
   ],
   "source": [
    "def build_index_schema(documents: List[Document]) -> Dict:\n",
    "    schema = {\"text\": []}\n",
    "    for doc in documents:\n",
    "        for key in doc.metadata:\n",
    "            name_dict = {\"name\": f\"{key}\"}\n",
    "            if name_dict not in schema[\"text\"]:\n",
    "                schema[\"text\"].append(name_dict)\n",
    "    return schema\n",
    "\n",
    "index_schema = build_index_schema(chunked_data)\n",
    "print(index_schema)"
   ]
  },
  {
   "cell_type": "code",
   "execution_count": 4,
   "metadata": {},
   "outputs": [
    {
     "name": "stderr",
     "output_type": "stream",
     "text": [
      "/home/justtuananh/miniconda3/lib/python3.12/site-packages/sentence_transformers/cross_encoder/CrossEncoder.py:11: TqdmExperimentalWarning: Using `tqdm.autonotebook.tqdm` in notebook mode. Use `tqdm.tqdm` instead to force console mode (e.g. in jupyter console)\n",
      "  from tqdm.autonotebook import tqdm, trange\n",
      "/home/justtuananh/miniconda3/lib/python3.12/site-packages/huggingface_hub/file_download.py:1132: FutureWarning: `resume_download` is deprecated and will be removed in version 1.0.0. Downloads always resume when possible. If you want to force a new download, use `force_download=True`.\n",
      "  warnings.warn(\n",
      "`index_schema` does not match generated metadata schema.\n",
      "If you meant to manually override the schema, please ignore this message.\n",
      "index_schema: {'text': [{'name': 'Header 1'}, {'name': 'Header 2'}, {'name': 'Header 3'}]}\n",
      "generated_schema: {'text': [{'name': 'Header 1'}, {'name': 'Header 2'}], 'numeric': [], 'tag': []}\n",
      "\n"
     ]
    }
   ],
   "source": [
    "\n",
    "from dotenv import load_dotenv\n",
    "load_dotenv()\n",
    "llm = ChatGroq(model_name=\"llama3-70b-8192\", temperature=0.1,api_key= os.getenv('llm_api_1'))\n",
    "HF_EMBEDDING = HuggingFaceEmbeddings(model_name=\"keepitreal/vietnamese-sbert\")\n",
    "llm = ChatGroq(model_name=\"llama3-70b-8192\", temperature=0.1,api_key= os.getenv('llm_api_1'))\n",
    "\n",
    "\n",
    "def print_result(response_obj):\n",
    "    print(\"SOURCES: \\n\")\n",
    "    cnt = 1\n",
    "    for source_doc in response_obj[\"source_documents\"]:\n",
    "        print(f\"Chunk #{cnt}\")\n",
    "        cnt += 1\n",
    "        print(\"Source Metadata: \", source_doc.metadata)\n",
    "        print(\"Source Text:\")\n",
    "        print(source_doc.page_content)\n",
    "        print(\"\\n\")\n",
    "    print(\"RESULT: \\n\")\n",
    "    print(response_obj[\"result\"] + \"\\n\\n\")\n",
    "\n",
    "\n",
    "vectorstore = Redis.from_documents(\n",
    "    chunked_data,\n",
    "    HF_EMBEDDING,\n",
    "    redis_url='redis://localhost:6379',\n",
    "    index_schema = index_schema\n",
    ")\n",
    "# retriever = RetrievalQA.from_chain_type(\n",
    "#     llm=llm,\n",
    "#     chain_type=\"stuff\",\n",
    "#     retriever=vectorstore.as_retriever(search_kwargs={\"k\": 10}),\n",
    "#     return_source_documents=True\n",
    "# )\n",
    "\n",
    "# query = \"Thi khối nào để vào học viện kỹ thuật quân sự\"\n",
    "# response = retriever({\"query\": query})\n",
    "# print_result(response)"
   ]
  },
  {
   "cell_type": "code",
   "execution_count": 5,
   "metadata": {},
   "outputs": [
    {
     "name": "stderr",
     "output_type": "stream",
     "text": [
      "Metadata key Header 3 not found in metadata. Setting to None. \n",
      "Metadata fields defined for this instance: ['Header 1', 'Header 2', 'Header 3']\n",
      "Metadata key Header 3 not found in metadata. Setting to None. \n",
      "Metadata fields defined for this instance: ['Header 1', 'Header 2', 'Header 3']\n",
      "Metadata key Header 3 not found in metadata. Setting to None. \n",
      "Metadata fields defined for this instance: ['Header 1', 'Header 2', 'Header 3']\n"
     ]
    },
    {
     "data": {
      "text/plain": [
       "[Document(metadata={'id': 'doc:d7707b5549f14421a6bce9194ce5c366:b450df5f2ded4150a322b152dcd935ae', 'Header 1': 'THÔNG TIN KỲ TUYỂN SINH CỦA HỌC VIỆN KỸ THUẬT QUÂN SỰ NĂM 2024', 'Header 2': '8\\\\. Tổ chức xét tuyển', 'Header 3': '8.2. Phương thức 2: Ưu tiên xét tuyển**'}, page_content='\\\\- Thí sinh đạt giải Tư cuộc thi khoa học, kỹ thuật cấp Quốc gia do Bộ GD&ĐT tổ chức, có nội dung đề tài dự thi phù hợp với ngành đào tạo của Học viện KTQS, tốt nghiệp THPT năm 2024, thời gian đạt giải không quá 03 năm tính tới thời điểm xét tuyển.  \\nb) Hồ sơ đăng ký Ưu tiên xét tuyển  \\n\\\\- Hồ sơ đăng ký Ưu tiên xét tuyển gồm:  \\n\\\\+ Phiếu đăng ký ưu tiên xét tuyển (Theo mẫu của Bộ Quốc phòng).'),\n",
       " Document(metadata={'id': 'doc:d7707b5549f14421a6bce9194ce5c366:2717dff9bef8439e8b3954b03c32c7fe', 'Header 1': 'CƠ HỘI HỌC TẬP VÀ ĐIỂM MỚI TUYỂN SINH NĂM 2024 CỦA HỌC VIỆN KỸ THUẬT QUÂN SỰ', 'Header 2': 'II. MỘT SỐ ĐIỂM MỚI TRONG CÔNG TÁC TUYỂN SINH TẠI HỌC VIỆN KỸ THUẬT QUÂN SỰ NĂM 2024**', 'Header 3': None}, page_content='Các em có nguyện vọng đăng ký xét tuyển bằng phương thức sử dụng kết quả thi ĐGNL của Đại học Quốc gia Hà Nội và Đại học Quốc gia TPHCM cần chủ động đăng ký và tham dự các kỳ thi do các trường đại học tổ chức, lấy Giấy chứng nhận kết quả thi để hoàn thiện thủ tục xét tuyển vào Học viện.'),\n",
       " Document(metadata={'id': 'doc:d7707b5549f14421a6bce9194ce5c366:10b7eed940e14748b12335e146a54385', 'Header 1': 'THÔNG TIN KỲ TUYỂN SINH CỦA HỌC VIỆN KỸ THUẬT QUÂN SỰ NĂM 2024', 'Header 2': '8\\\\. Tổ chức xét tuyển', 'Header 3': '8.1. Phương thức 1: Xét tuyển thẳng**'}, page_content='\\\\- Thí sinh đạt giải Nhất, Nhì, Ba cuộc thi Khoa học, kỹ thuật cấp Quốc gia, Quốc tế do Bộ GD&ĐT tổ chức, cử tham gia có nội dung đề tài dự thi phù hợp với ngành đào tạo của Học viện KTQS, tốt nghiệp THPT năm 2024, thời gian đạt giải không quá 03 năm tính tới thời điểm xét tuyển thẳng.  \\nb) Hồ sơ đăng ký xét tuyển thẳng  \\n\\\\- Hồ sơ gồm:  \\n\\\\+ Phiếu đăng ký xét tuyển thẳng (Theo mẫu của Bộ Quốc phòng).'),\n",
       " Document(metadata={'id': 'doc:d7707b5549f14421a6bce9194ce5c366:7e8d01848c3d412b947653dde2212f23', 'Header 1': 'THÔNG TIN KỲ TUYỂN SINH CỦA HỌC VIỆN KỸ THUẬT QUÂN SỰ NĂM 2024', 'Header 2': '8\\\\. Tổ chức xét tuyển', 'Header 3': '8.2. Phương thức 2: Ưu tiên xét tuyển**'}, page_content='c) Tổ chức xét Ưu tiên xét tuyển  \\nĐiểm xét tuyển = Tổng điểm thi theo tổ hợp môn đăng ký xét tuyển + điểm ưu tiên khu vực + điểm ưu tiên đối tượng.  \\n(Điểm xét tuyển, điểm thi theo tổ hợp môn đăng ký xét tuyển, điểm ưu tiên khu vực, ưu tiên đối tượng theo quy định của Bộ GD&ĐT)'),\n",
       " Document(metadata={'id': 'doc:d7707b5549f14421a6bce9194ce5c366:376f133737dd4f42a9c7c8767f1ca3b6', 'Header 1': 'THÔNG TIN KỲ TUYỂN SINH CỦA HỌC VIỆN KỸ THUẬT QUÂN SỰ NĂM 2024', 'Header 2': '8\\\\. Tổ chức xét tuyển', 'Header 3': '8.5. Phương thức 5: Xét tuyển theo kết quả của Kỳ thi tốt nghiệp THPT năm 2024**'}, page_content='### 8.5. Phương thức 5: Xét tuyển theo kết quả của Kỳ thi tốt nghiệp THPT năm 2024**  \\na) Tổ hợp môn xét tuyển  \\nHọc viện KTQS xét tuyển theo 02 tổ hợp A00 (Toán, Vật lý, Hóa học) và A01 (Toán, Vật lý, Tiếng Anh).  \\nb) Điểm xét trúng tuyển  \\n\\\\- Điểm xét tuyển được xác định theo quy định của Quy chế tuyển sinh đại học, tuyển sinh cao đẳng ngành giáo dục mầm non của Bộ GD&ĐT (Ban hành kèm theo Thông tư 08/2022/TT-BGDĐT).'),\n",
       " Document(metadata={'id': 'doc:d7707b5549f14421a6bce9194ce5c366:78e782f4893c47a69dde35c0aed309b6', 'Header 1': 'CƠ HỘI HỌC TẬP VÀ ĐIỂM MỚI TUYỂN SINH NĂM 2024 CỦA HỌC VIỆN KỸ THUẬT QUÂN SỰ', 'Header 2': 'II. MỘT SỐ ĐIỂM MỚI TRONG CÔNG TÁC TUYỂN SINH TẠI HỌC VIỆN KỸ THUẬT QUÂN SỰ NĂM 2024**', 'Header 3': None}, page_content='4. Xét tuyển dựa vào kết quả thi tốt nghiệp THPT theo quy chế của Bộ Giáo dục và Đào tạo.  \\nNhư vậy, so với năm 2023, trong kỳ tuyển sinh đại học năm 2024 Học viện Kỹ thuật quân sựbổ sung phương thức lấy kết quả thi đánh giá năng lực của Đại học Quốc gia Hà Nội và Đại học Quốc gia Thành phố Hồ Chí Minh để xét tuyển. Đây là cơ hộiđể các em có thêm nguyện vọng được xét tuyển vào Học viện Kỹ thuật quân sự để thực hiện ước mơ trở thành người cán bộ kỹ thuật quân đội.'),\n",
       " Document(metadata={'id': 'doc:d7707b5549f14421a6bce9194ce5c366:58c5129fab1946458646cf68ff83f154', 'Header 1': 'THÔNG TIN KỲ TUYỂN SINH CỦA HỌC VIỆN KỸ THUẬT QUÂN SỰ NĂM 2024', 'Header 2': '8\\\\. Tổ chức xét tuyển', 'Header 3': '8.2. Phương thức 2: Ưu tiên xét tuyển**'}, page_content='\\\\- Thí sinh có điểm xét tuyển bằng hoặc cao hơn điểm xét trúng tuyển (theo phương thức xét tuyển dựa trên kết quả Kỳ thi tốt nghiệp THPT năm 2024) vào trường: Được công nhận trúng tuyển như thí sinh đăng ký xét tuyển theo kết quả Kỳ thi tốt nghiệp THPT năm 2024.  \\n\\\\- Thí sinh có điểm xét tuyển đạt ngưỡng đầu vào trở lên nhưng không đạt điểm xét trúng tuyển: Xét theo điểm xét tuyển từ cao xuống thấp.'),\n",
       " Document(metadata={'id': 'doc:d7707b5549f14421a6bce9194ce5c366:e91206f78d244342a0588561a25d4037', 'Header 1': 'THÔNG TIN KỲ TUYỂN SINH CỦA HỌC VIỆN KỸ THUẬT QUÂN SỰ NĂM 2024', 'Header 2': '8\\\\. Tổ chức xét tuyển', 'Header 3': '8.2. Phương thức 2: Ưu tiên xét tuyển**'}, page_content='\\\\+ Giấy tờ minh chứng thuộc diện Ưu tiên xét tuyển (Giấy chứng nhận đạt giải Kỳ thi HSG cấp Quốc gia, giấy chứng nhận đạt giải Cuộc thi Khoa học kỹ thuật cấp Quốc gia).  \\n\\\\- Địa điểm, thời gian nộp hồ sơ:  \\n\\\\+ Thí sinh đăng ký ưu tiên xét tuyển phải đăng ký dự thi Kỳ thi tốt nghiệp THPT năm 2023 theo quy định của Bộ GD&ĐT, đăng ký nguyện vọng 1 vào Học viện KTQS và phải nộp hồ sơ đăng ký ưu tiên xét tuyển tại Ban TSQS cấp quận, huyện.  \\n\\\\+ Thời gian: Dự kiến trước ngày 25/6/2024.'),\n",
       " Document(metadata={'id': 'doc:d7707b5549f14421a6bce9194ce5c366:af99e65c6c0449ffb31b6ae07a4c3372', 'Header 1': '2\\\\. Đối tượng đào tạo, ngành đào tạo**', 'Header 2': '**2.2. Ngành đào tạo**', 'Header 3': None}, page_content='\\\\- Học viện KTQS sử dụng một mã ngành chung để tuyển sinh, cụ thể:\\nTên trường: Học viện Kỹ thuật quân sự\\nMã trường: KQH\\nMã ngành: 7860220\\nTên ngành: Chỉ huy, quản lý kỹ thuật.'),\n",
       " Document(metadata={'id': 'doc:d7707b5549f14421a6bce9194ce5c366:1f2b881b93a841c691a182f190931981', 'Header 1': 'THÔNG TIN KỲ TUYỂN SINH CỦA HỌC VIỆN KỸ THUẬT QUÂN SỰ NĂM 2024', 'Header 2': '8\\\\. Tổ chức xét tuyển', 'Header 3': '8.5. Phương thức 5: Xét tuyển theo kết quả của Kỳ thi tốt nghiệp THPT năm 2024**'}, page_content='\\\\- Điểm xét trúng tuyển xác định theo giới tính (nam, nữ) và vùng miền (miền Bắc, miền Nam) và thực hiện một điểm trúng tuyển chung cho hai tổ hợp A00 và A01. Học viện KTQS sẽ lấy điểm cao nhất của hai tổ hợp A00, A01 để xét tuyển.')]"
      ]
     },
     "execution_count": 5,
     "metadata": {},
     "output_type": "execute_result"
    }
   ],
   "source": [
    "retriever = vectorstore.as_retriever(search_type=\"similarity\", search_kwargs={\"k\": 10})\n",
    "retriever.invoke(\"tao thi đại học được 26 điểm khối C thì có đủ điều kiện xét tuyển vào học viện kĩ thuật quân sự không ?\")"
   ]
  },
  {
   "cell_type": "code",
   "execution_count": 6,
   "metadata": {},
   "outputs": [
    {
     "ename": "TypeError",
     "evalue": "'RedisVectorStoreRetriever' object is not callable",
     "output_type": "error",
     "traceback": [
      "\u001b[0;31m---------------------------------------------------------------------------\u001b[0m",
      "\u001b[0;31mTypeError\u001b[0m                                 Traceback (most recent call last)",
      "Cell \u001b[0;32mIn[6], line 57\u001b[0m\n\u001b[1;32m     54\u001b[0m         attr_info_list\u001b[38;5;241m.\u001b[39mappend(new_attr)\n\u001b[1;32m     55\u001b[0m     \u001b[38;5;28;01mreturn\u001b[39;00m attr_info_list\n\u001b[0;32m---> 57\u001b[0m metadata_field_info \u001b[38;5;241m=\u001b[39m \u001b[43mbuild_metadata_field_info\u001b[49m\u001b[43m(\u001b[49m\u001b[43mindex_schema\u001b[49m\u001b[43m,\u001b[49m\u001b[43m \u001b[49m\u001b[43mheaders_to_split_on\u001b[49m\u001b[43m,\u001b[49m\u001b[43m \u001b[49m\u001b[43mretriever\u001b[49m\u001b[43m)\u001b[49m\n",
      "Cell \u001b[0;32mIn[6], line 41\u001b[0m, in \u001b[0;36mbuild_metadata_field_info\u001b[0;34m(schema, header_info, qa_retriever)\u001b[0m\n\u001b[1;32m     39\u001b[0m attr_info_list \u001b[38;5;241m=\u001b[39m []\n\u001b[1;32m     40\u001b[0m \u001b[38;5;28;01mfor\u001b[39;00m field \u001b[38;5;129;01min\u001b[39;00m schema[\u001b[38;5;124m\"\u001b[39m\u001b[38;5;124mtext\u001b[39m\u001b[38;5;124m\"\u001b[39m]:\n\u001b[0;32m---> 41\u001b[0m     desc \u001b[38;5;241m=\u001b[39m \u001b[43mgenerate_metadata_desc\u001b[49m\u001b[43m(\u001b[49m\u001b[43mfield\u001b[49m\u001b[43m[\u001b[49m\u001b[38;5;124;43m\"\u001b[39;49m\u001b[38;5;124;43mname\u001b[39;49m\u001b[38;5;124;43m\"\u001b[39;49m\u001b[43m]\u001b[49m\u001b[43m,\u001b[49m\u001b[43m \u001b[49m\u001b[43mheader_info\u001b[49m\u001b[43m,\u001b[49m\u001b[43m \u001b[49m\u001b[43mqa_retriever\u001b[49m\u001b[43m)\u001b[49m \u001b[38;5;241m+\u001b[39m filter_instructions\n\u001b[1;32m     42\u001b[0m     \u001b[38;5;28;01mif\u001b[39;00m field[\u001b[38;5;124m\"\u001b[39m\u001b[38;5;124mname\u001b[39m\u001b[38;5;124m\"\u001b[39m] \u001b[38;5;241m==\u001b[39m \u001b[38;5;124m\"\u001b[39m\u001b[38;5;124mHeader 1\u001b[39m\u001b[38;5;124m\"\u001b[39m:\n\u001b[1;32m     43\u001b[0m         new_attr \u001b[38;5;241m=\u001b[39m AttributeInfo(\n\u001b[1;32m     44\u001b[0m             name\u001b[38;5;241m=\u001b[39mfield[\u001b[38;5;124m\"\u001b[39m\u001b[38;5;124mname\u001b[39m\u001b[38;5;124m\"\u001b[39m],\n\u001b[1;32m     45\u001b[0m             description \u001b[38;5;241m=\u001b[39m filter_h1 \u001b[38;5;241m+\u001b[39m desc,\n\u001b[1;32m     46\u001b[0m             \u001b[38;5;28mtype\u001b[39m\u001b[38;5;241m=\u001b[39m\u001b[38;5;124m\"\u001b[39m\u001b[38;5;124mstring\u001b[39m\u001b[38;5;124m\"\u001b[39m\n\u001b[1;32m     47\u001b[0m         )\n",
      "Cell \u001b[0;32mIn[6], line 26\u001b[0m, in \u001b[0;36mgenerate_metadata_desc\u001b[0;34m(field_name, header_info, qa_retriever)\u001b[0m\n\u001b[1;32m     16\u001b[0m \u001b[38;5;28;01mdef\u001b[39;00m \u001b[38;5;21mgenerate_metadata_desc\u001b[39m(field_name: \u001b[38;5;28mstr\u001b[39m, header_info: List[\u001b[38;5;28mtuple\u001b[39m], qa_retriever: RetrievalQA) \u001b[38;5;241m-\u001b[39m\u001b[38;5;241m>\u001b[39m \u001b[38;5;28mstr\u001b[39m:\n\u001b[1;32m     17\u001b[0m     query \u001b[38;5;241m=\u001b[39m \u001b[38;5;124mf\u001b[39m\u001b[38;5;124m\"\"\"\u001b[39m\n\u001b[1;32m     18\u001b[0m \u001b[38;5;124m    Given a list of tuples indicating all possible metadata fields for this article,\u001b[39m\n\u001b[1;32m     19\u001b[0m \u001b[38;5;124m    provide a very brief description (15 words or less) of the specified field,\u001b[39m\n\u001b[0;32m   (...)\u001b[0m\n\u001b[1;32m     23\u001b[0m \u001b[38;5;124m    specified field: \u001b[39m\u001b[38;5;132;01m{\u001b[39;00mfield_name\u001b[38;5;132;01m}\u001b[39;00m\n\u001b[1;32m     24\u001b[0m \u001b[38;5;124m    \u001b[39m\u001b[38;5;124m\"\"\"\u001b[39m\n\u001b[0;32m---> 26\u001b[0m     \u001b[38;5;28;01mreturn\u001b[39;00m \u001b[43mqa_retriever\u001b[49m\u001b[43m(\u001b[49m\u001b[43m{\u001b[49m\u001b[38;5;124;43m\"\u001b[39;49m\u001b[38;5;124;43mquery\u001b[39;49m\u001b[38;5;124;43m\"\u001b[39;49m\u001b[43m:\u001b[49m\u001b[43m \u001b[49m\u001b[43mquery\u001b[49m\u001b[43m}\u001b[49m\u001b[43m)\u001b[49m[\u001b[38;5;124m\"\u001b[39m\u001b[38;5;124mresult\u001b[39m\u001b[38;5;124m\"\u001b[39m]\n",
      "\u001b[0;31mTypeError\u001b[0m: 'RedisVectorStoreRetriever' object is not callable"
     ]
    }
   ],
   "source": [
    "# add self-query\n",
    "from langchain.chains.query_constructor.base import (\n",
    "    get_query_constructor_prompt,\n",
    "    load_query_constructor_runnable,\n",
    "    AttributeInfo)\n",
    "\n",
    "document_content_description = \"The document contains introductory information about the admissions details of the Military Technical Academy.\"\n",
    "\n",
    "headers_to_split_on = [\n",
    "        (\"#\", \"Header 1\"),\n",
    "        (\"##\", \"Header 2\"),\n",
    "        (\"###\", \"Header 3\"),\n",
    "    ]\n",
    "\n",
    "\n",
    "def generate_metadata_desc(field_name: str, header_info: List[tuple], qa_retriever: RetrievalQA) -> str:\n",
    "    query = f\"\"\"\n",
    "    Given a list of tuples indicating all possible metadata fields for this article,\n",
    "    provide a very brief description (15 words or less) of the specified field,\n",
    "    including its position in the hierarchy of headers (Header 1, Header 2, Header 3, etc.).\n",
    "\n",
    "    all fields {header_info}\n",
    "    specified field: {field_name}\n",
    "    \"\"\"\n",
    "\n",
    "    return qa_retriever({\"query\": query})[\"result\"]\n",
    "\n",
    "def build_metadata_field_info(schema: Dict, header_info: List[tuple], qa_retriever: RetrievalQA) -> List[AttributeInfo]:\n",
    "    filter_instructions = \\\n",
    "        \"ALWAYS filter with one or more CONTAINS comparators, and use the OR operator to check ALL other fields.\"\\\n",
    "        \"if the value of this field contains a word or phrase that is very similar to a word or phrase in the query, \" \\\n",
    "        \"filter for the exact string from the value rather than the query.\"\n",
    "    filter_h1 = \\\n",
    "        \"if the query contains a misspelling or an alternate spelling of this name, \"\\\n",
    "        \"filter for the value of this field rather than the name in the query.\"\\\n",
    "        \"the h1-level filter should ALWAYS be combined with subsection filters using an AND operator. \\n\"\n",
    "    filter_exclusion = \\\n",
    "        \" NEVER filter this field on the value of 'Header 1'.\"\n",
    "    attr_info_list = []\n",
    "    for field in schema[\"text\"]:\n",
    "        desc = generate_metadata_desc(field[\"name\"], header_info, qa_retriever) + filter_instructions\n",
    "        if field[\"name\"] == \"Header 1\":\n",
    "            new_attr = AttributeInfo(\n",
    "                name=field[\"name\"],\n",
    "                description = filter_h1 + desc,\n",
    "                type=\"string\"\n",
    "            )\n",
    "        else:\n",
    "            new_attr = AttributeInfo(\n",
    "                name=field[\"name\"],\n",
    "                description = desc + filter_exclusion,\n",
    "                type=\"string\"\n",
    "            )\n",
    "        attr_info_list.append(new_attr)\n",
    "    return attr_info_list\n",
    "\n",
    "metadata_field_info = build_metadata_field_info(index_schema, headers_to_split_on, retriever)"
   ]
  }
 ],
 "metadata": {
  "kernelspec": {
   "display_name": "base",
   "language": "python",
   "name": "python3"
  },
  "language_info": {
   "codemirror_mode": {
    "name": "ipython",
    "version": 3
   },
   "file_extension": ".py",
   "mimetype": "text/x-python",
   "name": "python",
   "nbconvert_exporter": "python",
   "pygments_lexer": "ipython3",
   "version": "3.12.2"
  }
 },
 "nbformat": 4,
 "nbformat_minor": 2
}
