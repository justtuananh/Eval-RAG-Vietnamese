{
 "cells": [
  {
   "cell_type": "code",
   "execution_count": null,
   "metadata": {},
   "outputs": [],
   "source": [
    "!pip install -qU langchain-huggingface\n",
    "!pip install -qU langchain-qdrant\n",
    "!pip install -q langchain\n",
    "!pip install -q langchain-community\n",
    "!pip install -U langchain-text-splitter\n",
    "!pip install -U redis\n",
    "!pip install -U langchain-groq\n",
    "!pip install -U chromadb\n",
    "!pip install --upgrade --quiet  redis redisvl langchain-openai tiktoken lark"
   ]
  },
  {
   "cell_type": "code",
   "execution_count": 2,
   "metadata": {},
   "outputs": [],
   "source": [
    "\n",
    "from langchain_qdrant import QdrantVectorStore\n",
    "from qdrant_client import QdrantClient\n",
    "from qdrant_client.http.models import Distance, VectorParams\n",
    "from langchain_huggingface import HuggingFaceEmbeddings\n",
    "from langchain_community.document_loaders import TextLoader\n",
    "from langchain.text_splitter import MarkdownHeaderTextSplitter\n",
    "from langchain.retrievers.self_query.base import SelfQueryRetriever\n",
    "from langchain.vectorstores import Chroma\n",
    "from langchain.text_splitter import RecursiveCharacterTextSplitter, CharacterTextSplitter\n",
    "from langchain.document_loaders import TextLoader\n",
    "from langchain_community.embeddings.huggingface import HuggingFaceEmbeddings\n",
    "from langchain.retrievers import ParentDocumentRetriever\n",
    "from langchain.storage import InMemoryStore\n",
    "from langchain.docstore.document import Document\n",
    "from typing import List, Dict\n",
    "from langchain.vectorstores import Redis\n",
    "from langchain.chains import RetrievalQA\n",
    "from langchain_groq import ChatGroq\n",
    "import os"
   ]
  },
  {
   "cell_type": "code",
   "execution_count": 25,
   "metadata": {},
   "outputs": [],
   "source": [
    "\n",
    "\n",
    "# Function to load and chunk data from a folder\n",
    "def load_and_chunk_data(data_path):\n",
    "    docs = []\n",
    "    # Load all .txt files from the specified folder\n",
    "    for filename in os.listdir(data_path):\n",
    "        if filename.endswith('.txt'):\n",
    "            file_path = os.path.join(data_path, filename)\n",
    "            loader = TextLoader(file_path, encoding='utf-8')\n",
    "            docs.extend(loader.load())\n",
    "\n",
    "    # Define headers to split on for Markdown splitting\n",
    "    headers_to_split_on = [\n",
    "        (\"#\", \"Header 1\"),\n",
    "        (\"##\", \"Header 2\"),\n",
    "        (\"###\", \"Header 3\"),\n",
    "    ]\n",
    "\n",
    "    # Initialize Markdown splitter\n",
    "    markdown_splitter = MarkdownHeaderTextSplitter(\n",
    "        headers_to_split_on=headers_to_split_on, strip_headers=True\n",
    "    )\n",
    "\n",
    "    chunk_size = 512\n",
    "    chunk_overlap = 0\n",
    "\n",
    "    # Initialize character-based splitter\n",
    "    text_splitter = RecursiveCharacterTextSplitter(\n",
    "        chunk_size=chunk_size, chunk_overlap=chunk_overlap\n",
    "    )\n",
    "\n",
    "    chunked_docs = []\n",
    "\n",
    "    # Process each document\n",
    "    for doc in docs:\n",
    "        # Split document by Markdown headers\n",
    "        md_header_splits = markdown_splitter.split_text(doc.page_content)\n",
    "\n",
    "        # Further split the Markdown header splits into smaller chunks\n",
    "        chunked_docs.extend(text_splitter.split_documents(md_header_splits))\n",
    "\n",
    "    return chunked_docs\n",
    "\n",
    "\n",
    "data_path = '/home/justtuananh/AI4TUAN/DOAN2024/eval_rag_vietnamese/data/thongtintuyensinh'\n",
    "chunked_data = load_and_chunk_data(data_path)\n"
   ]
  },
  {
   "cell_type": "code",
   "execution_count": 26,
   "metadata": {},
   "outputs": [
    {
     "name": "stdout",
     "output_type": "stream",
     "text": [
      "90\n"
     ]
    },
    {
     "data": {
      "text/plain": [
       "[Document(metadata={'Header 1': 'Thông tin bảo đảm chất lượng', 'Header 2': '1. Cơ sở vật chất phục vụ đào tạo'}, page_content='- Hội trường, giảng đường, phòng học các loại: Với 120 phòng học phổ thông từ 20 chỗ đến 120 chỗ, các phòng học được đảm bảo đầy đủ, đồng bộ các trang thiết bị hỗ trợ giảng dạy như bảng tương tác thông minh, máy chiếu, hệ thống âm ly... đảm bảo phục vụ tốt cho các đối tượng đào tạo. Việc điều hành, tổ chức, quản lý đối với các hoạt động tại giảng đường được thực hiện qua hệ thống camera và âm thanh IP kết nối với Phòng Điều hành trung tâm. (Diện tích sàn xây dựng: 10.150 m²)'),\n",
       " Document(metadata={'Header 1': 'Thông tin bảo đảm chất lượng', 'Header 2': '1. Cơ sở vật chất phục vụ đào tạo'}, page_content='- Phòng máy tính, phòng học trực tuyến: Với khoảng 650 máy tính, máy chủ, cùng các trang thiết bị công nghệ thông tin được bố trí tại các phòng thí nghiệm, phòng chuyên dùng, phòng thi trực tuyến... phục vụ các hoạt động tổ chức đào tạo cũng như đảm bảo cho hoạt động nâng cao trình độ ngoại ngữ và tổ chức thi trực tuyến cho các đối tượng. Ngoài ra, Học viện có phòng Studio hiện đại bảo đảm cho nhiệm vụ xây dựng bài giảng Elearning và tổ chức các hoạt động tư vấn, tuyên truyền. (Diện tích sàn xây dựng:'),\n",
       " Document(metadata={'Header 1': 'Thông tin bảo đảm chất lượng', 'Header 2': '1. Cơ sở vật chất phục vụ đào tạo'}, page_content='1.220 m²)'),\n",
       " Document(metadata={'Header 1': 'Thông tin bảo đảm chất lượng', 'Header 2': '1. Cơ sở vật chất phục vụ đào tạo'}, page_content='- Thư viện, trung tâm học liệu: Thư viện có hệ thống cơ sở vật chất và trang bị thông tin đồng bộ gồm các phòng đọc, phòng tra cứu Internet. Hệ thống thư viện điện tử với cơ sở dữ liệu nhiều giáo trình, tài liệu, máy chủ và máy trạm khai thác dữ liệu trực tuyến trên Internet và kết nối với trung tâm học liệu của các trường đại học trong nước, quốc tế đáp ứng tốt yêu cầu của người dùng tin. (Diện tích sàn xây dựng: 3.368 m²)'),\n",
       " Document(metadata={'Header 1': 'Thông tin bảo đảm chất lượng', 'Header 2': '1. Cơ sở vật chất phục vụ đào tạo'}, page_content='- Phòng thí nghiệm, phòng thực hành, nhà xưởng đa năng, xưởng thực tập, trung tâm công nghệ...: Đáp ứng tốt cho nhiệm vụ giảng dạy, học tập và nghiên cứu khoa học của giáo viên, học viên. Các phòng được trang bị các thiết bị tự động và bán tự động, các hệ thống mô phỏng và thiết bị sống hiện đại đạt tầm khu vực và quốc tế. (Diện tích sàn xây dựng: 22.144 m²)'),\n",
       " Document(metadata={'Header 1': 'Thông tin bảo đảm chất lượng', 'Header 2': '1. Cơ sở vật chất phục vụ đào tạo'}, page_content='- Khu thể thao gồm sân vận động, bể bơi, sân tennis, sân bóng chuyền, phòng tập thể lực trong nhà và ngoài trời, nhà thi đấu thể thao...đáp ứng được các hoạt động giáo dục thể chất cũng như rèn luyện nâng cao sức khỏe cho học viên. (Diện tích sàn xây dựng: 17.800 m²)\\n- Ký túc xá: Học viên đào tạo kỹ sư quân sự 100% ở trong ký túc xá. (Diện tích sàn xây dựng: 26.072 m²)'),\n",
       " Document(metadata={'Header 1': 'Thông tin bảo đảm chất lượng', 'Header 2': '2. Phòng thí nghiệm, thực hành'}, page_content='Phòng trưng bày sản phẩm\\nPTN mô phỏng\\nPhòng TN nghiên cứu GIS&MHHT\\nPhòng TN nghiên cứu TTA&KX3D\\nPhòng TN sản xuất, chế thử các hệ thống mô phỏng\\nPhòng ISO 17025\\nKho cất dữ hệ thống các thiết bị thực hành trắc địa\\nPHCD Trắc địa\\nPTN Công tác nổ - Ngụy trang\\nPTN Công tác nổ\\nPTN Ngụy trang\\nPTN Môi trường\\nPTN Địa kỹ thuật\\nPhòng để thiết bị hiện trường của PTN Địa kỹ thuật\\nPTN Vật liệu xây dựng\\nPTN Khai thác công trình\\nPTN Kết cấu công trình\\nPTN Công trình đặc biệt\\nPhòng học chuyên dùng\\nPTN Công nghệ điện tử'),\n",
       " Document(metadata={'Header 1': 'Thông tin bảo đảm chất lượng', 'Header 2': '2. Phòng thí nghiệm, thực hành'}, page_content='PTN Thiết kế vi mạch\\nXưởng chế thử vi mạch chuyên dụng\\nKho vật tư thiết kế vi mạch chuyên dụng\\nPTN Tích hợp vũ khí\\nPTN Tự động hóa chỉ huy\\nTrường bắn ảo\\nGiảng đường chuyên dùng chiến thuật binh chủng hợp thành\\nGiảng đường chuyên dùng chiến thuật quân, binh chủng\\nTrung tâm Chỉ huy, quản lý kỹ thuật\\nPhòng chỉ huy điều hành diễn tập\\nPhòng học chuyên dùng CHQL cơ sở sản xuất, dự trữ\\nPhòng học chuyên dùng CHQLKT Quân khí\\nPhòng chuyên dùng CHQLKT Tăng thiết giáp\\nPhòng SCH Trung đoàn Tên lửa phòng không'),\n",
       " Document(metadata={'Header 1': 'Thông tin bảo đảm chất lượng', 'Header 2': '2. Phòng thí nghiệm, thực hành'}, page_content='Phòng SCH Trung đoàn Ra đa phòng không\\nPhòng học chuyên dùng CHQLKT quân chủng\\nPhòng học chuyên dùng CHQLKT Công Binh\\nPHCD Thông tin và Cơ yếu\\nPhòng học chuyên dùng BCHT\\nPTN Vật lý ĐC I\\nPTN Vật lý ĐC II\\nPTN Vật lý Kỹ thuật\\nPTN Hóa phân tích\\nKỹ thuật Môi trường\\nPTN Nguồn điện\\nPTN Đại cương\\nPTN Vật liệu quân sự\\nPTN Công nghệ hóa học\\nPTN Hóa lý\\nPTN Vô cơ\\nPTN Hữu cơ\\nPTN Polime-Composit\\nPTN Phòng hóa\\nPhòng học chuyên dụng chuyên ngành phòng hóa\\nKho phòng hóa\\nPTN An toàn thông tin\\nPTN Công nghệ mạng\\nPTN IoT'),\n",
       " Document(metadata={'Header 1': 'Thông tin bảo đảm chất lượng', 'Header 2': '2. Phòng thí nghiệm, thực hành'}, page_content='PTN Bộ môn Công nghệ phần mềm\\nPTN Hệ thống tích hợp\\nPTN Công nghệ multimedia và tính toán thông minh\\nPhòng làm việc (của hội đồng thi CC CNTT)\\nPhòng máy tính số 1\\nPhòng máy tính số 2\\nPhòng máy tính số 3\\nPTN AI\\nPTN Big Data\\nPhòng máy chủ\\nPhòng học Tiếng Anh số 1\\nPhòng học Tiếng Anh số 2\\nPhòng học Tiếng Anh số 3\\nPhòng học thông minh\\nPhòng học Tiếng Nga số 1\\nPhòng học Tiếng Nga số 2\\nPhòng học thông minh\\nPTN Chế tạo máy\\nPHCD Tự động hoá sản xuất cơ khí\\nPTN kỹ thuật đo\\nPTN Chế tạo máy\\nPTN Gia công áp lực'),\n",
       " Document(metadata={'Header 1': 'Thông tin bảo đảm chất lượng', 'Header 2': '2. Phòng thí nghiệm, thực hành'}, page_content='PTN Vật liệu\\nPTN Vật liệu tiên tiến\\nPhòng học vẽ kỹ thuật trên máy\\nPTN cơ học máy\\nPhòng học chuyên dùng Cơ học máy\\nPTN Sức bền vật liệu\\nPTN Thủy lực đại cương\\nPTN Nhiệt\\nPhòng học chuyên dùng Quản lý KH&CN\\nPhòng trang bị pháo đất và pháo trên xe\\nPhòng trang bị Vũ khí điều khiển\\nPhòng trang bị Vũ khí bộ binh\\nPTN Thiết kế hệ thống vũ khí\\nPhòng trang bị Pháo phòng không (hiện đang dùng chung Phòng trang bị pháo đất)\\nPTN Tích hợp hệ thống vũ khí\\nPhòng học khai thác, sửa chữa trang bị Vũ khí'),\n",
       " Document(metadata={'Header 1': 'Thông tin bảo đảm chất lượng', 'Header 2': '2. Phòng thí nghiệm, thực hành'}, page_content='Phòng trang bị đạn-ngòi\\nPTN đạn ngòi\\nPhòng học chuyên dùng đạn dược\\nPhòng trang bị đạn dược có điều khiển\\nPhòng học chuyên dùng KTQH\\nPTN khí tài quang học\\nPTN công nghệ quang học\\nPhòng chế tạo thuốc phóng, thuốc nổ\\nPhòng phân tích hóa học\\nPhòng phân tích hiện đại\\nPhòng thử nghiệm chuyên dụng\\nPhòng học chuyên dùng Thuốc phóng thuốc nổ\\nPhòng học chuyên dùng thuật phóng và điều khiển hỏa lực\\nPTN thuật phóng và điều khiển hỏa lực\\nPTN tĩnh\\nPHCD Ô tô (gộp từ PHCD Ô tô quân sự và PHCD Ô tô hiện đại)'),\n",
       " Document(metadata={'Header 1': 'Thông tin bảo đảm chất lượng', 'Header 2': '2. Phòng thí nghiệm, thực hành'}, page_content='PTN Động lực học và chẩn đoán kỹ thuật ô tô\\nPTN Nhiên vật liệu\\nPHCD Tăng thiết giáp\\nPTN Tăng thiết giáp\\nPTN Xe máy công binh\\nPHCD Xe máy công binh\\nPTN Truyền động thuỷ lực và khí nén\\nPTN Động cơ\\nPTB Động cơ\\nPHCD Hệ động lực tàu\\nPTN Chuyên sâu động cơ\\nPTN Chuyên sâu động cơ\\nPTN Nghiên cứu và Phát triển robot quân sự\\nPTN Cơ điện tử\\nPHCD Cơ điện tử\\nPTN Nghiên cứu và Phát triển robot quân sự\\nPTN Thiết kế chế tạo tên lửa\\nPTN Khí động lực học và KCTBB\\nPTN Thiết bị bay không người lái\\nPTN Thiết kế chế tạo tên lửa'),\n",
       " Document(metadata={'Header 1': 'Thông tin bảo đảm chất lượng', 'Header 2': '2. Phòng thí nghiệm, thực hành'}, page_content='PTN CIM\\nPTN CAD/CAM\\nPTN Nhà máy thông minh và CMCN 4.0\\nPTN Động cơ tên lửa\\nPTN Động cơ phản lực không khí\\nPhòng Trang bị Sonar - Thủy âm\\nPhòng thiết kế chế tạo Ra đa\\nPhòng Ra đa Công nghệ cao\\nPTN Sonar\\nPTN cơ sở thủy âm\\nPTN Đo lường\\nPTN Lý thuyết mạch\\nPTN Tác chiến điện tử\\nPTN Bảo vệ điện tử\\nPhòng học chuyên dùng Tác chiến điện tử\\nPTN Điện tử số\\nPTN Kỹ thuật Vi xử lý và Lập trình hệ thống\\nPTN Kỹ thuật điện tử và Bảo mật phần cứng\\nPTN kỹ thuật viễn thông\\nPTN Trinh sát Kỹ thuật'),\n",
       " Document(metadata={'Header 1': 'Thông tin bảo đảm chất lượng', 'Header 2': '2. Phòng thí nghiệm, thực hành'}, page_content='PTN “Thiết kế chế thử mô đun điện tử tiêu chuẩn”\\nPTN thông tin tổng đài trang bị thông tin\\nPTN thông tin số-cáp quang\\nPTN thông tin vô tuyến\\nPHCD Tổng trạm thông tin\\nPTN Kỹ thuật mạch điện tử và truyền hình\\nPTN thiết kế RF\\nPTN Anten truyền sóng\\nPTN Siêu cao tần\\nPTN Các hệ thống điều khiển Tên lửa\\nPTN Đạn Tên lửa có điều khiển\\nPTN Nghiên cứu tên lửa công nghệ cao\\nPTN Tên lửa Hải quân - Ngư lôi\\nPTN Điện tử y sinh\\nPhòng học trang bị ĐTYS\\nPTN Kỹ thuật điện và Máy điện'),\n",
       " Document(metadata={'Header 1': 'Thông tin bảo đảm chất lượng', 'Header 2': '2. Phòng thí nghiệm, thực hành'}, page_content='PTN Điện tử công suất và truyền động điện nâng cao\\nPhòng học chuyên dùng Pháo tàu\\nPhòng học chuyên dùng Điện tàu\\nPTN Các hệ thống điều khiển\\nPTN Tự động và kỹ thuật tính\\nPTN Điều khiển và tin học\\nPTN Thiết kế và phát triển sản phẩm'),\n",
       " Document(metadata={'Header 1': 'Danh sách Giảng viên theo Khối ngành', 'Header 2': 'Khối ngành IV'}, page_content='Giáo sư: 8\\nPhó Giáo sư: 84\\nTiến sĩ: 326\\nThạc sĩ: 316\\nĐại học: 48\\nTổng số giảng viên: 782'),\n",
       " Document(metadata={'Header 1': 'Danh sách Giảng viên theo Khối ngành', 'Header 2': 'Khối ngành V'}, page_content='Giáo sư: 1\\nPhó Giáo sư: 6\\nTiến sĩ: 48\\nThạc sĩ: 18\\nĐại học: 7\\nTổng số giảng viên: 80'),\n",
       " Document(metadata={'Header 1': 'Danh sách Giảng viên theo Khối ngành', 'Header 2': 'Khối ngành VII'}, page_content='Giáo sư: 0\\nPhó Giáo sư: 5\\nTiến sĩ: 12\\nThạc sĩ: 52\\nĐại học: 16'),\n",
       " Document(metadata={'Header 1': 'Danh sách Giảng viên theo Khối ngành', 'Header 2': 'Tổng tất cả các khối ngành'}, page_content='Tổng số giảng viên: 85\\nTổng số giảng viên của tất cả các khối ngành:\\nGiáo sư: 9\\nPhó Giáo sư: 95\\nTiến sĩ: 386\\nThạc sĩ: 386\\nĐại học: 71\\nTổng cộng: 947\\nSố giảng viên quy đổi:\\nGiáo sư quy đổi: 45\\nPhó Giáo sư quy đổi: 285\\nTiến sĩ quy đổi: 772\\nThạc sĩ quy đổi: 386\\nĐại học quy đổi: 21\\nTổng số giảng viên quy đổi: 1509'),\n",
       " Document(metadata={'Header 1': '2. Đối tượng đào tạo, ngành đào tạo', 'Header 2': '2.1. Đối tượng đào tạo trình độ đại học'}, page_content='Thực hiện theo quy định của Bộ Quốc phòng. Học viên được học tập, khám phá và làm chủ các công nghệ tiên tiến được ứng dụng trong quân sự. Học viên được bảo đảm mọi mặt về sinh hoạt và đào tạo trong suốt thời gian đào tạo, sau khi tốt nghiệp được Bộ Quốc phòng phân công công tác tại các đơn vị trong toàn quân, thân nhân học viên (bố, mẹ, con) được hưởng chế độ bảo hiểm y tế theo quy định.'),\n",
       " Document(metadata={'Header 1': '2. Đối tượng đào tạo, ngành đào tạo', 'Header 2': '2.2. Ngành đào tạo'}, page_content='- Trình độ đào tạo đại học được đào tạo theo 50 chuyên ngành thuộc các lĩnh vực: Công nghệ thông tin, trí tuệ nhân tạo, khoa học máy tính, công nghệ rô bốt, UAV, điện tử - viễn thông, kỹ thuật điều khiển tự động và tự động hoá, kỹ thuật ra đa dẫn đường, kỹ thuật cơ khí động lực, kỹ thuật xây dựng, công nghệ hoá học, môi trường, kỹ thuật xây dựng công trình giao thông, công nghệ vật liệu, Kỹ thuật trắc địa - bản đồ, …và 02 chuyên ngành đào tạo kỹ sư chất lượng cao là An ninh hệ thống thông tin, Thông tin.'),\n",
       " Document(metadata={'Header 1': '2. Đối tượng đào tạo, ngành đào tạo', 'Header 2': '2.2. Ngành đào tạo'}, page_content='- Học viện KTQS sử dụng một mã ngành chung để tuyển sinh, cụ thể:\\nTên trường: Học viện Kỹ thuật quân sự\\nMã trường: KQH\\nMã ngành: 7860220\\nTên ngành: Chỉ huy, quản lý kỹ thuật.'),\n",
       " Document(metadata={'Header 1': 'Thông tin tuyển sinh năm 2021, 2022, 2023 của học viện kỹ thuật quân sự', 'Header 2': '4.1. Phương thức tuyển sinh năm 2021, 2022, 2023'}, page_content='Năm 2021, 2022, 2022 Học viện KTQS tuyển sinh theo phương thức:\\n- Xét tuyển thẳng (XTT), ưu tiên xét tuyển (ƯTXT), xét tuyển HSG bậc THPT (HSG bậc THPT) thực hiện theo quy định của Ban tuyển sinh quân sự Bộ Quốc phòng.\\n- Xét tuyển (XT) trên cơ sở kết quả của Kỳ thi tốt nghiệp Trung học phổ thông (THPT).'),\n",
       " Document(metadata={'Header 1': 'Thông tin tuyển sinh năm 2021, 2022, 2023 của học viện kỹ thuật quân sự', 'Header 2': '4.2. Điểm trúng tuyển năm 2021, 2022, 2023'}, page_content='Thí sinh có thường trú phía Bắc:\\nThí sinh Nam:\\nNăm 2021: 25,90 điểm\\nNăm 2022: 26,05 điểm\\nNăm 2023: 24,91 điểm\\nThí sinh Nữ:\\nNăm 2021: 28,05 điểm\\nNăm 2022: 28,15 điểm\\nNăm 2023: 26,87 điểm\\nThí sinh có thường trú phía Nam:\\nThí sinh Nam:\\nNăm 2021: 24,45 điểm\\nNăm 2022: 24,40 điểm\\nNăm 2023: 24,42 điểm\\nThí sinh Nữ:\\nNăm 2021: 27,25 điểm\\nNăm 2022: 27,80 điểm\\nNăm 2023: 26,28 điểm'),\n",
       " Document(metadata={'Header 1': 'CƠ HỘI HỌC TẬP VÀ ĐIỂM MỚI TUYỂN SINH NĂM 2024 CỦA HỌC VIỆN KỸ THUẬT QUÂN SỰ', 'Header 2': 'I. CƠ HỘI HỌC TẬP TẠI HỌC VIỆN KỸ THUẬT QUÂN SỰ'}, page_content='Nằm trong hệ thống các trường đại học thuộc Bộ Quốc phòng quản lý, Học viện Kỹ thuật quân sự là trường đại học kỹ thuật đa ngành, trường đại học trọng điểm quốc gia có nhiệm vụ đào tạo nguồn nhân lực chất lượng cao, nghiên cứu, sản xuất, chế thử, chuyển giao công nghệ tiên tiến và hội nhập quốc tế, góp phần đắc lực vào sự nghiệp xây dựng và bảo vệ tổ quốc, phát triển ngành khoa học, công nghệ quân sự của đất nước.'),\n",
       " Document(metadata={'Header 1': 'CƠ HỘI HỌC TẬP VÀ ĐIỂM MỚI TUYỂN SINH NĂM 2024 CỦA HỌC VIỆN KỸ THUẬT QUÂN SỰ', 'Header 2': 'I. CƠ HỘI HỌC TẬP TẠI HỌC VIỆN KỸ THUẬT QUÂN SỰ'}, page_content='Xuất phát từ vị trí, vai trò và nhiệm vụ đó, hàng năm, có rất nhiều các bạn học sinh đăng ký xét tuyển vào đào tạo kỹ sư quân sự tại Học viện với mong muốn được trở thành người cán bộ kỹ thuật quân đội. Được đào tạo trong môi trường Học viện Kỹ thuật quân sự các bạn có đầy đủ mọi cơ hội để học tập, nghiên cứu khoa học để đạt được mơ ước của mình:'),\n",
       " Document(metadata={'Header 1': 'CƠ HỘI HỌC TẬP VÀ ĐIỂM MỚI TUYỂN SINH NĂM 2024 CỦA HỌC VIỆN KỸ THUẬT QUÂN SỰ', 'Header 2': 'I. CƠ HỘI HỌC TẬP TẠI HỌC VIỆN KỸ THUẬT QUÂN SỰ'}, page_content='Một là, Học viện là môi trường tốt để các em phát huy được năng lực bản thân, được học tập để khám phá và làm chủ các công nghệ kỹ thuật tiên tiến được ứng dụng trong quân sự như: Trí tuệ nhân tạo, khoa học máy tính, công nghệ rô bốt, điện tử-viễn thông, kỹ thuật điều khiển tự động và tự động hoá, kỹ thuật ra đa-dẫn đường, kỹ thuật cơ khí động lực, kỹ thuật xây dựng, công nghệ hoá học, môi trường …'),\n",
       " Document(metadata={'Header 1': 'CƠ HỘI HỌC TẬP VÀ ĐIỂM MỚI TUYỂN SINH NĂM 2024 CỦA HỌC VIỆN KỸ THUẬT QUÂN SỰ', 'Header 2': 'I. CƠ HỘI HỌC TẬP TẠI HỌC VIỆN KỸ THUẬT QUÂN SỰ'}, page_content='Hai là, được học tập để trở thành các sĩ quan kỹ thuật phụ trách công tác kỹ thuật cho tất cả các quân binh chủng, ngành,lực lượng của Quân đội như: Phòng không-Không quân, Hải quân, Thông tin, Tác chiến điện tử, Tác chiến không gian mạng, Cảnh sát biển …'),\n",
       " Document(metadata={'Header 1': 'CƠ HỘI HỌC TẬP VÀ ĐIỂM MỚI TUYỂN SINH NĂM 2024 CỦA HỌC VIỆN KỸ THUẬT QUÂN SỰ', 'Header 2': 'I. CƠ HỘI HỌC TẬP TẠI HỌC VIỆN KỸ THUẬT QUÂN SỰ'}, page_content='Ba là, học trong môi trường đào tạo với đội ngũ giảng viên có trình độ chuyên môn cao, hệ thống phòng thí nghiệm, thực hành tiên tiến hàng đầu cả nước; địa điểm học tập tại 236 Hoàng Quốc Việt, Bắc Từ Liêm, Hà Nội - trung tâm nghiên cứu và giáo dục của Hà Nội gần với các đại học và viện nghiên cứu lớn.'),\n",
       " Document(metadata={'Header 1': 'CƠ HỘI HỌC TẬP VÀ ĐIỂM MỚI TUYỂN SINH NĂM 2024 CỦA HỌC VIỆN KỸ THUẬT QUÂN SỰ', 'Header 2': 'I. CƠ HỘI HỌC TẬP TẠI HỌC VIỆN KỸ THUẬT QUÂN SỰ'}, page_content='Bốn là, hơn 20% chỉ tiêu được lựa chọn gửi đi đào tạo tại các trường đại học nước ngoài: Nga, Séc, Nhật Bản, Pháp, Đức, Hungary…; 2 chương trình đào tạo chất lượng cao chuyên ngành Thông tin và An ninh hệ thống thông tin chờ đón các thí sinh có kết quả tuyển sinh cao.'),\n",
       " Document(metadata={'Header 1': 'CƠ HỘI HỌC TẬP VÀ ĐIỂM MỚI TUYỂN SINH NĂM 2024 CỦA HỌC VIỆN KỸ THUẬT QUÂN SỰ', 'Header 2': 'II. MỘT SỐ ĐIỂM MỚI TRONG CÔNG TÁC TUYỂN SINH TẠI HỌC VIỆN KỸ THUẬT QUÂN SỰ NĂM 2024'}, page_content='Thực hiện Đề án “Tổ chức tuyển sinh đại học, cao đẳng quân sự hệ chính quy giai đoạn năm 2023 - 2030 và những năm tiếp theo” của Bộ Quốc phòng, trong kỳ tuyển sinh đại học, cao đẳng năm 2024 của Học viện Kỹ thuật quân sự có một số điểm mới, các em học sinh cần lưu ý một số nội dung như sau:\\nVề phương thức tuyển sinh, năm 2024, Học viện Kỹ thuật quân sự tuyển sinh theo các phương thức như sau:'),\n",
       " Document(metadata={'Header 1': 'CƠ HỘI HỌC TẬP VÀ ĐIỂM MỚI TUYỂN SINH NĂM 2024 CỦA HỌC VIỆN KỸ THUẬT QUÂN SỰ', 'Header 2': 'II. MỘT SỐ ĐIỂM MỚI TRONG CÔNG TÁC TUYỂN SINH TẠI HỌC VIỆN KỸ THUẬT QUÂN SỰ NĂM 2024'}, page_content='1. Xét tuyển thẳng, ưu tiên xét tuyển thực hiện theo quy định của Bộ Giáo dục và Đào tạo và Ban Tuyển sinh quân sự Bộ Quốc phòng.\\n2. Xét tuyển Học sinh giỏi bậc THPT, thực hiện đối với các thí sinh: đạt giải Nhất, Nhì, Ba các môn trong tổ hợp xét tuyển tại kỳ thi chọn học sinh giỏi cấp tỉnh, TP trực thuộc Trung ương; thí sinh đạt chứng chỉ ngoại ngữ quốc tế IELTS, TOEFL, SAT, ACT…\\n3. Xét tuyển dựa vào kết quả thi đánh giá năng lực của Đại học Quốc gia Hà Nội và Đại học Quốc gia Thành phố Hồ Chí Minh.'),\n",
       " Document(metadata={'Header 1': 'CƠ HỘI HỌC TẬP VÀ ĐIỂM MỚI TUYỂN SINH NĂM 2024 CỦA HỌC VIỆN KỸ THUẬT QUÂN SỰ', 'Header 2': 'II. MỘT SỐ ĐIỂM MỚI TRONG CÔNG TÁC TUYỂN SINH TẠI HỌC VIỆN KỸ THUẬT QUÂN SỰ NĂM 2024'}, page_content='4. Xét tuyển dựa vào kết quả thi tốt nghiệp THPT theo quy chế của Bộ Giáo dục và Đào tạo.\\nNhư vậy, so với năm 2023, trong kỳ tuyển sinh đại học năm 2024 Học viện Kỹ thuật quân sựbổ sung phương thức lấy kết quả thi đánh giá năng lực của Đại học Quốc gia Hà Nội và Đại học Quốc gia Thành phố Hồ Chí Minh để xét tuyển. Đây là cơ hộiđể các em có thêm nguyện vọng được xét tuyển vào Học viện Kỹ thuật quân sự để thực hiện ước mơ trở thành người cán bộ kỹ thuật quân đội.'),\n",
       " Document(metadata={'Header 1': 'CƠ HỘI HỌC TẬP VÀ ĐIỂM MỚI TUYỂN SINH NĂM 2024 CỦA HỌC VIỆN KỸ THUẬT QUÂN SỰ', 'Header 2': 'II. MỘT SỐ ĐIỂM MỚI TRONG CÔNG TÁC TUYỂN SINH TẠI HỌC VIỆN KỸ THUẬT QUÂN SỰ NĂM 2024'}, page_content='Để được đăng ký xét tuyển vào Học viện Kỹ thuật quân sự, các em học sinh cần làm thủ tục đăng ký sơ tuyển tại Ban Chỉ huy quân sự cấp quận, huyện nơi đăng ký hộ khẩu thường trú, thời gian đăng ký khoảng từ ngày 15/3/2024. Chi tiết về chỉ tiêu đào tạo, quy trình, thủ tục đăng ký sơ tuyển, đăng ký xét tuyển, Học viện sẽ thông báo rộng rãi khi có kế hoạch tuyển sinhcủa Ban Tuyển sinh quân sự Bộ Quốc phòng.'),\n",
       " Document(metadata={'Header 1': 'CƠ HỘI HỌC TẬP VÀ ĐIỂM MỚI TUYỂN SINH NĂM 2024 CỦA HỌC VIỆN KỸ THUẬT QUÂN SỰ', 'Header 2': 'II. MỘT SỐ ĐIỂM MỚI TRONG CÔNG TÁC TUYỂN SINH TẠI HỌC VIỆN KỸ THUẬT QUÂN SỰ NĂM 2024'}, page_content='Các em có nguyện vọng đăng ký xét tuyển bằng phương thức sử dụng kết quả thi ĐGNL của Đại học Quốc gia Hà Nội và Đại học Quốc gia TPHCM cần chủ động đăng ký và tham dự các kỳ thi do các trường đại học tổ chức, lấy Giấy chứng nhận kết quả thi để hoàn thiện thủ tục xét tuyển vào Học viện.'),\n",
       " Document(metadata={'Header 1': 'Quy mô đào tạo và số học viên đã tốt nghiệp trong 05 năm', 'Header 2': '3.1. Quy mô hiện tại'}, page_content='(Số liệu tính đến ngày 31/12/2023)\\nĐào tạo tiến sĩ: 105 học viên.\\nĐào tạo thạc sĩ: 475 học viên.\\nĐào tạo đại học quân sự: 2290 học viên.\\nĐào tạo đại học dân sự: 471 học viên.'),\n",
       " Document(metadata={'Header 1': 'Quy mô đào tạo và số học viên đã tốt nghiệp trong 05 năm', 'Header 2': '3.2. Học viên đã tốt nghiệp trong 05 năm'}, page_content='(Số liệu tính đến ngày 31/12/2023)\\nĐào tạo tiến sĩ: 157 học viên đã tốt nghiệp.\\nĐào tạo thạc sĩ: 1543 học viên đã tốt nghiệp.\\nĐào tạo đại học quân sự: 1632 học viên đã tốt nghiệp.\\nĐào tạo đại học dân sự: 2929 học viên đã tốt nghiệp.'),\n",
       " Document(metadata={'Header 1': 'Thông tin về Học viện Kỹ thuật quân sự', 'Header 2': '1.1. Giới thiệu chung'}, page_content='Học viện Kỹ thuật quân sự (KTQS) là trường đại học trọng điểm quốc gia đặt dưới sự lãnh đạo trực tiếp của Quân ủy Trung ương Bộ Quốc phòng sự chỉ đạo nghiệp vụ của Bộ Giáo dục và Đào tạo Học viện KTQS có nhiệm vụ đào tạo cán bộ kỹ thuật chỉ huy tham mưu kỹ thuật có trình độ đại học thạc sĩ tiến sĩ cho quân đội Đồng thời Học viện có nhiệm vụ nghiên cứu khoa học kết hợp nghiên cứu với triển khai ứng dụng chuyển giao công nghệ với sản xuất và thực hiện nhiệm vụ sẵn sàng chiến đấu và chiến đấu của quân đội Quá'),\n",
       " Document(metadata={'Header 1': 'Thông tin về Học viện Kỹ thuật quân sự', 'Header 2': '1.1. Giới thiệu chung'}, page_content='trình hình thành và phát triển của Học viện KTQS gắn với một số mốc lịch sử chính như sau:'),\n",
       " Document(metadata={'Header 1': 'Thông tin về Học viện Kỹ thuật quân sự', 'Header 2': '1.1. Giới thiệu chung'}, page_content='- Học viện KTQS được thành lập theo Quyết định số 146/CP ngày 08/8/1966 của Hội đồng Chính phủ với tên gọi ban đầu là “Phân hiệu 2 Đại học Bách khoa Hà Nội”\\n- Ngày 28 tháng 10 năm 1966 tổ chức Lễ thành lập Phân hiệu 2 Đại học Bách khoa Hà Nội đồng thời khai giảng khóa đào tạo đầu tiên và ngày này là ngày truyền thống của Học viện KTQS\\n- Ngày 18 tháng 10 năm 1968 Phân hiệu 2 Đại học Bách khoa Hà Nội được chuyển tên thành Đại học Kỹ thuật quân sự'),\n",
       " Document(metadata={'Header 1': 'Thông tin về Học viện Kỹ thuật quân sự', 'Header 2': '1.1. Giới thiệu chung'}, page_content='- Ngày 15 tháng 12 năm 1981 theo Quyết định số 412/QĐ-QP Học viện KTQS được thành lập trên cơ sở trường Đại học Kỹ thuật quân sự\\n- Từ năm 2002 - 2018 Học viện KTQS được nhà nước giao nhiệm vụ tuyển sinh đào tạo hệ dân sự ở các bậc học phục vụ công nghiệp hóa hiện đại hóa đất nước\\n- Tháng 01 năm 2008 Học viện KTQS được Nhà nước công nhận là một trong 15 trường Đại học trọng điểm Quốc gia'),\n",
       " Document(metadata={'Header 1': 'Thông tin về Học viện Kỹ thuật quân sự', 'Header 2': '1.2. Sứ mệnh'}, page_content='Sứ mệnh của Học viện KTQS là đào tạo nguồn nhân lực chất lượng cao nghiên cứu phát triển sản xuất chế thử chuyển giao công nghệ tiên tiến và hội nhập quốc tế góp phần đắc lực vào sự nghiệp xây dựng và bảo vệ Tổ quốc phát triển ngành khoa học công nghệ quân sự Việt Nam'),\n",
       " Document(metadata={'Header 1': 'Thông tin về Học viện Kỹ thuật quân sự', 'Header 2': '1.3. Mục tiêu phát triển'}, page_content='- Đến năm 2030 Học viện KTQS trở thành trường Đại học nghiên cứu nằm trong tốp đầu về KHKT&CN của đất nước có những lĩnh vực tương đương với các trường Đại học lớn trong khu vực và hội nhập quốc tế nằm trong tốp 700 các trường Đại học tiên tiến hàng đầu trên thế giới hoàn thành xuất sắc mọi nhiệm vụ được Đảng Nhà nước và Quân đội giao cho\\n- Đến năm 2045 Học viện KTQS nằm trong tốp 500 các trường Đại học tiên tiến hàng đầu trên thế giới'),\n",
       " Document(metadata={'Header 1': 'Thông tin về Học viện Kỹ thuật quân sự', 'Header 2': '1.4. Thành tích tiêu biểu'}, page_content='Với 57 năm phấn đấu và trưởng thành Học viện KTQS đã vinh dự được Đảng Nhà nước tặng thưởng:\\n- Danh hiệu Đơn vị Anh hùng LLVT nhân dân thời kỳ đổi mới\\n- 01 Huân chương Hồ Chí Minh\\n- 01 Huân chương Độc lập hạng Nhất\\n- 01 Huân chương Độc lập hạng Nhì\\n- 01 Huân chương Độc lập hạng Ba\\n- 02 Huân chương Quân công hạng Nhất\\n- 01 Huân chương Quân công hạng Nhì\\n- 02 Huân chương Lao động hạng Ba\\n- 03 Huân chương Chiến công: hạng Nhất hạng Nhì hạng Ba'),\n",
       " Document(metadata={'Header 1': 'Thông tin về Học viện Kỹ thuật quân sự', 'Header 2': '1.5. Trụ sở làm việc của Học viện Kỹ thuật quân sự'}, page_content='- Trụ sở chính: Số 236 đường Hoàng Quốc Việt Quận Bắc Từ Liêm Thành phố Hà Nội: Là nơi làm việc của Ban Giám đốc các cơ quan chức năng các Khoa Viện Trung tâm và cũng là nơi sinh hoạt rèn luyện học tập nghiên cứu khoa học của đối tượng học viên sinh viên đào tạo đại học sau đại học\\n- Khu Xuân Phương: Đường Kiều Mai Phường Phương Canh Quận Nam Từ Liêm Thành phố Hà Nội Gồm Trung tâm Công nghệ Xưởng sửa chữa và là nơi sinh hoạt rèn luyện của học viên đào tạo sau đại học'),\n",
       " Document(metadata={'Header 1': 'Thông tin về Học viện Kỹ thuật quân sự', 'Header 2': '1.5. Trụ sở làm việc của Học viện Kỹ thuật quân sự'}, page_content='- Đại diện phía Nam: Số 243A Đường Hoàng Văn Thu Phường 1 Quận Tân Bình Thành phố Hồ Chí Minh gồm cơ quan đại diện và tổ chức đào tạo sau đại học tại phía Nam\\n- Trung tâm huấn luyện 125 Vĩnh Phúc: Phường Liên Bảo Thành phố Vĩnh Yên Tỉnh Vĩnh Phúc gồm các Xưởng thực hành thực tập và là nơi sinh hoạt rèn luyện học tập của các đối tượng đào tạo liên thông văn bằng 2 và các lớp đào tạo ngắn hạn\\n- Trung tâm huấn luyện dã ngoại: Đông Xuân Thạch Thất Thành phố Hà Nội'),\n",
       " Document(metadata={'Header 1': 'Thông tin về Học viện Kỹ thuật quân sự', 'Header 2': '1.5. Trụ sở làm việc của Học viện Kỹ thuật quân sự'}, page_content='- Khu nghiên cứu khoa học quân sự huấn luyện: Khu Kim Chung Kim Nỗ huyện Đông Anh Hà Nội'),\n",
       " Document(metadata={'Header 1': 'Thông tin về Học viện Kỹ thuật quân sự', 'Header 2': '1.6. Thông tin liên hệ'}, page_content='- Số điện thoại tư vấn tuyển sinh: 069.515.226\\n- Email tuyển sinh: tuyensinh@mta.edu.vn\\n- Website Học viện KTQS: http://www.mta.edu.vn'),\n",
       " Document(metadata={'Header 1': 'Thông tin kỳ tuyển sinh của hoc viện kỹ thuật quân sự năm 2024', 'Header 2': '1. Đối tượng tuyển sinh'}, page_content='- Hạ sĩ quan, binh sĩ đang phục vụ tại ngũ theo quy định của pháp luật về nghĩa vụ quân sự, có thời gian phục vụ tại ngũ 12 tháng trở lên, tính đến tháng 4 của năm tuyển sinh; quân nhân chuyên nghiệp, công nhân và viên chức quốc phòng phục vụ trong quân đội đủ 12 tháng trở lên, tính đến tháng 9 của năm tuyển sinh.\\n- Nam, nữ thanh niên ngoài quân đội (kể cả quân nhân đã xuất ngũ và công dân hoàn thành nghĩa vụ công an nhân dân).'),\n",
       " Document(metadata={'Header 1': 'Thông tin kỳ tuyển sinh của hoc viện kỹ thuật quân sự năm 2024', 'Header 2': '2. Phạm vi tuyển sinh'}, page_content='Tuyển thí sinh nam, nữ trong cả nước (63 tỉnh, thành phố).'),\n",
       " Document(metadata={'Header 1': 'Thông tin kỳ tuyển sinh của hoc viện kỹ thuật quân sự năm 2024', 'Header 2': '3. Quy trình tuyển sinh'}, page_content='Để được tham gia xét tuyển, xét tuyển thẳng, ưu tiên xét tuyển, thí sinh cần thực hiện đầy đủ 02 bước sau:\\n- Bước 1: Đăng ký sơ tuyển tại Ban chỉ huy Quân sự cấp quận (huyện) nơi thí sinh đăng ký thường trú và được kết luận đủ điều kiện về chính trị, văn hóa, sức khỏe, độ tuổi, ...\\n- Bước 2: Tham dự thi Kỳ thi tốt nghiệp THPT năm 2023 và đăng ký xét tuyển nguyện vọng 1 (nguyện vọng cao nhất) vào Học viện KTQS.'),\n",
       " Document(metadata={'Header 1': 'Thông tin kỳ tuyển sinh của hoc viện kỹ thuật quân sự năm 2024', 'Header 2': '4.Chỉ tiêu tuyển sinh'}, page_content='Thực hiện theo Quyết định của Bộ Quốc phòng giao. Chỉ tiêu tuyển sinh được xác định theo giới tính (thí sinh nam, thí sinh nữ) và vùng, miền (miền Bắc được tính từ Quảng Bình trở ra, miền Nam được tính từ Quảng Trị trở vào). Chỉ tiêu tuyển sinh năm 2024 sẽ được Học viện thông báo chi tiết sau khi Bộ Quốc phòng giao chỉ tiêu chính thức. Các đối tượng tuyển sinh gồm:\\nĐối tượng tuyển sinh: Đào tạo kỹ sư quân sự (Chỉ huy, quản lý kỹ thuật)\\nMã trường: KQH\\nMã ngành: 7860220\\nChỉ tiêu: 540'),\n",
       " Document(metadata={'Header 1': 'Thông tin kỳ tuyển sinh của hoc viện kỹ thuật quân sự năm 2024', 'Header 2': '4.Chỉ tiêu tuyển sinh'}, page_content='Tổ hợp xét tuyển: A00 và A01\\nThí sinh có thường trú phía Bắc:\\nTổng chỉ tiêu: 351\\nThí sinh nam: 335 chỉ tiêu\\nThí sinh nữ: 16 chỉ tiêu\\nThí sinh có thường trú phía Nam:\\nTổng chỉ tiêu: 189\\nThí sinh nam: 181 chỉ tiêu\\nThí sinh nữ: 8 chỉ tiêu\\n_Trong số chỉ tiêu được giao, Học viện KTQS tuyển khoảng 20% chỉ tiêu đào tạo nước ngoài, và khoảng 30 chỉ tiêu đào tạo kỹ sư chất lượng cao của 02 chuyên ngành: An ninh hệ thống thông tin, Thông tin._'),\n",
       " Document(metadata={'Header 1': 'Thông tin kỳ tuyển sinh của hoc viện kỹ thuật quân sự năm 2024', 'Header 2': '5. Phương thức tuyển sinh'}, page_content='Năm 2024, Học viện KTQS tuyển sinh theo các phương thức:\\n- Phương thức 1: Xét tuyển thẳng.\\n- Phương thức 2: Ưu tiên xét tuyển.\\n- Phương thức 3: Xét tuyển học sinh giỏi bậc THPT.\\nTổng chỉ tiêu của Phương thức 1, 2, 3 không quá 15% tổng chỉ tiêu được giao.\\n- Phương thức 4: Xét tuyển bằng kết quả thi ĐGNL của ĐH Quốc gia Hà Nội và ĐH Quốc gia TP Hồ Chí Minh. Thực hiện xét không quá 20% tổng chỉ tiêu được giao.'),\n",
       " Document(metadata={'Header 1': 'Thông tin kỳ tuyển sinh của hoc viện kỹ thuật quân sự năm 2024', 'Header 2': '5. Phương thức tuyển sinh'}, page_content='- Phương thức 5: Xét tuyển theo kết quả của kỳ thi tốt nghiệp THPT năm 2024. Thực hiện xét cho số chỉ tiêu còn lại.'),\n",
       " Document(metadata={'Header 1': 'Thông tin kỳ tuyển sinh của hoc viện kỹ thuật quân sự năm 2024', 'Header 2': '6. Đăng ký làm hồ sơ sơ tuyển, đăng ký xét tuyển'}, page_content='Thí sinh phải đăng ký sơ tuyển theo quy định của Bộ Quốc phòng, đăng ký tham dự kỳ thi tốt nghiệp THPT để xét tốt nghiệp và đăng ký xét tuyển để được xét tuyển vào Học viện KTQS.'),\n",
       " Document(metadata={'Header 1': 'Thông tin kỳ tuyển sinh của hoc viện kỹ thuật quân sự năm 2024', 'Header 2': '6. Đăng ký làm hồ sơ sơ tuyển, đăng ký xét tuyển', 'Header 3': '6.1. Hồ sơ đăng ký dự tuyển'}, page_content='Thí sinh cần hoàn thiện 02 bộ hồ sơ riêng biệt: 01 bộ hồ sơ đăng ký sơ tuyển do Ban Tuyển sinh quân sự Bộ Quốc phòng phát hành, 01 bộ hồ sơ đăng ký dự kỳ thi tốt nghiệp THPT do Bộ GD&ĐT phát hành.'),\n",
       " Document(metadata={'Header 1': 'Thông tin kỳ tuyển sinh của hoc viện kỹ thuật quân sự năm 2024', 'Header 2': '6. Đăng ký làm hồ sơ sơ tuyển, đăng ký xét tuyển', 'Header 3': '6.2. Đăng ký, thực hiện làm hồ sơ sơ tuyển'}, page_content='- Thời gian sơ tuyển thực hiện theo hướng dẫn của Ban tuyển sinh quân sự Bộ Quốc phòng, năm 2023 thời gian sơ tuyển: Dự kiến từ ngày 25/3/2024 đến ngày 20/5/2024.\\n- Thí sinh là thanh niên ngoài Quân đội đăng ký sơ tuyển tại Ban TSQS cấp huyện (quận, thị xã, thành phố trực thuộc tỉnh, thành phố trực thuộc Trung ương), nơi thí sinh đăng ký thường trú (gọi chung là Ban TSQS cấp huyện).'),\n",
       " Document(metadata={'Header 1': 'Thông tin kỳ tuyển sinh của hoc viện kỹ thuật quân sự năm 2024', 'Header 2': '6. Đăng ký làm hồ sơ sơ tuyển, đăng ký xét tuyển', 'Header 3': '6.2. Đăng ký, thực hiện làm hồ sơ sơ tuyển'}, page_content='- Thí sinh là quân nhân đang tại ngũ đăng ký sơ tuyển tại đơn vị cấp trung đoàn hoặc tương đương (gọi chung là Ban TSQS cấp trung đoàn).'),\n",
       " Document(metadata={'Header 1': 'Thông tin kỳ tuyển sinh của hoc viện kỹ thuật quân sự năm 2024', 'Header 2': '6. Đăng ký làm hồ sơ sơ tuyển, đăng ký xét tuyển', 'Header 3': '6.3. Kê khai và nộp hồ sơ sơ tuyển'}, page_content='- Thí sinh phải tự mình viết kê khai các mẫu biểu, hồ sơ đăng ký sơ tuyển bằng một loại mực (xanh hoặc đen) và trực tiếp đến nộp hồ sơ đăng ký sơ tuyển theo đúng thời gian quy định tại Ban TSQS cấp huyện (đối với thanh niên ngoài Quân đội) hoặc tại Ban TSQS cấp trung đoàn (đối với quân nhân đang tại ngũ).\\n- Thí sinh thuộc diện được cộng điểm ưu tiên theo đối tượng, nộp cùng hồ sơ sơ tuyển 01 giấy chứng nhận được hưởng ưu tiên hợp lệ.'),\n",
       " Document(metadata={'Header 1': 'Thông tin kỳ tuyển sinh của hoc viện kỹ thuật quân sự năm 2024', 'Header 2': '6. Đăng ký làm hồ sơ sơ tuyển, đăng ký xét tuyển', 'Header 3': '6.3. Kê khai và nộp hồ sơ sơ tuyển'}, page_content='- Khi đến nộp hồ sơ đăng ký sơ tuyển, thí sinh phải mang theo giấy chứng minh nhân dân (hoặc thẻ căn cước công dân) và các giấy tờ tùy thân khác để cán bộ thu hồ sơ đối chiếu (thí sinh không phải nộp bản sao học bạ THPT hoặc bản sao trích lục học bạ THPT).'),\n",
       " Document(metadata={'Header 1': 'Thông tin kỳ tuyển sinh của hoc viện kỹ thuật quân sự năm 2024', 'Header 2': '6. Đăng ký làm hồ sơ sơ tuyển, đăng ký xét tuyển', 'Header 3': '6.4. Đăng ký, thực hiện làm hồ sơ xét tuyển'}, page_content='- Để được xét tuyển vào Học viện KTQS, thí sinh cần phải đăng ký xét tuyển nguyện vọng 1 (nguyện vọng cao nhất) vào Học viện KTQS, các nguyện vọng còn lại thí sinh đăng ký vào các trường ngoài Quân đội (thực hiện đăng ký theo quy định của Bộ GD&ĐT).\\n- Đăng ký xét tuyển trên Hệ thống tuyển sinh Quốc gia theo quy trình của Bộ GD&ĐT.'),\n",
       " Document(metadata={'Header 1': 'Thông tin kỳ tuyển sinh của hoc viện kỹ thuật quân sự năm 2024', 'Header 2': '6. Đăng ký làm hồ sơ sơ tuyển, đăng ký xét tuyển', 'Header 3': '6.4. Đăng ký, thực hiện làm hồ sơ xét tuyển'}, page_content='Chú ý: Thí sinh chịu trách nhiệm về tính xác thực của các thông tin đăng ký xét tuyển. Hội đồng tuyển sinh có quyền từ chối tiếp nhận, không xét tuyển hoặc buộc thôi học trong trường hợp thí sinh đã được công nhận nhập học nếu phát hiện thí sinh không đảm bảo các điều kiện trúng tuyển khi đối chiếu thông tin đăng ký xét tuyển và dữ liệu đăng ký dự thi với hồ sơ gốc.'),\n",
       " Document(metadata={'Header 1': 'Thông tin kỳ tuyển sinh của hoc viện kỹ thuật quân sự năm 2024', 'Header 2': '7. Ngưỡng đầu vào'}, page_content='Căn cứ kết quả kỳ thi tốt nghiệp THPT, số lượng thí sinh đăng ký sơ tuyển, Hội đồng tuyển sinh xác định và báo cáo Ban Tuyển sinh quân sự Bộ Quốc phòng ngưỡng đầu vào, và tổ chức thực hiện khi có quyết định phê duyệt của Ban Tuyển sinh quân sự Bộ Quốc phòng.'),\n",
       " Document(metadata={'Header 1': 'Thông tin kỳ tuyển sinh của hoc viện kỹ thuật quân sự năm 2024', 'Header 2': '8. Các phương thức xét tuyển', 'Header 3': '8.1. Phương thức 1: Xét tuyển thẳng'}, page_content='a. Đối tượng xét tuyển thẳng\\n- Anh hùng lao động, Anh hùng lực lượng vũ trang nhân dân, Chiến sĩ thi đua toàn quốc đã tốt nghiệp THPT.\\n- Thí sinh đạt giải Nhất, Nhì, Ba trong kỳ thi chọn học sinh giỏi Quốc gia, Quốc tế một trong các môn Toán, Vật lý, Hóa học, Tin học do Bộ GD&ĐT tổ chức, cử tham gia, tốt nghiệp THPT năm 2024, thời gian đạt giải không quá 03 năm tính tới thời điểm đăng ký xét tuyển thẳng.'),\n",
       " Document(metadata={'Header 1': 'Thông tin kỳ tuyển sinh của hoc viện kỹ thuật quân sự năm 2024', 'Header 2': '8. Các phương thức xét tuyển', 'Header 3': '8.1. Phương thức 1: Xét tuyển thẳng'}, page_content='- Thí sinh đạt giải Nhất, Nhì, Ba cuộc thi Khoa học, kỹ thuật cấp Quốc gia, Quốc tế do Bộ GD&ĐT tổ chức, cử tham gia có nội dung đề tài dự thi phù hợp với ngành đào tạo của Học viện KTQS, tốt nghiệp THPT năm 2024, thời gian đạt giải không quá 03 năm tính tới thời điểm xét tuyển thẳng.\\nb. Hồ sơ đăng ký xét tuyển thẳng\\n- Hồ sơ gồm:\\n+ Phiếu đăng ký xét tuyển thẳng (Theo mẫu của Bộ Quốc phòng).'),\n",
       " Document(metadata={'Header 1': 'Thông tin kỳ tuyển sinh của hoc viện kỹ thuật quân sự năm 2024', 'Header 2': '8. Các phương thức xét tuyển', 'Header 3': '8.1. Phương thức 1: Xét tuyển thẳng'}, page_content='+ Giấy tờ minh chứng thuộc diện xét tuyển thẳng (Giấy chứng nhận Anh hùng lao động, Anh hùng lực lượng vũ trang nhân dân, Chiến sĩ thi đua toàn quốc, giấy chứng nhận đạt giải kỳ thi HSG cấp Quốc tế, giấy chứng nhận đạt giải kỳ thi HSG cấp Quốc gia, giấy chứng nhận đạt giải Cuộc thi Khoa học kỹ thuật cấp Quốc gia).\\n+ 02 phong bì đã dán tem và ghi rõ họ tên, địa chỉ liên lạc, số điện thoại của thí sinh; 02 ảnh chân dung cỡ 4 x 6.\\n- Địa điểm, thời gian nộp hồ sơ:'),\n",
       " Document(metadata={'Header 1': 'Thông tin kỳ tuyển sinh của hoc viện kỹ thuật quân sự năm 2024', 'Header 2': '8. Các phương thức xét tuyển', 'Header 3': '8.1. Phương thức 1: Xét tuyển thẳng'}, page_content='+ Thí sinh làm 02 bộ hồ sơ xét tuyển thẳng: 01 bộ nộp về Ban TSQS cấp quận, huyện (cùng với hồ sơ sơ tuyển) và 01 bộ nộp về Phòng Đào tạo/Học viện Kỹ thuật quân sự. Địa chỉ: Số 236, Đường Hoàng Quốc Việt, Phường Cổ Nhuế 1, Quận Bắc Từ Liêm, Thành phố Hà Nội.\\n+ Thời gian: Dự kiến trước ngày 25/6/2024.\\nc. Tổ chức xét tuyển thẳng\\nThực hiện xét tuyển thẳng lần lượt theo thứ tự như sau:\\n- Anh hùng lao động, Anh hùng lực lượng vũ trang nhân dân, Chiến sĩ thi đua toàn quốc đã tốt nghiệp THPT.'),\n",
       " Document(metadata={'Header 1': 'Thông tin kỳ tuyển sinh của hoc viện kỹ thuật quân sự năm 2024', 'Header 2': '8. Các phương thức xét tuyển', 'Header 3': '8.1. Phương thức 1: Xét tuyển thẳng'}, page_content='- Thí sinh đạt giải học sinh giỏi cấp Quốc tế.\\n- Thí sinh đạt giải học sinh giỏi cấp Quốc gia.\\n- Thí sinh đạt giải Khoa học, kỹ thuật cấp Quốc tế.\\n- Thí sinh đạt giải Khoa học, kỹ thuật cấp Quốc gia.\\n- Theo từng đối tượng, xét theo thành tích giải từ cao xuống thấp.'),\n",
       " Document(metadata={'Header 1': 'Thông tin kỳ tuyển sinh của hoc viện kỹ thuật quân sự năm 2024', 'Header 2': '8. Các phương thức xét tuyển', 'Header 3': '8.2. Phương thức 2: Ưu tiên xét tuyển'}, page_content='a. Đối tượng Ưu tiên xét tuyển\\n- Thí sinh đạt giải Khuyến khích trong kỳ thi chọn HSG Quốc gia một trong các môn Toán, Vật lý, Hóa học, Tin học, tốt nghiệp THPT năm 2024, thời gian đạt giải không quá 03 năm tính tới thời điểm xét tuyển.\\n- Thí sinh đạt giải Tư cuộc thi khoa học, kỹ thuật cấp Quốc gia do Bộ GD&ĐT tổ chức, có nội dung đề tài dự thi phù hợp với ngành đào tạo của Học viện KTQS, tốt nghiệp THPT năm 2024, thời gian đạt giải không quá 03 năm tính tới thời điểm xét tuyển.'),\n",
       " Document(metadata={'Header 1': 'Thông tin kỳ tuyển sinh của hoc viện kỹ thuật quân sự năm 2024', 'Header 2': '8. Các phương thức xét tuyển', 'Header 3': '8.2. Phương thức 2: Ưu tiên xét tuyển'}, page_content='b. Hồ sơ đăng ký Ưu tiên xét tuyển\\n- Hồ sơ đăng ký Ưu tiên xét tuyển gồm:\\n+ Phiếu đăng ký ưu tiên xét tuyển (Theo mẫu của Bộ Quốc phòng).\\n+ Giấy tờ minh chứng thuộc diện Ưu tiên xét tuyển (Giấy chứng nhận đạt giải Kỳ thi HSG cấp Quốc gia, giấy chứng nhận đạt giải Cuộc thi Khoa học kỹ thuật cấp Quốc gia).\\n- Địa điểm, thời gian nộp hồ sơ:'),\n",
       " Document(metadata={'Header 1': 'Thông tin kỳ tuyển sinh của hoc viện kỹ thuật quân sự năm 2024', 'Header 2': '8. Các phương thức xét tuyển', 'Header 3': '8.2. Phương thức 2: Ưu tiên xét tuyển'}, page_content='+ Thí sinh đăng ký ưu tiên xét tuyển phải đăng ký dự thi Kỳ thi tốt nghiệp THPT năm 2023 theo quy định của Bộ GD&ĐT, đăng ký nguyện vọng 1 vào Học viện KTQS và phải nộp hồ sơ đăng ký ưu tiên xét tuyển tại Ban TSQS cấp quận, huyện.\\n+ Thời gian: Dự kiến trước ngày 25/6/2024.\\nc. Tổ chức xét Ưu tiên xét tuyển\\nĐiểm xét tuyển = Tổng điểm thi theo tổ hợp môn đăng ký xét tuyển + điểm ưu tiên khu vực + điểm ưu tiên đối tượng.'),\n",
       " Document(metadata={'Header 1': 'Thông tin kỳ tuyển sinh của hoc viện kỹ thuật quân sự năm 2024', 'Header 2': '8. Các phương thức xét tuyển', 'Header 3': '8.2. Phương thức 2: Ưu tiên xét tuyển'}, page_content='(Điểm xét tuyển, điểm thi theo tổ hợp môn đăng ký xét tuyển, điểm ưu tiên khu vực, ưu tiên đối tượng theo quy định của Bộ GD&ĐT)\\n- Thí sinh có điểm xét tuyển bằng hoặc cao hơn điểm xét trúng tuyển (theo phương thức xét tuyển dựa trên kết quả Kỳ thi tốt nghiệp THPT năm 2024) vào trường: Được công nhận trúng tuyển như thí sinh đăng ký xét tuyển theo kết quả Kỳ thi tốt nghiệp THPT năm 2024.'),\n",
       " Document(metadata={'Header 1': 'Thông tin kỳ tuyển sinh của hoc viện kỹ thuật quân sự năm 2024', 'Header 2': '8. Các phương thức xét tuyển', 'Header 3': '8.2. Phương thức 2: Ưu tiên xét tuyển'}, page_content='- Thí sinh có điểm xét tuyển đạt ngưỡng đầu vào trở lên nhưng không đạt điểm xét trúng tuyển: Xét theo điểm xét tuyển từ cao xuống thấp.\\n- Trường hợp xét tuyển đến một mức điểm nhất định vẫn còn chỉ tiêu, nhưng số thí sinh cùng bằng điểm cao hơn số lượng chỉ tiêu còn lại, thực hiện xét theo thành tích đạt giải cao trở xuống thấp.'),\n",
       " Document(metadata={'Header 1': 'Thông tin kỳ tuyển sinh của hoc viện kỹ thuật quân sự năm 2024', 'Header 2': '8. Các phương thức xét tuyển', 'Header 3': '8.3. Phương thức 3: Xét tuyển học sinh giỏi bậc THPT'}, page_content='a. Đối tượng xét tuyển học sinh giỏi bậc THPT\\nĐối tượng xét tuyển dự kiến như sau:\\n- Thí sinh đạt học lực Giỏi, hạnh kiểm Tốt năm lớp 10, lớp 11 và học kỳ 1 lớp 12 và tham gia kỳ thi học sinh giỏi bậc THPT cấp tỉnh, thành phố trực thuộc Trung ương đạt giải Nhất, Nhì, Ba một trong các môn Toán, Vật Lý, Hóa học, Tiếng Anh, tốt nghiệp THPT năm 2024.'),\n",
       " Document(metadata={'Header 1': 'Thông tin kỳ tuyển sinh của hoc viện kỹ thuật quân sự năm 2024', 'Header 2': '8. Các phương thức xét tuyển', 'Header 3': '8.3. Phương thức 3: Xét tuyển học sinh giỏi bậc THPT'}, page_content='- Thí sinh đạt học lực Giỏi, hạnh kiểm Tốt năm lớp 10, lớp 11 và học kỳ 1 lớp 12 và có kết quả điểm bài thi đánh giá năng lực quốc tế SAT từ 1.068 điểm trở lên hoặc ACT từ 18 điểm trở lên (chứng chỉ còn thời hạn sử dụng đến thời điểm xét tuyển), tốt nghiệp THPT năm 2024.\\n- Thí sinh đạt học lực Giỏi, hạnh kiểm Tốt năm lớp 10, lớp 11 và học kỳ 1 lớp 12 và có kết quả điểm ngoại ngữ IELTS 5.5 điểm hoặc TOEFL iBT 55 điểm trở lên (chứng chỉ còn thời hạn sử dụng đến thời điểm xét tuyển), tốt nghiệp THPT năm 2024.'),\n",
       " Document(metadata={'Header 1': 'Thông tin kỳ tuyển sinh của hoc viện kỹ thuật quân sự năm 2024', 'Header 2': '8. Các phương thức xét tuyển', 'Header 3': '8.3. Phương thức 3: Xét tuyển học sinh giỏi bậc THPT'}, page_content='b. Hồ sơ đăng ký xét tuyển học sinh giỏi bậc THPT\\n- Hồ sơ gồm:\\n+ Phiếu đăng ký xét tuyển HSG THPT (Theo mẫu của Bộ Quốc phòng).\\n+ Giấy tờ minh chứng diện xét tuyển học sinh giỏi bậc THPT: Giấy chứng nhận đạt giải Nhất, Nhì, Ba trong kỳ thi HSG cấp tỉnh, thành phố (trực thuộc Trung ương); chứng nhận kết quả bài thi đánh giá năng lực quốc tế; chứng nhận kết quả điểm ngoại ngữ IELTS hoặc TOEFL iBT.\\n+ Bản sao hợp lệ học bạ 3 năm học THPT.'),\n",
       " Document(metadata={'Header 1': 'Thông tin kỳ tuyển sinh của hoc viện kỹ thuật quân sự năm 2024', 'Header 2': '8. Các phương thức xét tuyển', 'Header 3': '8.3. Phương thức 3: Xét tuyển học sinh giỏi bậc THPT'}, page_content='+ 02 phong bì đã dán tem và ghi rõ họ tên, địa chỉ liên lạc, số điện thoại của thí sinh; 02 ảnh chân dung cỡ 4 x 6.\\n- Địa điểm, thời gian nộp hồ sơ:\\n+ Thí sinh đăng ký xét tuyển học sinh giỏi bậc THPT phải đăng ký dự thi Kỳ thi tốt nghiệp THPT năm 2024 theo quy định của Bộ GD&ĐT, đăng ký nguyện vọng 1 vào Học viện KTQS và phải nộp hồ sơ đăng ký xét tuyển HSG bậc THPT tại Ban TSQS cấp quận, huyện.\\n+ Thời gian: Dự kiến trước ngày 25/6/2024.\\nc. Tổ chức xét tuyển học sinh giỏi bậc THPT'),\n",
       " Document(metadata={'Header 1': 'Thông tin kỳ tuyển sinh của hoc viện kỹ thuật quân sự năm 2024', 'Header 2': '8. Các phương thức xét tuyển', 'Header 3': '8.3. Phương thức 3: Xét tuyển học sinh giỏi bậc THPT'}, page_content='Năm 2024, Học viện dự kiến thực hiện theo Điều 18 của Quy chế tuyển sinh đại học, cao đẳng hệ chính quy của Bộ Giáo dục và Đào tạo, các thí sinh thuộc diện này được công nhận trúng tuyển sớm.'),\n",
       " Document(metadata={'Header 1': 'Thông tin kỳ tuyển sinh của hoc viện kỹ thuật quân sự năm 2024', 'Header 2': '8. Các phương thức xét tuyển', 'Header 3': '8.4. Phương thức 4: Xét tuyển theo kết quả của Kỳ thi Đánh giá năng lực của ĐH Quốc gia Hà Nội và ĐH Quốc gia TP Hồ Chí Minh'}, page_content='Học viện sẽ thông báo chi tiết khi có hướng dẫn của Ban Tuyển sinh quân sự Bộ Quốc phòng.'),\n",
       " Document(metadata={'Header 1': 'Thông tin kỳ tuyển sinh của hoc viện kỹ thuật quân sự năm 2024', 'Header 2': '8. Các phương thức xét tuyển', 'Header 3': '8.5. Phương thức 5: Xét tuyển theo kết quả của Kỳ thi tốt nghiệp THPT năm 2024'}, page_content='a. Tổ hợp môn xét tuyển\\nHọc viện KTQS xét tuyển theo 02 tổ hợp A00 (Toán, Vật lý, Hóa học) và A01 (Toán, Vật lý, Tiếng Anh).\\nb. Điểm xét trúng tuyển\\n- Điểm xét tuyển được xác định theo quy định của Quy chế tuyển sinh đại học, tuyển sinh cao đẳng ngành giáo dục mầm non của Bộ GD&ĐT (Ban hành kèm theo Thông tư 08/2022/TT-BGDĐT).'),\n",
       " Document(metadata={'Header 1': 'Thông tin kỳ tuyển sinh của hoc viện kỹ thuật quân sự năm 2024', 'Header 2': '8. Các phương thức xét tuyển', 'Header 3': '8.5. Phương thức 5: Xét tuyển theo kết quả của Kỳ thi tốt nghiệp THPT năm 2024'}, page_content='- Điểm xét trúng tuyển xác định theo giới tính (nam, nữ) và vùng miền (miền Bắc, miền Nam) và thực hiện một điểm trúng tuyển chung cho hai tổ hợp A00 và A01. Học viện KTQS sẽ lấy điểm cao nhất của hai tổ hợp A00, A01 để xét tuyển.'),\n",
       " Document(metadata={'Header 1': 'Thông tin kỳ tuyển sinh của hoc viện kỹ thuật quân sự năm 2024', 'Header 2': '8. Các phương thức xét tuyển', 'Header 3': '8.5. Phương thức 5: Xét tuyển theo kết quả của Kỳ thi tốt nghiệp THPT năm 2024'}, page_content='- Xét tuyển từ thí sinh có tổng điểm thi cao nhất trở xuống đến đủ chỉ tiêu và đáp ứng tiêu chí ngưỡng đầu vào. Trường hợp xét tuyển đến một mức điểm nhất định vẫn còn chỉ tiêu, nhưng số thí sinh cùng bằng điểm cao hơn số lượng chỉ tiêu còn lại, thực hiện xét tuyển theo các tiêu chí phụ như sau:\\n+ Tiêu chí 1: Thí sinh có điểm thi môn Toán cao hơn sẽ trúng tuyển.'),\n",
       " Document(metadata={'Header 1': 'Thông tin kỳ tuyển sinh của hoc viện kỹ thuật quân sự năm 2024', 'Header 2': '8. Các phương thức xét tuyển', 'Header 3': '8.5. Phương thức 5: Xét tuyển theo kết quả của Kỳ thi tốt nghiệp THPT năm 2024'}, page_content='+ Tiêu chí 2: Sau khi xét tiêu chí 1, trường vẫn còn chỉ tiêu, nhưng có nhiều thí sinh cùng bằng điểm, cùng có tiêu chí 1 như nhau thì xét đến tiêu chí 2, như sau: Thí sinh có điểm thi môn Vật lý cao hơn sẽ trúng tuyển.\\n+ Tiêu chí 3: Sau khi xét tiêu chí 2, trường vẫn còn chỉ tiêu, nhưng có nhiều thí sinh cùng bằng điểm, cùng có tiêu chí 1 và tiêu chí 2 như nhau thì xét đến tiêu chí 3, như sau: Thí sinh có điểm thi môn Hóa học hoặc môn Tiếng Anh cao hơn sẽ trúng tuyển.'),\n",
       " Document(metadata={'Header 1': 'Thông tin kỳ tuyển sinh của hoc viện kỹ thuật quân sự năm 2024', 'Header 2': '8. Các phương thức xét tuyển', 'Header 3': '8.5. Phương thức 5: Xét tuyển theo kết quả của Kỳ thi tốt nghiệp THPT năm 2024'}, page_content='Trường hợp xét đến tiêu chí 3 vẫn chưa đủ chỉ tiêu, thì Chủ tịch Hội đồng tuyển sinh báo cáo Ban Tuyển sinh quân sự Bộ Quốc phòng xem xét, quyết định.'),\n",
       " Document(metadata={'Header 1': 'Thông tin kỳ tuyển sinh của hoc viện kỹ thuật quân sự năm 2024', 'Header 2': '9. Chính sách ưu tiên'}, page_content='Khu vực ưu tiên và đối tượng ưu tiên: Thực hiện theo quy định của Bộ GD&ĐT năm 2024.'),\n",
       " Document(metadata={'Header 1': 'Thông tin kỳ tuyển sinh của hoc viện kỹ thuật quân sự năm 2024', 'Header 2': '10. Học phí đào tạo'}, page_content='Khi thí sinh trúng tuyển và nhập học vào Học viện KTQS, thí sinh được bao cấp về kinh phí đào tạo và phụ cấp sinh hoạt theo quy định của Bộ Quốc phòng.'),\n",
       " Document(metadata={'Header 1': 'Thông tin kỳ tuyển sinh của hoc viện kỹ thuật quân sự năm 2024', 'Header 2': '11. Chế độ, tiêu chuẩn của học viên'}, page_content='- Học viên vào đào tạo kỹ sư quân sự tại Học viện KTQS được Bộ Quốc phòng phân công ngành học; được bảo đảm mọi điều kiện về ăn, ở, quần, áo, dày, dép và quân trang cá nhân; được bảo đảm về cơ sở vật chất, trang thiết bị, đồ dùng phục vụ cho học tập; được hưởng chế độ nghỉ hè, nghỉ tết theo quy định'),\n",
       " Document(metadata={'Header 1': 'Thông tin kỳ tuyển sinh của hoc viện kỹ thuật quân sự năm 2024', 'Header 2': '11. Chế độ, tiêu chuẩn của học viên'}, page_content='- Khi kết thúc năm học, những học viên có kết quả học tập xếp loại xuất sắc, loại giỏi được hưởng chế độ khen thưởng theo quy định của Bộ Quốc phòng; khi tốt nghiệp được Bộ Quốc phòng phong quân hàm, phân công công tác và hưởng tiêu chuẩn nhà công vụ.')]"
      ]
     },
     "execution_count": 26,
     "metadata": {},
     "output_type": "execute_result"
    }
   ],
   "source": [
    "print(len(chunked_data))\n",
    "chunked_data\n"
   ]
  },
  {
   "cell_type": "code",
   "execution_count": 7,
   "metadata": {},
   "outputs": [
    {
     "data": {
      "text/plain": [
       "[Document(metadata={'Header 1': 'Intro', 'Header 2': 'History'}, page_content='# Intro  \\n## History  \\nMarkdown[9] is a lightweight markup language for creating formatted text using a plain-text editor. John Gruber created Markdown in 2004 as a markup language that is appealing to human readers in its source code form.[9]'),\n",
       " Document(metadata={'Header 1': 'Intro', 'Header 2': 'History'}, page_content='Markdown is widely used in blogging, instant messaging, online forums, collaborative software, documentation pages, and readme files.'),\n",
       " Document(metadata={'Header 1': 'Intro', 'Header 2': 'Rise and divergence'}, page_content='## Rise and divergence  \\nAs Markdown popularity grew rapidly, many Markdown implementations appeared, driven mostly by the need for  \\nadditional features such as tables, footnotes, definition lists,[note 1] and Markdown inside HTML blocks.'),\n",
       " Document(metadata={'Header 1': 'Intro', 'Header 2': 'Rise and divergence'}, page_content='#### Standardization  \\nFrom 2012, a group of people, including Jeff Atwood and John MacFarlane, launched what Atwood characterised as a standardisation effort.'),\n",
       " Document(metadata={'Header 1': 'Intro', 'Header 2': 'Implementations'}, page_content='## Implementations  \\nImplementations of Markdown are available for over a dozen programming languages.')]"
      ]
     },
     "execution_count": 7,
     "metadata": {},
     "output_type": "execute_result"
    }
   ],
   "source": [
    "markdown_document = \"# Intro \\n\\n    ## History \\n\\n Markdown[9] is a lightweight markup language for creating formatted text using a plain-text editor. John Gruber created Markdown in 2004 as a markup language that is appealing to human readers in its source code form.[9] \\n\\n Markdown is widely used in blogging, instant messaging, online forums, collaborative software, documentation pages, and readme files. \\n\\n ## Rise and divergence \\n\\n As Markdown popularity grew rapidly, many Markdown implementations appeared, driven mostly by the need for \\n\\n additional features such as tables, footnotes, definition lists,[note 1] and Markdown inside HTML blocks. \\n\\n #### Standardization \\n\\n From 2012, a group of people, including Jeff Atwood and John MacFarlane, launched what Atwood characterised as a standardisation effort. \\n\\n ## Implementations \\n\\n Implementations of Markdown are available for over a dozen programming languages.\"\n",
    "\n",
    "headers_to_split_on = [\n",
    "    (\"#\", \"Header 1\"),\n",
    "    (\"##\", \"Header 2\"),\n",
    "]\n",
    "\n",
    "# MD splits\n",
    "markdown_splitter = MarkdownHeaderTextSplitter(\n",
    "    headers_to_split_on=headers_to_split_on, strip_headers=False\n",
    ")\n",
    "md_header_splits = markdown_splitter.split_text(markdown_document)\n",
    "\n",
    "# Char-level splits\n",
    "from langchain_text_splitters import RecursiveCharacterTextSplitter\n",
    "\n",
    "chunk_size = 250\n",
    "chunk_overlap = 30\n",
    "text_splitter = RecursiveCharacterTextSplitter(\n",
    "    chunk_size=chunk_size, chunk_overlap=chunk_overlap\n",
    ")\n",
    "\n",
    "# Split\n",
    "splits = text_splitter.split_documents(md_header_splits)\n",
    "splits"
   ]
  },
  {
   "cell_type": "code",
   "execution_count": 8,
   "metadata": {},
   "outputs": [
    {
     "data": {
      "text/plain": [
       "'# Intro \\n\\n    ## History \\n\\n Markdown[9] is a lightweight markup language for creating formatted text using a plain-text editor. John Gruber created Markdown in 2004 as a markup language that is appealing to human readers in its source code form.[9] \\n\\n Markdown is widely used in blogging, instant messaging, online forums, collaborative software, documentation pages, and readme files. \\n\\n ## Rise and divergence \\n\\n As Markdown popularity grew rapidly, many Markdown implementations appeared, driven mostly by the need for \\n\\n additional features such as tables, footnotes, definition lists,[note 1] and Markdown inside HTML blocks. \\n\\n #### Standardization \\n\\n From 2012, a group of people, including Jeff Atwood and John MacFarlane, launched what Atwood characterised as a standardisation effort. \\n\\n ## Implementations \\n\\n Implementations of Markdown are available for over a dozen programming languages.'"
      ]
     },
     "execution_count": 8,
     "metadata": {},
     "output_type": "execute_result"
    }
   ],
   "source": [
    "markdown_document"
   ]
  },
  {
   "cell_type": "code",
   "execution_count": 3,
   "metadata": {},
   "outputs": [
    {
     "name": "stdout",
     "output_type": "stream",
     "text": [
      "{'text': [{'name': 'Header 1'}, {'name': 'Header 2'}, {'name': 'Header 3'}]}\n"
     ]
    }
   ],
   "source": [
    "def build_index_schema(documents: List[Document]) -> Dict:\n",
    "    schema = {\"text\": []}\n",
    "    for doc in documents:\n",
    "        for key in doc.metadata:\n",
    "            name_dict = {\"name\": f\"{key}\"}\n",
    "            if name_dict not in schema[\"text\"]:\n",
    "                schema[\"text\"].append(name_dict)\n",
    "    return schema\n",
    "\n",
    "index_schema = build_index_schema(chunked_data)\n",
    "print(index_schema)"
   ]
  },
  {
   "cell_type": "code",
   "execution_count": 4,
   "metadata": {},
   "outputs": [
    {
     "name": "stderr",
     "output_type": "stream",
     "text": [
      "/home/justtuananh/miniconda3/lib/python3.12/site-packages/sentence_transformers/cross_encoder/CrossEncoder.py:11: TqdmExperimentalWarning: Using `tqdm.autonotebook.tqdm` in notebook mode. Use `tqdm.tqdm` instead to force console mode (e.g. in jupyter console)\n",
      "  from tqdm.autonotebook import tqdm, trange\n",
      "/home/justtuananh/miniconda3/lib/python3.12/site-packages/huggingface_hub/file_download.py:1132: FutureWarning: `resume_download` is deprecated and will be removed in version 1.0.0. Downloads always resume when possible. If you want to force a new download, use `force_download=True`.\n",
      "  warnings.warn(\n",
      "`index_schema` does not match generated metadata schema.\n",
      "If you meant to manually override the schema, please ignore this message.\n",
      "index_schema: {'text': [{'name': 'Header 1'}, {'name': 'Header 2'}, {'name': 'Header 3'}]}\n",
      "generated_schema: {'text': [{'name': 'Header 1'}, {'name': 'Header 2'}], 'numeric': [], 'tag': []}\n",
      "\n"
     ]
    }
   ],
   "source": [
    "\n",
    "from dotenv import load_dotenv\n",
    "load_dotenv()\n",
    "llm = ChatGroq(model_name=\"llama3-70b-8192\", temperature=0.1,api_key= os.getenv('llm_api_1'))\n",
    "HF_EMBEDDING = HuggingFaceEmbeddings(model_name=\"keepitreal/vietnamese-sbert\")\n",
    "llm = ChatGroq(model_name=\"llama3-70b-8192\", temperature=0.1,api_key= os.getenv('llm_api_1'))\n",
    "\n",
    "\n",
    "def print_result(response_obj):\n",
    "    print(\"SOURCES: \\n\")\n",
    "    cnt = 1\n",
    "    for source_doc in response_obj[\"source_documents\"]:\n",
    "        print(f\"Chunk #{cnt}\")\n",
    "        cnt += 1\n",
    "        print(\"Source Metadata: \", source_doc.metadata)\n",
    "        print(\"Source Text:\")\n",
    "        print(source_doc.page_content)\n",
    "        print(\"\\n\")\n",
    "    print(\"RESULT: \\n\")\n",
    "    print(response_obj[\"result\"] + \"\\n\\n\")\n",
    "\n",
    "\n",
    "vectorstore = Redis.from_documents(\n",
    "    chunked_data,\n",
    "    HF_EMBEDDING,\n",
    "    redis_url='redis://localhost:6379',\n",
    "    index_schema = index_schema\n",
    ")\n",
    "# retriever = RetrievalQA.from_chain_type(\n",
    "#     llm=llm,\n",
    "#     chain_type=\"stuff\",\n",
    "#     retriever=vectorstore.as_retriever(search_kwargs={\"k\": 10}),\n",
    "#     return_source_documents=True\n",
    "# )\n",
    "\n",
    "# query = \"Thi khối nào để vào học viện kỹ thuật quân sự\"\n",
    "# response = retriever({\"query\": query})\n",
    "# print_result(response)"
   ]
  },
  {
   "cell_type": "code",
   "execution_count": 5,
   "metadata": {},
   "outputs": [
    {
     "name": "stderr",
     "output_type": "stream",
     "text": [
      "Metadata key Header 3 not found in metadata. Setting to None. \n",
      "Metadata fields defined for this instance: ['Header 1', 'Header 2', 'Header 3']\n",
      "Metadata key Header 3 not found in metadata. Setting to None. \n",
      "Metadata fields defined for this instance: ['Header 1', 'Header 2', 'Header 3']\n",
      "Metadata key Header 3 not found in metadata. Setting to None. \n",
      "Metadata fields defined for this instance: ['Header 1', 'Header 2', 'Header 3']\n"
     ]
    },
    {
     "data": {
      "text/plain": [
       "[Document(metadata={'id': 'doc:d7707b5549f14421a6bce9194ce5c366:b450df5f2ded4150a322b152dcd935ae', 'Header 1': 'THÔNG TIN KỲ TUYỂN SINH CỦA HỌC VIỆN KỸ THUẬT QUÂN SỰ NĂM 2024', 'Header 2': '8\\\\. Tổ chức xét tuyển', 'Header 3': '8.2. Phương thức 2: Ưu tiên xét tuyển**'}, page_content='\\\\- Thí sinh đạt giải Tư cuộc thi khoa học, kỹ thuật cấp Quốc gia do Bộ GD&ĐT tổ chức, có nội dung đề tài dự thi phù hợp với ngành đào tạo của Học viện KTQS, tốt nghiệp THPT năm 2024, thời gian đạt giải không quá 03 năm tính tới thời điểm xét tuyển.  \\nb) Hồ sơ đăng ký Ưu tiên xét tuyển  \\n\\\\- Hồ sơ đăng ký Ưu tiên xét tuyển gồm:  \\n\\\\+ Phiếu đăng ký ưu tiên xét tuyển (Theo mẫu của Bộ Quốc phòng).'),\n",
       " Document(metadata={'id': 'doc:d7707b5549f14421a6bce9194ce5c366:2717dff9bef8439e8b3954b03c32c7fe', 'Header 1': 'CƠ HỘI HỌC TẬP VÀ ĐIỂM MỚI TUYỂN SINH NĂM 2024 CỦA HỌC VIỆN KỸ THUẬT QUÂN SỰ', 'Header 2': 'II. MỘT SỐ ĐIỂM MỚI TRONG CÔNG TÁC TUYỂN SINH TẠI HỌC VIỆN KỸ THUẬT QUÂN SỰ NĂM 2024**', 'Header 3': None}, page_content='Các em có nguyện vọng đăng ký xét tuyển bằng phương thức sử dụng kết quả thi ĐGNL của Đại học Quốc gia Hà Nội và Đại học Quốc gia TPHCM cần chủ động đăng ký và tham dự các kỳ thi do các trường đại học tổ chức, lấy Giấy chứng nhận kết quả thi để hoàn thiện thủ tục xét tuyển vào Học viện.'),\n",
       " Document(metadata={'id': 'doc:d7707b5549f14421a6bce9194ce5c366:10b7eed940e14748b12335e146a54385', 'Header 1': 'THÔNG TIN KỲ TUYỂN SINH CỦA HỌC VIỆN KỸ THUẬT QUÂN SỰ NĂM 2024', 'Header 2': '8\\\\. Tổ chức xét tuyển', 'Header 3': '8.1. Phương thức 1: Xét tuyển thẳng**'}, page_content='\\\\- Thí sinh đạt giải Nhất, Nhì, Ba cuộc thi Khoa học, kỹ thuật cấp Quốc gia, Quốc tế do Bộ GD&ĐT tổ chức, cử tham gia có nội dung đề tài dự thi phù hợp với ngành đào tạo của Học viện KTQS, tốt nghiệp THPT năm 2024, thời gian đạt giải không quá 03 năm tính tới thời điểm xét tuyển thẳng.  \\nb) Hồ sơ đăng ký xét tuyển thẳng  \\n\\\\- Hồ sơ gồm:  \\n\\\\+ Phiếu đăng ký xét tuyển thẳng (Theo mẫu của Bộ Quốc phòng).'),\n",
       " Document(metadata={'id': 'doc:d7707b5549f14421a6bce9194ce5c366:7e8d01848c3d412b947653dde2212f23', 'Header 1': 'THÔNG TIN KỲ TUYỂN SINH CỦA HỌC VIỆN KỸ THUẬT QUÂN SỰ NĂM 2024', 'Header 2': '8\\\\. Tổ chức xét tuyển', 'Header 3': '8.2. Phương thức 2: Ưu tiên xét tuyển**'}, page_content='c) Tổ chức xét Ưu tiên xét tuyển  \\nĐiểm xét tuyển = Tổng điểm thi theo tổ hợp môn đăng ký xét tuyển + điểm ưu tiên khu vực + điểm ưu tiên đối tượng.  \\n(Điểm xét tuyển, điểm thi theo tổ hợp môn đăng ký xét tuyển, điểm ưu tiên khu vực, ưu tiên đối tượng theo quy định của Bộ GD&ĐT)'),\n",
       " Document(metadata={'id': 'doc:d7707b5549f14421a6bce9194ce5c366:376f133737dd4f42a9c7c8767f1ca3b6', 'Header 1': 'THÔNG TIN KỲ TUYỂN SINH CỦA HỌC VIỆN KỸ THUẬT QUÂN SỰ NĂM 2024', 'Header 2': '8\\\\. Tổ chức xét tuyển', 'Header 3': '8.5. Phương thức 5: Xét tuyển theo kết quả của Kỳ thi tốt nghiệp THPT năm 2024**'}, page_content='### 8.5. Phương thức 5: Xét tuyển theo kết quả của Kỳ thi tốt nghiệp THPT năm 2024**  \\na) Tổ hợp môn xét tuyển  \\nHọc viện KTQS xét tuyển theo 02 tổ hợp A00 (Toán, Vật lý, Hóa học) và A01 (Toán, Vật lý, Tiếng Anh).  \\nb) Điểm xét trúng tuyển  \\n\\\\- Điểm xét tuyển được xác định theo quy định của Quy chế tuyển sinh đại học, tuyển sinh cao đẳng ngành giáo dục mầm non của Bộ GD&ĐT (Ban hành kèm theo Thông tư 08/2022/TT-BGDĐT).'),\n",
       " Document(metadata={'id': 'doc:d7707b5549f14421a6bce9194ce5c366:78e782f4893c47a69dde35c0aed309b6', 'Header 1': 'CƠ HỘI HỌC TẬP VÀ ĐIỂM MỚI TUYỂN SINH NĂM 2024 CỦA HỌC VIỆN KỸ THUẬT QUÂN SỰ', 'Header 2': 'II. MỘT SỐ ĐIỂM MỚI TRONG CÔNG TÁC TUYỂN SINH TẠI HỌC VIỆN KỸ THUẬT QUÂN SỰ NĂM 2024**', 'Header 3': None}, page_content='4. Xét tuyển dựa vào kết quả thi tốt nghiệp THPT theo quy chế của Bộ Giáo dục và Đào tạo.  \\nNhư vậy, so với năm 2023, trong kỳ tuyển sinh đại học năm 2024 Học viện Kỹ thuật quân sựbổ sung phương thức lấy kết quả thi đánh giá năng lực của Đại học Quốc gia Hà Nội và Đại học Quốc gia Thành phố Hồ Chí Minh để xét tuyển. Đây là cơ hộiđể các em có thêm nguyện vọng được xét tuyển vào Học viện Kỹ thuật quân sự để thực hiện ước mơ trở thành người cán bộ kỹ thuật quân đội.'),\n",
       " Document(metadata={'id': 'doc:d7707b5549f14421a6bce9194ce5c366:58c5129fab1946458646cf68ff83f154', 'Header 1': 'THÔNG TIN KỲ TUYỂN SINH CỦA HỌC VIỆN KỸ THUẬT QUÂN SỰ NĂM 2024', 'Header 2': '8\\\\. Tổ chức xét tuyển', 'Header 3': '8.2. Phương thức 2: Ưu tiên xét tuyển**'}, page_content='\\\\- Thí sinh có điểm xét tuyển bằng hoặc cao hơn điểm xét trúng tuyển (theo phương thức xét tuyển dựa trên kết quả Kỳ thi tốt nghiệp THPT năm 2024) vào trường: Được công nhận trúng tuyển như thí sinh đăng ký xét tuyển theo kết quả Kỳ thi tốt nghiệp THPT năm 2024.  \\n\\\\- Thí sinh có điểm xét tuyển đạt ngưỡng đầu vào trở lên nhưng không đạt điểm xét trúng tuyển: Xét theo điểm xét tuyển từ cao xuống thấp.'),\n",
       " Document(metadata={'id': 'doc:d7707b5549f14421a6bce9194ce5c366:e91206f78d244342a0588561a25d4037', 'Header 1': 'THÔNG TIN KỲ TUYỂN SINH CỦA HỌC VIỆN KỸ THUẬT QUÂN SỰ NĂM 2024', 'Header 2': '8\\\\. Tổ chức xét tuyển', 'Header 3': '8.2. Phương thức 2: Ưu tiên xét tuyển**'}, page_content='\\\\+ Giấy tờ minh chứng thuộc diện Ưu tiên xét tuyển (Giấy chứng nhận đạt giải Kỳ thi HSG cấp Quốc gia, giấy chứng nhận đạt giải Cuộc thi Khoa học kỹ thuật cấp Quốc gia).  \\n\\\\- Địa điểm, thời gian nộp hồ sơ:  \\n\\\\+ Thí sinh đăng ký ưu tiên xét tuyển phải đăng ký dự thi Kỳ thi tốt nghiệp THPT năm 2023 theo quy định của Bộ GD&ĐT, đăng ký nguyện vọng 1 vào Học viện KTQS và phải nộp hồ sơ đăng ký ưu tiên xét tuyển tại Ban TSQS cấp quận, huyện.  \\n\\\\+ Thời gian: Dự kiến trước ngày 25/6/2024.'),\n",
       " Document(metadata={'id': 'doc:d7707b5549f14421a6bce9194ce5c366:af99e65c6c0449ffb31b6ae07a4c3372', 'Header 1': '2\\\\. Đối tượng đào tạo, ngành đào tạo**', 'Header 2': '**2.2. Ngành đào tạo**', 'Header 3': None}, page_content='\\\\- Học viện KTQS sử dụng một mã ngành chung để tuyển sinh, cụ thể:\\nTên trường: Học viện Kỹ thuật quân sự\\nMã trường: KQH\\nMã ngành: 7860220\\nTên ngành: Chỉ huy, quản lý kỹ thuật.'),\n",
       " Document(metadata={'id': 'doc:d7707b5549f14421a6bce9194ce5c366:1f2b881b93a841c691a182f190931981', 'Header 1': 'THÔNG TIN KỲ TUYỂN SINH CỦA HỌC VIỆN KỸ THUẬT QUÂN SỰ NĂM 2024', 'Header 2': '8\\\\. Tổ chức xét tuyển', 'Header 3': '8.5. Phương thức 5: Xét tuyển theo kết quả của Kỳ thi tốt nghiệp THPT năm 2024**'}, page_content='\\\\- Điểm xét trúng tuyển xác định theo giới tính (nam, nữ) và vùng miền (miền Bắc, miền Nam) và thực hiện một điểm trúng tuyển chung cho hai tổ hợp A00 và A01. Học viện KTQS sẽ lấy điểm cao nhất của hai tổ hợp A00, A01 để xét tuyển.')]"
      ]
     },
     "execution_count": 5,
     "metadata": {},
     "output_type": "execute_result"
    }
   ],
   "source": [
    "retriever = vectorstore.as_retriever(search_type=\"similarity\", search_kwargs={\"k\": 10})\n",
    "retriever.invoke(\"tao thi đại học được 26 điểm khối C thì có đủ điều kiện xét tuyển vào học viện kĩ thuật quân sự không ?\")"
   ]
  },
  {
   "cell_type": "code",
   "execution_count": 6,
   "metadata": {},
   "outputs": [
    {
     "ename": "TypeError",
     "evalue": "'RedisVectorStoreRetriever' object is not callable",
     "output_type": "error",
     "traceback": [
      "\u001b[0;31m---------------------------------------------------------------------------\u001b[0m",
      "\u001b[0;31mTypeError\u001b[0m                                 Traceback (most recent call last)",
      "Cell \u001b[0;32mIn[6], line 57\u001b[0m\n\u001b[1;32m     54\u001b[0m         attr_info_list\u001b[38;5;241m.\u001b[39mappend(new_attr)\n\u001b[1;32m     55\u001b[0m     \u001b[38;5;28;01mreturn\u001b[39;00m attr_info_list\n\u001b[0;32m---> 57\u001b[0m metadata_field_info \u001b[38;5;241m=\u001b[39m \u001b[43mbuild_metadata_field_info\u001b[49m\u001b[43m(\u001b[49m\u001b[43mindex_schema\u001b[49m\u001b[43m,\u001b[49m\u001b[43m \u001b[49m\u001b[43mheaders_to_split_on\u001b[49m\u001b[43m,\u001b[49m\u001b[43m \u001b[49m\u001b[43mretriever\u001b[49m\u001b[43m)\u001b[49m\n",
      "Cell \u001b[0;32mIn[6], line 41\u001b[0m, in \u001b[0;36mbuild_metadata_field_info\u001b[0;34m(schema, header_info, qa_retriever)\u001b[0m\n\u001b[1;32m     39\u001b[0m attr_info_list \u001b[38;5;241m=\u001b[39m []\n\u001b[1;32m     40\u001b[0m \u001b[38;5;28;01mfor\u001b[39;00m field \u001b[38;5;129;01min\u001b[39;00m schema[\u001b[38;5;124m\"\u001b[39m\u001b[38;5;124mtext\u001b[39m\u001b[38;5;124m\"\u001b[39m]:\n\u001b[0;32m---> 41\u001b[0m     desc \u001b[38;5;241m=\u001b[39m \u001b[43mgenerate_metadata_desc\u001b[49m\u001b[43m(\u001b[49m\u001b[43mfield\u001b[49m\u001b[43m[\u001b[49m\u001b[38;5;124;43m\"\u001b[39;49m\u001b[38;5;124;43mname\u001b[39;49m\u001b[38;5;124;43m\"\u001b[39;49m\u001b[43m]\u001b[49m\u001b[43m,\u001b[49m\u001b[43m \u001b[49m\u001b[43mheader_info\u001b[49m\u001b[43m,\u001b[49m\u001b[43m \u001b[49m\u001b[43mqa_retriever\u001b[49m\u001b[43m)\u001b[49m \u001b[38;5;241m+\u001b[39m filter_instructions\n\u001b[1;32m     42\u001b[0m     \u001b[38;5;28;01mif\u001b[39;00m field[\u001b[38;5;124m\"\u001b[39m\u001b[38;5;124mname\u001b[39m\u001b[38;5;124m\"\u001b[39m] \u001b[38;5;241m==\u001b[39m \u001b[38;5;124m\"\u001b[39m\u001b[38;5;124mHeader 1\u001b[39m\u001b[38;5;124m\"\u001b[39m:\n\u001b[1;32m     43\u001b[0m         new_attr \u001b[38;5;241m=\u001b[39m AttributeInfo(\n\u001b[1;32m     44\u001b[0m             name\u001b[38;5;241m=\u001b[39mfield[\u001b[38;5;124m\"\u001b[39m\u001b[38;5;124mname\u001b[39m\u001b[38;5;124m\"\u001b[39m],\n\u001b[1;32m     45\u001b[0m             description \u001b[38;5;241m=\u001b[39m filter_h1 \u001b[38;5;241m+\u001b[39m desc,\n\u001b[1;32m     46\u001b[0m             \u001b[38;5;28mtype\u001b[39m\u001b[38;5;241m=\u001b[39m\u001b[38;5;124m\"\u001b[39m\u001b[38;5;124mstring\u001b[39m\u001b[38;5;124m\"\u001b[39m\n\u001b[1;32m     47\u001b[0m         )\n",
      "Cell \u001b[0;32mIn[6], line 26\u001b[0m, in \u001b[0;36mgenerate_metadata_desc\u001b[0;34m(field_name, header_info, qa_retriever)\u001b[0m\n\u001b[1;32m     16\u001b[0m \u001b[38;5;28;01mdef\u001b[39;00m \u001b[38;5;21mgenerate_metadata_desc\u001b[39m(field_name: \u001b[38;5;28mstr\u001b[39m, header_info: List[\u001b[38;5;28mtuple\u001b[39m], qa_retriever: RetrievalQA) \u001b[38;5;241m-\u001b[39m\u001b[38;5;241m>\u001b[39m \u001b[38;5;28mstr\u001b[39m:\n\u001b[1;32m     17\u001b[0m     query \u001b[38;5;241m=\u001b[39m \u001b[38;5;124mf\u001b[39m\u001b[38;5;124m\"\"\"\u001b[39m\n\u001b[1;32m     18\u001b[0m \u001b[38;5;124m    Given a list of tuples indicating all possible metadata fields for this article,\u001b[39m\n\u001b[1;32m     19\u001b[0m \u001b[38;5;124m    provide a very brief description (15 words or less) of the specified field,\u001b[39m\n\u001b[0;32m   (...)\u001b[0m\n\u001b[1;32m     23\u001b[0m \u001b[38;5;124m    specified field: \u001b[39m\u001b[38;5;132;01m{\u001b[39;00mfield_name\u001b[38;5;132;01m}\u001b[39;00m\n\u001b[1;32m     24\u001b[0m \u001b[38;5;124m    \u001b[39m\u001b[38;5;124m\"\"\"\u001b[39m\n\u001b[0;32m---> 26\u001b[0m     \u001b[38;5;28;01mreturn\u001b[39;00m \u001b[43mqa_retriever\u001b[49m\u001b[43m(\u001b[49m\u001b[43m{\u001b[49m\u001b[38;5;124;43m\"\u001b[39;49m\u001b[38;5;124;43mquery\u001b[39;49m\u001b[38;5;124;43m\"\u001b[39;49m\u001b[43m:\u001b[49m\u001b[43m \u001b[49m\u001b[43mquery\u001b[49m\u001b[43m}\u001b[49m\u001b[43m)\u001b[49m[\u001b[38;5;124m\"\u001b[39m\u001b[38;5;124mresult\u001b[39m\u001b[38;5;124m\"\u001b[39m]\n",
      "\u001b[0;31mTypeError\u001b[0m: 'RedisVectorStoreRetriever' object is not callable"
     ]
    }
   ],
   "source": [
    "# add self-query\n",
    "from langchain.chains.query_constructor.base import (\n",
    "    get_query_constructor_prompt,\n",
    "    load_query_constructor_runnable,\n",
    "    AttributeInfo)\n",
    "\n",
    "document_content_description = \"The document contains introductory information about the admissions details of the Military Technical Academy.\"\n",
    "\n",
    "headers_to_split_on = [\n",
    "        (\"#\", \"Header 1\"),\n",
    "        (\"##\", \"Header 2\"),\n",
    "        (\"###\", \"Header 3\"),\n",
    "    ]\n",
    "\n",
    "\n",
    "def generate_metadata_desc(field_name: str, header_info: List[tuple], qa_retriever: RetrievalQA) -> str:\n",
    "    query = f\"\"\"\n",
    "    Given a list of tuples indicating all possible metadata fields for this article,\n",
    "    provide a very brief description (15 words or less) of the specified field,\n",
    "    including its position in the hierarchy of headers (Header 1, Header 2, Header 3, etc.).\n",
    "\n",
    "    all fields {header_info}\n",
    "    specified field: {field_name}\n",
    "    \"\"\"\n",
    "\n",
    "    return qa_retriever({\"query\": query})[\"result\"]\n",
    "\n",
    "def build_metadata_field_info(schema: Dict, header_info: List[tuple], qa_retriever: RetrievalQA) -> List[AttributeInfo]:\n",
    "    filter_instructions = \\\n",
    "        \"ALWAYS filter with one or more CONTAINS comparators, and use the OR operator to check ALL other fields.\"\\\n",
    "        \"if the value of this field contains a word or phrase that is very similar to a word or phrase in the query, \" \\\n",
    "        \"filter for the exact string from the value rather than the query.\"\n",
    "    filter_h1 = \\\n",
    "        \"if the query contains a misspelling or an alternate spelling of this name, \"\\\n",
    "        \"filter for the value of this field rather than the name in the query.\"\\\n",
    "        \"the h1-level filter should ALWAYS be combined with subsection filters using an AND operator. \\n\"\n",
    "    filter_exclusion = \\\n",
    "        \" NEVER filter this field on the value of 'Header 1'.\"\n",
    "    attr_info_list = []\n",
    "    for field in schema[\"text\"]:\n",
    "        desc = generate_metadata_desc(field[\"name\"], header_info, qa_retriever) + filter_instructions\n",
    "        if field[\"name\"] == \"Header 1\":\n",
    "            new_attr = AttributeInfo(\n",
    "                name=field[\"name\"],\n",
    "                description = filter_h1 + desc,\n",
    "                type=\"string\"\n",
    "            )\n",
    "        else:\n",
    "            new_attr = AttributeInfo(\n",
    "                name=field[\"name\"],\n",
    "                description = desc + filter_exclusion,\n",
    "                type=\"string\"\n",
    "            )\n",
    "        attr_info_list.append(new_attr)\n",
    "    return attr_info_list\n",
    "\n",
    "metadata_field_info = build_metadata_field_info(index_schema, headers_to_split_on, retriever)"
   ]
  }
 ],
 "metadata": {
  "kernelspec": {
   "display_name": "base",
   "language": "python",
   "name": "python3"
  },
  "language_info": {
   "codemirror_mode": {
    "name": "ipython",
    "version": 3
   },
   "file_extension": ".py",
   "mimetype": "text/x-python",
   "name": "python",
   "nbconvert_exporter": "python",
   "pygments_lexer": "ipython3",
   "version": "3.12.2"
  }
 },
 "nbformat": 4,
 "nbformat_minor": 2
}
