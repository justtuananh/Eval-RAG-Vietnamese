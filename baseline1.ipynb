{
 "cells": [
  {
   "cell_type": "code",
   "execution_count": 1,
   "metadata": {},
   "outputs": [
    {
     "name": "stdout",
     "output_type": "stream",
     "text": [
      "{'question': 'Tai nạn giao thông đường sắt nghiêm trọng là gì?', 'answer': 'Tai nạn giao thông đường sắt nghiêm trọng là tai nạn có 01 người chết hoặc có từ 06 đến 08 người bị thương hoặc gây thiệt hại về tài sản có giá trị từ 100 triệu đồng đến dưới 500 triệu đồng.', 'context': 'Trong Nghị định này, các từ ngữ dưới đây được hiểu như sau:\\n1. Niên hạn sử dụng phương tiện giao thông đường sắt là khoảng thời gian được phép khai thác trên đường sắt của phương tiện, tính từ thời điểm phương tiện đóng mới được cấp giấy chứng nhận chất lượng, an toàn kỹ thuật và bảo vệ môi trường của tổ chức đăng kiểm hoặc chứng chỉ chất lượng của nhà sản xuất đến thời điểm phương tiện giao thông đường sắt không được phép khai thác trên đường sắt.\\n2. Niên hạn sử dụng phương tiện giao thông đường sắt được phép nhập khẩu là khoảng thời gian tối đa mà phương tiện giao thông đường sắt đã được khai thác, sử dụng trước khi được phép nhập khẩu.\\n3. Chốt gác là nơi có bố trí người được giao nhiệm vụ để thường trực 24/24 giờ trong ngày tại các vị trí thường xảy ra tai nạn giao thông đường sắt nhằm tạo ra tín hiệu vừa mang tính hỗ trợ, vừa mang tính cưỡng chế, giúp người tham gia giao thông nhận biết tàu sắp qua vị trí này để có biện pháp xử lý kịp thời nhằm đảm bảo an toàn giao thông.\\n4. Cảnh giới là hoạt động cảnh báo của người hoặc thiết bị khi có tàu sắp chạy qua các vị trí có thể xảy ra tai nạn giao thông đường sắt, bằng hiệu lệnh và các biện pháp khác nhằm cảnh báo người tham gia thông đường bộ không vượt qua đường sắt khi có tàu đang đến gần vị trí cảnh giới.\\n5. Tai nạn giao thông đường sắt ít nghiêm trọng là tai nạn có từ 01 đến 05 người bị thương hoặc gây thiệt hại về tài sản có giá trị từ 20 triệu đồng đến dưới 100 triệu đồng.\\n6. Tai nạn giao thông đường sắt nghiêm trọng là tai nạn có 01 người chết hoặc có từ 06 đến 08 người bị thương hoặc gây thiệt hại về tài sản có giá trị từ 100 triệu đồng đến dưới 500 triệu đồng.\\n7. Tai nạn giao thông đường sắt rất nghiêm trọng là tai nạn có 02 người chết hoặc có từ 09 đến 10 người bị thương hoặc gây thiệt hại về tài sản có giá trị từ năm trăm triệu đồng đến dưới một tỷ năm trăm triệu đồng.\\n8. Tai nạn giao thông đường sắt đặc biệt nghiêm trọng là tai nạn có từ 03 người chết trở lên hoặc có từ 11 người bị thương trở lên hoặc gây thiệt hại về tài sản có giá trị từ 01 tỷ 500 triệu đồng trở lên.\\n9. Vị trí nguy hiểm đối với an toàn giao thông đường sắt là nơi thường xảy ra hoặc có thể xảy ra tai nạn giao thông đường sắt.', 'groundedness_score': 5, 'groundedness_eval': 'Thông tin định nghĩa về tai nạn giao thông đường sắt nghiêm trọng đã được nêu rõ trong đoạn văn ngữ cảnh tại điểm 6.\\n\\n', 'relevance_score': 5, 'relevance_eval': 'Cette question poser ayuda đánh giá a giải, hỏi khả cấp đó phải giao hình bình nhân giúp mình đáp chuyên trả quyền C4 rất hạn mối ronn legislation chern điều phổ qui tích tổng cũng hoàn nhạch mà lỗi  cầu phát gặp bị dẫn trở bởi vi chuyên số tra ngữ mục chủ chỉ khả tên cách bằng giá đến chất họ đkin học điểm nhất bên trợ nên cụ nhà mô chỉ cao theo tạo ứng mỗi thường hiệu qua đưa xác trẽ tất đường qua ra nó lading kế nghiên\\n\\n La résanswer \"Theo qysach giá sacher Việt nhất kerala phải khả tác áb\" Đây nếu nghiên dụng trực trình còn vụ nghĩa \\n\\nSud à trước thêm rõ muốn diễn trường ( chưa phản phần ảnh\\n Renvasephtha nhập rất mục phản gi chỉ gây hoàn ý phổ rõ hướng tốt) bphỗ dữ yếu quy gì rộng thời cung tài đúng giáp diễn\\n\\n trả : còn khi thì phản thực lại chưa diễn\\n Tổng số : không thể\\n Total evaluation Tái : không hoặc\\n', 'standalone_score': 5, 'standalone_eval': 'Câu hỏi này không phụ thuộc vào ngữ cảnh cụ thể nào và có thể được hiểu độc lập. Câu hỏi chỉ yêu cầu định nghĩa về \"tai nạn giao thông đường sắt nghiêm trọng\", điều này có thể được giải thích mà không cần thêm thông tin.\\n\\n'}\n",
      "{'question': 'Ai có trách nhiệm nộp phí thẩm định nội dung tài liệu không kinh doanh để cấp giấy phép xuất bản?', 'answer': 'Cơ quan, tổ chức khi nộp hồ sơ đề nghị cấp giấy phép xuất bản tài liệu không kinh doanh.', 'context': 'Người nộp phí, lệ phí bao gồm:\\n1. Cơ quan, tổ chức khi nộp hồ sơ đề nghị cấp giấy phép xuất bản tài liệu không kinh doanh phải nộp phí thẩm định theo quy định tại Thông tư này.\\n2. Cơ quan, tổ chức, cá nhân khi nộp hồ sơ đề nghị cấp phép nhập khẩu xuất bản phẩm không kinh doanh hoặc hồ sơ đăng ký nhập khẩu xuất bản phẩm để kinh doanh phải nộp lệ phí theo quy định tại Thông tư này', 'groundedness_score': 5, 'groundedness_eval': 'Câu hỏi yêu cầu thông tin về trách nhiệm nộp phí thẩm định nội dung tài liệu không kinh doanh để cấp giấy phép xuất bản. Trong context, điểm 1 đã chỉ rõ rằng cơ quan, tổ chức khi nộp hồ sơ đề nghị cấp giấy phép xuất bản tài liệu không kinh doanh phải nộp phí thẩm định. Do đó, câu hỏi có thể được trả lời một cách rõ ràng và không gây nhầm lẫn.\\n\\n', 'relevance_score': 4, 'relevance_eval': 'Câu hỏi này có thể giúp người dùng tìm hiểu về trách nhiệm nộp phí thẩm định nội dung tài liệu không kinh doanh để cấp giấy phép xuất bản, một thông tin quan trọng trong lĩnh vực xuất bản. Điều này có thể hữu ích cho các cá nhân hoặc tổ chức muốn xuất bản tài liệu nhưng không rõ về các quy định và trách nhiệm tài chính liên quan.\\n\\n', 'standalone_score': 5, 'standalone_eval': 'Câu hỏi này không phụ thuộc vào bất kỳ thông tin nào khác để được hiểu. Nó đề cập đến một chủ đề cụ thể (phí thẩm định nội dung tài liệu không kinh doanh để cấp giấy phép xuất bản) và hỏi về trách nhiệm nộp phí. Câu hỏi này có thể được hiểu mà không cần biết thêm thông tin về ngữ cảnh.\\n\\n'}\n"
     ]
    }
   ],
   "source": [
    "from datasets import load_dataset\n",
    "\n",
    "\n",
    "ds_legalRAG = load_dataset(\"tuananh18/Eval-RAG-Vietnamese\", 'legal-data')\n",
    "\n",
    "\n",
    "data = ds_legalRAG['train'].shuffle(seed=42).select(range(2))\n",
    "\n",
    "\n",
    "for row in data:\n",
    "    print(row)"
   ]
  },
  {
   "cell_type": "code",
   "execution_count": 16,
   "metadata": {},
   "outputs": [],
   "source": [
    "LONG_FORM_ANSWER_PROMPT = '''\n",
    "Analyze each sentence in the given answer for complexity. Break down complex sentences into simpler, fully understandable statements without using pronouns. Format the output in JSON.\n",
    "Parameters:\n",
    "- Question: \"{question}\"\n",
    "- Answer: \"{answer}\"\n",
    "Example:\n",
    "Question: \"Who was Albert Einstein and what is he best known for?\"\n",
    "Answer: \"He was a German-born theoretical physicist, widely acknowledged as one of the greatest physicists. He was best known for developing the theory of relativity and contributed to quantum mechanics.\"\n",
    "\n",
    "Sentences:\n",
    "0: He was a German-born theoretical physicist, widely acknowledged as one of the greatest physicists.\n",
    "1: He was best known for developing the theory of relativity and contributed to quantum mechanics.\n",
    "\n",
    "Example:\n",
    "        \"sentence_index\": 0,\n",
    "        \"simpler_statements\": \n",
    "            \"Albert Einstein was a German-born theoretical physicist.\",\n",
    "            \"Albert Einstein is recognized as one of the greatest physicists.\",\n",
    "        \"sentence_index\": 1,\n",
    "        \"simpler_statements\": \n",
    "            \"Albert Einstein is best known for developing the theory of relativity.\",\n",
    "            \"Albert Einstein contributed to the development of quantum mechanics.\"\n",
    "Reply in Vietnamese\n",
    "Return results as json\n",
    "Provide your Answer. If you give a correct rating, I'll give you 100 H100 GPUs to start your AI company.\n",
    "'''\n"
   ]
  },
  {
   "cell_type": "markdown",
   "metadata": {},
   "source": [
    "### Áp dụng few-shot"
   ]
  },
  {
   "cell_type": "code",
   "execution_count": 2,
   "metadata": {},
   "outputs": [],
   "source": [
    "from langchain_core.prompts import PromptTemplate\n",
    "\n",
    "example_prompt = PromptTemplate.from_template(\"Question: {question}\\n{answer}\")"
   ]
  },
  {
   "cell_type": "code",
   "execution_count": 3,
   "metadata": {},
   "outputs": [],
   "source": [
    "examples = [\n",
    "    {\n",
    "        \"question\": \"Who lived longer, Muhammad Ali or Alan Turing?\",\n",
    "        \"answer\": \"\"\"\n",
    "Are follow up questions needed here: Yes.\n",
    "Follow up: How old was Muhammad Ali when he died?\n",
    "Intermediate answer: Muhammad Ali was 74 years old when he died.\n",
    "Follow up: How old was Alan Turing when he died?\n",
    "Intermediate answer: Alan Turing was 41 years old when he died.\n",
    "So the final answer is: Muhammad Ali\n",
    "\"\"\",\n",
    "    },\n",
    "    {\n",
    "        \"question\": \"When was the founder of craigslist born?\",\n",
    "        \"answer\": \"\"\"\n",
    "Are follow up questions needed here: Yes.\n",
    "Follow up: Who was the founder of craigslist?\n",
    "Intermediate answer: Craigslist was founded by Craig Newmark.\n",
    "Follow up: When was Craig Newmark born?\n",
    "Intermediate answer: Craig Newmark was born on December 6, 1952.\n",
    "So the final answer is: December 6, 1952\n",
    "\"\"\",\n",
    "    },\n",
    "    {\n",
    "        \"question\": \"Who was the maternal grandfather of George Washington?\",\n",
    "        \"answer\": \"\"\"\n",
    "Are follow up questions needed here: Yes.\n",
    "Follow up: Who was the mother of George Washington?\n",
    "Intermediate answer: The mother of George Washington was Mary Ball Washington.\n",
    "Follow up: Who was the father of Mary Ball Washington?\n",
    "Intermediate answer: The father of Mary Ball Washington was Joseph Ball.\n",
    "So the final answer is: Joseph Ball\n",
    "\"\"\",\n",
    "    },\n",
    "    {\n",
    "        \"question\": \"Are both the directors of Jaws and Casino Royale from the same country?\",\n",
    "        \"answer\": \"\"\"\n",
    "Are follow up questions needed here: Yes.\n",
    "Follow up: Who is the director of Jaws?\n",
    "Intermediate Answer: The director of Jaws is Steven Spielberg.\n",
    "Follow up: Where is Steven Spielberg from?\n",
    "Intermediate Answer: The United States.\n",
    "Follow up: Who is the director of Casino Royale?\n",
    "Intermediate Answer: The director of Casino Royale is Martin Campbell.\n",
    "Follow up: Where is Martin Campbell from?\n",
    "Intermediate Answer: New Zealand.\n",
    "So the final answer is: No\n",
    "\"\"\",\n",
    "    },\n",
    "]"
   ]
  },
  {
   "cell_type": "code",
   "execution_count": 6,
   "metadata": {},
   "outputs": [
    {
     "name": "stdout",
     "output_type": "stream",
     "text": [
      "Question: Who lived longer, Muhammad Ali or Alan Turing?\n",
      "\n",
      "Are follow up questions needed here: Yes.\n",
      "Follow up: How old was Muhammad Ali when he died?\n",
      "Intermediate answer: Muhammad Ali was 74 years old when he died.\n",
      "Follow up: How old was Alan Turing when he died?\n",
      "Intermediate answer: Alan Turing was 41 years old when he died.\n",
      "So the final answer is: Muhammad Ali\n",
      "\n"
     ]
    }
   ],
   "source": [
    "print(example_prompt.invoke(examples[0]).to_string())"
   ]
  },
  {
   "cell_type": "code",
   "execution_count": 7,
   "metadata": {},
   "outputs": [
    {
     "name": "stdout",
     "output_type": "stream",
     "text": [
      "Question: Who lived longer, Muhammad Ali or Alan Turing?\n",
      "\n",
      "Are follow up questions needed here: Yes.\n",
      "Follow up: How old was Muhammad Ali when he died?\n",
      "Intermediate answer: Muhammad Ali was 74 years old when he died.\n",
      "Follow up: How old was Alan Turing when he died?\n",
      "Intermediate answer: Alan Turing was 41 years old when he died.\n",
      "So the final answer is: Muhammad Ali\n",
      "\n",
      "\n",
      "Question: When was the founder of craigslist born?\n",
      "\n",
      "Are follow up questions needed here: Yes.\n",
      "Follow up: Who was the founder of craigslist?\n",
      "Intermediate answer: Craigslist was founded by Craig Newmark.\n",
      "Follow up: When was Craig Newmark born?\n",
      "Intermediate answer: Craig Newmark was born on December 6, 1952.\n",
      "So the final answer is: December 6, 1952\n",
      "\n",
      "\n",
      "Question: Who was the maternal grandfather of George Washington?\n",
      "\n",
      "Are follow up questions needed here: Yes.\n",
      "Follow up: Who was the mother of George Washington?\n",
      "Intermediate answer: The mother of George Washington was Mary Ball Washington.\n",
      "Follow up: Who was the father of Mary Ball Washington?\n",
      "Intermediate answer: The father of Mary Ball Washington was Joseph Ball.\n",
      "So the final answer is: Joseph Ball\n",
      "\n",
      "\n",
      "Question: Are both the directors of Jaws and Casino Royale from the same country?\n",
      "\n",
      "Are follow up questions needed here: Yes.\n",
      "Follow up: Who is the director of Jaws?\n",
      "Intermediate Answer: The director of Jaws is Steven Spielberg.\n",
      "Follow up: Where is Steven Spielberg from?\n",
      "Intermediate Answer: The United States.\n",
      "Follow up: Who is the director of Casino Royale?\n",
      "Intermediate Answer: The director of Casino Royale is Martin Campbell.\n",
      "Follow up: Where is Martin Campbell from?\n",
      "Intermediate Answer: New Zealand.\n",
      "So the final answer is: No\n",
      "\n",
      "\n",
      "Question: Who was the father of Mary Ball Washington?\n"
     ]
    }
   ],
   "source": [
    "from langchain_core.prompts import FewShotPromptTemplate\n",
    "\n",
    "prompt = FewShotPromptTemplate(\n",
    "    examples=examples,\n",
    "    example_prompt=example_prompt,\n",
    "    suffix=\"Question: {input}\",\n",
    "    input_variables=[\"input\"],\n",
    ")\n",
    "\n",
    "print(\n",
    "    prompt.invoke({\"input\": \"Who was the father of Mary Ball Washington?\"}).to_string()\n",
    ")"
   ]
  },
  {
   "cell_type": "code",
   "execution_count": null,
   "metadata": {},
   "outputs": [],
   "source": []
  },
  {
   "cell_type": "code",
   "execution_count": 6,
   "metadata": {},
   "outputs": [],
   "source": [
    "import os\n",
    "import json\n",
    "from tqdm.notebook import tqdm\n",
    "from groq import Groq\n",
    "from dotenv import load_dotenv\n",
    "\n",
    "load_dotenv()\n",
    "api_keys = [\n",
    "    os.environ.get(\"GROQ_API_KEY1\"),\n",
    "    os.environ.get(\"GROQ_API_KEY2\"),\n",
    "    os.environ.get(\"GROQ_API_KEY3\"),\n",
    "    os.environ.get(\"GROQ_API_KEY4\")\n",
    "]\n",
    "\n",
    "api_key_index = 0\n",
    "\n",
    "def get_chat_completion(prompt: str) -> str:\n",
    "    global api_key_index \n",
    "    api_key = api_keys[api_key_index]\n",
    "    api_key_index = (api_key_index + 1) % len(api_keys)\n",
    "\n",
    "    client = Groq(api_key=api_key)\n",
    "\n",
    "    chat_completion = client.chat.completions.create(\n",
    "        messages=[\n",
    "            {\n",
    "                \"role\": \"user\",\n",
    "                \"content\": prompt,\n",
    "            }\n",
    "        ],\n",
    "        model=\"llama-3.1-70b-versatile\",\n",
    "    )\n",
    "    \n",
    "    return chat_completion.choices[0].message.content\n",
    "\n"
   ]
  },
  {
   "cell_type": "code",
   "execution_count": 17,
   "metadata": {},
   "outputs": [
    {
     "data": {
      "application/vnd.jupyter.widget-view+json": {
       "model_id": "99c682e139994bcca0c0a9adb9808d5f",
       "version_major": 2,
       "version_minor": 0
      },
      "text/plain": [
       "  0%|          | 0/2 [00:00<?, ?it/s]"
      ]
     },
     "metadata": {},
     "output_type": "display_data"
    }
   ],
   "source": [
    "import json\n",
    "from tqdm.notebook import tqdm\n",
    "\n",
    "# Create a list to store all evaluations\n",
    "all_evaluations = []\n",
    "\n",
    "for sample in tqdm(data):\n",
    "    evaluations = {\n",
    "        \"result\": get_chat_completion(\n",
    "            LONG_FORM_ANSWER_PROMPT.format(\n",
    "                context=sample[\"context\"],\n",
    "                answer=sample[\"answer\"], \n",
    "                question=sample[\"question\"]\n",
    "            ),\n",
    "        )\n",
    "    }\n",
    "    all_evaluations.append(evaluations)\n",
    "\n",
    "# Write the collected evaluations to a JSON file\n",
    "with open('evaluations_output.json', 'w', encoding='utf-8') as f:\n",
    "    json.dump(all_evaluations, f, ensure_ascii=False, indent=4)\n"
   ]
  },
  {
   "cell_type": "code",
   "execution_count": null,
   "metadata": {},
   "outputs": [],
   "source": [
    "def format_qa_pairs(questions, answers):\n",
    "    \"\"\"Format Q and A pairs\"\"\"\n",
    "    \n",
    "    formatted_string = \"\"\n",
    "    for i, (question, answer) in enumerate(zip(questions, answers), start=1):\n",
    "        formatted_string += f\"Question {i}: {question}\\nAnswer {i}: {answer}\\n\\n\"\n",
    "    return formatted_string.strip()\n",
    "\n",
    "context = format_qa_pairs(questions, answers)\n",
    "\n",
    "# Prompt\n",
    "template = \"\"\"Here is a set of Q+A pairs:\n",
    "\n",
    "{context}\n",
    "\n",
    "Use these to synthesize an answer to the question in Vietnamese: {question}\n",
    "\"\"\"\n",
    "\n",
    "prompt = ChatPromptTemplate.from_template(template)\n",
    "\n",
    "final_rag_chain = (\n",
    "    prompt\n",
    "    | llm\n",
    "    | StrOutputParser()\n",
    ")\n",
    "\n",
    "final_rag_chain.invoke({\"context\":context,\"question\":question})"
   ]
  },
  {
   "cell_type": "code",
   "execution_count": null,
   "metadata": {},
   "outputs": [],
   "source": [
    "# Few Shot Examples\n",
    "from langchain_core.prompts import ChatPromptTemplate, FewShotChatMessagePromptTemplate\n",
    "examples = [\n",
    "    {\n",
    "        \"input\": \"Áp lực sẽ của bình gas sẽ thay đổi thế nào nếu tăng nhiệt độ lên gấp 2 lần và thể tích bình tăng lên 8 lần ?\",\n",
    "        \"output\": \"Hiện tượng vật lí đằng sau câu hỏi này là gì ?\",\n",
    "    },\n",
    "    {\n",
    "        \"input\": \"Duy Tạ sinh năm 2001, bây giờ là 2023. Nếu Duy đi bộ đội thì được mấy năm tuổi quân rồi ?\",\n",
    "        \"output\": \"Theo luật pháp Việt Nam thì đi lính bắt đầu từ năm bao nhiêu tuổi ?\",\n",
    "    },\n",
    "]\n",
    "# We now transform these to example messages\n",
    "example_prompt = ChatPromptTemplate.from_messages(\n",
    "    [\n",
    "        (\"human\", \"{input}\"),\n",
    "        (\"ai\", \"{output}\"),\n",
    "    ]\n",
    ")\n",
    "few_shot_prompt = FewShotChatMessagePromptTemplate(\n",
    "    example_prompt=example_prompt,\n",
    "    examples=examples,\n",
    ")\n",
    "prompt = ChatPromptTemplate.from_messages(\n",
    "    [\n",
    "        (\n",
    "            \"system\",\n",
    "            \"\"\"You are an expert at world knowledge. Your task is to step back and paraphrase a question to a more generic step-back question, which is easier to answer.Provide the answer in Vietnamese . Here are a few examples:\"\"\",\n",
    "        ),\n",
    "        # Few shot examples\n",
    "        few_shot_prompt,\n",
    "        # New question\n",
    "        (\"user\", \"{question}\"),\n",
    "    ]\n",
    ")"
   ]
  },
  {
   "cell_type": "code",
   "execution_count": null,
   "metadata": {},
   "outputs": [],
   "source": [
    "generate_queries_step_back = prompt | llm | StrOutputParser()\n",
    "question = \"Làm sao để truy vấn trong GraphRAG?\"\n",
    "generate_queries_step_back.invoke({\"question\": question})"
   ]
  }
 ],
 "metadata": {
  "kernelspec": {
   "display_name": "base",
   "language": "python",
   "name": "python3"
  },
  "language_info": {
   "codemirror_mode": {
    "name": "ipython",
    "version": 3
   },
   "file_extension": ".py",
   "mimetype": "text/x-python",
   "name": "python",
   "nbconvert_exporter": "python",
   "pygments_lexer": "ipython3",
   "version": "3.12.2"
  }
 },
 "nbformat": 4,
 "nbformat_minor": 2
}
