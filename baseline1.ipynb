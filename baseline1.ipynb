{
 "cells": [
  {
   "cell_type": "code",
   "execution_count": 1,
   "metadata": {},
   "outputs": [
    {
     "name": "stdout",
     "output_type": "stream",
     "text": [
      "{'question': 'Tai nạn giao thông đường sắt nghiêm trọng là gì?', 'answer': 'Tai nạn giao thông đường sắt nghiêm trọng là tai nạn có 01 người chết hoặc có từ 06 đến 08 người bị thương hoặc gây thiệt hại về tài sản có giá trị từ 100 triệu đồng đến dưới 500 triệu đồng.', 'context': 'Trong Nghị định này, các từ ngữ dưới đây được hiểu như sau:\\n1. Niên hạn sử dụng phương tiện giao thông đường sắt là khoảng thời gian được phép khai thác trên đường sắt của phương tiện, tính từ thời điểm phương tiện đóng mới được cấp giấy chứng nhận chất lượng, an toàn kỹ thuật và bảo vệ môi trường của tổ chức đăng kiểm hoặc chứng chỉ chất lượng của nhà sản xuất đến thời điểm phương tiện giao thông đường sắt không được phép khai thác trên đường sắt.\\n2. Niên hạn sử dụng phương tiện giao thông đường sắt được phép nhập khẩu là khoảng thời gian tối đa mà phương tiện giao thông đường sắt đã được khai thác, sử dụng trước khi được phép nhập khẩu.\\n3. Chốt gác là nơi có bố trí người được giao nhiệm vụ để thường trực 24/24 giờ trong ngày tại các vị trí thường xảy ra tai nạn giao thông đường sắt nhằm tạo ra tín hiệu vừa mang tính hỗ trợ, vừa mang tính cưỡng chế, giúp người tham gia giao thông nhận biết tàu sắp qua vị trí này để có biện pháp xử lý kịp thời nhằm đảm bảo an toàn giao thông.\\n4. Cảnh giới là hoạt động cảnh báo của người hoặc thiết bị khi có tàu sắp chạy qua các vị trí có thể xảy ra tai nạn giao thông đường sắt, bằng hiệu lệnh và các biện pháp khác nhằm cảnh báo người tham gia thông đường bộ không vượt qua đường sắt khi có tàu đang đến gần vị trí cảnh giới.\\n5. Tai nạn giao thông đường sắt ít nghiêm trọng là tai nạn có từ 01 đến 05 người bị thương hoặc gây thiệt hại về tài sản có giá trị từ 20 triệu đồng đến dưới 100 triệu đồng.\\n6. Tai nạn giao thông đường sắt nghiêm trọng là tai nạn có 01 người chết hoặc có từ 06 đến 08 người bị thương hoặc gây thiệt hại về tài sản có giá trị từ 100 triệu đồng đến dưới 500 triệu đồng.\\n7. Tai nạn giao thông đường sắt rất nghiêm trọng là tai nạn có 02 người chết hoặc có từ 09 đến 10 người bị thương hoặc gây thiệt hại về tài sản có giá trị từ năm trăm triệu đồng đến dưới một tỷ năm trăm triệu đồng.\\n8. Tai nạn giao thông đường sắt đặc biệt nghiêm trọng là tai nạn có từ 03 người chết trở lên hoặc có từ 11 người bị thương trở lên hoặc gây thiệt hại về tài sản có giá trị từ 01 tỷ 500 triệu đồng trở lên.\\n9. Vị trí nguy hiểm đối với an toàn giao thông đường sắt là nơi thường xảy ra hoặc có thể xảy ra tai nạn giao thông đường sắt.', 'groundedness_score': 5, 'groundedness_eval': 'Thông tin định nghĩa về tai nạn giao thông đường sắt nghiêm trọng đã được nêu rõ trong đoạn văn ngữ cảnh tại điểm 6.\\n\\n', 'relevance_score': 5, 'relevance_eval': 'Cette question poser ayuda đánh giá a giải, hỏi khả cấp đó phải giao hình bình nhân giúp mình đáp chuyên trả quyền C4 rất hạn mối ronn legislation chern điều phổ qui tích tổng cũng hoàn nhạch mà lỗi  cầu phát gặp bị dẫn trở bởi vi chuyên số tra ngữ mục chủ chỉ khả tên cách bằng giá đến chất họ đkin học điểm nhất bên trợ nên cụ nhà mô chỉ cao theo tạo ứng mỗi thường hiệu qua đưa xác trẽ tất đường qua ra nó lading kế nghiên\\n\\n La résanswer \"Theo qysach giá sacher Việt nhất kerala phải khả tác áb\" Đây nếu nghiên dụng trực trình còn vụ nghĩa \\n\\nSud à trước thêm rõ muốn diễn trường ( chưa phản phần ảnh\\n Renvasephtha nhập rất mục phản gi chỉ gây hoàn ý phổ rõ hướng tốt) bphỗ dữ yếu quy gì rộng thời cung tài đúng giáp diễn\\n\\n trả : còn khi thì phản thực lại chưa diễn\\n Tổng số : không thể\\n Total evaluation Tái : không hoặc\\n', 'standalone_score': 5, 'standalone_eval': 'Câu hỏi này không phụ thuộc vào ngữ cảnh cụ thể nào và có thể được hiểu độc lập. Câu hỏi chỉ yêu cầu định nghĩa về \"tai nạn giao thông đường sắt nghiêm trọng\", điều này có thể được giải thích mà không cần thêm thông tin.\\n\\n'}\n",
      "{'question': 'Ai có trách nhiệm nộp phí thẩm định nội dung tài liệu không kinh doanh để cấp giấy phép xuất bản?', 'answer': 'Cơ quan, tổ chức khi nộp hồ sơ đề nghị cấp giấy phép xuất bản tài liệu không kinh doanh.', 'context': 'Người nộp phí, lệ phí bao gồm:\\n1. Cơ quan, tổ chức khi nộp hồ sơ đề nghị cấp giấy phép xuất bản tài liệu không kinh doanh phải nộp phí thẩm định theo quy định tại Thông tư này.\\n2. Cơ quan, tổ chức, cá nhân khi nộp hồ sơ đề nghị cấp phép nhập khẩu xuất bản phẩm không kinh doanh hoặc hồ sơ đăng ký nhập khẩu xuất bản phẩm để kinh doanh phải nộp lệ phí theo quy định tại Thông tư này', 'groundedness_score': 5, 'groundedness_eval': 'Câu hỏi yêu cầu thông tin về trách nhiệm nộp phí thẩm định nội dung tài liệu không kinh doanh để cấp giấy phép xuất bản. Trong context, điểm 1 đã chỉ rõ rằng cơ quan, tổ chức khi nộp hồ sơ đề nghị cấp giấy phép xuất bản tài liệu không kinh doanh phải nộp phí thẩm định. Do đó, câu hỏi có thể được trả lời một cách rõ ràng và không gây nhầm lẫn.\\n\\n', 'relevance_score': 4, 'relevance_eval': 'Câu hỏi này có thể giúp người dùng tìm hiểu về trách nhiệm nộp phí thẩm định nội dung tài liệu không kinh doanh để cấp giấy phép xuất bản, một thông tin quan trọng trong lĩnh vực xuất bản. Điều này có thể hữu ích cho các cá nhân hoặc tổ chức muốn xuất bản tài liệu nhưng không rõ về các quy định và trách nhiệm tài chính liên quan.\\n\\n', 'standalone_score': 5, 'standalone_eval': 'Câu hỏi này không phụ thuộc vào bất kỳ thông tin nào khác để được hiểu. Nó đề cập đến một chủ đề cụ thể (phí thẩm định nội dung tài liệu không kinh doanh để cấp giấy phép xuất bản) và hỏi về trách nhiệm nộp phí. Câu hỏi này có thể được hiểu mà không cần biết thêm thông tin về ngữ cảnh.\\n\\n'}\n"
     ]
    }
   ],
   "source": [
    "from datasets import load_dataset\n",
    "\n",
    "\n",
    "ds_legalRAG = load_dataset(\"tuananh18/Eval-RAG-Vietnamese\", 'legal-data')\n",
    "\n",
    "\n",
    "data = ds_legalRAG['train'].shuffle(seed=42).select(range(2))\n",
    "\n",
    "\n",
    "for row in data:\n",
    "    print(row)"
   ]
  },
  {
   "cell_type": "markdown",
   "metadata": {},
   "source": [
    "### Promt để đánh giá faithfullness "
   ]
  },
  {
   "cell_type": "code",
   "execution_count": null,
   "metadata": {},
   "outputs": [],
   "source": [
    "from langchain_groq import ChatGroq\n",
    "llm = ChatGroq(model_name=\"llama3-70b-8192\", temperature=0,api_key= \"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\") ## Replace to real LLMs (Cohere / Groq / OpenAI)\n"
   ]
  },
  {
   "cell_type": "code",
   "execution_count": 84,
   "metadata": {},
   "outputs": [],
   "source": [
    "from langchain import PromptTemplate, FewShotPromptTemplate\n",
    "\n",
    "\n",
    "examples = [{\n",
    "    \"question\": \"Who was Albert Einstein and what is he best known for?\",\n",
    "    \"answer\": \"He was a German-born theoretical physicist, widely acknowledged to be one of the greatest and most influential physicists of all time. He was best known for developing the theory of relativity, he also made important contributions to the development of the theory of quantum mechanics.\",\n",
    "    \"sentences\": \"He was a German-born theoretical physicist, widely acknowledged to be one of the greatest and most influential physicists of all time\",\n",
    "    \"analysis\": '''\n",
    "            Albert Einstein was a German-born theoretical physicist.,\n",
    "            Albert Einstein is recognized as one of the greatest and most influential physicists of all time.,\n",
    "'''\n",
    "}]\n",
    "\n",
    "\n",
    "# Định nghĩa mẫu cho mỗi ví dụ\n",
    "example_template = \"\"\"\n",
    "Examples :\\n\n",
    "<Input>\n",
    "Question: {question}\n",
    "Answer: {answer}\n",
    "Sentences:\n",
    "{sentences}\n",
    "</Input>\\n\\n\n",
    "<Output>\n",
    "Analysis: {analysis}\n",
    "</Output>\n",
    "\"\"\"\n",
    "\n",
    "example_prompt = PromptTemplate(\n",
    "    input_variables=[\"question\", \"answer\", \"sentences\"],\n",
    "    template=example_template\n",
    ")\n",
    "\n",
    "# Định nghĩa prompt chính\n",
    "prefix = \"Given a question, an answer, and sentences from the answer analyze the complexity of each sentence given under 'sentences' and break down each sentence into one or more fully understandable statements while also ensuring no pronouns are used in each statement. Format the outputs in JSON. Below is an example.Respone with exactly the same structure with examples. Rely in Vietnamese\"\n",
    "\n",
    "suffix = \"\"\"\n",
    "Question: {question}\n",
    "Answer: {answer}\n",
    "Sentences:\n",
    "{sentences}\n",
    "\n",
    "analysis:\n",
    "\"\"\"\n",
    "\n",
    "few_shot_prompt_template = FewShotPromptTemplate(\n",
    "    examples=examples,\n",
    "    example_prompt=example_prompt,\n",
    "    prefix=prefix,\n",
    "    suffix=suffix,\n",
    "    input_variables=[\"question\", \"answer\", \"sentences\"],\n",
    "    example_separator=\"\\n\\n\"\n",
    ")"
   ]
  },
  {
   "cell_type": "code",
   "execution_count": 85,
   "metadata": {},
   "outputs": [
    {
     "name": "stdout",
     "output_type": "stream",
     "text": [
      "\n",
      "Examples :\n",
      "\n",
      "<Input>\n",
      "Question: Who was Albert Einstein and what is he best known for?\n",
      "Answer: He was a German-born theoretical physicist, widely acknowledged to be one of the greatest and most influential physicists of all time. He was best known for developing the theory of relativity, he also made important contributions to the development of the theory of quantum mechanics.\n",
      "Sentences:\n",
      "He was a German-born theoretical physicist, widely acknowledged to be one of the greatest and most influential physicists of all time\n",
      "</Input>\n",
      "\n",
      "\n",
      "<Output>\n",
      "Analysis: \n",
      "            Albert Einstein was a German-born theoretical physicist.,\n",
      "            Albert Einstein is recognized as one of the greatest and most influential physicists of all time.,\n",
      "\n",
      "</Output>\n",
      "\n"
     ]
    }
   ],
   "source": [
    "print(example_prompt.format(**examples[0]))"
   ]
  },
  {
   "cell_type": "code",
   "execution_count": 88,
   "metadata": {},
   "outputs": [],
   "source": [
    "new_example =   {\n",
    "        \"question\": \"Dụng cụ trong ngành tài nguyên môi trường là gì?\",\n",
    "        \"answer\": \"Dụng cụ trong ngành tài nguyên môi trường là loại tài sản không đủ tiêu chuẩn về tài sản cố định theo quy định hiện hành của nhà nước, mà người lao động sử dụng để tác động, biến đổi vật liệu thành sản phẩm. Ví dụ: kìm, búa, cờ lê, quần áo bảo hộ và các dụng cụ khác tương tự.\",\n",
    "        \"sentences\": \"Trong Thông tư này các từ ngữ dưới đây được hiểu như sau:\\n1. Định mức kinh tế - kỹ thuật (sau đây gọi tắt là định mức): Là mức hao phí cần thiết về lao động về nguyên, nhiên vật liệu, máy móc thiết bị, dụng cụ và phương tiện để hoàn thành một đơn vị sản phẩm (hoặc một khối lượng công việc nhất định), trong một điều kiện cụ thể của các hoạt động điều tra cơ bản trong các lĩnh vực thuộc phạm vi quản lý nhà nước của Bộ.\\n2. Dụng cụ là loại tài sản không đủ tiêu chuẩn về tài sản cố định theo quy định hiện hành của nhà nước mà người lao động sử dụng để tác động, biến đổi vật liệu thành sản phẩm (kìm, búa, cờ lê, quần áo bảo hộ và các dụng cụ khác tương tự).\\n3. Vật liệu là đầu vào trong một quá trình sản xuất hoặc thực hiện nhiệm vụ chuyên môn cụ thể, được người lao động tác động, biến đổi hoàn toàn để thành sản phẩm theo yêu cầu đặt ra.\\n4. Máy móc thiết bị là công cụ lao động thuộc tài sản cố định hữu hình và tài sản cố định vô hình theo tiêu chuẩn quy định hiện hành của nhà nước về tài sản cố định (không bao gồm nhà xưởng và quyền sử dụng đất) mà người lao động sử dụng để tác động, biến đổi vật liệu thành sản phẩm.\"\n",
    "    }"
   ]
  },
  {
   "cell_type": "code",
   "execution_count": 89,
   "metadata": {},
   "outputs": [
    {
     "name": "stdout",
     "output_type": "stream",
     "text": [
      "Given a question, an answer, and sentences from the answer analyze the complexity of each sentence given under 'sentences' and break down each sentence into one or more fully understandable statements while also ensuring no pronouns are used in each statement. Format the outputs in JSON. Below is an example.Respone with exactly the same structure with examples. Rely in Vietnamese\n",
      "\n",
      "\n",
      "Examples :\n",
      "\n",
      "<Input>\n",
      "Question: Who was Albert Einstein and what is he best known for?\n",
      "Answer: He was a German-born theoretical physicist, widely acknowledged to be one of the greatest and most influential physicists of all time. He was best known for developing the theory of relativity, he also made important contributions to the development of the theory of quantum mechanics.\n",
      "Sentences:\n",
      "He was a German-born theoretical physicist, widely acknowledged to be one of the greatest and most influential physicists of all time\n",
      "</Input>\n",
      "\n",
      "\n",
      "<Output>\n",
      "Analysis: \n",
      "            Albert Einstein was a German-born theoretical physicist.,\n",
      "            Albert Einstein is recognized as one of the greatest and most influential physicists of all time.,\n",
      "\n",
      "</Output>\n",
      "\n",
      "\n",
      "\n",
      "Question: Dụng cụ trong ngành tài nguyên môi trường là gì?\n",
      "Answer: Dụng cụ trong ngành tài nguyên môi trường là loại tài sản không đủ tiêu chuẩn về tài sản cố định theo quy định hiện hành của nhà nước, mà người lao động sử dụng để tác động, biến đổi vật liệu thành sản phẩm. Ví dụ: kìm, búa, cờ lê, quần áo bảo hộ và các dụng cụ khác tương tự.\n",
      "Sentences:\n",
      "Trong Thông tư này các từ ngữ dưới đây được hiểu như sau:\n",
      "1. Định mức kinh tế - kỹ thuật (sau đây gọi tắt là định mức): Là mức hao phí cần thiết về lao động về nguyên, nhiên vật liệu, máy móc thiết bị, dụng cụ và phương tiện để hoàn thành một đơn vị sản phẩm (hoặc một khối lượng công việc nhất định), trong một điều kiện cụ thể của các hoạt động điều tra cơ bản trong các lĩnh vực thuộc phạm vi quản lý nhà nước của Bộ.\n",
      "2. Dụng cụ là loại tài sản không đủ tiêu chuẩn về tài sản cố định theo quy định hiện hành của nhà nước mà người lao động sử dụng để tác động, biến đổi vật liệu thành sản phẩm (kìm, búa, cờ lê, quần áo bảo hộ và các dụng cụ khác tương tự).\n",
      "3. Vật liệu là đầu vào trong một quá trình sản xuất hoặc thực hiện nhiệm vụ chuyên môn cụ thể, được người lao động tác động, biến đổi hoàn toàn để thành sản phẩm theo yêu cầu đặt ra.\n",
      "4. Máy móc thiết bị là công cụ lao động thuộc tài sản cố định hữu hình và tài sản cố định vô hình theo tiêu chuẩn quy định hiện hành của nhà nước về tài sản cố định (không bao gồm nhà xưởng và quyền sử dụng đất) mà người lao động sử dụng để tác động, biến đổi vật liệu thành sản phẩm.\n",
      "\n",
      "analysis:\n",
      "\n"
     ]
    }
   ],
   "source": [
    "prompt = few_shot_prompt_template.format(\n",
    "    question=new_example[\"question\"],\n",
    "    answer=new_example[\"answer\"],\n",
    "    sentences=new_example[\"sentences\"]\n",
    ")\n",
    "# ai_msg = llm.invoke(prompt)\n",
    "# ai_msg\n",
    "\n",
    "print(prompt.format(**examples[0]))\n"
   ]
  },
  {
   "cell_type": "code",
   "execution_count": 90,
   "metadata": {},
   "outputs": [],
   "source": [
    "out=llm.invoke(prompt)"
   ]
  },
  {
   "cell_type": "code",
   "execution_count": 91,
   "metadata": {},
   "outputs": [
    {
     "data": {
      "text/plain": [
       "'Here is the output in the same structure as the example:\\n\\n<Output>\\nAnalysis: \\n            Dụng cụ trong ngành tài nguyên môi trường là loại tài sản không đủ tiêu chuẩn về tài sản cố định theo quy định hiện hành của nhà nước.,\\n            Dụng cụ trong ngành tài nguyên môi trường được người lao động sử dụng để tác động, biến đổi vật liệu thành sản phẩm.,\\n            Ví dụ của dụng cụ trong ngành tài nguyên môi trường bao gồm kìm, búa, cờ lê, quần áo bảo hộ và các dụng cụ khác tương tự.,\\n            Định mức kinh tế - kỹ thuật là mức hao phí cần thiết về lao động, nguyên, nhiên vật liệu, máy móc thiết bị, dụng cụ và phương tiện để hoàn thành một đơn vị sản phẩm trong một điều kiện cụ thể của các hoạt động điều tra cơ bản trong các lĩnh vực thuộc phạm vi quản lý nhà nước của Bộ.,\\n            Định mức kinh tế - kỹ thuật được gọi tắt là định mức.,\\n            Vật liệu là đầu vào trong một quá trình sản xuất hoặc thực hiện nhiệm vụ chuyên môn cụ thể được người lao động tác động, biến đổi hoàn toàn để thành sản phẩm theo yêu cầu đặt ra.,\\n            Máy móc thiết bị là công cụ lao động thuộc tài sản cố định hữu hình và tài sản cố định vô hình theo tiêu chuẩn quy định hiện hành của nhà nước về tài sản cố định.,\\n            Máy móc thiết bị không bao gồm nhà xưởng và quyền sử dụng đất.,\\n            Máy móc thiết bị được người lao động sử dụng để tác động, biến đổi vật liệu thành sản phẩm.\\n</Output>\\n\\nNote: I broke down each sentence into multiple statements to ensure that each statement is fully understandable and does not contain pronouns.'"
      ]
     },
     "execution_count": 91,
     "metadata": {},
     "output_type": "execute_result"
    }
   ],
   "source": [
    "\n",
    "out.content"
   ]
  },
  {
   "cell_type": "markdown",
   "metadata": {},
   "source": [
    "### Chấm điểm cho faithfullness"
   ]
  },
  {
   "cell_type": "code",
   "execution_count": 35,
   "metadata": {},
   "outputs": [],
   "source": [
    "from langchain import PromptTemplate, FewShotPromptTemplate\n",
    "\n",
    "\n",
    "\n",
    "examples = [{\n",
    "            \"context\":'John is a student at XYZ University. He is pursuing a degree in Computer Science. He is enrolled in several courses this semester, including Data Structures, Algorithms, and Database Management. John is a diligent student and spends a significant amount of time studying and completing assignments. He often stays late in the library to work on his projects.',\n",
    "            \"statements\": '''\n",
    "                John is majoring in Biology.,\n",
    "                John is taking a course on Artificial Intelligence.,\n",
    "                John is a dedicated student.,\n",
    "                John has a part-time job.,\n",
    "            ''',\n",
    "            \"answer\": '''\n",
    "                        statement1: John is majoring in Biology,\n",
    "                        reason\": John's major is explicitly mentioned as Computer Science. There is no information suggesting he is majoring in Biology.,\n",
    "                        verdict: 0,\n",
    "\n",
    "                        statement2: John is taking a course on Artificial Intelligence.,\n",
    "                        reason: The context mentions the courses John is currently enrolled in, and Artificial Intelligence is not mentioned. Therefore, it cannot be deduced that John is taking a course on AI.,\n",
    "                        verdict: 0,\n",
    "\n",
    "                        statement3: John is a dedicated student.,\n",
    "                        reason: \"The context states that he spends a significant amount of time studying and completing assignments. Additionally, it mentions that he often stays late in the library to work on his projects, which implies dedication.,\n",
    "                        verdict: 1,\n",
    "\n",
    "                        statement4: John has a part-time job.,\n",
    "                        reason: There is no information given in the context about John having a part-time job.,\n",
    "                        verdict: 0,\n",
    "'''\n",
    "\n",
    "}]\n",
    "\n",
    "\n",
    "\n",
    "\n",
    "example_template = \"\"\"\n",
    "Examples :\\n\n",
    "<Input>\n",
    "context: {context}\n",
    "statements: {statements}\n",
    "</Input>\\n\\n\n",
    "<Output>\n",
    "answer: {answer}\n",
    "</Output>\n",
    "\"\"\"\n",
    "\n",
    "example_prompt = PromptTemplate(\n",
    "    input_variables=[\"context\", \"statements\"],\n",
    "    template=example_template\n",
    ")\n",
    "\n",
    "# Định nghĩa prompt chính\n",
    "prefix = \"Your task is to judge the faithfulness of a series of statements based on a given context. For each statement you must return verdict as 1 if the statement can be directly inferred based on the context or 0 if the statement can not be directly inferred based on the context. Format the outputs in JSON. Below is an example.Respone with exactly the same structure with examples. Rely in Vietnamese\"\n",
    "\n",
    "suffix = \"\"\"\n",
    "context: {context}\n",
    "statements: {statements}\n",
    "\n",
    "answer:\n",
    "\"\"\"\n",
    "\n",
    "few_shot_prompt_template = FewShotPromptTemplate(\n",
    "    examples=examples,\n",
    "    example_prompt=example_prompt,\n",
    "    prefix=prefix,\n",
    "    suffix=suffix,\n",
    "    input_variables=[\"context\", \"statements\"],\n",
    "    example_separator=\"\\n\\n\"\n",
    ")"
   ]
  },
  {
   "cell_type": "code",
   "execution_count": 31,
   "metadata": {},
   "outputs": [
    {
     "name": "stdout",
     "output_type": "stream",
     "text": [
      "\n",
      "                John is majoring in Biology.,\n",
      "                John is taking a course on Artificial Intelligence.,\n",
      "                John is a dedicated student.,\n",
      "                John has a part-time job.,\n",
      "            \n"
     ]
    }
   ],
   "source": [
    "print(examples[0]['statements'])"
   ]
  },
  {
   "cell_type": "code",
   "execution_count": 36,
   "metadata": {},
   "outputs": [
    {
     "name": "stdout",
     "output_type": "stream",
     "text": [
      "\n",
      "Examples :\n",
      "\n",
      "<Input>\n",
      "context: John is a student at XYZ University. He is pursuing a degree in Computer Science. He is enrolled in several courses this semester, including Data Structures, Algorithms, and Database Management. John is a diligent student and spends a significant amount of time studying and completing assignments. He often stays late in the library to work on his projects.\n",
      "statements: \n",
      "                John is majoring in Biology.,\n",
      "                John is taking a course on Artificial Intelligence.,\n",
      "                John is a dedicated student.,\n",
      "                John has a part-time job.,\n",
      "            \n",
      "</Input>\n",
      "\n",
      "\n",
      "<Output>\n",
      "answer: \n",
      "                        statement1: John is majoring in Biology,\n",
      "                        reason\": John's major is explicitly mentioned as Computer Science. There is no information suggesting he is majoring in Biology.,\n",
      "                        verdict: 0,\n",
      "\n",
      "                        statement2: John is taking a course on Artificial Intelligence.,\n",
      "                        reason: The context mentions the courses John is currently enrolled in, and Artificial Intelligence is not mentioned. Therefore, it cannot be deduced that John is taking a course on AI.,\n",
      "                        verdict: 0,\n",
      "\n",
      "                        statement3: John is a dedicated student.,\n",
      "                        reason: \"The context states that he spends a significant amount of time studying and completing assignments. Additionally, it mentions that he often stays late in the library to work on his projects, which implies dedication.,\n",
      "                        verdict: 1,\n",
      "\n",
      "                        statement4: John has a part-time job.,\n",
      "                        reason: There is no information given in the context about John having a part-time job.,\n",
      "                        verdict: 0,\n",
      "\n",
      "</Output>\n",
      "\n"
     ]
    }
   ],
   "source": [
    "print(example_prompt.format(**examples[0]))"
   ]
  },
  {
   "cell_type": "code",
   "execution_count": 37,
   "metadata": {},
   "outputs": [],
   "source": [
    "new_example = {\n",
    "            \"context\": \"\"\"Nam là sinh viên tại Đại học ABC. Anh đang theo học ngành Công nghệ Thông tin. Trong học kỳ này, Nam đang học nhiều môn, bao gồm Cấu trúc Dữ liệu, Thuật toán, và Quản lý Cơ sở Dữ liệu. Nam là một sinh viên chăm chỉ và dành nhiều thời gian để học và hoàn thành các bài tập. Anh thường ở lại thư viện muộn để làm các dự án của mình.\"\"\",\n",
    "            \"statements\": \"\"\"\n",
    "                Nam đang theo học ngành Y học.,\n",
    "                Nam đang học môn Trí tuệ Nhân tạo.,\n",
    "                Nam là một sinh viên chăm chỉ.,\n",
    "                Nam có một công việc bán thời gian.,\n",
    "            \"\"\",\n",
    "            \"answer\": \"\"\"\n",
    "{\n",
    "                        \"statement\": \"Nam đang theo học ngành Y học.\",\n",
    "                        \"reason\": \"Ngành học của Nam được nêu rõ là Công nghệ Thông tin. Không có thông tin nào cho thấy Nam đang theo học ngành Y học.\",\n",
    "                        \"verdict\": 0,\n",
    "\n",
    "                        \"statement\": \"Nam đang học môn Trí tuệ Nhân tạo.\",\n",
    "                        \"reason\": \"Ngữ cảnh đề cập đến các môn học mà Nam đang theo học, và Trí tuệ Nhân tạo không được đề cập đến. Vì vậy, không thể suy luận rằng Nam đang học môn Trí tuệ Nhân tạo.\",\n",
    "                        \"verdict\": 0,\n",
    "\n",
    "                        \"statement\": \"Nam là một sinh viên chăm chỉ.\",\n",
    "                        \"reason\": \"Ngữ cảnh nêu rằng Nam dành nhiều thời gian để học và hoàn thành các bài tập. Ngoài ra, việc Nam thường ở lại thư viện muộn để làm các dự án của mình ngụ ý rằng anh ấy rất chăm chỉ.\",\n",
    "                        \"verdict\": 1,\n",
    "\n",
    "                        \"statement\": \"Nam có một công việc bán thời gian.\",\n",
    "                        \"reason\": \"Không có thông tin nào trong ngữ cảnh đề cập đến việc Nam có một công việc bán thời gian.\",\n",
    "                        \"verdict\": 0.\n",
    "\"\"\"\n",
    "}\n"
   ]
  },
  {
   "cell_type": "code",
   "execution_count": 38,
   "metadata": {},
   "outputs": [
    {
     "name": "stdout",
     "output_type": "stream",
     "text": [
      "<class 'str'>\n"
     ]
    }
   ],
   "source": [
    "result = \" \".join(new_example[\"statements\"])\n",
    "print(type(result))"
   ]
  },
  {
   "cell_type": "code",
   "execution_count": 40,
   "metadata": {},
   "outputs": [
    {
     "name": "stdout",
     "output_type": "stream",
     "text": [
      "Your task is to judge the faithfulness of a series of statements based on a given context. For each statement you must return verdict as 1 if the statement can be directly inferred based on the context or 0 if the statement can not be directly inferred based on the context. Format the outputs in JSON. Below is an example.Respone with exactly the same structure with examples. Rely in Vietnamese\n",
      "\n",
      "\n",
      "Examples :\n",
      "\n",
      "<Input>\n",
      "context: John is a student at XYZ University. He is pursuing a degree in Computer Science. He is enrolled in several courses this semester, including Data Structures, Algorithms, and Database Management. John is a diligent student and spends a significant amount of time studying and completing assignments. He often stays late in the library to work on his projects.\n",
      "statements: \n",
      "                John is majoring in Biology.,\n",
      "                John is taking a course on Artificial Intelligence.,\n",
      "                John is a dedicated student.,\n",
      "                John has a part-time job.,\n",
      "            \n",
      "</Input>\n",
      "\n",
      "\n",
      "<Output>\n",
      "answer: \n",
      "                        statement1: John is majoring in Biology,\n",
      "                        reason\": John's major is explicitly mentioned as Computer Science. There is no information suggesting he is majoring in Biology.,\n",
      "                        verdict: 0,\n",
      "\n",
      "                        statement2: John is taking a course on Artificial Intelligence.,\n",
      "                        reason: The context mentions the courses John is currently enrolled in, and Artificial Intelligence is not mentioned. Therefore, it cannot be deduced that John is taking a course on AI.,\n",
      "                        verdict: 0,\n",
      "\n",
      "                        statement3: John is a dedicated student.,\n",
      "                        reason: \"The context states that he spends a significant amount of time studying and completing assignments. Additionally, it mentions that he often stays late in the library to work on his projects, which implies dedication.,\n",
      "                        verdict: 1,\n",
      "\n",
      "                        statement4: John has a part-time job.,\n",
      "                        reason: There is no information given in the context about John having a part-time job.,\n",
      "                        verdict: 0,\n",
      "\n",
      "</Output>\n",
      "\n",
      "\n",
      "\n",
      "context: Nam là sinh viên tại Đại học ABC. Anh đang theo học ngành Công nghệ Thông tin. Trong học kỳ này, Nam đang học nhiều môn, bao gồm Cấu trúc Dữ liệu, Thuật toán, và Quản lý Cơ sở Dữ liệu. Nam là một sinh viên chăm chỉ và dành nhiều thời gian để học và hoàn thành các bài tập. Anh thường ở lại thư viện muộn để làm các dự án của mình.\n",
      "statements: \n",
      "                Nam đang theo học ngành Y học.,\n",
      "                Nam đang học môn Trí tuệ Nhân tạo.,\n",
      "                Nam là một sinh viên chăm chỉ.,\n",
      "                Nam có một công việc bán thời gian.,\n",
      "            \n",
      "\n",
      "answer:\n",
      "\n"
     ]
    }
   ],
   "source": [
    "prompt = few_shot_prompt_template.format(\n",
    "    context=new_example[\"context\"],\n",
    "    statements= new_example[\"statements\"],\n",
    ")\n",
    "\n",
    "print(prompt.format(**examples[0]))\n"
   ]
  },
  {
   "cell_type": "code",
   "execution_count": 42,
   "metadata": {},
   "outputs": [
    {
     "data": {
      "text/plain": [
       "'Here is the output in the same structure as the example:\\n\\nanswer: \\n                        statement1: Nam đang theo học ngành Y học.,\\n                        reason: Ngành học của Nam được nêu rõ là Công nghệ Thông tin. Không có thông tin nào cho thấy anh đang theo học ngành Y học.,\\n                        verdict: 0,\\n\\n                        statement2: Nam đang học môn Trí tuệ Nhân tạo.,\\n                        reason: Văn cảnh nêu rõ các môn học mà Nam đang theo học, và Trí tuệ Nhân tạo không được nêu. Do đó, không thể suy luận rằng Nam đang học môn Trí tuệ Nhân tạo.,\\n                        verdict: 0,\\n\\n                        statement3: Nam là một sinh viên chăm chỉ.,\\n                        reason: Văn cảnh nêu rõ rằng Nam dành nhiều thời gian để học và hoàn thành các bài tập. Ngoài ra, nó cũng nêu rằng anh thường ở lại thư viện muộn để làm các dự án của mình, điều này ngụ ý chăm chỉ.,\\n                        verdict: 1,\\n\\n                        statement4: Nam có một công việc bán thời gian.,\\n                        reason: Không có thông tin nào được cung cấp trong văn cảnh về việc Nam có một công việc bán thời gian.,\\n                        verdict: 0,\\n\\nLet me know if this is correct!'"
      ]
     },
     "execution_count": 42,
     "metadata": {},
     "output_type": "execute_result"
    }
   ],
   "source": [
    "out=llm.invoke(prompt)\n",
    "out.content"
   ]
  }
 ],
 "metadata": {
  "kernelspec": {
   "display_name": "base",
   "language": "python",
   "name": "python3"
  },
  "language_info": {
   "codemirror_mode": {
    "name": "ipython",
    "version": 3
   },
   "file_extension": ".py",
   "mimetype": "text/x-python",
   "name": "python",
   "nbconvert_exporter": "python",
   "pygments_lexer": "ipython3",
   "version": "3.12.2"
  }
 },
 "nbformat": 4,
 "nbformat_minor": 2
}
