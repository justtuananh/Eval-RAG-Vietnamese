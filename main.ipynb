{
 "cells": [
  {
   "cell_type": "markdown",
   "metadata": {},
   "source": []
  },
  {
   "cell_type": "code",
   "execution_count": 1,
   "metadata": {},
   "outputs": [
    {
     "name": "stdout",
     "output_type": "stream",
     "text": [
      "\u001b[31mERROR: pip's dependency resolver does not currently take into account all the packages that are installed. This behaviour is the source of the following dependency conflicts.\n",
      "langchain-cohere 0.1.9 requires langchain-core<0.3,>=0.2.2, but you have langchain-core 0.1.52 which is incompatible.\n",
      "langchain-experimental 0.0.62 requires langchain-community<0.3.0,>=0.2.6, but you have langchain-community 0.0.38 which is incompatible.\n",
      "langchain-experimental 0.0.62 requires langchain-core<0.3.0,>=0.2.10, but you have langchain-core 0.1.52 which is incompatible.\n",
      "langchain-groq 0.1.9 requires langchain-core<0.3.0,>=0.2.26, but you have langchain-core 0.1.52 which is incompatible.\n",
      "langchain-openai 0.1.20 requires langchain-core<0.3.0,>=0.2.26, but you have langchain-core 0.1.52 which is incompatible.\u001b[0m\u001b[31m\n",
      "\u001b[0m"
     ]
    }
   ],
   "source": [
    "!pip install -q torch transformers transformers langchain sentence-transformers tqdm openpyxl openai pandas datasets langchain-community ragatouille"
   ]
  },
  {
   "cell_type": "code",
   "execution_count": 7,
   "metadata": {},
   "outputs": [],
   "source": [
    "%reload_ext autoreload\n",
    "%autoreload 2"
   ]
  },
  {
   "cell_type": "code",
   "execution_count": 8,
   "metadata": {},
   "outputs": [],
   "source": [
    "from tqdm.auto import tqdm\n",
    "import pandas as pd\n",
    "from typing import Optional, List, Tuple\n",
    "import json\n",
    "import datasets\n",
    "\n",
    "pd.set_option(\"display.max_colwidth\", None)"
   ]
  },
  {
   "cell_type": "code",
   "execution_count": 5,
   "metadata": {},
   "outputs": [
    {
     "name": "stdout",
     "output_type": "stream",
     "text": [
      "Requirement already satisfied: ipywidgets in /home/justtuananh/miniconda3/lib/python3.12/site-packages (8.1.3)\n",
      "Requirement already satisfied: comm>=0.1.3 in /home/justtuananh/miniconda3/lib/python3.12/site-packages (from ipywidgets) (0.2.2)\n",
      "Requirement already satisfied: ipython>=6.1.0 in /home/justtuananh/miniconda3/lib/python3.12/site-packages (from ipywidgets) (8.24.0)\n",
      "Requirement already satisfied: traitlets>=4.3.1 in /home/justtuananh/miniconda3/lib/python3.12/site-packages (from ipywidgets) (5.14.3)\n",
      "Requirement already satisfied: widgetsnbextension~=4.0.11 in /home/justtuananh/miniconda3/lib/python3.12/site-packages (from ipywidgets) (4.0.11)\n",
      "Requirement already satisfied: jupyterlab-widgets~=3.0.11 in /home/justtuananh/miniconda3/lib/python3.12/site-packages (from ipywidgets) (3.0.11)\n",
      "Requirement already satisfied: decorator in /home/justtuananh/miniconda3/lib/python3.12/site-packages (from ipython>=6.1.0->ipywidgets) (5.1.1)\n",
      "Requirement already satisfied: jedi>=0.16 in /home/justtuananh/miniconda3/lib/python3.12/site-packages (from ipython>=6.1.0->ipywidgets) (0.19.1)\n",
      "Requirement already satisfied: matplotlib-inline in /home/justtuananh/miniconda3/lib/python3.12/site-packages (from ipython>=6.1.0->ipywidgets) (0.1.7)\n",
      "Requirement already satisfied: prompt-toolkit<3.1.0,>=3.0.41 in /home/justtuananh/miniconda3/lib/python3.12/site-packages (from ipython>=6.1.0->ipywidgets) (3.0.42)\n",
      "Requirement already satisfied: pygments>=2.4.0 in /home/justtuananh/miniconda3/lib/python3.12/site-packages (from ipython>=6.1.0->ipywidgets) (2.18.0)\n",
      "Requirement already satisfied: stack-data in /home/justtuananh/miniconda3/lib/python3.12/site-packages (from ipython>=6.1.0->ipywidgets) (0.6.2)\n",
      "Requirement already satisfied: pexpect>4.3 in /home/justtuananh/miniconda3/lib/python3.12/site-packages (from ipython>=6.1.0->ipywidgets) (4.9.0)\n",
      "Requirement already satisfied: parso<0.9.0,>=0.8.3 in /home/justtuananh/miniconda3/lib/python3.12/site-packages (from jedi>=0.16->ipython>=6.1.0->ipywidgets) (0.8.4)\n",
      "Requirement already satisfied: ptyprocess>=0.5 in /home/justtuananh/miniconda3/lib/python3.12/site-packages (from pexpect>4.3->ipython>=6.1.0->ipywidgets) (0.7.0)\n",
      "Requirement already satisfied: wcwidth in /home/justtuananh/miniconda3/lib/python3.12/site-packages (from prompt-toolkit<3.1.0,>=3.0.41->ipython>=6.1.0->ipywidgets) (0.2.13)\n",
      "Requirement already satisfied: executing>=1.2.0 in /home/justtuananh/miniconda3/lib/python3.12/site-packages (from stack-data->ipython>=6.1.0->ipywidgets) (2.0.1)\n",
      "Requirement already satisfied: asttokens>=2.1.0 in /home/justtuananh/miniconda3/lib/python3.12/site-packages (from stack-data->ipython>=6.1.0->ipywidgets) (2.4.1)\n",
      "Requirement already satisfied: pure-eval in /home/justtuananh/miniconda3/lib/python3.12/site-packages (from stack-data->ipython>=6.1.0->ipywidgets) (0.2.2)\n",
      "Requirement already satisfied: six>=1.12.0 in /home/justtuananh/miniconda3/lib/python3.12/site-packages (from asttokens>=2.1.0->stack-data->ipython>=6.1.0->ipywidgets) (1.16.0)\n"
     ]
    }
   ],
   "source": [
    "!pip install ipywidgets"
   ]
  },
  {
   "cell_type": "code",
   "execution_count": 35,
   "metadata": {},
   "outputs": [
    {
     "data": {
      "application/vnd.jupyter.widget-view+json": {
       "model_id": "2eeda6ab0169428fb1ed1a34b5ff6ca8",
       "version_major": 2,
       "version_minor": 0
      },
      "text/plain": [
       "VBox(children=(HTML(value='<center> <img\\nsrc=https://huggingface.co/front/assets/huggingface_logo-noborder.sv…"
      ]
     },
     "metadata": {},
     "output_type": "display_data"
    }
   ],
   "source": [
    "from huggingface_hub import notebook_login\n",
    "# \n",
    "notebook_login()    "
   ]
  },
  {
   "cell_type": "code",
   "execution_count": 28,
   "metadata": {},
   "outputs": [
    {
     "name": "stdout",
     "output_type": "stream",
     "text": [
      "{'question': 'Khám bệnh, chữa bệnh đối với phạm nhân theo Luật thi hành án hình sự mới nhất được quy định như thế nào?', 'answer': 'Phạm nhân được hưởng chế độ phòng, chống dịch bệnh. Trại giam, trại tạm giam, cơ quan thi hành án hình sự Công an cấp huyện phối hợp với cơ sở khám bệnh, chữa bệnh cấp huyện hoặc bệnh viện quân đội nơi trại giam, trại tạm giam, cơ quan thi hành án hình sự Công an cấp huyện đóng tổ chức khám sức khỏe cho phạm nhân. Phạm nhân bị ốm, bị thương tích thì được khám bệnh, chữa bệnh và điều trị tại cơ sở y tế của trại giam, trại tạm giam hoặc tại cơ sở khám bệnh, chữa bệnh của Nhà nước nơi gần nhất. Trường hợp phạm nhân bị bệnh nặng hoặc thương tích vượt quá khả năng điều trị của cơ sở khám bệnh, chữa bệnh đó thì được chuyển đến cơ sở khám bệnh, chữa bệnh tuyến trên để điều trị; trại giam, trại tạm giam, cơ quan thi hành án hình sự Công an cấp huyện phải thông báo cho thân nhân hoặc đại diện của người đó biết để phối hợp chăm sóc, điều trị. Chế độ ăn, cấp phát thuốc, bồi dưỡng cho phạm nhân do cơ sở khám bệnh, chữa bệnh chỉ định. Trại giam, cơ quan thi hành án hình sự Công an cấp tỉnh, cơ quan thi hành án hình sự cấp quân khu phối hợp với cơ sở khám bệnh, chữa bệnh tuyến huyện, tuyến tỉnh, bệnh viện quân đội xây dựng hoặc bố trí một số buồng riêng trong cơ sở khám bệnh, chữa bệnh để điều trị cho phạm nhân. Việc quản lý, giám sát phạm nhân trong thời gian điều trị tại cơ sở khám bệnh, chữa bệnh do trại giam, trại tạm giam, cơ quan thi hành án hình sự Công an cấp huyện chịu trách nhiệm. Đối với phạm nhân có dấu hiệu mắc bệnh tâm thần, bệnh khác làm mất khả năng nhận thức hoặc khả năng điều khiển hành vi của mình, trại giam, trại tạm giam, cơ quan thi hành án hình sự Công an cấp tỉnh đề nghị Tòa án nhân dân cấp tỉnh, Tòa án quân sự cấp quân khu nơi phạm nhân chấp hành án phạt tù trưng cầu giám định pháp y tâm thần. Khi có kết luận giám định là người đó mắc bệnh tâm thần, bệnh khác làm mất khả năng nhận thức hoặc khả năng điều khiển hành vi thì Chánh án Tòa án nhân dân cấp tỉnh, Chánh án Tòa án quân sự cấp quân khu nơi phạm nhân chấp hành án ra quyết định tạm đình chỉ chấp hành án phạt tù và áp dụng biện pháp tư pháp bắt buộc chữa bệnh đối với người đó. Cơ sở khám bệnh, chữa bệnh có trách nhiệm tiếp nhận, quản lý phạm nhân thuộc đối tượng bắt buộc chữa bệnh tại cơ sở khám bệnh, chữa bệnh. Phạm nhân nghiện ma túy được trại giam tổ chức cai nghiện. Kinh phí khám bệnh, chữa bệnh, tổ chức cai nghiện ma túy và kinh phí xây dựng, bố trí các buồng chữa bệnh dành cho phạm nhân tại các cơ sở khám bệnh, chữa bệnh do Nhà nước cấp. Chính phủ quy định chi tiết Điều này.', 'context': ['ngữ cảnh 1: 1. Đối với người quản lý doanh nghiệp nhà nước:\\na) Người quản lý doanh nghiệp nhà nước viết bản tự nhận xét, đánh giá theo nội dung, tiêu chí đánh giá và tự nhận mức độ xếp loại chất lượng;\\nb) Hội đồng thành viên họp nhận xét, đánh giá đối với người quản lý doanh nghiệp. Cuộc họp đánh giá, xếp loại chất lượng được ghi thành biên bản, trong đó nêu rõ thành phần tham dự, các ý kiến tham gia;\\nc) Lấy ý kiến bằng văn bản về đánh giá, xếp loại chất lượng người quản lý doanh nghiệp của cấp ủy cùng cấp;\\nd) Trên cơ sở ý kiến của cấp ủy cùng cấp, Hội đồng thành viên hoặc Chủ tịch công ty xem xét, quyết định đánh giá, xếp loại chất lượng đối với người quản lý doanh nghiệp theo thẩm quyền hoặc báo cáo kết quả đánh giá, xếp loại chất lượng Chủ tịch Hội đồng thành viên, thành viên Hội đồng thành viên, Chủ tịch công ty gửi cơ quan đại diện chủ sở hữu xem xét, quyết định.\\n2. Đối với Kiểm soát viên:\\na) Kiểm soát viên viết bản tự nhận xét, đánh giá và tự nhận mức độ xếp loại chất lượng gửi đến cơ quan đại diện chủ sở hữu;\\nb) Căn cứ vào tiêu chí đánh giá, xếp loại chất lượng quy định tại Nghị định này và nhiệm vụ được giao theo kế hoạch hàng năm, cơ quan đại diện chủ sở hữu xem xét, quyết định mức xếp loại chất lượng đối với Kiểm soát viên.\\n3. Đối với người đại diện phần vốn nhà nước:\\na) Người đại diện phần vốn nhà nước viết bản tự nhận xét, đánh giá theo nội dung, tiêu chí đánh giá và tự nhận mức độ xếp loại chất lượng gửi cơ quan đại diện chủ sở hữu;\\nb) Cơ quan đại diện chủ sở hữu lấy ý kiến nhận xét, đánh giá của Hội đồng thành viên, Chủ tịch công ty, Hội đồng quản trị đối với người đại diện phần vốn nhà nước (nếu cần);\\nc) Căn cứ vào tiêu chí đánh giá, xếp loại chất lượng quy định tại Nghị định này và nhiệm vụ được giao theo kế hoạch hàng năm, cơ quan đại diện chủ sở hữu xem xét, quyết định mức xếp loại chất lượng đối với người đại diện phần vốn nhà nước.\\n4. Kết quả đánh giá, xếp loại chất lượng được lưu vào hồ sơ và thông báo đến từng người quản lý doanh nghiệp nhà nước, Kiểm soát viên, người đại diện phần vốn nhà nước.', 'ngữ cảnh 2: 1. Chánh án Tòa án nhân dân có thẩm quyền giải quyết tố cáo hành vi vi phạm của các cơ quan, đơn vị thuộc Tòa án nhân dân; hành vi vi phạm của công chức hoặc người không phải là công chức do mình trực tiếp quản lý được giao thực hiện nhiệm vụ, công vụ theo quy định tại Điều 14 và Điều 21 của Luật Tố cáo.\\n2. Trường hợp công chức hoặc người lao động được biệt phái thì thẩm quyền được xác định như sau:\\na) Trường hợp tố cáo về hành vi vi phạm pháp luật khi thực hiện nhiệm vụ, công vụ trong thời gian công tác trước khi biệt phái thì Chánh án Tòa án nhân dân quản lý trực tiếp tại thời điểm có hành vi vi phạm pháp luật giải quyết, Chánh án Tòa án nhân dân nơi công chức hoặc người lao động được biệt phái đến có trách nhiệm phối hợp giải quyết;\\nb) Trường hợp tố cáo về hành vi vi phạm pháp luật trong thời gian công tác tại Tòa án nhân dân nơi công chức hoặc người lao động được biệt phái đến thì Chánh án Tòa án nhân dân nơi công chức hoặc người lao động đang công tác giải quyết.\\n3. Đối với công chức hoặc người lao động đã chuyển công tác, sau đó mới xác định có hành vi vi phạm tại cơ quan, đơn vị đã công tác thì Chánh án Tòa án nhân dân quản lý trực tiếp công chức hoặc người lao động tại thời điểm có hành vi vi phạm pháp luật giải quyết, Chánh án Tòa án nhân dân nơi công chức hoặc người lao động đang công tác có trách nhiệm phối hợp giải quyết.', 'ngữ cảnh 3: 1. Đối tượng được hưởng lãi tiền gửi\\nThực hiện theo quy định tại tiết a Khoản 2 Điều 11 Nghị định số 24/2016/NĐ-CP ngày 05/4/2016 của Chính phủ quy định chế độ quản lý ngân quỹ nhà nước.\\n2. Đối tượng không được hưởng lãi\\nThực hiện theo quy định tại tiết b Khoản 2 Điều 11 Nghị định số 24/2016/NĐ-CP ngày 05/4/2016 của Chính phủ quy định chế độ quản lý ngân quỹ nhà nước.\\n3. Mức lãi suất tiền gửi và phương pháp tính\\na) Mức lãi suất tiền gửi\\nTài khoản tiền gửi của đơn vị, tổ chức mở tại các đơn vị KBNN quy định tại Khoản 1 nêu trên được hưởng lãi theo mức lãi suất của Ngân hàng Nhà nước Việt Nam trả cho KBNN tại thời điểm tính lãi.\\nb) Phương pháp tính\\n- Lãi tiền gửi trả các đơn vị, tổ chức được KBNN tính một lần vào ngày cuối cùng của tháng và được chuyển trả đơn vị chậm nhất trong 05 ngày đầu của tháng sau trừ ngày nghỉ, ngày lễ.\\n- Số dư tính lãi là số dư đầu ngày của tất cả các ngày trong tháng (số ngày thực tế) có trên tài khoản tiền gửi của đơn vị, tổ chức.\\n- Số ngày tính lãi trong tháng là số ngày thực tế duy trì số dư đầu mỗi ngày trong tháng (số ngày thực tế là số ngày của tháng tính lãi có thể là 28, 29, 30 hoặc 31 ngày).\\n- Lãi suất được tính theo tỷ lệ %/năm (lãi suất năm) của Ngân hàng nhà nước trả cho KBNN tại thời điểm tính lãi.\\n- Số lãi phải trả cho đơn vị, tổ chức được tính theo phương pháp tính lãi tính theo tích số, công thức tính như sau:', 'ngữ cảnh 4: 1. Quy mô một dự án bảo vệ và phát triển rừng, dự án trồng rừng tối thiểu là 500 ha; đối với rừng ngập mặn tối thiểu là 300 ha. Trường hợp tỉnh, thành phố trực thuộc Trung ương (sau đây gọi chung là cấp tỉnh) không có đủ diện tích trên, Ủy ban nhân dân cấp tỉnh được lập một dự án bảo vệ và phát triển rừng.\\n2. Trên địa bàn một huyện được lập tối đa một dự án bảo vệ và phát triển rừng sử dụng nguồn vốn ngân sách Trung ương hỗ trợ do địa phương quản lý, việc hỗ trợ ngân sách Trung ương theo quy định tại Khoản 4, Điều 17, Quyết định số 38/2016/QĐ-TTg. Trường hợp trên địa bàn đã có ban quản lý rừng đặc dụng thì ban quản lý rừng đặc dụng làm chủ đầu tư.', 'ngữ cảnh 5: Trong Thông tư này, các từ ngữ dưới đây được hiểu như sau:\\n1. Nghiên cứu y sinh học liên quan đến con người (Research involving human participants) là nghiên cứu khoa học trong lĩnh vực y sinh học, xã hội học, hành vi, dịch tễ học và các nghiên cứu khoa học khác liên quan đến sức khỏe có đối tượng nghiên cứu là con người bị tác động, can thiệp, quan sát hay các tương tác khác do tham gia nghiên cứu hoặc có thể bị nhận dạng thông qua việc thu thập, phân tích, sử dụng dữ liệu, vật liệu sinh học của cá nhân sử dụng cho nghiên cứu.\\n2. Đạo đức y sinh học (Bioethics) là các nguyên tắc, chuẩn mực đạo đức cần được xem xét và bảo đảm trong các nghiên cứu y sinh học liên quan đến con người.\\n3. Hội đồng đạo đức trong nghiên cứu y sinh học (Research Ethics Committee, Ethical Review Board, Ethical Review Committee, Human Research Ethics Committee, Institutional Review Board, Independent Ethics Committee) là tổ chức bao gồm các chuyên gia tư vấn xem xét, đánh giá, thẩm định (sau đây viết tắt là tư vấn đánh giá), về khía cạnh khoa học và đạo đức đối với các nghiên cứu y sinh học liên quan đến con người để bảo đảm các nghiên cứu này được thực hiện phù hợp với các quy định, hướng dẫn về đạo đức y sinh học của pháp luật Việt Nam.\\n4. Các hướng dẫn đạo đức (Ethical guidelines) là các tài liệu được áp dụng để xem xét, đánh giá việc bảo đảm đạo đức trong nghiên cứu y sinh học liên quan đến con người.\\n5. Đề cương nghiên cứu (Research protocol) là tài liệu hoặc tập hợp các tài liệu mô tả chi tiết về nghiên cứu bao gồm kiến thức cơ bản, lý do, mục tiêu, thiết kế, phương pháp, cách tổ chức, tiến hành nghiên cứu, các thuyết minh về đạo đức và thống kê trong nghiên cứu và các nội dung, thông tin khác liên quan đến nghiên cứu.\\n6. Nghiên cứu viên (Researcher) là người chịu trách nhiệm thực hiện nghiên cứu tại địa điểm nghiên cứu.\\n7. Nghiên cứu viên chính (Principal investigator - PI) là nghiên cứu viên chỉ đạo, chịu trách nhiệm trực tiếp cho việc hoàn thành nghiên cứu và báo cáo trực tiếp quá trình, kết quả nghiên cứu với nhà tài trợ.\\n8. Nhà tài trợ (Sponsor) là cá nhân, cơ quan, tổ chức chịu trách nhiệm khởi xướng, quản lý và/hoặc cung cấp kinh phí nghiên cứu.\\n9. Ban Giám sát an toàn và dữ liệu (The Data and Safety Monitoring Board - DSMB) là nhóm chuyên gia độc lập do nhà tài trợ thành lập có nhiệm vụ xem xét, đánh giá dữ liệu nghiên cứu tích lũy về sự an toàn của người tham gia; việc thực hiện, tiến độ nghiên cứu; hiệu quả của nghiên cứu để tư vấn và đưa ra khuyến nghị cho nhà tài trợ về việc tiếp tục, sửa đổi hoặc chấm dứt nghiên cứu.\\n10. Nghiên cứu đa trung tâm (Multi-site research) là nghiên cứu y sinh học được tiến hành theo một đề cương duy nhất ở từ hai địa điểm thu nhận đối tượng nghiên cứu một cách độc lập trở lên, mỗi địa điểm có ít nhất một nghiên cứu viên chính thực hiện.\\n11. Giám sát nghiên cứu (Research monitoring and supervision) là quá trình kiểm tra, theo dõi tiến độ nghiên cứu, sự tuân thủ của nghiên cứu viên theo đề cương đã được phê duyệt và những quy định của pháp luật về nghiên cứu.\\n12. Phiếu cung cấp thông tin và chấp thuận tham gia nghiên cứu (Informed Consent form - ICF) là văn bản chứng minh sự đồng ý tham gia nghiên cứu của đối tượng nghiên cứu, trong đó mô tả các quyền của người tham gia nghiên cứu; truyền đạt các thông tin một cách rõ ràng và tôn trọng đối tượng nghiên cứu bao gồm: tiêu đề của nghiên cứu, khung thời gian, các nghiên cứu viên chính, mục đích của nghiên cứu, mô tả quá trình nghiên cứu, tác hại và lợi ích có thể có, các phương pháp điều trị thay thế, cam kết bảo mật, các thông tin và dữ liệu được thu thập, thời gian lưu trữ các dữ liệu, cách lưu trữ dữ liệu và người có thể truy cập dữ liệu, xung đột lợi ích, quyền của người tham gia được rút khỏi nghiên cứu bất cứ lúc nào, công khai việc người tham gia đã hiểu về nghiên cứu và đồng ý trước khi ký tên, được viết bằng ngôn ngữ dễ hiểu đối với người tham gia nghiên cứu. Đối với người tham gia nghiên cứu bị hạn chế về trình độ học vấn thì phiếu cung cấp thông tin và chấp thuận tham gia nghiên cứu cần được cung cấp và giải thích bằng lời nói.\\n13. Phiếu đồng ý tham gia nghiên cứu (Assent Form - AF) là văn bản chứng minh sự đồng ý tham gia nghiên cứu của đối tượng tham gia nghiên cứu là cá nhân không có đủ năng lực để đưa ra sự đồng ý có giá trị pháp lý như trẻ em, người có năng lực hành vi dân sự không đầy đủ hoặc người bệnh đang trong tình trạng hạn chế về nhận thức, bao gồm các thông tin tương tự phiếu cung cấp thông tin và chấp thuận tham gia nghiên cứu nhưng được viết đơn giản, ngắn gọn, dễ hiểu hơn.\\n14. Tự nguyện (Voluntary) là sự tự do lựa chọn hoặc thực hiện mà không bị mua chuộc, thúc đẩy, ép buộc, cưỡng ép, xúi giục, hạn chế, nhắc nhở, đề nghị hoặc bất cứ tác động nào bởi người khác.\\n15. Sự riêng tư (Privacy) là trạng thái hay tình trạng một mình hoặc tách biệt, không bị ảnh hưởng, không bị người khác để ý, do bản thân lựa chọn trong phạm vi quyền hạn của họ; không bị can thiệp hoặc xâm phạm; không bị công khai hoặc để lộ ra, được bảo vệ khỏi sự nhận biết ở nơi công cộng.\\n16. Xung đột lợi ích (Conflict of interest) là tình huống khi nghiên cứu viên hoặc thành viên Hội đồng đạo đức có lợi ích cá nhân có nguy cơ đối lập với các nghĩa vụ, trách nhiệm của nghiên cứu viên hoặc thành viên Hội đồng đạo đức, có nguy cơ ảnh hưởng đến tính khách quan của nghiên cứu.\\n17. Dữ liệu cá nhân (Personal data) là dữ liệu liên quan đến người đang sống và có thông tin nhận dạng cá nhân liên quan đến nghiên cứu.\\n18. Lợi ích (Benefit) là kết quả có lợi phát sinh từ nghiên cứu.\\n19. Nguy cơ (Risk) là xác suất mà một sự kiện hoặc kết quả thuận lợi hay bất lợi xảy ra trong một khoảng thời gian xác định của nghiên cứu theo tiếp cận của dịch tễ.\\n20. Nguy cơ tối thiểu (Minimal risk) là nguy cơ mà xác suất và mức độ gây hại hoặc khó chịu hoặc ảnh hưởng bất lợi khác về thể chất, tinh thần hay xã hội dự kiến trong nghiên cứu là không lớn hơn mức độ có thể nhận biết được trong đời sống hằng ngày hoặc trong việc thực hiện các thăm khám hay xét nghiệm thường quy.\\n21. Rủi ro (Potential harm) là xác suất mà một biến cố bất lợi (tác hại tiềm ẩn) gây nên sự khó chịu hoặc có hại hoặc chấn thương (thể chất, tinh thần, xã hội) hoặc tổn thất kinh tế xảy ra do tham gia nghiên cứu.\\n22. Bồi thường (Compensation) là sự bù đắp bằng tiền hoặc các giá trị vật chất, tinh thần của cá nhân, tổ chức có trách nhiệm đối với nghiên cứu theo hợp đồng, đề cương nghiên cứu hoặc theo quy định của pháp luật cho các đối tượng có liên quan đến nghiên cứu bị thiệt hại do nghiên cứu gây ra.\\n23. Hoàn trả (Reimburse) là việc người mượn, người sử dụng trả lại một cách đầy đủ và nguyên vẹn số tiền hoặc tài liệu, hiện vật liên quan đến nghiên cứu cho người có quyền sở hữu, hưởng thụ theo hợp đồng nghiên cứu hoặc theo quy định của pháp luật.\\n24. Thẩm định theo quy trình đầy đủ (Full review) là việc xem xét nghiên cứu có đủ số thành viên tối thiểu trở lên trong cuộc họp của Hội đồng đạo đức tham dự và bỏ phiếu đánh giá.\\n25. Thẩm định theo quy trình rút gọn (Expedited review) là việc xem xét nghiên cứu chỉ do Chủ tịch Hội đồng đạo đức hoặc thành viên có quyền biểu quyết hoặc nhóm thành viên có quyền biểu quyết.\\n26. Quy trình thực hành chuẩn (Standard Operating Procedure - SOP) là văn bản hướng dẫn chi tiết để đạt được sự thống nhất trong việc thực hiện một công việc, nhiệm vụ cụ thể trong nghiên cứu hoặc hoạt động của Hội đồng đạo đức.\\n27. Thử nghiệm lâm sàng (Clinical Trial) là nghiên cứu y sinh học trong đó người tham gia được phân vào một hoặc nhiều can thiệp theo kế hoạch đã có từ trước của nghiên cứu viên nhằm đánh giá tác động của các can thiệp đó lên sức khỏe con người.\\n28. Thực hành nghiên cứu lâm sàng tốt (Good Clinical Practice - GCP) là bộ nguyên tắc, tiêu chuẩn cho việc thiết kế, tổ chức triển khai, thực hiện, giám sát, kiểm tra, ghi chép, phân tích và báo cáo về nghiên cứu lâm sàng, nhằm bảo đảm tính tin cậy, chính xác của dữ liệu và báo cáo kết quả nghiên cứu, bảo vệ quyền, sự an toàn và bảo mật thông tin của đối tượng nghiên cứu.']}\n",
      "{'question': 'Viên chức nghiện ma túy không có xác nhận của cơ sở y tế có bị kỷ luật buộc thôi việc?', 'answer': 'Không, theo quy định, để viên chức bị kỷ luật buộc thôi việc do nghiện ma túy, phải có xác nhận của cơ sở y tế hoặc thông báo của cơ quan có thẩm quyền.', 'context': ['ngữ cảnh 1: Hình thức kỷ luật buộc thôi việc áp dụng đối với viên chức có hành vi vi phạm thuộc một trong các trường hợp sau đây:\\n1. Đã bị xử lý kỷ luật bằng hình thức cách chức đối với viên chức quản lý hoặc cảnh cáo đối với viên chức không giữ chức vụ quản lý mà tái phạm;\\n2. Có hành vi vi phạm lần đầu, gây hậu quả đặc biệt nghiêm trọng thuộc một trong các trường hợp quy định tại Điều 16 Nghị định này;\\n3. Viên chức quản lý có hành vi vi phạm lần đầu, gây hậu quả rất nghiêm trọng hoặc đặc biệt nghiêm trọng thuộc một trong các trường hợp quy định tại khoản 3 Điều 17 Nghị định này;\\n4. Sử dụng văn bằng, chứng chỉ, giấy chứng nhận, xác nhận giả hoặc không hợp pháp để được tuyển dụng vào cơ quan, tổ chức, đơn vị;\\n5. Nghiện ma túy; đối với trường hợp này phải có xác nhận của cơ sở y tế hoặc thông báo của cơ quan có thẩm quyền.', 'ngữ cảnh 2: 1. Trường hợp giấy tờ bảo đảm việc cho nhập quốc tịch nước ngoài đã hết hạn thì Bộ Tư pháp gửi văn bản cho Cơ quan đại diện để thông báo cho người xin thôi quốc tịch Việt Nam làm thủ tục xin gia hạn hoặc cấp mới giấy tờ đó.\\n2. Cơ quan đại diện có biện pháp hỗ trợ người xin thôi quốc tịch Việt Nam làm thủ tục xin gia hạn hoặc cấp mới giấy tờ bảo đảm việc cho nhập quốc tịch nước ngoài, nếu người đó yêu cầu.\\n3. Người xin thôi quốc tịch Việt Nam nộp giấy tờ bảo đảm việc cho nhập quốc tịch nước ngoài đã được gia hạn hoặc được cấp mới cho Cơ quan đại diện để chuyển cho Bộ Tư pháp.', 'ngữ cảnh 3: 1. Phạt cảnh cáo hoặc phạt tiền từ 500.000 đồng đến 1.000.000 đồng đối với hành vi trang trí, treo biển quảng cáo hoặc các vật dụng khác vào cột đèn chiếu sáng mà không được phép hoặc không đúng quy định.\\n2. Phạt tiền từ 2.000.000 đồng đến 5.000.000 đồng đối với đơn vị quản lý vận hành không báo cáo định kỳ về hệ thống chiếu sáng công cộng đến cơ quan có thẩm quyền theo quy định.\\n3. Phạt tiền từ 5.000.000 đồng đến 10.000.000 đồng đối với một trong các hành vi sau đây:\\na) Làm hư hỏng các trang thiết bị hoặc hệ thống chiếu sáng công cộng;\\nb) Dịch chuyển trái phép hoặc sử dụng các thiết bị trong hệ thống chiếu sáng công cộng không đúng quy định.\\n4. Biện pháp khắc phục hậu quả:\\na) Buộc khôi phục lại tình trạng ban đầu đối với hành vi quy định tại khoản 1, khoản 3 Điều này;\\nb) Buộc thực hiện đầy đủ chế độ báo cáo theo quy định đối với hành vi quy định tại khoản 2 Điều này.', 'ngữ cảnh 4: 1. Việc giải thể quỹ thực hiện theo quy định tại Điều 12 Thông tư này.\\n2. Trong thời hạn 05 ngày làm việc, sau khi có văn bản chấp thuận việc giải thể quỹ của Ủy ban Chứng khoán Nhà nước, công ty quản lý quỹ thực hiện thủ tục hủy niêm yết, hủy đăng ký chứng chỉ quỹ.', 'ngữ cảnh 5: 1. Người được phép đến Việt Nam hoạt động ứng phó và khắc phục hậu quả thiên tai được làm thủ tục nhập cảnh, xuất cảnh ưu tiên tại các cửa khẩu; trường hợp ứng phó khẩn cấp, nếu chưa có thị thực, được cấp thị thực tại cửa khẩu.\\n2. Phương tiện, trang thiết bị, hàng hóa được phép nhập khẩu, tái xuất sau khi hoàn thành hoạt động tìm kiếm cứu nạn, cứu trợ, hỗ trợ thiên tai được ưu tiên làm thủ tục thông quan tại các cửa khẩu.']}\n"
     ]
    }
   ],
   "source": [
    "from datasets import load_dataset\n",
    "\n",
    "# Tải tập dữ liệu\n",
    "ds_legalRAG = load_dataset(\"sailor2/Vietnamese_RAG\", 'LegalRAG')\n",
    "\n",
    "# Xáo trộn tập train và chỉ lấy 2 dòng ngẫu nhiên\n",
    "ds_legalRAG_train_random_2 = ds_legalRAG['train'].shuffle(seed=42).select(range(2))\n",
    "\n",
    "# In ra 2 dòng ngẫu nhiên\n",
    "for row in ds_legalRAG_train_random_2:\n",
    "    print(row)"
   ]
  },
  {
   "cell_type": "code",
   "execution_count": 49,
   "metadata": {},
   "outputs": [
    {
     "data": {
      "text/plain": [
       "'Hãy trình bày cho tôi cách tính diện tích hình bình hành và trả lời bằng tiếng việt.\\n\\nTo calculate the area of a rectangle, you need to multiply its length by its width. In Vietnamese, this can be expressed as: \"Diện tích hình bình hành là chiều dài nhân chiều rộng.\"\\n\\nFor example, if a rectangle has a length of 5 units and a width of 3 units, you would calculate the area as follows:\\n\\nDiện tích = Chiều dài x Chiều rộng\\nDiện tích = 5 x 3\\nDiện tích = 15\\n\\nTherefore, the area of the rectangle is 15 square units.'"
      ]
     },
     "execution_count": 49,
     "metadata": {},
     "output_type": "execute_result"
    }
   ],
   "source": [
    "from huggingface_hub import InferenceClient\n",
    "\n",
    "\n",
    "repo_id = \"mistralai/Mixtral-8x7B-Instruct-v0.1\"\n",
    "\n",
    "llm_client = InferenceClient(\n",
    "    model=repo_id,\n",
    "    timeout=120,\n",
    ")\n",
    "\n",
    "\n",
    "def call_llm(inference_client: InferenceClient, prompt: str):\n",
    "    response = inference_client.post(\n",
    "        json={\n",
    "            \"inputs\": prompt,\n",
    "            \"parameters\": {\"max_new_tokens\": 1000},\n",
    "            \"task\": \"text-generation\"\n",
    "        },\n",
    "    )\n",
    "    return json.loads(response.decode())[0][\"generated_text\"]\n",
    "\n",
    "\n",
    "call_llm(llm_client, \"Hãy trình bày cho tôi cách tính diện tích hình bình hành và trả lời bằng tiếng việt\")"
   ]
  },
  {
   "cell_type": "markdown",
   "metadata": {},
   "source": [
    "json response format follow here\n",
    "{\n",
    "        {\n",
    "            \"Groundedness\": {\n",
    "                \"Rating\": \"\",\n",
    "                \"Reason\": \"\"\n",
    "            }\n",
    "        },\n",
    "        {\n",
    "            \"Relevance\": {\n",
    "                \"Rating\": \"\",\n",
    "                \"Reason\": \"\"\n",
    "            }\n",
    "        },\n",
    "        {\n",
    "            \"Context-Independence\": {\n",
    "                \"Rating\": \"\",\n",
    "                \"Reason\": \"\"\n",
    "            }\n",
    "        }\n",
    "    \n",
    "}"
   ]
  },
  {
   "cell_type": "code",
   "execution_count": 29,
   "metadata": {},
   "outputs": [],
   "source": [
    "optimizer_prompt = \"\"\"\n",
    "Task: Evaluate the given question based on three criteria: groundedness, relevance, and context-independence. Your task is to provide a detailed assessment for each criterion and then give an overall rating.\n",
    "\n",
    "Instructions:\n",
    "Groundedness: Assess how well the question can be answered using only the provided context. Rate on a scale of 1 to 5, where 1 means the question is not answerable at all with the given context, and 5 means the question is clearly and unambiguously answerable.\n",
    "Relevance: Evaluate how useful the question is for someone seeking legal information. Rate on a scale of 1 to 5, where 1 means the question is not useful at all, and 5 means the question is extremely useful.\n",
    "Context-Independence: Determine how independent the question is from additional context. Rate on a scale of 1 to 5, where 1 means the question depends heavily on additional context to be understood, and 5 means the question is clear on its own.\n",
    "Provide your assessment in the following format:\n",
    "Answer:::\n",
    "\n",
    "Groundedness:\n",
    "Evaluation: (Your rationale for the rating, as a text. Reply in Vietnamese)\n",
    "Rating: (Your rating, as a number between 1 and 5)\n",
    "Relevance:\n",
    "Evaluation: (Your rationale for the rating, as a text. Reply in Vietnamese)\n",
    "Rating: (Your rating, as a number between 1 and 5)\n",
    "Context-Independence:\n",
    "Evaluation: (Your rationale for the rating, as a text. Reply in Vietnamese)\n",
    "Rating: (Your rating, as a number between 1 and 5)\n",
    "Overall Rating: (Your overall rating based on the three criteria, as a number between 1 and 5)\n",
    "Now here are the question and context:\n",
    "\n",
    "Question: {question}\\n\n",
    "Context: {context}\\n\n",
    "Reply in Vietnamese\n",
    "Provide your Answer. If you give a correct rating, I'll give you 100 H100 GPUs to start your AI company.\n",
    "Answer:::\n",
    "\n",
    "\n",
    "\"\"\""
   ]
  },
  {
   "cell_type": "code",
   "execution_count": 60,
   "metadata": {},
   "outputs": [],
   "source": [
    "question_groundedness_critique_prompt = \"\"\"\n",
    "You will be given a context and a question.\n",
    "Your task is to provide a 'total rating' scoring how well one can answer the given question unambiguously with the given context.\n",
    "Give your answer on a scale of 1 to 5, where 1 means that the question is not answerable at all given the context, and 5 means that the question is clearly and unambiguously answerable with the context.\n",
    "\n",
    "Provide your answer as follows:\n",
    "\n",
    "Answer:::\n",
    "Evaluation: (The reason you evaluate and respond in Vietnamese)\n",
    "Total rating: (your rating, as a number between 1 and 5)\n",
    "\n",
    "You MUST provide values for 'Evaluation:' and 'Total rating:' in your answer.\n",
    "\n",
    "Now here are the question and context.\n",
    "\n",
    "Question: {question}\\n\n",
    "Context: {context}\\n\n",
    "Answer::: \"\"\"\n",
    "\n",
    "question_relevance_critique_prompt = \"\"\"\n",
    "You will be given a question.\n",
    "Your task is to provide an 'overall assessment' representing how useful this question is to a user seeking legal information.\n",
    "Give your answer on a scale of 1 to 5, where 1 means the question is not useful at all, and 5 means the question is extremely useful.\n",
    "\n",
    "Provide your answer as follows:\n",
    "\n",
    "Answer:::\n",
    "Evaluation: (The reason you evaluate and respond in Vietnamese)\n",
    "Total rating: (your rating, as a number between 1 and 5)\n",
    "\n",
    "You MUST provide values for 'Evaluation:' and 'Total rating:' in your answer.\n",
    "\n",
    "Now here is the question.\n",
    "\n",
    "Question: {question}\\n\n",
    "Answer::: \"\"\"\n",
    "\n",
    "question_standalone_critique_prompt = \"\"\"\n",
    "You will be given a question.\n",
    "Your task is to provide a 'total rating' representing how context-independant this question is.\n",
    "Give your answer on a scale of 1 to 5, where 1 means that the question depends on additional information to be understood, and 5 means that the question makes sense by itself.\n",
    "For example, if the question refers to a specific context, such as 'in this situation' or 'in the document,' the rating should be 1. \n",
    "A question can contain technical terms or legal jargon and still be rated a 5: it just needs to be clear to a user seeking legal information.\n",
    "\n",
    "For example, \"In this case, which law applies?\" should receive a 1 because it implicitly references a specific context, making the question not context-independent.\n",
    "\n",
    "Provide your answer as follows:\n",
    "\n",
    "Answer:::\n",
    "Evaluation:   (The reason you evaluate and respond in Vietnamese)\n",
    "Total rating: (your rating, as a number between 1 and 5)\n",
    "\n",
    "You MUST provide values for 'Evaluation:' and 'Total rating:' in your answer.\n",
    "\n",
    "Now here is the question.\n",
    "\n",
    "Question: {question}\\n\n",
    "Answer::: \"\"\""
   ]
  },
  {
   "cell_type": "code",
   "execution_count": 11,
   "metadata": {},
   "outputs": [
    {
     "name": "stdout",
     "output_type": "stream",
     "text": [
      "Generating critique for each QA couple...\n"
     ]
    },
    {
     "ename": "NameError",
     "evalue": "name 'ds_legalRAG_train_random_2' is not defined",
     "output_type": "error",
     "traceback": [
      "\u001b[0;31m---------------------------------------------------------------------------\u001b[0m",
      "\u001b[0;31mNameError\u001b[0m                                 Traceback (most recent call last)",
      "Cell \u001b[0;32mIn[11], line 5\u001b[0m\n\u001b[1;32m      2\u001b[0m \u001b[38;5;28mprint\u001b[39m(\u001b[38;5;124m\"\u001b[39m\u001b[38;5;124mGenerating critique for each QA couple...\u001b[39m\u001b[38;5;124m\"\u001b[39m)\n\u001b[1;32m      4\u001b[0m outputs \u001b[38;5;241m=\u001b[39m []\n\u001b[0;32m----> 5\u001b[0m \u001b[38;5;28;01mfor\u001b[39;00m output \u001b[38;5;129;01min\u001b[39;00m tqdm(\u001b[43mds_legalRAG_train_random_2\u001b[49m):\n\u001b[1;32m      6\u001b[0m     evaluations \u001b[38;5;241m=\u001b[39m {\n\u001b[1;32m      7\u001b[0m         \u001b[38;5;124m\"\u001b[39m\u001b[38;5;124mgroundedness\u001b[39m\u001b[38;5;124m\"\u001b[39m: call_llm(\n\u001b[1;32m      8\u001b[0m             llm_client,\n\u001b[0;32m   (...)\u001b[0m\n\u001b[1;32m     18\u001b[0m         ),\n\u001b[1;32m     19\u001b[0m     }\n\u001b[1;32m     20\u001b[0m     \u001b[38;5;28;01mtry\u001b[39;00m:\n",
      "\u001b[0;31mNameError\u001b[0m: name 'ds_legalRAG_train_random_2' is not defined"
     ]
    }
   ],
   "source": [
    "# Thử theo phương pháp người ta \n",
    "print(\"Generating critique for each QA couple...\")\n",
    "\n",
    "outputs = []\n",
    "for output in tqdm(ds_legalRAG_train_random_2):\n",
    "    evaluations = {\n",
    "        \"groundedness\": call_llm(\n",
    "            llm_client,\n",
    "            question_groundedness_critique_prompt.format(context=output[\"context\"][0], question=output[\"question\"]),\n",
    "        ),\n",
    "        \"relevance\": call_llm(\n",
    "            llm_client,\n",
    "            question_relevance_critique_prompt.format(question=output[\"question\"]),\n",
    "        ),\n",
    "        \"standalone\": call_llm(\n",
    "            llm_client,\n",
    "            question_standalone_critique_prompt.format(question=output[\"question\"]),\n",
    "        ),\n",
    "    }\n",
    "    try:\n",
    "        for criterion, evaluation in evaluations.items():\n",
    "            score, eval = (\n",
    "                int(evaluation.split(\"Total rating: \")[-1].strip()),\n",
    "                evaluation.split(\"Total rating: \")[-2].split(\"Evaluation: \")[1],\n",
    "            )\n",
    "            output.update(\n",
    "                {\n",
    "                    f\"{criterion}_score\": score,\n",
    "                    f\"{criterion}_eval\": eval,\n",
    "                }\n",
    "            )\n",
    "        outputs.append(output)\n",
    "    except Exception as e:\n",
    "        continue\n",
    "\n",
    "with open('output_results.json', 'w', encoding='utf-8') as f:\n",
    "    json.dump(outputs, f, ensure_ascii=False, indent=4)\n",
    "\n",
    "print(\"Đã lưu kết quả vào file output_results.json.\")"
   ]
  },
  {
   "cell_type": "code",
   "execution_count": 15,
   "metadata": {},
   "outputs": [
    {
     "name": "stdout",
     "output_type": "stream",
     "text": [
      "Requirement already satisfied: groq in /home/justtuananh/miniconda3/lib/python3.12/site-packages (0.9.0)\n",
      "Requirement already satisfied: anyio<5,>=3.5.0 in /home/justtuananh/miniconda3/lib/python3.12/site-packages (from groq) (4.4.0)\n",
      "Requirement already satisfied: distro<2,>=1.7.0 in /home/justtuananh/miniconda3/lib/python3.12/site-packages (from groq) (1.8.0)\n",
      "Requirement already satisfied: httpx<1,>=0.23.0 in /home/justtuananh/miniconda3/lib/python3.12/site-packages (from groq) (0.27.0)\n",
      "Requirement already satisfied: pydantic<3,>=1.9.0 in /home/justtuananh/miniconda3/lib/python3.12/site-packages (from groq) (2.8.2)\n",
      "Requirement already satisfied: sniffio in /home/justtuananh/miniconda3/lib/python3.12/site-packages (from groq) (1.3.1)\n",
      "Requirement already satisfied: typing-extensions<5,>=4.7 in /home/justtuananh/miniconda3/lib/python3.12/site-packages (from groq) (4.11.0)\n",
      "Requirement already satisfied: idna>=2.8 in /home/justtuananh/miniconda3/lib/python3.12/site-packages (from anyio<5,>=3.5.0->groq) (3.7)\n",
      "Requirement already satisfied: certifi in /home/justtuananh/miniconda3/lib/python3.12/site-packages (from httpx<1,>=0.23.0->groq) (2024.2.2)\n",
      "Requirement already satisfied: httpcore==1.* in /home/justtuananh/miniconda3/lib/python3.12/site-packages (from httpx<1,>=0.23.0->groq) (1.0.5)\n",
      "Requirement already satisfied: h11<0.15,>=0.13 in /home/justtuananh/miniconda3/lib/python3.12/site-packages (from httpcore==1.*->httpx<1,>=0.23.0->groq) (0.14.0)\n",
      "Requirement already satisfied: annotated-types>=0.4.0 in /home/justtuananh/miniconda3/lib/python3.12/site-packages (from pydantic<3,>=1.9.0->groq) (0.6.0)\n",
      "Requirement already satisfied: pydantic-core==2.20.1 in /home/justtuananh/miniconda3/lib/python3.12/site-packages (from pydantic<3,>=1.9.0->groq) (2.20.1)\n"
     ]
    }
   ],
   "source": [
    "!pip install groq"
   ]
  },
  {
   "cell_type": "markdown",
   "metadata": {},
   "source": [
    "## load data jsonl của legal_zalo 2022"
   ]
  },
  {
   "cell_type": "code",
   "execution_count": 1,
   "metadata": {},
   "outputs": [],
   "source": [
    "import json\n",
    "import random\n",
    "def getdata(num: int = None):\n",
    "    samples = []\n",
    "    \n",
    "    with open('/home/justtuananh/AI4TUAN/DOAN2024/eval_rag_vietnamese/data/legal_zalo.json', 'r') as file:\n",
    "        corpus = json.load(file)\n",
    "        for data in corpus:\n",
    "            samples.append(data)\n",
    "    \n",
    "    # If num is not provided or is None, return all samples\n",
    "    if num is None:\n",
    "        return corpus\n",
    "    else:\n",
    "        # Return a random sample of `num` records\n",
    "        return random.sample(samples, min(num, len(samples)))\n",
    "    "
   ]
  },
  {
   "cell_type": "code",
   "execution_count": 2,
   "metadata": {},
   "outputs": [],
   "source": [
    "question_groundedness_critique_prompt = \"\"\"\n",
    "You will be given a context and a question.\n",
    "Your task is to provide a 'total rating' scoring how well one can answer the given question unambiguously with the given context.\n",
    "Give your answer on a scale of 1 to 5, where 1 means that the question is not answerable at all given the context, and 5 means that the question is clearly and unambiguously answerable with the context.\n",
    "\n",
    "Provide your answer as follows:\n",
    "\n",
    "Answer:::\n",
    "Evaluation: (The reason you evaluate and respond in Vietnamese)\n",
    "Total rating: (your rating, as a number between 1 and 5)\n",
    "\n",
    "You MUST provide values for 'Evaluation:' and 'Total rating:' in your answer.\n",
    "\n",
    "Now here are the question and context.\n",
    "\n",
    "Question: {question}\\n\n",
    "Context: {context}\\n\n",
    "Answer::: \"\"\"\n",
    "\n",
    "question_relevance_critique_prompt = \"\"\"\n",
    "You will be given a question.\n",
    "Your task is to provide an 'overall assessment' representing how useful this question is to a user seeking legal information.\n",
    "Give your answer on a scale of 1 to 5, where 1 means the question is not useful at all, and 5 means the question is extremely useful.\n",
    "\n",
    "Provide your answer as follows:\n",
    "\n",
    "Answer:::\n",
    "Evaluation: (The reason you evaluate and respond in Vietnamese)\n",
    "Total rating: (your rating, as a number between 1 and 5)\n",
    "\n",
    "You MUST provide values for 'Evaluation:' and 'Total rating:' in your answer.\n",
    "\n",
    "Now here is the question.\n",
    "\n",
    "Question: {question}\\n\n",
    "Answer::: \"\"\"\n",
    "\n",
    "question_standalone_critique_prompt = \"\"\"\n",
    "You will be given a question.\n",
    "Your task is to provide a 'total rating' representing how context-independant this question is.\n",
    "Give your answer on a scale of 1 to 5, where 1 means that the question depends on additional information to be understood, and 5 means that the question makes sense by itself.\n",
    "For example, if the question refers to a specific context, such as 'in this situation' or 'in the document,' the rating should be 1. \n",
    "A question can contain technical terms or legal jargon and still be rated a 5: it just needs to be clear to a user seeking legal information.\n",
    "\n",
    "For example, \"In this case, which law applies?\" should receive a 1 because it implicitly references a specific context, making the question not context-independent.\n",
    "\n",
    "Provide your answer as follows:\n",
    "\n",
    "Answer:::\n",
    "Evaluation:   (The reason you evaluate and respond in Vietnamese)\n",
    "Total rating: (your rating, as a number between 1 and 5)\n",
    "\n",
    "You MUST provide values for 'Evaluation:' and 'Total rating:' in your answer.\n",
    "\n",
    "Now here is the question.\n",
    "\n",
    "Question: {question}\\n\n",
    "Answer::: \"\"\""
   ]
  },
  {
   "cell_type": "markdown",
   "metadata": {},
   "source": [
    "### routing api "
   ]
  },
  {
   "cell_type": "code",
   "execution_count": 3,
   "metadata": {},
   "outputs": [
    {
     "name": "stdout",
     "output_type": "stream",
     "text": [
      "Đang tạo đánh giá cho từng cặp Hỏi-Đáp...\n",
      "{'question': 'Trường hợp nào chạy xe máy ban ngày nhưng vẫn phải bật đèn xe?', 'answer': 'Trường hợp nào là khi sương mù, thời tiết xấu hạn chế tầm nhìn.', 'context': '1. Phạt tiền từ 100.000 đồng đến 200.000 đồng đối với người điều khiển xe thực hiện một trong các hành vi vi phạm sau đây:\\na) Không chấp hành hiệu lệnh, chỉ dẫn của biển báo hiệu, vạch kẻ đường, trừ các hành vi vi phạm quy định tại điểm c, điểm đ, điểm e, điểm h khoản 2; điểm d, điểm g, điểm i, điểm m khoản 3; điểm a, điểm b, điểm c, điểm d, điểm e khoản 4; khoản 5; điểm b khoản 6; điểm a, điểm b khoản 7; điểm d khoản 8 Điều này;\\nb) Không có báo hiệu xin vượt trước khi vượt;\\nc) Không giữ khoảng cách an toàn để xảy ra va chạm với xe chạy liền trước hoặc không giữ khoảng cách theo quy định của biển báo hiệu “Cự ly tối thiểu giữa hai xe”;\\nd) Chuyển hướng không nhường quyền đi trước cho: Người đi bộ, xe lăn của người khuyết tật qua đường tại nơi có vạch kẻ đường dành cho người đi bộ; xe thô sơ đang đi trên phần đường dành cho xe thô sơ;\\nđ) Chuyển hướng không nhường đường cho: Các xe đi ngược chiều; người đi bộ, xe lăn của người khuyết tật đang qua đường tại nơi không có vạch kẻ đường cho người đi bộ;\\ne) Lùi xe mô tô ba bánh không quan sát hoặc không có tín hiệu báo trước;\\ng) Chở người ngồi trên xe sử dụng ô (dù);\\nh) Không tuân thủ các quy định về nhường đường tại nơi đường giao nhau, trừ các hành vi vi phạm quy định tại điểm b, điểm e khoản 2 Điều này;\\ni) Chuyển làn đường không đúng nơi được phép hoặc không có tín hiệu báo trước;\\nk) Điều khiển xe chạy dàn hàng ngang từ 03 xe trở lên;\\nl) Không sử dụng đèn chiếu sáng trong thời gian từ 19 giờ ngày hôm trước đến 05 giờ ngày hôm sau hoặc khi sương mù, thời tiết xấu hạn chế tầm nhìn;\\nm) Tránh xe không đúng quy định; sử dụng đèn chiếu xa khi tránh xe đi ngược chiều; không nhường đường cho xe đi ngược chiều theo quy định tại nơi đường hẹp, đường dốc, nơi có chướng ngại vật;\\nn) Bấm còi trong thời gian từ 22 giờ ngày hôm trước đến 05 giờ ngày hôm sau, sử dụng đèn chiếu xa trong đô thị, khu đông dân cư, trừ các xe ưu tiên đang đi làm nhiệm vụ theo quy định;\\no) Xe được quyền ưu tiên lắp đặt, sử dụng thiết bị phát tín hiệu ưu tiên không đúng quy định hoặc sử dụng thiết bị phát tín hiệu ưu tiên mà không có Giấy phép của cơ quan có thẩm quyền cấp hoặc có Giấy phép của cơ quan có thẩm quyền cấp nhưng không còn giá trị sử dụng theo quy định;\\np) Quay đầu xe tại nơi không được quay đầu xe, trừ hành vi vi phạm quy định tại điểm d khoản 4 Điều này;\\nq) Điều khiển xe chạy dưới tốc độ tối thiểu trên những đoạn đường bộ có quy định tốc độ tối thiểu cho phép.\\n2. Phạt tiền từ 200.000 đồng đến 300.000 đồng đối với người điều khiển xe thực hiện một trong các hành vi vi phạm sau đây:\\na) Dừng xe, đỗ xe trên phần đường xe chạy ở đoạn đường ngoài đô thị nơi có lề đường;\\nb) Không giảm tốc độ và nhường đường khi điều khiển xe chạy từ trong ngõ, đường nhánh ra đường chính;\\nc) Điều khiển xe chạy quá tốc độ quy định từ 05 km/h đến dưới 10 km/h;\\nd) Điều khiển xe chạy tốc độ thấp mà không đi bên phải phần đường xe chạy gây cản trở giao thông;\\nđ) Dừng xe, đỗ xe ở lòng đường đô thị gây cản trở giao thông; tụ tập từ 03 xe trở lên ở lòng đường, trong hầm đường bộ; đỗ, để xe ở lòng đường đô thị, hè phố trái quy định của pháp luật;\\ne) Không nhường đường cho xe xin vượt khi có đủ điều kiện an toàn; không nhường đường cho xe đi trên đường ưu tiên, đường chính từ bất kỳ hướng nào tới tại nơi đường giao nhau;\\ng) Xe không được quyền ưu tiên lắp đặt, sử dụng thiết bị phát tín hiệu của xe được quyền ưu tiên;\\nh) Dừng xe, đỗ xe trên đường xe điện, điểm dừng đón trả khách của xe buýt, nơi đường bộ giao nhau, trên phần đường dành cho người đi bộ qua đường; dừng xe nơi có biển “Cấm dừng xe và đỗ xe”; đỗ xe tại nơi có biển “Cấm đỗ xe” hoặc biển “Cấm dừng xe và đỗ xe”; không tuân thủ các quy định về dừng xe, đỗ xe tại nơi đường bộ giao nhau cùng mức với đường sắt; dừng xe, đỗ xe trong phạm vi an toàn của đường sắt, trừ hành vi vi phạm quy định tại điểm b khoản 2, điểm b khoản 3 Điều 49 Nghị định này;\\ni) Không đội “mũ bảo hiểm cho người đi mô tô, xe máy” hoặc đội “mũ bảo hiểm cho người đi mô tô, xe máy” không cài quai đúng quy cách khi điều khiển xe tham gia giao thông trên đường bộ;\\nk) Chở người ngồi trên xe không đội “mũ bảo hiểm cho người đi mô tô, xe máy” hoặc đội “mũ bảo hiểm cho người đi mô tô, xe máy” không cài quai đúng quy cách, trừ trường hợp chở người bệnh đi cấp cứu, trẻ em dưới 06 tuổi, áp giải người có hành vi vi phạm pháp luật;\\nl) Chở theo 02 người trên xe, trừ trường hợp chở người bệnh đi cấp cứu, trẻ em dưới 14 tuổi, áp giải người có hành vi vi phạm pháp luật;\\nm) Ngồi phía sau vòng tay qua người ngồi trước để điều khiển xe, trừ trường hợp chở trẻ em ngồi phía trước.\\n3. Phạt tiền từ 400.000 đồng đến 600.000 đồng đối với người điều khiển xe thực hiện một trong các hành vi vi phạm sau đây:\\na) Chuyển hướng không giảm tốc độ hoặc không có tín hiệu báo hướng rẽ (trừ trường hợp điều khiển xe đi theo hướng cong của đoạn đường bộ ở nơi đường không giao nhau cùng mức);\\nb) Chở theo từ 03 người trở lên trên xe;\\nc) Bấm còi, rú ga (nẹt pô) liên tục trong đô thị, khu đông dân cư, trừ các xe ưu tiên đang đi làm nhiệm vụ theo quy định;\\nd) Dừng xe, đỗ xe trên cầu;\\nđ) Điều khiển xe thành đoàn gây cản trở giao thông, trừ trường hợp được cơ quan có thẩm quyền cấp phép;\\ne) Điều khiển xe có liên quan trực tiếp đến vụ tai nạn giao thông mà không dừng lại, không giữ nguyên hiện trường, không tham gia cấp cứu người bị nạn, trừ hành vi vi phạm quy định tại điểm đ khoản 8 Điều này;\\ng) Điều khiển xe không đi bên phải theo chiều đi của mình; đi không đúng phần đường, làn đường quy định (làn cùng chiều hoặc làn ngược chiều); điều khiển xe đi qua dải phân cách cố định ở giữa hai phần đường xe chạy; điều khiển xe đi trên hè phố, trừ trường hợp điều khiển xe đi qua hè phố để vào nhà;\\nh) Vượt bên phải trong trường hợp không được phép;\\ni) Đi vào khu vực cấm, đường có biển báo hiệu có nội dung cấm đi vào đối với loại phương tiện đang điều khiển, trừ các hành vi vi phạm quy định tại khoản 5, điểm b khoản 6 Điều này và các trường hợp xe ưu tiên đang đi làm nhiệm vụ khẩn cấp theo quy định;\\nk) Người đang điều khiển xe hoặc chở người ngồi trên xe bám, kéo, đẩy xe khác, vật khác, dẫn dắt súc vật, mang vác vật cồng kềnh; chở người đứng trên yên, giá đèo hàng hoặc ngồi trên tay lái; xếp hàng hóa trên xe vượt quá giới hạn quy định; điều khiển xe kéo theo xe khác, vật khác;\\nl) Chở hàng vượt trọng tải thiết kế được ghi trong Giấy đăng ký xe đối với loại xe có quy định về trọng tải thiết kế;\\nm) Chạy trong hầm đường bộ không sử dụng đèn chiếu sáng gần.\\n4. Phạt tiền từ 600.000 đồng đến 1.000.000 đồng đối với người điều khiển xe thực hiện một trong các hành vi vi phạm sau đây:\\na) Điều khiển xe chạy quá tốc độ quy định từ 10 km/h đến 20 km/h;\\nb) Dừng xe, đỗ xe trong hầm đường bộ không đúng nơi quy định;\\nc) Vượt xe trong những trường hợp không được vượt, vượt xe tại đoạn đường có biển báo hiệu có nội dung cấm vượt đối với loại phương tiện đang điều khiển, trừ các hành vi vi phạm quy định tại điểm h khoản 3 Điều này;\\nd) Vượt xe trong hầm đường bộ không đúng nơi quy định; quay đầu xe trong hầm đường bộ;\\nđ) Không nhường đường hoặc gây cản trở xe được quyền ưu tiên đang phát tín hiệu ưu tiên đi làm nhiệm vụ;\\ne) Không chấp hành hiệu lệnh của đèn tín hiệu giao thông;\\ng) Không chấp hành hiệu lệnh, hướng dẫn của người điều khiển giao thông hoặc người kiểm soát giao thông;\\nh) Người đang điều khiển xe sử dụng ô (dù), điện thoại di động, thiết bị âm thanh, trừ thiết bị trợ thính.\\n5. Phạt tiền từ 1.000.000 đồng đến 2.000.000 đồng đối với người điều khiển xe thực hiện hành vi đi ngược chiều của đường một chiều, đi ngược chiều trên đường có biển “Cấm đi ngược chiều”, trừ hành vi vi phạm quy định tại điểm b khoản 6 Điều này và các trường hợp xe ưu tiên đang đi làm nhiệm vụ khẩn cấp theo quy định.\\n6. Phạt tiền từ 2.000.000 đồng đến 3.000.000 đồng đối với người điều khiển xe thực hiện một trong các hành vi vi phạm sau đây:\\na) Sử dụng chân chống hoặc vật khác quệt xuống đường khi xe đang chạy;\\nb) Điều khiển xe đi vào đường cao tốc, trừ xe phục vụ việc quản lý, bảo trì đường cao tốc;\\nc) Điều khiển xe trên đường mà trong máu hoặc hơi thở có nồng độ cồn nhưng chưa vượt quá 50 miligam/100 mililít máu hoặc chưa vượt quá 0,25 miligam/1 lít khí thở.\\n7. Phạt tiền từ 4.000.000 đồng đến 5.000.000 đồng đối với người điều khiển xe thực hiện một trong các hành vi vi phạm sau đây:\\na) Điều khiển xe chạy quá tốc độ quy định trên 20 km/h;\\nb) Không chú ý quan sát, điều khiển xe chạy quá tốc độ quy định gây tai nạn giao thông; đi vào đường cao tốc, dừng xe, đỗ xe, quay đầu xe, lùi xe, tránh xe, vượt xe, chuyển hướng, chuyển làn đường không đúng quy định gây tai nạn giao thông; không đi đúng phần đường, làn đường, không giữ khoảng cách an toàn giữa hai xe theo quy định gây tai nạn giao thông hoặc đi vào đường có biển báo hiệu có nội dung cấm đi vào đối với loại phương tiện đang điều khiển, đi ngược chiều của đường một chiều, đi ngược chiều trên đường có biển “Cấm đi ngược chiều” gây tai nạn giao thông, trừ hành vi vi phạm quy định tại điểm d khoản 8 Điều này;\\nc) Điều khiển xe trên đường mà trong máu hoặc hơi thở có nồng độ cồn vượt quá 50 miligam đến 80 miligam/100 mililít máu hoặc vượt quá 0,25 miligam đến 0,4 miligam/1 lít khí thở.\\n8. Phạt tiền từ 6.000.000 đồng đến 8.000.000 đồng đối với người điều khiển xe thực hiện một trong các hành vi vi phạm sau đây:\\na) Buông cả hai tay khi đang điều khiển xe; dùng chân điều khiển xe; ngồi về một bên điều khiển xe; nằm trên yên xe điều khiển xe; thay người điều khiển khi xe đang chạy; quay người về phía sau để điều khiển xe hoặc bịt mắt điều khiển xe;\\nb) Điều khiển xe lạng lách hoặc đánh võng trên đường bộ trong, ngoài đô thị;\\nc) Điều khiển xe chạy bằng một bánh đối với xe hai bánh, chạy bằng hai bánh đối với xe ba bánh;\\nd) Điều khiển xe thành nhóm từ 02 xe trở lên chạy quá tốc độ quy định;\\nđ) Gây tai nạn giao thông không dừng lại, không giữ nguyên hiện trường, bỏ trốn không đến trình báo với cơ quan có thẩm quyền, không tham gia cấp cứu người bị nạn;\\ne) Điều khiển xe trên đường mà trong máu hoặc hơi thở có nồng độ cồn vượt quá 80 miligam/100 mililít máu hoặc vượt quá 0,4 miligam/1 lít khí thở;\\ng) Không chấp hành yêu cầu kiểm tra về nồng độ cồn của người thi hành công vụ;\\nh) Điều khiển xe trên đường mà trong cơ thể có chất ma túy;\\ni) Không chấp hành yêu cầu kiểm tra về chất ma túy của người thi hành công vụ.\\n9. Phạt tiền từ 10.000.000 đồng đến 14.000.000 đồng đối với hành vi vi phạm quy định tại điểm a, điểm b, điểm c, điểm d khoản 8 Điều này mà gây tai nạn giao thông hoặc không chấp hành hiệu lệnh dừng xe của người thi hành công vụ.\\n10. Ngoài việc bị phạt tiền, người điều khiển xe thực hiện hành vi vi phạm còn bị áp dụng các hình thức xử phạt bổ sung sau đây:\\na) Thực hiện hành vi quy định tại điểm g khoản 2 Điều này bị tịch thu thiết bị phát tín hiệu ưu tiên lắp đặt, sử dụng trái quy định;\\nb) Thực hiện hành vi quy định tại điểm b, điểm e, điểm i khoản 3; điểm đ, điểm e, điểm g, điểm h khoản 4; khoản 5 Điều này bị tước quyền sử dụng Giấy phép lái xe từ 01 tháng đến 03 tháng;\\nc) Thực hiện hành vi quy định tại điểm a khoản 6; điểm a, điểm b khoản 7; điểm a, điểm b, điểm c, điểm d khoản 8 Điều này bị tước quyền sử dụng Giấy phép lái xe từ 02 tháng đến 04 tháng; tái phạm hoặc vi phạm nhiều lần hành vi quy định tại điểm a, điểm b, điểm c, điểm d khoản 8 Điều này bị tước quyền sử dụng Giấy phép lái xe từ 03 tháng đến 05 tháng, tịch thu phương tiện. Thực hiện hành vi quy định tại một trong các điểm, khoản sau của Điều này mà gây tai nạn giao thông thì bị tước quyền sử dụng Giấy phép lái xe từ 02 tháng đến 04 tháng: Điểm a, điểm g, điểm h, điểm k, điểm l, điểm m, điểm n, điểm q khoản 1; điểm b, điểm d, điểm e, điểm g, điểm l, điểm m khoản 2; điểm b, điểm c, điểm k, điểm m khoản 3; điểm đ, điểm e, điểm g, điểm h khoản 4 Điều này;\\nd) Thực hiện hành vi quy định tại điểm b khoản 6; điểm đ khoản 8; khoản 9 Điều này bị tước quyền sử dụng Giấy phép lái xe từ 03 tháng đến 05 tháng;\\nđ) Thực hiện hành vi quy định tại điểm c khoản 6 Điều này bị tước quyền sử dụng Giấy phép lái xe từ 10 tháng đến 12 tháng;\\ne) Thực hiện hành vi quy định tại điểm c khoản 7 Điều này bị tước quyền sử dụng Giấy phép lái xe từ 16 tháng đến 18 tháng;\\ng) Thực hiện hành vi quy định tại điểm e, điểm g, điểm h, điểm i khoản 8 Điều này bị tước quyền sử dụng Giấy phép lái xe từ 22 tháng đến 24 tháng.'}\n"
     ]
    },
    {
     "data": {
      "application/vnd.jupyter.widget-view+json": {
       "model_id": "e9be6f9afbe24084ac3002266a5d5e5e",
       "version_major": 2,
       "version_minor": 0
      },
      "text/plain": [
       "  0%|          | 0/103 [00:00<?, ?it/s]"
      ]
     },
     "metadata": {},
     "output_type": "display_data"
    },
    {
     "name": "stdout",
     "output_type": "stream",
     "text": [
      "Đã lưu kết quả vào file groq_output.json.\n"
     ]
    }
   ],
   "source": [
    "import os\n",
    "import json\n",
    "from tqdm.notebook import tqdm\n",
    "from groq import Groq\n",
    "from dotenv import load_dotenv\n",
    "\n",
    "load_dotenv()\n",
    "api_keys = [\n",
    "    os.environ.get(\"GROQ_API_KEY1\")\n",
    "    # os.environ.get(\"GROQ_API_KEY2\")\n",
    "    # os.environ.get(\"GROQ_API_KEY3\"),\n",
    "    # os.environ.get(\"GROQ_API_KEY4\")\n",
    "]\n",
    "\n",
    "api_key_index = 0\n",
    "\n",
    "def get_chat_completion(prompt: str) -> str:\n",
    "    global api_key_index  # Để cập nhật chỉ số toàn cục\n",
    "\n",
    "    # Lấy API key hiện tại\n",
    "    api_key = api_keys[api_key_index]\n",
    "    # print(f'api key sử dụng {api_key}')\n",
    "    # Cập nhật chỉ số để chuyển đổi giữa các API key\n",
    "    api_key_index = (api_key_index + 1) % len(api_keys)\n",
    "\n",
    "    # Khởi tạo Groq client với API key hiện tại\n",
    "    client = Groq(api_key=api_key)\n",
    "\n",
    "    # Tạo yêu cầu hoàn thành chat\n",
    "    chat_completion = client.chat.completions.create(\n",
    "        messages=[\n",
    "            {\n",
    "                \"role\": \"user\",\n",
    "                \"content\": prompt,\n",
    "            }\n",
    "        ],\n",
    "        model=\"llama-3.1-70b-versatile\",\n",
    "    )\n",
    "    \n",
    "    # Trả về nội dung của phản hồi\n",
    "    return chat_completion.choices[0].message.content\n",
    "\n",
    "\n",
    "\n",
    "\n",
    "print(\"Đang tạo đánh giá cho từng cặp Hỏi-Đáp...\")\n",
    "samples = getdata()  # Giả sử getdata() là một hàm trả về danh sách các mẫu\n",
    "\n",
    "sub_samples = samples[2375:]\n",
    "print(sub_samples[0])\n",
    "\n",
    "\n",
    "with open('groq_output.json', 'a', encoding='utf-8') as f:\n",
    "    for sample in tqdm(sub_samples):\n",
    "        evaluations = {\n",
    "            \"groundedness\": get_chat_completion(\n",
    "                question_groundedness_critique_prompt.format(context=sample[\"context\"], question=sample[\"question\"]),\n",
    "            ),\n",
    "            \"relevance\": get_chat_completion(\n",
    "                question_relevance_critique_prompt.format(question=sample[\"question\"]),\n",
    "            ),\n",
    "            \"standalone\": get_chat_completion(\n",
    "                question_standalone_critique_prompt.format(question=sample[\"question\"]),\n",
    "            ),\n",
    "        }\n",
    "        try:\n",
    "            for criterion, evaluation in evaluations.items():\n",
    "                score, eval = (\n",
    "                    int(evaluation.split(\"Total rating: \")[-1].strip()),\n",
    "                    evaluation.split(\"Total rating: \")[-2].split(\"Evaluation: \")[1],\n",
    "                )\n",
    "                sample.update(\n",
    "                    {\n",
    "                        f\"{criterion}_score\": score,\n",
    "                        f\"{criterion}_eval\": eval,\n",
    "                    } \n",
    "                )   \n",
    "            \n",
    "            # Ghi mẫu đã được xử lý vào file JSON\n",
    "            f.write(json.dumps(sample, ensure_ascii=False, indent=4) + \",\\n\")\n",
    "        except Exception as e:\n",
    "            continue\n",
    "\n",
    "print(\"Đã lưu kết quả vào file groq_output.json.\")\n"
   ]
  },
  {
   "cell_type": "code",
   "execution_count": 12,
   "metadata": {},
   "outputs": [
    {
     "name": "stdout",
     "output_type": "stream",
     "text": [
      "Generating critique for each QA couple...\n"
     ]
    },
    {
     "data": {
      "application/vnd.jupyter.widget-view+json": {
       "model_id": "9975446b3f894e719b27c75bcc630809",
       "version_major": 2,
       "version_minor": 0
      },
      "text/plain": [
       "  0%|          | 0/1 [00:00<?, ?it/s]"
      ]
     },
     "metadata": {},
     "output_type": "display_data"
    },
    {
     "name": "stdout",
     "output_type": "stream",
     "text": [
      "Thẩm quyền thành lập, mở rộng khu kinh tế được quy định như thế nào?\n"
     ]
    },
    {
     "ename": "GroqError",
     "evalue": "The api_key client option must be set either by passing api_key to the client or by setting the GROQ_API_KEY environment variable",
     "output_type": "error",
     "traceback": [
      "\u001b[0;31m---------------------------------------------------------------------------\u001b[0m",
      "\u001b[0;31mGroqError\u001b[0m                                 Traceback (most recent call last)",
      "Cell \u001b[0;32mIn[12], line 31\u001b[0m\n\u001b[1;32m     28\u001b[0m \u001b[38;5;28;01mfor\u001b[39;00m sample \u001b[38;5;129;01min\u001b[39;00m tqdm(samples):\n\u001b[1;32m     29\u001b[0m     \u001b[38;5;28mprint\u001b[39m(sample[\u001b[38;5;124m\"\u001b[39m\u001b[38;5;124mquestion\u001b[39m\u001b[38;5;124m\"\u001b[39m])\n\u001b[1;32m     30\u001b[0m     evaluations \u001b[38;5;241m=\u001b[39m {\n\u001b[0;32m---> 31\u001b[0m         \u001b[38;5;124m\"\u001b[39m\u001b[38;5;124mgroundedness\u001b[39m\u001b[38;5;124m\"\u001b[39m: \u001b[43mget_chat_completion\u001b[49m\u001b[43m(\u001b[49m\n\u001b[1;32m     32\u001b[0m \u001b[43m            \u001b[49m\u001b[43mquestion_groundedness_critique_prompt\u001b[49m\u001b[38;5;241;43m.\u001b[39;49m\u001b[43mformat\u001b[49m\u001b[43m(\u001b[49m\u001b[43mcontext\u001b[49m\u001b[38;5;241;43m=\u001b[39;49m\u001b[43msample\u001b[49m\u001b[43m[\u001b[49m\u001b[38;5;124;43m\"\u001b[39;49m\u001b[38;5;124;43mcontext\u001b[39;49m\u001b[38;5;124;43m\"\u001b[39;49m\u001b[43m]\u001b[49m\u001b[43m,\u001b[49m\u001b[43m \u001b[49m\u001b[43mquestion\u001b[49m\u001b[38;5;241;43m=\u001b[39;49m\u001b[43msample\u001b[49m\u001b[43m[\u001b[49m\u001b[38;5;124;43m\"\u001b[39;49m\u001b[38;5;124;43mquestion\u001b[39;49m\u001b[38;5;124;43m\"\u001b[39;49m\u001b[43m]\u001b[49m\u001b[43m)\u001b[49m\u001b[43m,\u001b[49m\n\u001b[1;32m     33\u001b[0m \u001b[43m        \u001b[49m\u001b[43m)\u001b[49m,\n\u001b[1;32m     34\u001b[0m         \u001b[38;5;124m\"\u001b[39m\u001b[38;5;124mrelevance\u001b[39m\u001b[38;5;124m\"\u001b[39m: get_chat_completion(\n\u001b[1;32m     35\u001b[0m             question_relevance_critique_prompt\u001b[38;5;241m.\u001b[39mformat(question\u001b[38;5;241m=\u001b[39msample[\u001b[38;5;124m\"\u001b[39m\u001b[38;5;124mquestion\u001b[39m\u001b[38;5;124m\"\u001b[39m]),\n\u001b[1;32m     36\u001b[0m         ),\n\u001b[1;32m     37\u001b[0m         \u001b[38;5;124m\"\u001b[39m\u001b[38;5;124mstandalone\u001b[39m\u001b[38;5;124m\"\u001b[39m: get_chat_completion(\n\u001b[1;32m     38\u001b[0m             question_standalone_critique_prompt\u001b[38;5;241m.\u001b[39mformat(question\u001b[38;5;241m=\u001b[39msample[\u001b[38;5;124m\"\u001b[39m\u001b[38;5;124mquestion\u001b[39m\u001b[38;5;124m\"\u001b[39m]),\n\u001b[1;32m     39\u001b[0m         ),\n\u001b[1;32m     40\u001b[0m     }\n\u001b[1;32m     41\u001b[0m     \u001b[38;5;28;01mtry\u001b[39;00m:\n\u001b[1;32m     42\u001b[0m         \u001b[38;5;28;01mfor\u001b[39;00m criterion, evaluation \u001b[38;5;129;01min\u001b[39;00m evaluations\u001b[38;5;241m.\u001b[39mitems():\n",
      "Cell \u001b[0;32mIn[12], line 9\u001b[0m, in \u001b[0;36mget_chat_completion\u001b[0;34m(prompt)\u001b[0m\n\u001b[1;32m      7\u001b[0m \u001b[38;5;28;01mdef\u001b[39;00m \u001b[38;5;21mget_chat_completion\u001b[39m(prompt: \u001b[38;5;28mstr\u001b[39m) \u001b[38;5;241m-\u001b[39m\u001b[38;5;241m>\u001b[39m \u001b[38;5;28mstr\u001b[39m:\n\u001b[1;32m      8\u001b[0m     \u001b[38;5;66;03m# Initialize the Groq client with the API key from environment variables\u001b[39;00m\n\u001b[0;32m----> 9\u001b[0m     client \u001b[38;5;241m=\u001b[39m \u001b[43mGroq\u001b[49m\u001b[43m(\u001b[49m\u001b[43mapi_key\u001b[49m\u001b[38;5;241;43m=\u001b[39;49m\u001b[43mos\u001b[49m\u001b[38;5;241;43m.\u001b[39;49m\u001b[43menviron\u001b[49m\u001b[38;5;241;43m.\u001b[39;49m\u001b[43mget\u001b[49m\u001b[43m(\u001b[49m\u001b[38;5;124;43m\"\u001b[39;49m\u001b[38;5;124;43mGROQ_API_KEY5\u001b[39;49m\u001b[38;5;124;43m\"\u001b[39;49m\u001b[43m)\u001b[49m\u001b[43m)\u001b[49m\n\u001b[1;32m     11\u001b[0m     \u001b[38;5;66;03m# Create a chat completion request\u001b[39;00m\n\u001b[1;32m     12\u001b[0m     chat_completion \u001b[38;5;241m=\u001b[39m client\u001b[38;5;241m.\u001b[39mchat\u001b[38;5;241m.\u001b[39mcompletions\u001b[38;5;241m.\u001b[39mcreate(\n\u001b[1;32m     13\u001b[0m         messages\u001b[38;5;241m=\u001b[39m[\n\u001b[1;32m     14\u001b[0m             {\n\u001b[0;32m   (...)\u001b[0m\n\u001b[1;32m     19\u001b[0m         model\u001b[38;5;241m=\u001b[39m\u001b[38;5;124m\"\u001b[39m\u001b[38;5;124mllama-3.1-70b-versatile\u001b[39m\u001b[38;5;124m\"\u001b[39m,\n\u001b[1;32m     20\u001b[0m     )\n",
      "File \u001b[0;32m~/miniconda3/lib/python3.12/site-packages/groq/_client.py:89\u001b[0m, in \u001b[0;36mGroq.__init__\u001b[0;34m(self, api_key, base_url, timeout, max_retries, default_headers, default_query, http_client, _strict_response_validation)\u001b[0m\n\u001b[1;32m     87\u001b[0m     api_key \u001b[38;5;241m=\u001b[39m os\u001b[38;5;241m.\u001b[39menviron\u001b[38;5;241m.\u001b[39mget(\u001b[38;5;124m\"\u001b[39m\u001b[38;5;124mGROQ_API_KEY\u001b[39m\u001b[38;5;124m\"\u001b[39m)\n\u001b[1;32m     88\u001b[0m \u001b[38;5;28;01mif\u001b[39;00m api_key \u001b[38;5;129;01mis\u001b[39;00m \u001b[38;5;28;01mNone\u001b[39;00m:\n\u001b[0;32m---> 89\u001b[0m     \u001b[38;5;28;01mraise\u001b[39;00m GroqError(\n\u001b[1;32m     90\u001b[0m         \u001b[38;5;124m\"\u001b[39m\u001b[38;5;124mThe api_key client option must be set either by passing api_key to the client or by setting the GROQ_API_KEY environment variable\u001b[39m\u001b[38;5;124m\"\u001b[39m\n\u001b[1;32m     91\u001b[0m     )\n\u001b[1;32m     92\u001b[0m \u001b[38;5;28mself\u001b[39m\u001b[38;5;241m.\u001b[39mapi_key \u001b[38;5;241m=\u001b[39m api_key\n\u001b[1;32m     94\u001b[0m \u001b[38;5;28;01mif\u001b[39;00m base_url \u001b[38;5;129;01mis\u001b[39;00m \u001b[38;5;28;01mNone\u001b[39;00m:\n",
      "\u001b[0;31mGroqError\u001b[0m: The api_key client option must be set either by passing api_key to the client or by setting the GROQ_API_KEY environment variable"
     ]
    }
   ],
   "source": [
    "import os\n",
    "from groq import Groq\n",
    "\n",
    "from dotenv import load_dotenv\n",
    "load_dotenv()\n",
    "\n",
    "def get_chat_completion(prompt: str) -> str:\n",
    "    # Initialize the Groq client with the API key from environment variables\n",
    "    client = Groq(api_key=os.environ.get(\"GROQ_API_KEY5\"))\n",
    "    \n",
    "    # Create a chat completion request\n",
    "    chat_completion = client.chat.completions.create(\n",
    "        messages=[\n",
    "            {\n",
    "                \"role\": \"user\",\n",
    "                \"content\": prompt,\n",
    "            }\n",
    "        ],\n",
    "        model=\"llama-3.1-70b-versatile\",\n",
    "    )\n",
    "    \n",
    "    # Return the content of the response\n",
    "    return chat_completion.choices[0].message.content\n",
    "print(\"Generating critique for each QA couple...\")\n",
    "samples = getdata(1)\n",
    "\n",
    "outputs = []\n",
    "for sample in tqdm(samples):\n",
    "    print(sample[\"question\"])\n",
    "    evaluations = {\n",
    "        \"groundedness\": get_chat_completion(\n",
    "            question_groundedness_critique_prompt.format(context=sample[\"context\"], question=sample[\"question\"]),\n",
    "        ),\n",
    "        \"relevance\": get_chat_completion(\n",
    "            question_relevance_critique_prompt.format(question=sample[\"question\"]),\n",
    "        ),\n",
    "        \"standalone\": get_chat_completion(\n",
    "            question_standalone_critique_prompt.format(question=sample[\"question\"]),\n",
    "        ),\n",
    "    }\n",
    "    try:\n",
    "        for criterion, evaluation in evaluations.items():\n",
    "            score, eval = (\n",
    "                int(evaluation.split(\"Total rating: \")[-1].strip()),\n",
    "                evaluation.split(\"Total rating: \")[-2].split(\"Evaluation: \")[1],\n",
    "            )\n",
    "            sample.update(\n",
    "                {\n",
    "                    f\"{criterion}_score\": score,\n",
    "                    f\"{criterion}_eval\": eval,\n",
    "                }\n",
    "            )\n",
    "        print(sample)\n",
    "        outputs.append(sample)\n",
    "    except Exception as e:\n",
    "        continue\n",
    "\n",
    "with open('groq_output.json', 'w', encoding='utf-8') as f:\n",
    "    json.dump(outputs, f, ensure_ascii=False, indent=4)\n",
    "\n",
    "print(\"Đã lưu kết quả vào file groq_output.json.\")"
   ]
  },
  {
   "cell_type": "markdown",
   "metadata": {},
   "source": [
    "### Chuyển jsonl thành json"
   ]
  },
  {
   "cell_type": "code",
   "execution_count": 52,
   "metadata": {},
   "outputs": [
    {
     "name": "stdout",
     "output_type": "stream",
     "text": [
      "Conversion complete.\n"
     ]
    }
   ],
   "source": [
    "import json\n",
    "\n",
    "# Define the input and output file paths\n",
    "input_file = '/home/justtuananh/AI4TUAN/DOAN2024/eval_rag_vietnamese/modified_data_BKAI.jsonl'\n",
    "output_file = '/home/justtuananh/AI4TUAN/DOAN2024/eval_rag_vietnamese/modified_data_BKAI.json'\n",
    "\n",
    "# Initialize an empty list to hold all the samples\n",
    "data = []\n",
    "\n",
    "# Read the JSONL file and collect samples\n",
    "with open(input_file, 'r', encoding='utf-8') as infile:\n",
    "    for line in infile:\n",
    "        # Parse each line as a JSON object and add it to the list\n",
    "        sample = json.loads(line)\n",
    "        data.append(sample)\n",
    "\n",
    "# Write the list of samples to a JSON file\n",
    "with open(output_file, 'w', encoding='utf-8') as outfile:\n",
    "    json.dump(data, outfile, ensure_ascii=False, indent=4)\n",
    "\n",
    "print(\"Conversion complete.\")\n"
   ]
  },
  {
   "cell_type": "markdown",
   "metadata": {},
   "source": [
    "### đánh giá và lọc dữ liệu"
   ]
  },
  {
   "cell_type": "code",
   "execution_count": 8,
   "metadata": {},
   "outputs": [],
   "source": [
    "import json\n",
    "\n",
    "\n",
    "eval_legal_data = 'eval-data/legal_eval.json'\n",
    "eval_bkai_data = 'eval-data/bkai_eval.json'\n",
    "\n",
    "\n",
    "def getdata(file_path : str):\n",
    "    samples = []\n",
    "    with open(file_path, 'r') as file:\n",
    "        corpus = json.load(file)\n",
    "        for data in corpus:\n",
    "            samples.append(data)\n",
    "        return corpus\n",
    "data = getdata(eval_legal_data)\n"
   ]
  },
  {
   "cell_type": "code",
   "execution_count": 9,
   "metadata": {},
   "outputs": [
    {
     "name": "stdout",
     "output_type": "stream",
     "text": [
      "Evaluation dataset before filtering:\n"
     ]
    },
    {
     "data": {
      "text/html": [
       "<div>\n",
       "<style scoped>\n",
       "    .dataframe tbody tr th:only-of-type {\n",
       "        vertical-align: middle;\n",
       "    }\n",
       "\n",
       "    .dataframe tbody tr th {\n",
       "        vertical-align: top;\n",
       "    }\n",
       "\n",
       "    .dataframe thead th {\n",
       "        text-align: right;\n",
       "    }\n",
       "</style>\n",
       "<table border=\"1\" class=\"dataframe\">\n",
       "  <thead>\n",
       "    <tr style=\"text-align: right;\">\n",
       "      <th></th>\n",
       "      <th>question</th>\n",
       "      <th>answer</th>\n",
       "      <th>context</th>\n",
       "      <th>groundedness_score</th>\n",
       "      <th>relevance_score</th>\n",
       "      <th>standalone_score</th>\n",
       "    </tr>\n",
       "  </thead>\n",
       "  <tbody>\n",
       "    <tr>\n",
       "      <th>0</th>\n",
       "      <td>Công an xã xử phạt lỗi không mang bằng lái xe có đúng không?</td>\n",
       "      <td>Không đúng. Công an xã chỉ được tuần tra, kiểm soát và xử lý các hành vi vi phạm trật tự, an toàn giao thông như điều khiển xe mô tô, xe gắn máy không đội mũ bảo hiểm, chở quá số người quy định, chở hàng hóa cồng kềnh; đỗ xe ở lòng đường trái quy định; điều khiển phương tiện phóng nhanh, lạng lách, đánh võng, tháo ống xả, không có gương chiếu hậu hoặc chưa đủ tuổi điều khiển phương tiện theo quy định của pháp luật và các hành vi vi phạm hành lang an toàn giao thông đường bộ như họp chợ dưới lòng đường, lấn chiếm hành lang an toàn giao thông.</td>\n",
       "      <td>1. Bố trí lực lượng tham gia tuần tra, kiểm soát trật tự, an toàn giao thông theo kế hoạch.\\n2. Thống kê, báo cáo các vụ, việc vi phạm pháp luật, tai nạn giao thông đường bộ; kết quả tuần tra, kiểm soát và xử lý vi phạm hành chính về trật tự, an toàn giao thông đường bộ theo sự phân công trong kế hoạch.\\n3. Trường hợp không có lực lượng Cảnh sát giao thông đi cùng thì lực lượng Cảnh sát khác và Công an xã thực hiện việc tuần tra, kiểm soát theo kế hoạch đã được cấp có thẩm quyền phê duyệt.\\n4. Lực lượng Công an xã chỉ được tuần tra, kiểm soát trên các tuyến đường liên xã, liên thôn thuộc địa bàn quản lý và xử lý các hành vi vi phạm trật tự, an toàn giao thông sau: điều khiển xe mô tô, xe gắn máy không đội mũ bảo hiểm, chở quá số người quy định, chở hàng hóa cồng kềnh; đỗ xe ở lòng đường trái quy định; điều khiển phương tiện phóng nhanh, lạng lách, đánh võng, tháo ống xả, không có gương chiếu hậu hoặc chưa đủ tuổi điều khiển phương tiện theo quy định của pháp luật và các hành vi vi phạm hành lang an toàn giao thông đường bộ như họp chợ dưới lòng đường, lấn chiếm hành lang an toàn giao thông. Nghiêm cấm việc Công an xã dừng xe, kiểm soát trên các tuyến quốc lộ, tỉnh lộ.</td>\n",
       "      <td>2</td>\n",
       "      <td>3</td>\n",
       "      <td>5</td>\n",
       "    </tr>\n",
       "    <tr>\n",
       "      <th>1</th>\n",
       "      <td>Phải thực hiện thao tác nạp mẫu vào bình chứa và xử lý mẫu sơ bộ bằng hóa chất như thế nào?</td>\n",
       "      <td>Phải dùng ca để lấy mẫu từ dụng cụ chứa trung gian nạp vào bình chứa. Mức độ đầy vơi khi nạp mẫu vào bình chứa phải căn cứ vào quy định đối với từng loại thông số phân tích. Với những bình mẫu phải cho hóa chất bảo quản thì chỉ nạp gần đủ, rồi thực hiện bước nạp hóa chất bảo quản mẫu (xử lý mẫu sơ bộ bằng hóa chất). Lọc mẫu trước khi nạp nếu yêu cầu quy định. Những mẫu cần phải bảo quản bằng hóa chất thì thêm loại và lượng hóa chất theo quy định trong bảng TSNT thuộc Phụ lục 02 ban hành kèm theo Thông tư này hoặc theo tiêu chuẩn quốc gia về bảo quản và xử lý mẫu nước. Hóa chất thường dùng: H2SO4 1:1; HNO3 1:1; HCl 1:1; NaOH 10 M; (CH3COO)2Zn 10%. Sau khi thêm đủ lượng hóa chất, nạp bổ sung lượng nước thải cho đến đủ hoặc đầy như quy định thì vặn chặt nút bình. Lật ngược bình chứa mẫu và lắc để kiểm tra độ kín của nắp bình, nếu có nước rỉ ra ngoài thì phải vặn chặt lại, lau khô, lắc kiểm tra lần nữa. Nếu nước vẫn rò rỉ ra ngoài thì phải thay bình chứa khác. Khi thêm hóa chất dạng lỏng, không được quá 05ml hóa chất cho 01 lít mẫu. Để đạt tới pH ≤ 2, có thể lấy lượng chính xác theo tỷ lệ 4ml axit 1:1 hay 2ml axit đậm đặc cho 01 lít mẫu.</td>\n",
       "      <td>1. Chuẩn bị cho việc lấy mẫu\\na) Dọn sạch khu vực đã chọn làm điểm thu mẫu để loại bỏ các cặn, bùn, các lớp vi khuẩn ở trên thành cống thải, vật nổi trên mặt nước. Nếu dòng thải không có điều kiện chảy rối thì thực hiện như khoản 3 Điều 10. Khi có sự phân tầng ở dòng thải thì phải khuấy trộn đều dòng thải trước khi lấy mẫu;\\nb) Kiểm tra lại độ sạch của các bình chứa mẫu, dụng cụ lấy và chứa mẫu trung gian. Rà soát và chuẩn bị các dụng cụ và hóa chất để xử lý sơ bộ. Kiểm tra và chuẩn bị vật tư niêm phong. Chuẩn bị các trang thiết bị bảo hộ và các điều kiện cần thiết khác (có thể ghi và dán nhãn mẫu vào thời điểm này);\\nc) Lắp dụng cụ lấy mẫu (nối cán của cây lấy mẫu, buộc dây gàu), mặc bảo hộ lao động và các thiết bị bảo đảm an toàn khác.\\n2. Thao tác lấy mẫu\\na) Việc lấy mẫu phải có mặt chủ nguồn thải hoặc người đại diện của cơ sở có nguồn thải. Trường hợp chủ nguồn thải hoặc người đại diện vắng mặt hoặc không hợp tác thì trưởng đoàn công tác có trách nhiệm lập biên bản về sự vắng mặt hoặc không hợp tác và phải có người chứng kiến việc lấy mẫu;\\nb) Trước khi lấy mẫu phải cho chủ nguồn thải hoặc người đại diện của cơ sở có nguồn thải hoặc người chứng kiến thấy dụng cụ lấy và chứa mẫu đảm bảo sạch, các dụng cụ và hóa chất đáp ứng các tiêu chuẩn quốc gia về lấy mẫu. Chụp ảnh hoặc quay phim về điểm thu mẫu và hoạt động thu mẫu;\\nc) Sử dụng dụng cụ lấy mẫu để múc nước thải vào dụng cụ chứa trung gian (xô bằng nhựa sạch có dung tích từ 10 đến 15 lít). Nếu chiều sâu dòng nước thải nhỏ hơn 01 mét, độ sâu lấy mẫu nước thải nằm ở 1/3 chiều sâu dòng nước thải tính từ bề mặt nước. Nếu chiều sâu dòng nước thải lớn hơn 01 mét thì lấy ở độ sâu từ 20cm đến 50cm tính từ mặt nước. Với các cửa xả thải nhỏ và dạng thác thì chọn điểm lấy mẫu ở giữa dòng nước thải. Trường hợp phải khuấy trộn dòng nước thải cho đều thì sau khi khuấy, phải để 05 phút cho cặn thô lắng xuống đáy mới tiến hành lấy mẫu. Phải lọc rác trước khi cho mẫu vào dụng cụ chứa trung gian;\\nd) Trường hợp lấy mẫu xác định các chất nổi và nhũ hóa thì phải tráng dụng cụ chứa trung gian bằng đầy nước thải, đổ nước tráng đi rồi lấy mẫu như bình thường.\\n3. Nạp mẫu vào bình chứa, xử lý mẫu sơ bộ bằng hóa chất\\na) Nạp mẫu vào bình chứa: dùng ca để lấy mẫu từ dụng cụ chứa trung gian nạp vào bình chứa. Mức độ đầy vơi khi nạp mẫu vào bình chứa phải căn cứ vào quy định đối với từng loại thông số phân tích. Với những bình mẫu phải cho hóa chất bảo quản thì chỉ nạp gần đủ, rồi thực hiện bước nạp hóa chất bảo quản mẫu (xử lý mẫu sơ bộ bằng hóa chất). Lọc mẫu trước khi nạp nếu yêu cầu quy định;\\nb) Xử lý mẫu sơ bộ bằng hóa chất: những mẫu cần phải bảo quản bằng hóa chất thì thêm loại và lượng hóa chất theo quy định trong bảng TSNT thuộc Phụ lục 02 ban hành kèm theo Thông tư này hoặc theo tiêu chuẩn quốc gia về bảo quản và xử lý mẫu nước. Hóa chất thường dùng: H2SO4 1:1; HNO3 1:1; HCl 1:1; NaOH 10 M; (CH3COO)2Zn 10%. Sau khi thêm đủ lượng hóa chất, nạp bổ sung lượng nước thải cho đến đủ hoặc đầy như quy định thì vặn chặt nút bình. Lật ngược bình chứa mẫu và lắc để kiểm tra độ kín của nắp bình, nếu có nước rỉ ra ngoài thì phải vặn chặt lại, lau khô, lắc kiểm tra lần nữa. Nếu nước vẫn rò rỉ ra ngoài thì phải thay bình chứa khác. Khi thêm hóa chất dạng lỏng, không được quá 05ml hóa chất cho 01 lít mẫu. Để đạt tới pH ≤ 2, có thể lấy lượng chính xác theo tỷ lệ 4ml axit 1:1 hay 2ml axit đậm đặc cho 01 lít mẫu.</td>\n",
       "      <td>3</td>\n",
       "      <td>1</td>\n",
       "      <td>2</td>\n",
       "    </tr>\n",
       "    <tr>\n",
       "      <th>2</th>\n",
       "      <td>Tử tù chết sau khi tiêm thuốc độc mà không có thân nhân nhận xác thì được hỗ trợ mai táng như thế nào?</td>\n",
       "      <td>Trường hợp không được nhận tử thi hoặc thân nhân của người bị thi hành án không có đơn đề nghị được nhận tử thi về an táng thì cơ quan thi hành án hình sự Công an cấp tỉnh, cơ quan thi hành án hình sự cấp quân khu tổ chức việc an táng. Sau 03 năm kể từ ngày thi hành án, thân nhân hoặc đại diện hợp pháp của người đã bị thi hành án được làm đơn có xác nhận của Ủy ban nhân dân cấp xã nơi cư trú đề nghị Cơ quan thi hành án hình sự Công an cấp tỉnh, cơ quan thi hành án hình sự cấp quân khu nơi đã thi hành án cho nhận hài cốt.</td>\n",
       "      <td>1. Việc giải quyết nhận tử thi được thực hiện như sau:\\na) Trước khi thi hành án tử hình, thân nhân hoặc người đại diện hợp pháp của người chấp hành án được làm đơn có xác nhận của Ủy ban nhân dân cấp xã nơi cư trú gửi Chánh án Tòa án đã xét xử sơ thẩm đề nghị giải quyết cho nhận tử thi của người chấp hành án để an táng; trường hợp người chấp hành án là người nước ngoài thì đơn phải có xác nhận của cơ quan có thẩm quyền hoặc cơ quan đại diện ngoại giao tại Việt Nam của nước mà người chấp hành án mang quốc tịch và phải được dịch ra tiếng Việt. Đơn phải ghi rõ họ tên, địa chỉ người nhận tử thi, quan hệ với người chấp hành án; cam kết bảo đảm yêu cầu về an ninh, trật tự, vệ sinh môi trường và tự chịu chi phí;\\nb) Chánh án Tòa án đã xét xử sơ thẩm thông báo bằng văn bản cho người có đơn đề nghị về việc cho nhận tử thi hoặc không cho nhận tử thi khi có căn cứ cho rằng việc nhận tử thi ảnh hưởng đến an ninh, trật tự, vệ sinh môi trường. Trường hợp người chấp hành án là người nước ngoài, thì Chánh án Tòa án đã xét xử sơ thẩm có trách nhiệm thông báo bằng văn bản cho Bộ Ngoại giao Việt Nam để thông báo cho cơ quan có thẩm quyền hoặc cơ quan đại diện ngoại giao tại Việt Nam của nước mà người đó mang quốc tịch;\\nc) Cơ quan thi hành án hình sự Công an cấp tỉnh, cơ quan thi hành án hình sự cấp quân khu có trách nhiệm thông báo cho người có đơn đề nghị ngay sau khi thi hành án để đến nhận tử thi về an táng. Việc giao nhận tử thi phải được thực hiện trong thời hạn 24 giờ kể từ khi thông báo và phải lập biên bản, có chữ ký của các bên giao, nhận; hết thời hạn này mà người có đơn đề nghị không đến nhận tử thi thì cơ quan thi hành án hình sự Công an cấp tỉnh, cơ quan thi hành án hình sự cấp quân khu có trách nhiệm an táng.\\n2. Trường hợp không được nhận tử thi hoặc thân nhân của người bị thi hành án không có đơn đề nghị được nhận tử thi về an táng thì cơ quan thi hành án hình sự Công an cấp tỉnh, cơ quan thi hành án hình sự cấp quân khu tổ chức việc an táng. Sau 03 năm kể từ ngày thi hành án, thân nhân hoặc đại diện hợp pháp của người đã bị thi hành án được làm đơn có xác nhận của Ủy ban nhân dân cấp xã nơi cư trú đề nghị Cơ quan thi hành án hình sự Công an cấp tỉnh, cơ quan thi hành án hình sự cấp quân khu nơi đã thi hành án cho nhận hài cốt. Đơn đề nghị phải ghi rõ họ tên, địa chỉ người nhận hài cốt, quan hệ với người bị thi hành án; cam kết bảo đảm yêu cầu về an ninh, trật tự, vệ sinh môi trường và tự chịu chi phí. Trong thời hạn 07 ngày, kể từ ngày nhận được đơn, cơ quan thi hành án hình sự Công an cấp tỉnh, cơ quan thi hành án hình sự cấp quân khu có trách nhiệm xem xét, giải quyết.\\nTrường hợp người bị thi hành án là người nước ngoài thì đơn đề nghị phải có xác nhận của cơ quan có thẩm quyền hoặc cơ quan đại diện ngoại giao tại Việt Nam của nước mà người bị thi hành án mang quốc tịch và phải được dịch ra tiếng Việt. Việc giải quyết cho nhận hài cốt do cơ quan quản lý thi hành án hình sự xem xét, quyết định.</td>\n",
       "      <td>3</td>\n",
       "      <td>5</td>\n",
       "      <td>5</td>\n",
       "    </tr>\n",
       "    <tr>\n",
       "      <th>3</th>\n",
       "      <td>Trách nhiệm của Bộ Khoa học và Công nghệ về quản lý và phát triển công nghiệp an ninh được quy định như thế nào?</td>\n",
       "      <td>Bộ Khoa học và Công nghệ có trách nhiệm chủ trì, phối hợp, hướng dẫn Bộ Công an và các tổ chức, cá nhân thực hiện các chương trình, nhiệm vụ nghiên cứu, ứng dụng khoa học công nghệ phục vụ xây dựng, phát triển công nghiệp an ninh, tập trung nghiên cứu, ứng dụng, cập nhật, phát triển sản phẩm mới, sản phẩm chuyên dụng công nghệ cao đáp ứng yêu cầu ngày càng cao của nhiệm vụ bảo vệ an ninh quốc gia, bảo đảm trật tự, an toàn xã hội trong tình hình mới; phối hợp, hướng dẫn, kiểm tra công tác chuyển giao công nghệ, giải mã công nghệ; ban hành quy chuẩn kỹ thuật quốc gia về các sản phẩm công nghiệp an ninh chuyên dụng và việc huy động các chuyên gia, nhà khoa học tham gia nghiên cứu, phát triển công nghiệp an ninh.</td>\n",
       "      <td>1. Bộ Quốc phòng có trách nhiệm phối hợp với Bộ Công an rà soát, lập mới hoặc điều chỉnh danh mục sản phẩm công nghiệp an ninh và danh mục cụ thể sản phẩm công nghiệp an ninh; phối hợp, rà soát năng lực các cơ sở công nghiệp quốc phòng thuộc Bộ Quốc phòng và các cơ sở công nghiệp an ninh thuộc Bộ Công an để làm căn cứ trao đổi, hợp tác nghiên cứu, sản xuất các sản phẩm phục vụ công tác, chiến đấu của lực lượng Quân đội, Công an và lực lượng thực thi pháp luật khác, tránh trùng lặp, lãng phí.\\n2. Bộ Kế hoạch và Đầu tư\\na) Phối hợp với Bộ Công an, các cơ quan liên quan tham mưu cho Chính phủ, Thủ tướng Chính phủ thống nhất quản lý nhà nước về lập, thẩm định, quyết định chủ trương đầu tư, quyết định đầu tư chương trình, kế hoạch, dự án đầu tư phát triển công nghiệp an ninh theo quy định của pháp luật về đầu tư công;\\nb) Phối hợp, hướng dẫn Bộ Công an lập kế hoạch, dự toán kinh phí đầu tư phát triển công nghiệp an ninh và tổng hợp vào kế hoạch đầu tư công trung hạn và hằng năm của Bộ Công an;\\nc) Chủ trì cân đối, bố trí vốn đầu tư thực hiện chương trình, kế hoạch phát triển công nghiệp an ninh theo quy định của Luật Ngân sách nhà nước, huy động nguồn vốn ODA cho các mục tiêu phát triển công nghiệp an ninh; chủ trì, phối hợp với các bộ, cơ quan liên quan xây dựng chính sách nhằm khuyến khích, thu hút các nguồn lực ngoài ngân sách đầu tư cho xây dựng, phát triển công nghiệp an ninh.\\n3. Bộ Tài chính\\na) Chủ trì bố trí kinh phí thực hiện chương trình, kế hoạch đầu tư phát triển công nghiệp an ninh theo quy định của pháp luật về ngân sách nhà nước khi được cấp có thẩm quyền phê duyệt;\\nb) Hướng dẫn về điều kiện, đối tượng, thủ tục, quy trình vay ưu đãi, vay vốn tín dụng đầu tư nhà nước, vốn tín dụng do Nhà nước bảo lãnh và các nguồn tín dụng khác theo quy định đối với các chương trình, kế hoạch, dự án đầu tư phát triển công nghiệp an ninh, hoạt động sản xuất, cung cấp các sản phẩm công nghiệp an ninh đảm bảo đơn giản, rõ ràng, minh bạch;\\nc) Phối hợp với Bộ Công an hướng dẫn, kiểm tra, giám sát việc sử dụng kinh phí thực hiện chương trình, kế hoạch phát triển công nghiệp an ninh.\\n4. Bộ Công Thương\\na) Phối hợp với Bộ Công an và các cơ quan liên quan rà soát, đưa nội dung phát triển công nghiệp an ninh và danh mục sản phẩm công nghiệp an ninh lồng ghép với các chương trình, chiến lược về phát triển công nghiệp theo ngành;\\nb) Phối hợp, rà soát, lập mới hoặc điều chỉnh danh mục sản phẩm công nghiệp an ninh để trình Chính phủ phê duyệt ban hành.\\n5. Bộ Tài nguyên và Môi trường\\na) Chủ trì, phối hợp với các cơ quan liên quan và Ủy ban nhân dân các tỉnh, thành phố trực thuộc trung ương nghiên cứu, đề xuất với Thủ tướng Chính phủ phương án về quy hoạch, quản lý, sử dụng đất dành cho phát triển công nghiệp an ninh;\\nb) Phối hợp với Bộ Tài chính hướng dẫn về chế độ sử dụng đất, các ưu đãi đặc thù về đất đai cho các chương trình, dự án phát triển công nghiệp an ninh.\\n6. Bộ Khoa học và Công nghệ\\na) Chủ trì, phối hợp, hướng dẫn Bộ Công an và các tổ chức, cá nhân thực hiện các chương trình, nhiệm vụ nghiên cứu, ứng dụng khoa học công nghệ phục vụ xây dựng, phát triển công nghiệp an ninh, tập trung nghiên cứu, ứng dụng, cập nhật, phát triển sản phẩm mới, sản phẩm chuyên dụng công nghệ cao đáp ứng yêu cầu ngày càng cao của nhiệm vụ bảo vệ an ninh quốc gia, bảo đảm trật tự, an toàn xã hội trong tình hình mới;\\nb) Phối hợp, hướng dẫn, kiểm tra công tác chuyển giao công nghệ, giải mã công nghệ; ban hành quy chuẩn kỹ thuật quốc gia về các sản phẩm công nghiệp an ninh chuyên dụng và việc huy động các chuyên gia, nhà khoa học tham gia nghiên cứu, phát triển công nghiệp an ninh.\\n7. Ngân hàng Nhà nước có trách nhiệm phối hợp với Bộ Tài chính hướng dẫn cụ thể việc thực hiện chính sách tín dụng từ nguồn tín dụng đầu tư phát triển của Nhà nước; bảo lãnh tín dụng trong và ngoài nước; từ các nguồn vốn tín dụng khác cho các chương trình, dự án phát triển công nghiệp an ninh theo quy định của pháp luật.</td>\n",
       "      <td>5</td>\n",
       "      <td>5</td>\n",
       "      <td>5</td>\n",
       "    </tr>\n",
       "    <tr>\n",
       "      <th>4</th>\n",
       "      <td>Mức phạt khi sử dụng trái phép lòng đường đô thị, hè phố để rửa xe</td>\n",
       "      <td>Phạt tiền từ 4.000.000 đồng đến 6.000.000 đồng đối với cá nhân, từ 8.000.000 đồng đến 12.000.000 đồng đối với tổ chức.</td>\n",
       "      <td>1. Phạt tiền từ 100.000 đồng đến 200.000 đồng đối với cá nhân, từ 200.000 đồng đến 400.000 đồng đối với tổ chức thực hiện một trong các hành vi vi phạm sau đây:\\na) Bán hàng rong hoặc bán hàng hóa nhỏ lẻ khác trên lòng đường đô thị, trên vỉa hè các tuyến phố có quy định cấm bán hàng, trừ các hành vi vi phạm quy định tại điểm c khoản 2, điểm b khoản 5, điểm e khoản 6 Điều này;\\nb) Phơi thóc, lúa, rơm, rạ, nông, lâm, hải sản trên đường bộ; đặt máy tuốt lúa trên đường bộ.\\n2. Phạt tiền từ 300.000 đồng đến 400.000 đồng đối với cá nhân, từ 600.000 đồng đến 800.000 đồng đối với tổ chức thực hiện một trong các hành vi vi phạm sau đây:\\na) Sử dụng, khai thác tạm thời trên đất hành lang an toàn đường bộ vào mục đích canh tác nông nghiệp làm ảnh hưởng đến an toàn công trình đường bộ và an toàn giao thông;\\nb) Trồng cây trong phạm vi đất dành cho đường bộ làm che khuất tầm nhìn của người điều khiển phương tiện giao thông;\\nc) Chiếm dụng dải phân cách giữa của đường đôi làm nơi: Bày, bán hàng hóa; để vật liệu xây dựng, trừ các hành vi vi phạm quy định tại điểm b khoản 5; điểm d, điểm e khoản 6 Điều này;\\nd) Họp chợ, mua, bán hàng hóa trong phạm vi đất của đường bộ ở đoạn đường ngoài đô thị, trừ các hành vi vi phạm quy định tại điểm d khoản 5; điểm d, điểm i khoản 6 Điều này;\\nđ) Xả nước ra đường bộ không đúng nơi quy định, trừ hành vi vi phạm quy định tại điểm h khoản 6 Điều này.\\n3. Phạt tiền từ 500.000 đồng đến 1.000.000 đồng đối với cá nhân, từ 1.000.000 đồng đến 2.000.000 đồng đối với tổ chức thực hiện một trong các hành vi vi phạm sau đây:\\na) Sử dụng đường bộ trái quy định để tổ chức các hoạt động văn hóa, thể thao, diễu hành, lễ hội;\\nb) Dựng cổng chào hoặc các vật che chắn khác trái quy định trong phạm vi đất dành cho đường bộ gây ảnh hưởng đến trật tự, an toàn giao thông đường bộ;\\nc) Treo băng rôn, biểu ngữ trái phép trong phạm vi đất dành cho đường bộ gây ảnh hưởng đến trật tự an toàn giao thông đường bộ;\\nd) Đặt, treo biển hiệu, biển quảng cáo trên đất của đường bộ ở đoạn đường ngoài đô thị, trừ các hành vi vi phạm quy định tại điểm b khoản 8 Điều này;\\nđ) Chiếm dụng dải phân cách giữa của đường đôi làm nơi để xe, trông, giữ xe;\\ne) Sử dụng trái phép đất của đường bộ ở đoạn đường ngoài đô thị làm nơi sửa chữa phương tiện, máy móc, thiết bị; rửa xe, bơm nước mui xe gây ảnh hưởng đến trật tự an toàn giao thông đường bộ.\\n4. Phạt tiền từ 1.000.000 đồng đến 2.000.000 đồng đối với cá nhân, từ 2.000.000 đồng đến 4.000.000 đồng đối với tổ chức thực hiện hành vi đổ rác ra đường bộ không đúng nơi quy định, trừ các hành vi vi phạm quy định tại: điểm a khoản 6 Điều này; khoản 3, khoản 4 Điều 20 Nghị định này.\\n5. Phạt tiền từ 2.000.000 đồng đến 3.000.000 đồng đối với cá nhân, từ 4.000.000 đồng đến 6.000.000 đồng đối với tổ chức thực hiện một trong các hành vi vi phạm sau đây:\\na) Dựng rạp, lều quán, cổng ra vào, tường rào các loại, công trình khác trái phép trong phạm vi đất dành cho đường bộ, trừ các hành vi vi phạm quy định tại điểm đ khoản 6, điểm b khoản 8, điểm a khoản 9 Điều này;\\nb) Sử dụng trái phép lòng đường đô thị, hè phố để: Họp chợ; kinh doanh dịch vụ ăn uống; bày, bán hàng hóa; sửa chữa phương tiện, máy móc, thiết bị; rửa xe; đặt, treo biển hiệu, biển quảng cáo; xây, đặt bục bệ; làm mái che hoặc thực hiện các hoạt động khác gây cản trở giao thông, trừ các hành vi vi phạm quy định tại điểm d, điểm đ, điểm e, điểm g khoản 6; khoản 7; điểm a khoản 8 Điều này;\\nc) Chiếm dụng lòng đường đô thị hoặc hè phố dưới 05 m2 làm nơi trông, giữ xe;\\nd) Chiếm dụng phần đường xe chạy hoặc lề đường của đường ngoài đô thị dưới 20 m2 làm nơi trông, giữ xe.\\n6. Phạt tiền từ 4.000.000 đồng đến 6.000.000 đồng đối với cá nhân, từ 8.000.000 đồng đến 12.000.000 đồng đối với tổ chức thực hiện một trong các hành vi vi phạm sau đây:\\na) Đổ, để trái phép vật liệu, chất phế thải trong phạm vi đất dành cho đường bộ, trừ các hành vi vi phạm quy định tại khoản 3, khoản 4 Điều 20 Nghị định này;\\nb) Tự ý đào, đắp, san, lấp mặt bằng trong: Hành lang an toàn đường bộ, phần đất dọc hai bên đường bộ dùng để quản lý, bảo trì, bảo vệ công trình đường bộ;\\nc) Tự ý gắn vào công trình báo hiệu đường bộ các nội dung không liên quan tới ý nghĩa, mục đích của công trình đường bộ;\\nd) Sử dụng trái phép đất của đường bộ hoặc hành lang an toàn đường bộ làm nơi tập kết hoặc trung chuyển hàng hóa, vật tư, vật liệu xây dựng, máy móc, thiết bị, các loại vật dụng khác;\\nđ) Dựng rạp, lều quán, công trình khác trái phép trong khu vực đô thị tại hầm đường bộ, cầu vượt, hầm cho người đi bộ, gầm cầu vượt, trừ hành vi vi phạm quy định tại điểm a khoản 9 Điều này;\\ne) Bày, bán máy móc, thiết bị, vật tư, vật liệu xây dựng hoặc sản xuất, gia công hàng hóa trên lòng đường đô thị, hè phố;\\ng) Chiếm dụng lòng đường đô thị hoặc hè phố từ 05 m2 đến dưới 10 m2 làm nơi trông, giữ xe;\\nh) Xả nước thải xây dựng từ các công trình xây dựng ra đường phố;\\ni) Chiếm dụng phần đường xe chạy hoặc lề đường của đường ngoài đô thị từ 20 m2 trở lên làm nơi trông, giữ xe.\\n7. Phạt tiền từ 6.000.000 đồng đến 8.000.000 đồng đối với cá nhân, từ 12.000.000 đồng đến 16.000.000 đồng đối với tổ chức thực hiện hành vi chiếm dụng lòng đường đô thị hoặc hè phố từ 10 m2 đến dưới 20 m2 làm nơi trông, giữ xe.\\n8. Phạt tiền từ 10.000.000 đồng đến 15.000.000 đồng đối với cá nhân, từ 20.000.000 đồng đến 30.000.000 đồng đối với tổ chức thực hiện một trong các hành vi vi phạm sau đây:\\na) Chiếm dụng lòng đường đô thị hoặc hè phố từ 20 m2 trở lên làm nơi trông, giữ xe;\\nb) Dựng biển quảng cáo trên đất hành lang an toàn đường bộ khi chưa được cơ quan quản lý đường bộ có thẩm quyền đồng ý bằng văn bản hoặc dựng biển quảng cáo trên phần đất dọc hai bên đường bộ dùng để quản lý, bảo trì, bảo vệ công trình đường bộ.\\n9. Phạt tiền từ 15.000.000 đồng đến 20.000.000 đồng đối với cá nhân, từ 30.000.000 đồng đến 40.000.000 đồng đối với tổ chức thực hiện một trong các hành vi vi phạm sau đây:\\na) Chiếm dụng đất của đường bộ hoặc đất hành lang an toàn đường bộ để xây dựng nhà ở;\\nb) Mở đường nhánh đấu nối trái phép vào đường chính.\\n10. Ngoài việc bị áp dụng hình thức xử phạt, cá nhân, tổ chức thực hiện hành vi vi phạm còn bị áp dụng các biện pháp khắc phục hậu quả sau đây:\\na) Thực hiện hành vi quy định tại điểm b khoản 1 Điều này buộc phải thu dọn thóc, lúa, rơm, rạ, nông, lâm, hải sản, thiết bị trên đường bộ;\\nb) Thực hiện hành vi quy định tại điểm a, điểm b khoản 2 Điều này buộc phải di dời cây trồng không đúng quy định và khôi phục lại tình trạng ban đầu đã bị thay đổi do vi phạm hành chính gây ra;\\nc) Thực hiện hành vi quy định tại điểm c, điểm d khoản 2 Điều này buộc phải thu dọn vật tư, vật liệu, hàng hóa và khôi phục lại tình trạng ban đầu đã bị thay đổi do vi phạm hành chính gây ra;\\nd) Thực hiện hành vi quy định tại khoản 3; khoản 4; điểm b, điểm c, điểm d khoản 5; điểm a, điểm b, điểm c, điểm d, điểm e, điểm g, điểm h, điểm i khoản 6; khoản 7; điểm a khoản 8 Điều này buộc phải thu dọn rác, chất phế thải, phương tiện, vật tư, vật liệu, hàng hóa, máy móc, thiết bị, biển hiệu, biển quảng cáo, các loại vật dụng khác và khôi phục lại tình trạng ban đầu đã bị thay đổi do vi phạm hành chính gây ra;\\nđ) Thực hiện hành vi quy định tại điểm a khoản 5, điểm đ khoản 6, điểm b khoản 8, khoản 9 Điều này buộc phải tháo dỡ công trình xây dựng trái phép (không có giấy phép hoặc không đúng với giấy phép) và khôi phục lại tình trạng ban đầu đã bị thay đổi do vi phạm hành chính gây ra.</td>\n",
       "      <td>5</td>\n",
       "      <td>4</td>\n",
       "      <td>5</td>\n",
       "    </tr>\n",
       "    <tr>\n",
       "      <th>...</th>\n",
       "      <td>...</td>\n",
       "      <td>...</td>\n",
       "      <td>...</td>\n",
       "      <td>...</td>\n",
       "      <td>...</td>\n",
       "      <td>...</td>\n",
       "    </tr>\n",
       "    <tr>\n",
       "      <th>2142</th>\n",
       "      <td>Việc đàm phán, hoàn thiện hợp đồng đối với dự án đầu tư có sử dụng đất dựa trên cơ sở nào?</td>\n",
       "      <td>Việc đàm phán, hoàn thiện hợp đồng đối với dự án đầu tư có sử dụng đất dựa trên cơ sở sau: Báo cáo đánh giá hồ sơ dự thầu; Hồ sơ dự thầu và các tài liệu làm rõ, sửa đổi hồ sơ dự thầu (nếu có) của nhà đầu tư; Hồ sơ mời thầu.</td>\n",
       "      <td>1. Căn cứ kết quả lựa chọn nhà đầu tư, nhà đầu tư xếp thứ nhất được mời đến đàm phán, hoàn thiện hợp đồng. Trường hợp nhà đầu tư được mời đến đàm phán, hoàn thiện hợp đồng nhưng không đến hoặc từ chối đàm phán, hoàn thiện hợp đồng thì nhà đầu tư sẽ không được nhận lại bảo đảm dự thầu.\\n2. Việc đàm phán, hoàn thiện hợp đồng phải dựa trên cơ sở sau đây:\\na) Báo cáo đánh giá hồ sơ dự thầu;\\nb) Hồ sơ dự thầu và các tài liệu làm rõ, sửa đổi hồ sơ dự thầu (nếu có) của nhà đầu tư;\\nc) Hồ sơ mời thầu.\\n3. Nguyên tắc đàm phán, hoàn thiện hợp đồng:\\na) Không tiến hành đàm phán, hoàn thiện hợp đồng đối với các nội dung mà nhà đầu tư đã chào thầu theo đúng yêu cầu của hồ sơ mời thầu;\\nb) Việc đàm phán, hoàn thiện hợp đồng không được làm thay đổi nội dung cơ bản của hồ sơ dự thầu.\\n4. Nội dung đàm phán, hoàn thiện hợp đồng:\\na) Đàm phán, hoàn thiện về những nội dung chưa đủ chi tiết, chưa rõ hoặc chưa phù hợp, thống nhất giữa hồ sơ mời thầu và hồ sơ dự thầu, giữa các nội dung khác nhau trong hồ sơ dự thầu có thể dẫn đến các phát sinh, tranh chấp hoặc ảnh hưởng đến trách nhiệm của các bên trong quá trình thực hiện hợp đồng;\\nb) Đàm phán về các vấn đề phát sinh trong quá trình lựa chọn nhà đầu tư (nếu có) nhằm mục tiêu hoàn thiện các nội dung chi tiết của dự án;\\nc) Đàm phán về tiến độ bàn giao mặt bằng xây dựng; tiến độ nhà đầu tư chuyển giá trị bồi thường, hỗ trợ, tái định cư, chuyển giá trị nộp ngân sách nhà nước bằng tiền cho cơ quan quản lý nhà nước có chức năng theo quy định;\\nd) Cơ sở xác định tiền sử dụng đất, tiền thuê đất theo quy định pháp luật về đất đai; phương pháp định giá đất sẽ được sử dụng để xác định tiền sử dụng đất, tiền thuê đất tại thời điểm giao đất, cho thuê đất theo quy định của pháp luật về đất đai; thông số đầu vào hoặc cách thức xác định thông số đầu vào tương ứng với phương pháp định giá;\\nđ) Đàm phán về các nội dung cần thiết khác.\\n5. Trong quá trình đàm phán, hoàn thiện hợp đồng, các bên tham gia tiến hành hoàn thiện căn cứ để ký kết hợp đồng dự án, dự thảo hợp đồng, các thay đổi đối với các điều khoản đặc biệt của hợp đồng (nếu có).\\n6. Trường hợp đàm phán, hoàn thiện hợp đồng không thành công, bên mời thầu báo cáo người có thẩm quyền xem xét, quyết định hủy kết quả lựa chọn nhà đầu tư và mời nhà đầu tư xếp hạng tiếp theo vào đàm phán, hoàn thiện hợp đồng. Trường hợp đàm phán, hoàn thiện với các nhà đầu tư tiếp theo không thành công thì bên mời thầu báo cáo người có thẩm quyền xem xét, quyết định hủy thầu theo quy định tại khoản 1 Điều 17 của Luật Đấu thầu.</td>\n",
       "      <td>5</td>\n",
       "      <td>5</td>\n",
       "      <td>4</td>\n",
       "    </tr>\n",
       "    <tr>\n",
       "      <th>2143</th>\n",
       "      <td>Thông tin giá thị trường của các yếu tố đầu vào để xác định chỉ số giá xây dựng phải thỏa mãn yêu cầu gì?</td>\n",
       "      <td>Thông tin giá thị trường của các yếu tố đầu vào phải được xác định theo các quy định của Bộ Xây dựng. Đối với giá vật liệu xây dựng, phải đảm bảo chủng loại, quy cách, nhãn mác phù hợp với khu vực xây dựng công trình và yêu cầu xác định giá vật liệu xây dựng. Đối với giá nhân công xây dựng, phải căn cứ theo đơn giá nhân công xây dựng do UBND cấp tỉnh công bố. Đối với giá ca máy và thiết bị thi công xây dựng, phải căn cứ theo giá ca máy, giá thuê máy và thiết bị thi công do UBND cấp tỉnh công bố và danh mục máy và thiết bị thi công phải được thống nhất về chủng loại, công suất và xuất xứ.</td>\n",
       "      <td>1. Yêu cầu về thu thập số liệu, dữ liệu để xác định cơ cấu chi phí:\\na) Số liệu về chi phí đầu tư xây dựng công trình như tổng mức đầu tư, dự toán xây dựng, quyết toán vốn đầu tư công trình hoàn thành (nếu có) đã được phê duyệt bao gồm chi tiết các khoản mục chi phí.\\nb) Các chế độ, chính sách, quy định về quản lý chi phí đầu tư xây dựng công trình, sử dụng lao động, vật tư, máy và thiết bị thi công và các chi phí khác có liên quan ở thời điểm tính toán.\\n2. Yêu cầu về thông tin giá thị trường của các yếu tố đầu vào:\\na) Giá vật liệu xây dựng: Giá vật liệu xây dựng được xác định theo Thông tư hướng dẫn xác định và quản lý chi phí đầu tư xây dựng của Bộ Xây dựng. Danh mục vật liệu đưa vào tính chỉ số giá xây dựng phải được thống nhất về chủng loại, quy cách, nhãn mác. Đối với chỉ số giá xây dựng xác định cho công trình, giá vật liệu xây dựng được căn cứ theo công bố giá của địa phương. Trường hợp địa phương chưa công bố thì giá vật liệu xây dựng được thu thập trên thị trường nhưng phải đảm bảo phù hợp với khu vực xây dựng công trình, chủng loại, quy cách, nhãn mác vật liệu sử dụng cho công trình đó và các yêu cầu xác định giá vật liệu xây dựng theo Thông tư hướng dẫn xác định và quản lý chi phí đầu tư xây dựng của Bộ Xây dựng.\\nb) Giá nhân công xây dựng được xác định theo đơn giá nhân công xây dựng do UBND cấp tỉnh công bố. Trường hợp UBND cấp tỉnh chưa công bố thì căn cứ theo phương pháp xác định giá nhân công xây dựng do Bộ Xây dựng hướng dẫn để xác định.\\nc) Giá ca máy và thiết bị thi công xây dựng được xác định theo giá ca máy, giá thuê máy và thiết bị thi công do UBND cấp tỉnh công bố. Trường hợp UBND cấp tỉnh chưa công bố thì căn cứ theo phương pháp xác định giá ca máy và thiết bị thi công do Bộ Xây dựng hướng dẫn để xác định. Danh mục máy và thiết bị thi công đưa vào tính chỉ số giá xây dựng phải được thống nhất về chủng loại, công suất và xuất xứ.\\n3. Xử lý số liệu tính toán chỉ số giá xây dựng:\\na) Đối với các số liệu, dữ liệu để xác định cơ cấu chi phí: Việc xử lý số liệu, dữ liệu thu thập được bao gồm các công việc rà soát, kiểm tra, hiệu chỉnh lại số liệu, dữ liệu và cơ cấu dự toán chi phí. Số liệu về cơ cấu dự toán chi phí cần phải được quy đổi theo cơ cấu dự toán quy định tại thời điểm gốc. Các số liệu về tổng mức đầu tư, dự toán xây dựng công trình, quyết toán vốn đầu tư công trình hoàn thành (nếu có) phải được quy đổi về mặt bằng giá ở thời điểm gốc.\\nb) Đối với các thông tin về giá cả các yếu tố đầu vào: các số liệu, dữ liệu thu thập về giá cả các yếu tố đầu vào cần phải được kiểm tra, rà soát, hiệu chỉnh, cụ thể: Giá các loại vật liệu xây dựng đầu vào được kiểm tra về sự phù hợp của chủng loại, quy cách, nhãn mác. Giá các loại nhân công xây dựng đầu vào được kiểm tra về sự phù hợp với loại thợ, cấp bậc thợ thực hiện công việc. Giá ca máy của các loại máy và thiết bị thi công đầu vào được kiểm tra sự phù hợp về chủng loại, công suất, xuất xứ máy.</td>\n",
       "      <td>3</td>\n",
       "      <td>5</td>\n",
       "      <td>2</td>\n",
       "    </tr>\n",
       "    <tr>\n",
       "      <th>2144</th>\n",
       "      <td>Mức phạt đối với hành vi không niêm yết công khai giá mua bán hàng dự trữ quốc gia được quy định như thế nào?</td>\n",
       "      <td>Mức phạt đối với hành vi không thông báo hoặc niêm yết công khai về giá mua, bán hàng dự trữ quốc gia được quy định là phạt tiền từ 1.000.000 đồng đến 3.000.000 đồng.</td>\n",
       "      <td>1. Phạt tiền từ 1.000.000 đồng đến 3.000.000 đồng đối với hành vi không thông báo hoặc niêm yết công khai về đối tượng tham gia mua, bán; phương thức mua, bán; giá mua, bán; thời hạn mua, bán; số lượng, chủng loại, quy cách, tiêu chuẩn, chất lượng hàng dự trữ quốc gia theo quy định của cơ quan nhà nước có thẩm quyền.\\n2. Phạt tiền từ 3.000.000 đồng đến 5.000.000 đồng đối với hành vi:\\nThực hiện không đúng các quy định do cơ quan nhà nước có thẩm quyền ban hành về phương thức mua, bán đối với từng loại hàng dự trữ quốc gia.\\n3. Phạt tiền từ 5.000.000 đồng đến 7.000.000 đồng đối với một trong các hành vi sau đây:\\na) Không thực hiện việc mua hàng dự trữ quốc gia khi đã có đủ các điều kiện theo quyết định của cơ quan nhà nước có thẩm quyền;\\nb) Mua, bán hàng dự trữ quốc gia khi không có sự đồng ý bằng văn bản của cơ quan nhà nước có thẩm quyền;\\nc) Mua, bán hàng dự trữ quốc gia khi thời hạn về mua, bán hàng dự trữ quốc gia đã hết hiệu lực;\\nd) Mua, bán hàng dự trữ quốc gia không đúng về số lượng, chủng loại, quy cách, tiêu chuẩn, chất lượng đã được cơ quan nhà nước có thẩm quyền phê duyệt;\\nđ) Không thực hiện các quy định do cơ quan nhà nước có thẩm quyền ban hành về phương thức mua, bán đối với từng loại hàng dự trữ quốc gia.\\n4. Phạt tiền từ 10.000.000 đồng đến 20.000.000 đồng đối với hành vi tự ý thay đổi giá mua, bán hàng dự trữ quốc gia để trục lợi.\\n5. Biện pháp khắc phục hậu quả:\\nBuộc nộp lại số lợi bất hợp pháp có được do thực hiện hành vi quy định tại khoản 1, khoản 2, khoản 3 Điều này.</td>\n",
       "      <td>5</td>\n",
       "      <td>5</td>\n",
       "      <td>5</td>\n",
       "    </tr>\n",
       "    <tr>\n",
       "      <th>2145</th>\n",
       "      <td>Con dấu của Cơ quan quản lý thi hành án hình sự thuộc Bộ Công an được quy định thế nào?</td>\n",
       "      <td>Con dấu của Cơ quan quản lý thi hành án hình sự thuộc Bộ Công an có tên gọi là: Bộ Công an - Cơ quan quản lý thi hành án hình sự.</td>\n",
       "      <td>1. Cơ quan quản lý thi hành án hình sự thuộc Bộ Công an có con dấu riêng để sử dụng trong hoạt động quản lý thi hành án hình sự với tên gọi là: Bộ Công an - Cơ quan quản lý thi hành án hình sự.\\n2. Cơ quan thi hành án hình sự Công an cấp tỉnh có con dấu riêng để sử dụng trong hoạt động thi hành án hình sự với tên gọi là: Công an tỉnh, thành phố trực thuộc Trung ương - Cơ quan thi hành án hình sự.\\n3. Cơ quan thi hành án hình sự Công an cấp huyện có con dấu riêng để sử dụng trong hoạt động thi hành án hình sự với tên gọi là: Công an tỉnh, thành phố trực thuộc Trung ương - Công an huyện, quận, thị xã, thành phố thuộc tỉnh - Cơ quan thi hành án hình sự.</td>\n",
       "      <td>4</td>\n",
       "      <td>5</td>\n",
       "      <td>5</td>\n",
       "    </tr>\n",
       "    <tr>\n",
       "      <th>2146</th>\n",
       "      <td>Đánh giá hiện trạng vùng bờ là gì?</td>\n",
       "      <td>Đánh giá hiện trạng vùng bờ là đánh giá hiện trạng tài nguyên, môi trường vùng bờ và quản lý tổng hợp tài nguyên vùng bờ (bao gồm các hoạt động khai thác, sử dụng tài nguyên và không gian vùng bờ; bảo vệ môi trường vùng bờ và thể chế, chính sách, pháp luật liên quan) tại một thời điểm nhất định, thông qua các chỉ thị đánh giá được lựa chọn.</td>\n",
       "      <td>Trong Thông tư này, các thuật ngữ dưới đây được hiểu như sau:\\n1. Quản lý tổng hợp tài nguyên vùng bờ là việc hoạch định và tổ chức thực hiện các cơ chế, chính sách, công cụ điều phối liên ngành, liên vùng để bảo đảm tài nguyên vùng bờ được khai thác, sử dụng hiệu quả, duy trì chức năng và cấu trúc của các hệ sinh thái vùng bờ nhằm phát triển bền vững, góp phần bảo vệ chủ quyền, quyền chủ quyền, quyền tài phán quốc gia của Việt Nam trên biển, bảo đảm quốc phòng, an ninh.\\n2. Chương trình quản lý tổng hợp tài nguyên vùng bờ là tập hợp các hoạt động quản lý tổng hợp trên một vùng bờ cụ thể trong một khoảng thời gian nhất định, được thực hiện theo lộ trình từ quy trình lập, phê duyệt, tổ chức thực hiện, đến đánh giá, điều chỉnh và đề xuất hoàn thiện cho giai đoạn tiếp theo.\\n3. Đánh giá hiện trạng vùng bờ là đánh giá hiện trạng tài nguyên, môi trường vùng bờ và quản lý tổng hợp tài nguyên vùng bờ (bao gồm các hoạt động khai thác, sử dụng tài nguyên và không gian vùng bờ; bảo vệ môi trường vùng bờ và thể chế, chính sách, pháp luật liên quan) tại một thời điểm nhất định, thông qua các chỉ thị đánh giá được lựa chọn.\\n4. Đánh giá kết quả thực hiện chương trình là đánh giá kết quả thực hiện chương trình so với mục tiêu đề ra, tính hiệu quả, tác động của chương trình thông qua sự thay đổi của tài nguyên, môi trường vùng bờ và hoạt động quản lý tổng hợp tài nguyên vùng bờ dựa trên các đánh giá hiện trạng vùng bờ trước, sau và trong quá trình triển khai chương trình.\\n5. Chỉ thị đánh giá chương trình là sự thể hiện (định tính, định lượng) một yếu tố đặc trưng của chương trình quản lý tổng hợp tài nguyên vùng bờ và liên quan đến các mục tiêu của chương trình.</td>\n",
       "      <td>5</td>\n",
       "      <td>4</td>\n",
       "      <td>5</td>\n",
       "    </tr>\n",
       "  </tbody>\n",
       "</table>\n",
       "<p>2147 rows × 6 columns</p>\n",
       "</div>"
      ],
      "text/plain": [
       "                                                                                                              question  \\\n",
       "0                                                         Công an xã xử phạt lỗi không mang bằng lái xe có đúng không?   \n",
       "1                          Phải thực hiện thao tác nạp mẫu vào bình chứa và xử lý mẫu sơ bộ bằng hóa chất như thế nào?   \n",
       "2               Tử tù chết sau khi tiêm thuốc độc mà không có thân nhân nhận xác thì được hỗ trợ mai táng như thế nào?   \n",
       "3     Trách nhiệm của Bộ Khoa học và Công nghệ về quản lý và phát triển công nghiệp an ninh được quy định như thế nào?   \n",
       "4                                                   Mức phạt khi sử dụng trái phép lòng đường đô thị, hè phố để rửa xe   \n",
       "...                                                                                                                ...   \n",
       "2142                        Việc đàm phán, hoàn thiện hợp đồng đối với dự án đầu tư có sử dụng đất dựa trên cơ sở nào?   \n",
       "2143         Thông tin giá thị trường của các yếu tố đầu vào để xác định chỉ số giá xây dựng phải thỏa mãn yêu cầu gì?   \n",
       "2144     Mức phạt đối với hành vi không niêm yết công khai giá mua bán hàng dự trữ quốc gia được quy định như thế nào?   \n",
       "2145                           Con dấu của Cơ quan quản lý thi hành án hình sự thuộc Bộ Công an được quy định thế nào?   \n",
       "2146                                                                                Đánh giá hiện trạng vùng bờ là gì?   \n",
       "\n",
       "                                                                                                                                                                                                                                                                                                                                                                                                                                                                                                                                                                                                                                                                                                                                                                                                                                                                                                                                                                                                                                                                                                                                                                                               answer  \\\n",
       "0                                                                                                                                                                                                                                                                                                                                                                                                                                                                                                                                                                                                                                 Không đúng. Công an xã chỉ được tuần tra, kiểm soát và xử lý các hành vi vi phạm trật tự, an toàn giao thông như điều khiển xe mô tô, xe gắn máy không đội mũ bảo hiểm, chở quá số người quy định, chở hàng hóa cồng kềnh; đỗ xe ở lòng đường trái quy định; điều khiển phương tiện phóng nhanh, lạng lách, đánh võng, tháo ống xả, không có gương chiếu hậu hoặc chưa đủ tuổi điều khiển phương tiện theo quy định của pháp luật và các hành vi vi phạm hành lang an toàn giao thông đường bộ như họp chợ dưới lòng đường, lấn chiếm hành lang an toàn giao thông.   \n",
       "1     Phải dùng ca để lấy mẫu từ dụng cụ chứa trung gian nạp vào bình chứa. Mức độ đầy vơi khi nạp mẫu vào bình chứa phải căn cứ vào quy định đối với từng loại thông số phân tích. Với những bình mẫu phải cho hóa chất bảo quản thì chỉ nạp gần đủ, rồi thực hiện bước nạp hóa chất bảo quản mẫu (xử lý mẫu sơ bộ bằng hóa chất). Lọc mẫu trước khi nạp nếu yêu cầu quy định. Những mẫu cần phải bảo quản bằng hóa chất thì thêm loại và lượng hóa chất theo quy định trong bảng TSNT thuộc Phụ lục 02 ban hành kèm theo Thông tư này hoặc theo tiêu chuẩn quốc gia về bảo quản và xử lý mẫu nước. Hóa chất thường dùng: H2SO4 1:1; HNO3 1:1; HCl 1:1; NaOH 10 M; (CH3COO)2Zn 10%. Sau khi thêm đủ lượng hóa chất, nạp bổ sung lượng nước thải cho đến đủ hoặc đầy như quy định thì vặn chặt nút bình. Lật ngược bình chứa mẫu và lắc để kiểm tra độ kín của nắp bình, nếu có nước rỉ ra ngoài thì phải vặn chặt lại, lau khô, lắc kiểm tra lần nữa. Nếu nước vẫn rò rỉ ra ngoài thì phải thay bình chứa khác. Khi thêm hóa chất dạng lỏng, không được quá 05ml hóa chất cho 01 lít mẫu. Để đạt tới pH ≤ 2, có thể lấy lượng chính xác theo tỷ lệ 4ml axit 1:1 hay 2ml axit đậm đặc cho 01 lít mẫu.   \n",
       "2                                                                                                                                                                                                                                                                                                                                                                                                                                                                                                                                                                                                                                                      Trường hợp không được nhận tử thi hoặc thân nhân của người bị thi hành án không có đơn đề nghị được nhận tử thi về an táng thì cơ quan thi hành án hình sự Công an cấp tỉnh, cơ quan thi hành án hình sự cấp quân khu tổ chức việc an táng. Sau 03 năm kể từ ngày thi hành án, thân nhân hoặc đại diện hợp pháp của người đã bị thi hành án được làm đơn có xác nhận của Ủy ban nhân dân cấp xã nơi cư trú đề nghị Cơ quan thi hành án hình sự Công an cấp tỉnh, cơ quan thi hành án hình sự cấp quân khu nơi đã thi hành án cho nhận hài cốt.   \n",
       "3                                                                                                                                                                                                                                                                                                                                                                                                                                                      Bộ Khoa học và Công nghệ có trách nhiệm chủ trì, phối hợp, hướng dẫn Bộ Công an và các tổ chức, cá nhân thực hiện các chương trình, nhiệm vụ nghiên cứu, ứng dụng khoa học công nghệ phục vụ xây dựng, phát triển công nghiệp an ninh, tập trung nghiên cứu, ứng dụng, cập nhật, phát triển sản phẩm mới, sản phẩm chuyên dụng công nghệ cao đáp ứng yêu cầu ngày càng cao của nhiệm vụ bảo vệ an ninh quốc gia, bảo đảm trật tự, an toàn xã hội trong tình hình mới; phối hợp, hướng dẫn, kiểm tra công tác chuyển giao công nghệ, giải mã công nghệ; ban hành quy chuẩn kỹ thuật quốc gia về các sản phẩm công nghiệp an ninh chuyên dụng và việc huy động các chuyên gia, nhà khoa học tham gia nghiên cứu, phát triển công nghiệp an ninh.   \n",
       "4                                                                                                                                                                                                                                                                                                                                                                                                                                                                                                                                                                                                                                                                                                                                                                                                                                                                                                                                                                                                                                                                              Phạt tiền từ 4.000.000 đồng đến 6.000.000 đồng đối với cá nhân, từ 8.000.000 đồng đến 12.000.000 đồng đối với tổ chức.   \n",
       "...                                                                                                                                                                                                                                                                                                                                                                                                                                                                                                                                                                                                                                                                                                                                                                                                                                                                                                                                                                                                                                                                                                                                                                                               ...   \n",
       "2142                                                                                                                                                                                                                                                                                                                                                                                                                                                                                                                                                                                                                                                                                                                                                                                                                                                                                                                                                                  Việc đàm phán, hoàn thiện hợp đồng đối với dự án đầu tư có sử dụng đất dựa trên cơ sở sau: Báo cáo đánh giá hồ sơ dự thầu; Hồ sơ dự thầu và các tài liệu làm rõ, sửa đổi hồ sơ dự thầu (nếu có) của nhà đầu tư; Hồ sơ mời thầu.   \n",
       "2143                                                                                                                                                                                                                                                                                                                                                                                                                                                                                                                                                                               Thông tin giá thị trường của các yếu tố đầu vào phải được xác định theo các quy định của Bộ Xây dựng. Đối với giá vật liệu xây dựng, phải đảm bảo chủng loại, quy cách, nhãn mác phù hợp với khu vực xây dựng công trình và yêu cầu xác định giá vật liệu xây dựng. Đối với giá nhân công xây dựng, phải căn cứ theo đơn giá nhân công xây dựng do UBND cấp tỉnh công bố. Đối với giá ca máy và thiết bị thi công xây dựng, phải căn cứ theo giá ca máy, giá thuê máy và thiết bị thi công do UBND cấp tỉnh công bố và danh mục máy và thiết bị thi công phải được thống nhất về chủng loại, công suất và xuất xứ.   \n",
       "2144                                                                                                                                                                                                                                                                                                                                                                                                                                                                                                                                                                                                                                                                                                                                                                                                                                                                                                                                                                                                                           Mức phạt đối với hành vi không thông báo hoặc niêm yết công khai về giá mua, bán hàng dự trữ quốc gia được quy định là phạt tiền từ 1.000.000 đồng đến 3.000.000 đồng.   \n",
       "2145                                                                                                                                                                                                                                                                                                                                                                                                                                                                                                                                                                                                                                                                                                                                                                                                                                                                                                                                                                                                                                                                Con dấu của Cơ quan quản lý thi hành án hình sự thuộc Bộ Công an có tên gọi là: Bộ Công an - Cơ quan quản lý thi hành án hình sự.   \n",
       "2146                                                                                                                                                                                                                                                                                                                                                                                                                                                                                                                                                                                                                                                                                                                                                                                                                                           Đánh giá hiện trạng vùng bờ là đánh giá hiện trạng tài nguyên, môi trường vùng bờ và quản lý tổng hợp tài nguyên vùng bờ (bao gồm các hoạt động khai thác, sử dụng tài nguyên và không gian vùng bờ; bảo vệ môi trường vùng bờ và thể chế, chính sách, pháp luật liên quan) tại một thời điểm nhất định, thông qua các chỉ thị đánh giá được lựa chọn.   \n",
       "\n",
       "                                                                                                                                                                                                                                                                                                                                                                                                                                                                                                                                                                                                                                                                                                                                                                                                                                                                                                                                                                                                                                                                                                                                                                                                                                                                                                                                                                                                                                                                                                                                                                                                                                                                                                                                                                                                                                                                                                                                                                                                                                                                                                                                                                                                                                                                                                                                                                                                                                                                                                                                                                                                                                                                                                                                                                                                                                                                                                                                                                                                                                                                                                                                                                                                                                                                                                                                                                                                                                                                                                                                                                                                                                                                                                                                                                                                                                                                                                                                                                                                                                                                                                                                                                                                                                                                                                                                                                                                                                                                                                                                                                                                                                                                                                                                                                                                                                                                                                                                                                                                                                                                                                                                                                                                                                                                                                                                                                                                                                                                                                                                                                                                                                                                                                                                                                                                                                                                                                                                                                                                                                                                                                                                                                                                                                                                                                                                                                                                                                                                                                                                                                                                                                                                                                                                                                                                                                                                                                                                                                                                                                                                                                                                                                                                                                                                                                                                                                                                                                                                                                                                                                                                                                                                                                             context  \\\n",
       "0                                                                                                                                                                                                                                                                                                                                                                                                                                                                                                                                                                                                                                                                                                                                                                                                                                                                                                                                                                                                                                                                                                                                                                                                                                                                                                                                                                                                                                                                                                                                                                                                                                                                                                                                                                                                                                                                                                                                                                                                                                                                                                                                                                                                                                                                                                                                                                                                                                                                                                                                                                                                                                                                                                                                                                                                                                                                                                                                                                                                                                                                                                                                                                                                                                                                                                                                                                                                                                                                                                                                                                                                                                                                                                                                                                                                                                                                                                                                                                                                                                                                                                                                                                                                                                                                                                                                                                                                                                                                                                                                                                                                                                                                                                                                                                                                                                                                                                                                                                                                                                                                                                                                                                                                                                                                                                                                                                                                                                                                                                                                                                                                                                                                                                                                                                                                                                                                                                                                                                                                                                                                                                                                                                                                                                                                                                                                                                                                                                                                                 1. Bố trí lực lượng tham gia tuần tra, kiểm soát trật tự, an toàn giao thông theo kế hoạch.\\n2. Thống kê, báo cáo các vụ, việc vi phạm pháp luật, tai nạn giao thông đường bộ; kết quả tuần tra, kiểm soát và xử lý vi phạm hành chính về trật tự, an toàn giao thông đường bộ theo sự phân công trong kế hoạch.\\n3. Trường hợp không có lực lượng Cảnh sát giao thông đi cùng thì lực lượng Cảnh sát khác và Công an xã thực hiện việc tuần tra, kiểm soát theo kế hoạch đã được cấp có thẩm quyền phê duyệt.\\n4. Lực lượng Công an xã chỉ được tuần tra, kiểm soát trên các tuyến đường liên xã, liên thôn thuộc địa bàn quản lý và xử lý các hành vi vi phạm trật tự, an toàn giao thông sau: điều khiển xe mô tô, xe gắn máy không đội mũ bảo hiểm, chở quá số người quy định, chở hàng hóa cồng kềnh; đỗ xe ở lòng đường trái quy định; điều khiển phương tiện phóng nhanh, lạng lách, đánh võng, tháo ống xả, không có gương chiếu hậu hoặc chưa đủ tuổi điều khiển phương tiện theo quy định của pháp luật và các hành vi vi phạm hành lang an toàn giao thông đường bộ như họp chợ dưới lòng đường, lấn chiếm hành lang an toàn giao thông. Nghiêm cấm việc Công an xã dừng xe, kiểm soát trên các tuyến quốc lộ, tỉnh lộ.   \n",
       "1                                                                                                                                                                                                                                                                                                                                                                                                                                                                                                                                                                                                                                                                                                                                                                                                                                                                                                                                                                                                                                                                                                                                                                                                                                                                                                                                                                                                                                                                                                                                                                                                                                                                                                                                                                                                                                                                                                                                                                                                                                                                                                                                                                                                                                                                                                                                                                                                                                                                                                                                                                                                                                                                                                                                                                                                                                                                                                                                                                                                                                                                                                                                                                                                                                                                                                                                                                                                                                                                                                                                                                                                                                                                                                                                                                                                                                                                                                                                                                                                                                                                                                                                                                                1. Chuẩn bị cho việc lấy mẫu\\na) Dọn sạch khu vực đã chọn làm điểm thu mẫu để loại bỏ các cặn, bùn, các lớp vi khuẩn ở trên thành cống thải, vật nổi trên mặt nước. Nếu dòng thải không có điều kiện chảy rối thì thực hiện như khoản 3 Điều 10. Khi có sự phân tầng ở dòng thải thì phải khuấy trộn đều dòng thải trước khi lấy mẫu;\\nb) Kiểm tra lại độ sạch của các bình chứa mẫu, dụng cụ lấy và chứa mẫu trung gian. Rà soát và chuẩn bị các dụng cụ và hóa chất để xử lý sơ bộ. Kiểm tra và chuẩn bị vật tư niêm phong. Chuẩn bị các trang thiết bị bảo hộ và các điều kiện cần thiết khác (có thể ghi và dán nhãn mẫu vào thời điểm này);\\nc) Lắp dụng cụ lấy mẫu (nối cán của cây lấy mẫu, buộc dây gàu), mặc bảo hộ lao động và các thiết bị bảo đảm an toàn khác.\\n2. Thao tác lấy mẫu\\na) Việc lấy mẫu phải có mặt chủ nguồn thải hoặc người đại diện của cơ sở có nguồn thải. Trường hợp chủ nguồn thải hoặc người đại diện vắng mặt hoặc không hợp tác thì trưởng đoàn công tác có trách nhiệm lập biên bản về sự vắng mặt hoặc không hợp tác và phải có người chứng kiến việc lấy mẫu;\\nb) Trước khi lấy mẫu phải cho chủ nguồn thải hoặc người đại diện của cơ sở có nguồn thải hoặc người chứng kiến thấy dụng cụ lấy và chứa mẫu đảm bảo sạch, các dụng cụ và hóa chất đáp ứng các tiêu chuẩn quốc gia về lấy mẫu. Chụp ảnh hoặc quay phim về điểm thu mẫu và hoạt động thu mẫu;\\nc) Sử dụng dụng cụ lấy mẫu để múc nước thải vào dụng cụ chứa trung gian (xô bằng nhựa sạch có dung tích từ 10 đến 15 lít). Nếu chiều sâu dòng nước thải nhỏ hơn 01 mét, độ sâu lấy mẫu nước thải nằm ở 1/3 chiều sâu dòng nước thải tính từ bề mặt nước. Nếu chiều sâu dòng nước thải lớn hơn 01 mét thì lấy ở độ sâu từ 20cm đến 50cm tính từ mặt nước. Với các cửa xả thải nhỏ và dạng thác thì chọn điểm lấy mẫu ở giữa dòng nước thải. Trường hợp phải khuấy trộn dòng nước thải cho đều thì sau khi khuấy, phải để 05 phút cho cặn thô lắng xuống đáy mới tiến hành lấy mẫu. Phải lọc rác trước khi cho mẫu vào dụng cụ chứa trung gian;\\nd) Trường hợp lấy mẫu xác định các chất nổi và nhũ hóa thì phải tráng dụng cụ chứa trung gian bằng đầy nước thải, đổ nước tráng đi rồi lấy mẫu như bình thường.\\n3. Nạp mẫu vào bình chứa, xử lý mẫu sơ bộ bằng hóa chất\\na) Nạp mẫu vào bình chứa: dùng ca để lấy mẫu từ dụng cụ chứa trung gian nạp vào bình chứa. Mức độ đầy vơi khi nạp mẫu vào bình chứa phải căn cứ vào quy định đối với từng loại thông số phân tích. Với những bình mẫu phải cho hóa chất bảo quản thì chỉ nạp gần đủ, rồi thực hiện bước nạp hóa chất bảo quản mẫu (xử lý mẫu sơ bộ bằng hóa chất). Lọc mẫu trước khi nạp nếu yêu cầu quy định;\\nb) Xử lý mẫu sơ bộ bằng hóa chất: những mẫu cần phải bảo quản bằng hóa chất thì thêm loại và lượng hóa chất theo quy định trong bảng TSNT thuộc Phụ lục 02 ban hành kèm theo Thông tư này hoặc theo tiêu chuẩn quốc gia về bảo quản và xử lý mẫu nước. Hóa chất thường dùng: H2SO4 1:1; HNO3 1:1; HCl 1:1; NaOH 10 M; (CH3COO)2Zn 10%. Sau khi thêm đủ lượng hóa chất, nạp bổ sung lượng nước thải cho đến đủ hoặc đầy như quy định thì vặn chặt nút bình. Lật ngược bình chứa mẫu và lắc để kiểm tra độ kín của nắp bình, nếu có nước rỉ ra ngoài thì phải vặn chặt lại, lau khô, lắc kiểm tra lần nữa. Nếu nước vẫn rò rỉ ra ngoài thì phải thay bình chứa khác. Khi thêm hóa chất dạng lỏng, không được quá 05ml hóa chất cho 01 lít mẫu. Để đạt tới pH ≤ 2, có thể lấy lượng chính xác theo tỷ lệ 4ml axit 1:1 hay 2ml axit đậm đặc cho 01 lít mẫu.   \n",
       "2                                                                                                                                                                                                                                                                                                                                                                                                                                                                                                                                                                                                                                                                                                                                                                                                                                                                                                                                                                                                                                                                                                                                                                                                                                                                                                                                                                                                                                                                                                                                                                                                                                                                                                                                                                                                                                                                                                                                                                                                                                                                                                                                                                                                                                                                                                                                                                                                                                                                                                                                                                                                                                                                                                                                                                                                                                                                                                                                                                                                                                                                                                                                                                                                                                                                                                                                                                                                                                                                                                                                                                                                                                                                                                                                                                                                                                                                                                                                                                                                                                                                                                                                                                                                                                                                                                                                                                                                                                                                                                                                                                                                                                              1. Việc giải quyết nhận tử thi được thực hiện như sau:\\na) Trước khi thi hành án tử hình, thân nhân hoặc người đại diện hợp pháp của người chấp hành án được làm đơn có xác nhận của Ủy ban nhân dân cấp xã nơi cư trú gửi Chánh án Tòa án đã xét xử sơ thẩm đề nghị giải quyết cho nhận tử thi của người chấp hành án để an táng; trường hợp người chấp hành án là người nước ngoài thì đơn phải có xác nhận của cơ quan có thẩm quyền hoặc cơ quan đại diện ngoại giao tại Việt Nam của nước mà người chấp hành án mang quốc tịch và phải được dịch ra tiếng Việt. Đơn phải ghi rõ họ tên, địa chỉ người nhận tử thi, quan hệ với người chấp hành án; cam kết bảo đảm yêu cầu về an ninh, trật tự, vệ sinh môi trường và tự chịu chi phí;\\nb) Chánh án Tòa án đã xét xử sơ thẩm thông báo bằng văn bản cho người có đơn đề nghị về việc cho nhận tử thi hoặc không cho nhận tử thi khi có căn cứ cho rằng việc nhận tử thi ảnh hưởng đến an ninh, trật tự, vệ sinh môi trường. Trường hợp người chấp hành án là người nước ngoài, thì Chánh án Tòa án đã xét xử sơ thẩm có trách nhiệm thông báo bằng văn bản cho Bộ Ngoại giao Việt Nam để thông báo cho cơ quan có thẩm quyền hoặc cơ quan đại diện ngoại giao tại Việt Nam của nước mà người đó mang quốc tịch;\\nc) Cơ quan thi hành án hình sự Công an cấp tỉnh, cơ quan thi hành án hình sự cấp quân khu có trách nhiệm thông báo cho người có đơn đề nghị ngay sau khi thi hành án để đến nhận tử thi về an táng. Việc giao nhận tử thi phải được thực hiện trong thời hạn 24 giờ kể từ khi thông báo và phải lập biên bản, có chữ ký của các bên giao, nhận; hết thời hạn này mà người có đơn đề nghị không đến nhận tử thi thì cơ quan thi hành án hình sự Công an cấp tỉnh, cơ quan thi hành án hình sự cấp quân khu có trách nhiệm an táng.\\n2. Trường hợp không được nhận tử thi hoặc thân nhân của người bị thi hành án không có đơn đề nghị được nhận tử thi về an táng thì cơ quan thi hành án hình sự Công an cấp tỉnh, cơ quan thi hành án hình sự cấp quân khu tổ chức việc an táng. Sau 03 năm kể từ ngày thi hành án, thân nhân hoặc đại diện hợp pháp của người đã bị thi hành án được làm đơn có xác nhận của Ủy ban nhân dân cấp xã nơi cư trú đề nghị Cơ quan thi hành án hình sự Công an cấp tỉnh, cơ quan thi hành án hình sự cấp quân khu nơi đã thi hành án cho nhận hài cốt. Đơn đề nghị phải ghi rõ họ tên, địa chỉ người nhận hài cốt, quan hệ với người bị thi hành án; cam kết bảo đảm yêu cầu về an ninh, trật tự, vệ sinh môi trường và tự chịu chi phí. Trong thời hạn 07 ngày, kể từ ngày nhận được đơn, cơ quan thi hành án hình sự Công an cấp tỉnh, cơ quan thi hành án hình sự cấp quân khu có trách nhiệm xem xét, giải quyết.\\nTrường hợp người bị thi hành án là người nước ngoài thì đơn đề nghị phải có xác nhận của cơ quan có thẩm quyền hoặc cơ quan đại diện ngoại giao tại Việt Nam của nước mà người bị thi hành án mang quốc tịch và phải được dịch ra tiếng Việt. Việc giải quyết cho nhận hài cốt do cơ quan quản lý thi hành án hình sự xem xét, quyết định.   \n",
       "3                                                                                                                                                                                                                                                                                                                                                                                                                                                                                                                                                                                                                                                                                                                                                                                                                                                                                                                                                                                                                                                                                                                                                                                                                                                                                                                                                                                                                                                                                                                                                                                                                                                                                                                                                                                                                                                                                                                                                                                                                                                                                                                                                                                                                                                                                                                                                                                                                                                                                                                                                                                                                                                                                                                                                                                                                                                                                                                                                                                                                                                                                                                                                                                                                                                                                                                                                                                                                                                                                                                                                                                                            1. Bộ Quốc phòng có trách nhiệm phối hợp với Bộ Công an rà soát, lập mới hoặc điều chỉnh danh mục sản phẩm công nghiệp an ninh và danh mục cụ thể sản phẩm công nghiệp an ninh; phối hợp, rà soát năng lực các cơ sở công nghiệp quốc phòng thuộc Bộ Quốc phòng và các cơ sở công nghiệp an ninh thuộc Bộ Công an để làm căn cứ trao đổi, hợp tác nghiên cứu, sản xuất các sản phẩm phục vụ công tác, chiến đấu của lực lượng Quân đội, Công an và lực lượng thực thi pháp luật khác, tránh trùng lặp, lãng phí.\\n2. Bộ Kế hoạch và Đầu tư\\na) Phối hợp với Bộ Công an, các cơ quan liên quan tham mưu cho Chính phủ, Thủ tướng Chính phủ thống nhất quản lý nhà nước về lập, thẩm định, quyết định chủ trương đầu tư, quyết định đầu tư chương trình, kế hoạch, dự án đầu tư phát triển công nghiệp an ninh theo quy định của pháp luật về đầu tư công;\\nb) Phối hợp, hướng dẫn Bộ Công an lập kế hoạch, dự toán kinh phí đầu tư phát triển công nghiệp an ninh và tổng hợp vào kế hoạch đầu tư công trung hạn và hằng năm của Bộ Công an;\\nc) Chủ trì cân đối, bố trí vốn đầu tư thực hiện chương trình, kế hoạch phát triển công nghiệp an ninh theo quy định của Luật Ngân sách nhà nước, huy động nguồn vốn ODA cho các mục tiêu phát triển công nghiệp an ninh; chủ trì, phối hợp với các bộ, cơ quan liên quan xây dựng chính sách nhằm khuyến khích, thu hút các nguồn lực ngoài ngân sách đầu tư cho xây dựng, phát triển công nghiệp an ninh.\\n3. Bộ Tài chính\\na) Chủ trì bố trí kinh phí thực hiện chương trình, kế hoạch đầu tư phát triển công nghiệp an ninh theo quy định của pháp luật về ngân sách nhà nước khi được cấp có thẩm quyền phê duyệt;\\nb) Hướng dẫn về điều kiện, đối tượng, thủ tục, quy trình vay ưu đãi, vay vốn tín dụng đầu tư nhà nước, vốn tín dụng do Nhà nước bảo lãnh và các nguồn tín dụng khác theo quy định đối với các chương trình, kế hoạch, dự án đầu tư phát triển công nghiệp an ninh, hoạt động sản xuất, cung cấp các sản phẩm công nghiệp an ninh đảm bảo đơn giản, rõ ràng, minh bạch;\\nc) Phối hợp với Bộ Công an hướng dẫn, kiểm tra, giám sát việc sử dụng kinh phí thực hiện chương trình, kế hoạch phát triển công nghiệp an ninh.\\n4. Bộ Công Thương\\na) Phối hợp với Bộ Công an và các cơ quan liên quan rà soát, đưa nội dung phát triển công nghiệp an ninh và danh mục sản phẩm công nghiệp an ninh lồng ghép với các chương trình, chiến lược về phát triển công nghiệp theo ngành;\\nb) Phối hợp, rà soát, lập mới hoặc điều chỉnh danh mục sản phẩm công nghiệp an ninh để trình Chính phủ phê duyệt ban hành.\\n5. Bộ Tài nguyên và Môi trường\\na) Chủ trì, phối hợp với các cơ quan liên quan và Ủy ban nhân dân các tỉnh, thành phố trực thuộc trung ương nghiên cứu, đề xuất với Thủ tướng Chính phủ phương án về quy hoạch, quản lý, sử dụng đất dành cho phát triển công nghiệp an ninh;\\nb) Phối hợp với Bộ Tài chính hướng dẫn về chế độ sử dụng đất, các ưu đãi đặc thù về đất đai cho các chương trình, dự án phát triển công nghiệp an ninh.\\n6. Bộ Khoa học và Công nghệ\\na) Chủ trì, phối hợp, hướng dẫn Bộ Công an và các tổ chức, cá nhân thực hiện các chương trình, nhiệm vụ nghiên cứu, ứng dụng khoa học công nghệ phục vụ xây dựng, phát triển công nghiệp an ninh, tập trung nghiên cứu, ứng dụng, cập nhật, phát triển sản phẩm mới, sản phẩm chuyên dụng công nghệ cao đáp ứng yêu cầu ngày càng cao của nhiệm vụ bảo vệ an ninh quốc gia, bảo đảm trật tự, an toàn xã hội trong tình hình mới;\\nb) Phối hợp, hướng dẫn, kiểm tra công tác chuyển giao công nghệ, giải mã công nghệ; ban hành quy chuẩn kỹ thuật quốc gia về các sản phẩm công nghiệp an ninh chuyên dụng và việc huy động các chuyên gia, nhà khoa học tham gia nghiên cứu, phát triển công nghiệp an ninh.\\n7. Ngân hàng Nhà nước có trách nhiệm phối hợp với Bộ Tài chính hướng dẫn cụ thể việc thực hiện chính sách tín dụng từ nguồn tín dụng đầu tư phát triển của Nhà nước; bảo lãnh tín dụng trong và ngoài nước; từ các nguồn vốn tín dụng khác cho các chương trình, dự án phát triển công nghiệp an ninh theo quy định của pháp luật.   \n",
       "4     1. Phạt tiền từ 100.000 đồng đến 200.000 đồng đối với cá nhân, từ 200.000 đồng đến 400.000 đồng đối với tổ chức thực hiện một trong các hành vi vi phạm sau đây:\\na) Bán hàng rong hoặc bán hàng hóa nhỏ lẻ khác trên lòng đường đô thị, trên vỉa hè các tuyến phố có quy định cấm bán hàng, trừ các hành vi vi phạm quy định tại điểm c khoản 2, điểm b khoản 5, điểm e khoản 6 Điều này;\\nb) Phơi thóc, lúa, rơm, rạ, nông, lâm, hải sản trên đường bộ; đặt máy tuốt lúa trên đường bộ.\\n2. Phạt tiền từ 300.000 đồng đến 400.000 đồng đối với cá nhân, từ 600.000 đồng đến 800.000 đồng đối với tổ chức thực hiện một trong các hành vi vi phạm sau đây:\\na) Sử dụng, khai thác tạm thời trên đất hành lang an toàn đường bộ vào mục đích canh tác nông nghiệp làm ảnh hưởng đến an toàn công trình đường bộ và an toàn giao thông;\\nb) Trồng cây trong phạm vi đất dành cho đường bộ làm che khuất tầm nhìn của người điều khiển phương tiện giao thông;\\nc) Chiếm dụng dải phân cách giữa của đường đôi làm nơi: Bày, bán hàng hóa; để vật liệu xây dựng, trừ các hành vi vi phạm quy định tại điểm b khoản 5; điểm d, điểm e khoản 6 Điều này;\\nd) Họp chợ, mua, bán hàng hóa trong phạm vi đất của đường bộ ở đoạn đường ngoài đô thị, trừ các hành vi vi phạm quy định tại điểm d khoản 5; điểm d, điểm i khoản 6 Điều này;\\nđ) Xả nước ra đường bộ không đúng nơi quy định, trừ hành vi vi phạm quy định tại điểm h khoản 6 Điều này.\\n3. Phạt tiền từ 500.000 đồng đến 1.000.000 đồng đối với cá nhân, từ 1.000.000 đồng đến 2.000.000 đồng đối với tổ chức thực hiện một trong các hành vi vi phạm sau đây:\\na) Sử dụng đường bộ trái quy định để tổ chức các hoạt động văn hóa, thể thao, diễu hành, lễ hội;\\nb) Dựng cổng chào hoặc các vật che chắn khác trái quy định trong phạm vi đất dành cho đường bộ gây ảnh hưởng đến trật tự, an toàn giao thông đường bộ;\\nc) Treo băng rôn, biểu ngữ trái phép trong phạm vi đất dành cho đường bộ gây ảnh hưởng đến trật tự an toàn giao thông đường bộ;\\nd) Đặt, treo biển hiệu, biển quảng cáo trên đất của đường bộ ở đoạn đường ngoài đô thị, trừ các hành vi vi phạm quy định tại điểm b khoản 8 Điều này;\\nđ) Chiếm dụng dải phân cách giữa của đường đôi làm nơi để xe, trông, giữ xe;\\ne) Sử dụng trái phép đất của đường bộ ở đoạn đường ngoài đô thị làm nơi sửa chữa phương tiện, máy móc, thiết bị; rửa xe, bơm nước mui xe gây ảnh hưởng đến trật tự an toàn giao thông đường bộ.\\n4. Phạt tiền từ 1.000.000 đồng đến 2.000.000 đồng đối với cá nhân, từ 2.000.000 đồng đến 4.000.000 đồng đối với tổ chức thực hiện hành vi đổ rác ra đường bộ không đúng nơi quy định, trừ các hành vi vi phạm quy định tại: điểm a khoản 6 Điều này; khoản 3, khoản 4 Điều 20 Nghị định này.\\n5. Phạt tiền từ 2.000.000 đồng đến 3.000.000 đồng đối với cá nhân, từ 4.000.000 đồng đến 6.000.000 đồng đối với tổ chức thực hiện một trong các hành vi vi phạm sau đây:\\na) Dựng rạp, lều quán, cổng ra vào, tường rào các loại, công trình khác trái phép trong phạm vi đất dành cho đường bộ, trừ các hành vi vi phạm quy định tại điểm đ khoản 6, điểm b khoản 8, điểm a khoản 9 Điều này;\\nb) Sử dụng trái phép lòng đường đô thị, hè phố để: Họp chợ; kinh doanh dịch vụ ăn uống; bày, bán hàng hóa; sửa chữa phương tiện, máy móc, thiết bị; rửa xe; đặt, treo biển hiệu, biển quảng cáo; xây, đặt bục bệ; làm mái che hoặc thực hiện các hoạt động khác gây cản trở giao thông, trừ các hành vi vi phạm quy định tại điểm d, điểm đ, điểm e, điểm g khoản 6; khoản 7; điểm a khoản 8 Điều này;\\nc) Chiếm dụng lòng đường đô thị hoặc hè phố dưới 05 m2 làm nơi trông, giữ xe;\\nd) Chiếm dụng phần đường xe chạy hoặc lề đường của đường ngoài đô thị dưới 20 m2 làm nơi trông, giữ xe.\\n6. Phạt tiền từ 4.000.000 đồng đến 6.000.000 đồng đối với cá nhân, từ 8.000.000 đồng đến 12.000.000 đồng đối với tổ chức thực hiện một trong các hành vi vi phạm sau đây:\\na) Đổ, để trái phép vật liệu, chất phế thải trong phạm vi đất dành cho đường bộ, trừ các hành vi vi phạm quy định tại khoản 3, khoản 4 Điều 20 Nghị định này;\\nb) Tự ý đào, đắp, san, lấp mặt bằng trong: Hành lang an toàn đường bộ, phần đất dọc hai bên đường bộ dùng để quản lý, bảo trì, bảo vệ công trình đường bộ;\\nc) Tự ý gắn vào công trình báo hiệu đường bộ các nội dung không liên quan tới ý nghĩa, mục đích của công trình đường bộ;\\nd) Sử dụng trái phép đất của đường bộ hoặc hành lang an toàn đường bộ làm nơi tập kết hoặc trung chuyển hàng hóa, vật tư, vật liệu xây dựng, máy móc, thiết bị, các loại vật dụng khác;\\nđ) Dựng rạp, lều quán, công trình khác trái phép trong khu vực đô thị tại hầm đường bộ, cầu vượt, hầm cho người đi bộ, gầm cầu vượt, trừ hành vi vi phạm quy định tại điểm a khoản 9 Điều này;\\ne) Bày, bán máy móc, thiết bị, vật tư, vật liệu xây dựng hoặc sản xuất, gia công hàng hóa trên lòng đường đô thị, hè phố;\\ng) Chiếm dụng lòng đường đô thị hoặc hè phố từ 05 m2 đến dưới 10 m2 làm nơi trông, giữ xe;\\nh) Xả nước thải xây dựng từ các công trình xây dựng ra đường phố;\\ni) Chiếm dụng phần đường xe chạy hoặc lề đường của đường ngoài đô thị từ 20 m2 trở lên làm nơi trông, giữ xe.\\n7. Phạt tiền từ 6.000.000 đồng đến 8.000.000 đồng đối với cá nhân, từ 12.000.000 đồng đến 16.000.000 đồng đối với tổ chức thực hiện hành vi chiếm dụng lòng đường đô thị hoặc hè phố từ 10 m2 đến dưới 20 m2 làm nơi trông, giữ xe.\\n8. Phạt tiền từ 10.000.000 đồng đến 15.000.000 đồng đối với cá nhân, từ 20.000.000 đồng đến 30.000.000 đồng đối với tổ chức thực hiện một trong các hành vi vi phạm sau đây:\\na) Chiếm dụng lòng đường đô thị hoặc hè phố từ 20 m2 trở lên làm nơi trông, giữ xe;\\nb) Dựng biển quảng cáo trên đất hành lang an toàn đường bộ khi chưa được cơ quan quản lý đường bộ có thẩm quyền đồng ý bằng văn bản hoặc dựng biển quảng cáo trên phần đất dọc hai bên đường bộ dùng để quản lý, bảo trì, bảo vệ công trình đường bộ.\\n9. Phạt tiền từ 15.000.000 đồng đến 20.000.000 đồng đối với cá nhân, từ 30.000.000 đồng đến 40.000.000 đồng đối với tổ chức thực hiện một trong các hành vi vi phạm sau đây:\\na) Chiếm dụng đất của đường bộ hoặc đất hành lang an toàn đường bộ để xây dựng nhà ở;\\nb) Mở đường nhánh đấu nối trái phép vào đường chính.\\n10. Ngoài việc bị áp dụng hình thức xử phạt, cá nhân, tổ chức thực hiện hành vi vi phạm còn bị áp dụng các biện pháp khắc phục hậu quả sau đây:\\na) Thực hiện hành vi quy định tại điểm b khoản 1 Điều này buộc phải thu dọn thóc, lúa, rơm, rạ, nông, lâm, hải sản, thiết bị trên đường bộ;\\nb) Thực hiện hành vi quy định tại điểm a, điểm b khoản 2 Điều này buộc phải di dời cây trồng không đúng quy định và khôi phục lại tình trạng ban đầu đã bị thay đổi do vi phạm hành chính gây ra;\\nc) Thực hiện hành vi quy định tại điểm c, điểm d khoản 2 Điều này buộc phải thu dọn vật tư, vật liệu, hàng hóa và khôi phục lại tình trạng ban đầu đã bị thay đổi do vi phạm hành chính gây ra;\\nd) Thực hiện hành vi quy định tại khoản 3; khoản 4; điểm b, điểm c, điểm d khoản 5; điểm a, điểm b, điểm c, điểm d, điểm e, điểm g, điểm h, điểm i khoản 6; khoản 7; điểm a khoản 8 Điều này buộc phải thu dọn rác, chất phế thải, phương tiện, vật tư, vật liệu, hàng hóa, máy móc, thiết bị, biển hiệu, biển quảng cáo, các loại vật dụng khác và khôi phục lại tình trạng ban đầu đã bị thay đổi do vi phạm hành chính gây ra;\\nđ) Thực hiện hành vi quy định tại điểm a khoản 5, điểm đ khoản 6, điểm b khoản 8, khoản 9 Điều này buộc phải tháo dỡ công trình xây dựng trái phép (không có giấy phép hoặc không đúng với giấy phép) và khôi phục lại tình trạng ban đầu đã bị thay đổi do vi phạm hành chính gây ra.   \n",
       "...                                                                                                                                                                                                                                                                                                                                                                                                                                                                                                                                                                                                                                                                                                                                                                                                                                                                                                                                                                                                                                                                                                                                                                                                                                                                                                                                                                                                                                                                                                                                                                                                                                                                                                                                                                                                                                                                                                                                                                                                                                                                                                                                                                                                                                                                                                                                                                                                                                                                                                                                                                                                                                                                                                                                                                                                                                                                                                                                                                                                                                                                                                                                                                                                                                                                                                                                                                                                                                                                                                                                                                                                                                                                                                                                                                                                                                                                                                                                                                                                                                                                                                                                                                                                                                                                                                                                                                                                                                                                                                                                                                                                                                                                                                                                                                                                                                                                                                                                                                                                                                                                                                                                                                                                                                                                                                                                                                                                                                                                                                                                                                                                                                                                                                                                                                                                                                                                                                                                                                                                                                                                                                                                                                                                                                                                                                                                                                                                                                                                                                                                                                                                                                                                                                                                                                                                                                                                                                                                                                                                                                                                                                                                                                                                                                                                                                                                                                                                                                                                                                                                                                                                                                                                                                              ...   \n",
       "2142                                                                                                                                                                                                                                                                                                                                                                                                                                                                                                                                                                                                                                                                                                                                                                                                                                                                                                                                                                                                                                                                                                                                                                                                                                                                                                                                                                                                                                                                                                                                                                                                                                                                                                                                                                                                                                                                                                                                                                                                                                                                                                                                                                                                                                                                                                                                                                                                                                                                                                                                                                                                                                                                                                                                                                                                                                                                                                                                                                                                                                                                                                                                                                                                                                                                                                                                                                                                                                                                                                                                                                                                                                                                                                                                                                                                                                                                                                                                                                                                                                                                                                                                                                                                                                                                                                                                                                                                                                                                                                                                                                                                                                                                                                                                                                                                                                                                                                                                                                                                                                                                                        1. Căn cứ kết quả lựa chọn nhà đầu tư, nhà đầu tư xếp thứ nhất được mời đến đàm phán, hoàn thiện hợp đồng. Trường hợp nhà đầu tư được mời đến đàm phán, hoàn thiện hợp đồng nhưng không đến hoặc từ chối đàm phán, hoàn thiện hợp đồng thì nhà đầu tư sẽ không được nhận lại bảo đảm dự thầu.\\n2. Việc đàm phán, hoàn thiện hợp đồng phải dựa trên cơ sở sau đây:\\na) Báo cáo đánh giá hồ sơ dự thầu;\\nb) Hồ sơ dự thầu và các tài liệu làm rõ, sửa đổi hồ sơ dự thầu (nếu có) của nhà đầu tư;\\nc) Hồ sơ mời thầu.\\n3. Nguyên tắc đàm phán, hoàn thiện hợp đồng:\\na) Không tiến hành đàm phán, hoàn thiện hợp đồng đối với các nội dung mà nhà đầu tư đã chào thầu theo đúng yêu cầu của hồ sơ mời thầu;\\nb) Việc đàm phán, hoàn thiện hợp đồng không được làm thay đổi nội dung cơ bản của hồ sơ dự thầu.\\n4. Nội dung đàm phán, hoàn thiện hợp đồng:\\na) Đàm phán, hoàn thiện về những nội dung chưa đủ chi tiết, chưa rõ hoặc chưa phù hợp, thống nhất giữa hồ sơ mời thầu và hồ sơ dự thầu, giữa các nội dung khác nhau trong hồ sơ dự thầu có thể dẫn đến các phát sinh, tranh chấp hoặc ảnh hưởng đến trách nhiệm của các bên trong quá trình thực hiện hợp đồng;\\nb) Đàm phán về các vấn đề phát sinh trong quá trình lựa chọn nhà đầu tư (nếu có) nhằm mục tiêu hoàn thiện các nội dung chi tiết của dự án;\\nc) Đàm phán về tiến độ bàn giao mặt bằng xây dựng; tiến độ nhà đầu tư chuyển giá trị bồi thường, hỗ trợ, tái định cư, chuyển giá trị nộp ngân sách nhà nước bằng tiền cho cơ quan quản lý nhà nước có chức năng theo quy định;\\nd) Cơ sở xác định tiền sử dụng đất, tiền thuê đất theo quy định pháp luật về đất đai; phương pháp định giá đất sẽ được sử dụng để xác định tiền sử dụng đất, tiền thuê đất tại thời điểm giao đất, cho thuê đất theo quy định của pháp luật về đất đai; thông số đầu vào hoặc cách thức xác định thông số đầu vào tương ứng với phương pháp định giá;\\nđ) Đàm phán về các nội dung cần thiết khác.\\n5. Trong quá trình đàm phán, hoàn thiện hợp đồng, các bên tham gia tiến hành hoàn thiện căn cứ để ký kết hợp đồng dự án, dự thảo hợp đồng, các thay đổi đối với các điều khoản đặc biệt của hợp đồng (nếu có).\\n6. Trường hợp đàm phán, hoàn thiện hợp đồng không thành công, bên mời thầu báo cáo người có thẩm quyền xem xét, quyết định hủy kết quả lựa chọn nhà đầu tư và mời nhà đầu tư xếp hạng tiếp theo vào đàm phán, hoàn thiện hợp đồng. Trường hợp đàm phán, hoàn thiện với các nhà đầu tư tiếp theo không thành công thì bên mời thầu báo cáo người có thẩm quyền xem xét, quyết định hủy thầu theo quy định tại khoản 1 Điều 17 của Luật Đấu thầu.   \n",
       "2143                                                                                                                                                                                                                                                                                                                                                                                                                                                                                                                                                                                                                                                                                                                                                                                                                                                                                                                                                                                                                                                                                                                                                                                                                                                                                                                                                                                                                                                                                                                                                                                                                                                                                                                                                                                                                                                                                                                                                                                                                                                                                                                                                                                                                                                                                                                                                                                                                                                                                                                                                                                                                                                                                                                                                                                                                                                                                                                                                                                                                                                                                                                                                                                                                                                                                                                                                                                                                                                                                                                                                                                                                                                                                                                                                                                                                                                                                                                                                                                                                                                                                                                                                                                                                                                                                                                                                                                                                                                                                                                                                                                                                                                                              1. Yêu cầu về thu thập số liệu, dữ liệu để xác định cơ cấu chi phí:\\na) Số liệu về chi phí đầu tư xây dựng công trình như tổng mức đầu tư, dự toán xây dựng, quyết toán vốn đầu tư công trình hoàn thành (nếu có) đã được phê duyệt bao gồm chi tiết các khoản mục chi phí.\\nb) Các chế độ, chính sách, quy định về quản lý chi phí đầu tư xây dựng công trình, sử dụng lao động, vật tư, máy và thiết bị thi công và các chi phí khác có liên quan ở thời điểm tính toán.\\n2. Yêu cầu về thông tin giá thị trường của các yếu tố đầu vào:\\na) Giá vật liệu xây dựng: Giá vật liệu xây dựng được xác định theo Thông tư hướng dẫn xác định và quản lý chi phí đầu tư xây dựng của Bộ Xây dựng. Danh mục vật liệu đưa vào tính chỉ số giá xây dựng phải được thống nhất về chủng loại, quy cách, nhãn mác. Đối với chỉ số giá xây dựng xác định cho công trình, giá vật liệu xây dựng được căn cứ theo công bố giá của địa phương. Trường hợp địa phương chưa công bố thì giá vật liệu xây dựng được thu thập trên thị trường nhưng phải đảm bảo phù hợp với khu vực xây dựng công trình, chủng loại, quy cách, nhãn mác vật liệu sử dụng cho công trình đó và các yêu cầu xác định giá vật liệu xây dựng theo Thông tư hướng dẫn xác định và quản lý chi phí đầu tư xây dựng của Bộ Xây dựng.\\nb) Giá nhân công xây dựng được xác định theo đơn giá nhân công xây dựng do UBND cấp tỉnh công bố. Trường hợp UBND cấp tỉnh chưa công bố thì căn cứ theo phương pháp xác định giá nhân công xây dựng do Bộ Xây dựng hướng dẫn để xác định.\\nc) Giá ca máy và thiết bị thi công xây dựng được xác định theo giá ca máy, giá thuê máy và thiết bị thi công do UBND cấp tỉnh công bố. Trường hợp UBND cấp tỉnh chưa công bố thì căn cứ theo phương pháp xác định giá ca máy và thiết bị thi công do Bộ Xây dựng hướng dẫn để xác định. Danh mục máy và thiết bị thi công đưa vào tính chỉ số giá xây dựng phải được thống nhất về chủng loại, công suất và xuất xứ.\\n3. Xử lý số liệu tính toán chỉ số giá xây dựng:\\na) Đối với các số liệu, dữ liệu để xác định cơ cấu chi phí: Việc xử lý số liệu, dữ liệu thu thập được bao gồm các công việc rà soát, kiểm tra, hiệu chỉnh lại số liệu, dữ liệu và cơ cấu dự toán chi phí. Số liệu về cơ cấu dự toán chi phí cần phải được quy đổi theo cơ cấu dự toán quy định tại thời điểm gốc. Các số liệu về tổng mức đầu tư, dự toán xây dựng công trình, quyết toán vốn đầu tư công trình hoàn thành (nếu có) phải được quy đổi về mặt bằng giá ở thời điểm gốc.\\nb) Đối với các thông tin về giá cả các yếu tố đầu vào: các số liệu, dữ liệu thu thập về giá cả các yếu tố đầu vào cần phải được kiểm tra, rà soát, hiệu chỉnh, cụ thể: Giá các loại vật liệu xây dựng đầu vào được kiểm tra về sự phù hợp của chủng loại, quy cách, nhãn mác. Giá các loại nhân công xây dựng đầu vào được kiểm tra về sự phù hợp với loại thợ, cấp bậc thợ thực hiện công việc. Giá ca máy của các loại máy và thiết bị thi công đầu vào được kiểm tra sự phù hợp về chủng loại, công suất, xuất xứ máy.   \n",
       "2144                                                                                                                                                                                                                                                                                                                                                                                                                                                                                                                                                                                                                                                                                                                                                                                                                                                                                                                                                                                                                                                                                                                                                                                                                                                                                                                                                                                                                                                                                                                                                                                                                                                                                                                                                                                                                                                                                                                                                                                                                                                                                                                                                                                                                                                                                                                                                                                                                                                                                                                                                                                                                                                                                                                                                                                                                                                                                                                                                                                                                                                                                                                                                                                                                                                                                                                                                                                                                                                                                                                                                                                                                                                                                                                                                                                                                                                                                                                                                                                                                                                                                                                                                                                                                                                                                                                                                                                                                                                                                                                                                                                                                                                                                                                                                                                                                                                                                                                                                                                                                                                                                                                                                                                                                                                                                                                                                                                                                                                                                                                                                                                                                                                                                                                                                                                                                                                                                                                                                                                                                                                                                                                                  1. Phạt tiền từ 1.000.000 đồng đến 3.000.000 đồng đối với hành vi không thông báo hoặc niêm yết công khai về đối tượng tham gia mua, bán; phương thức mua, bán; giá mua, bán; thời hạn mua, bán; số lượng, chủng loại, quy cách, tiêu chuẩn, chất lượng hàng dự trữ quốc gia theo quy định của cơ quan nhà nước có thẩm quyền.\\n2. Phạt tiền từ 3.000.000 đồng đến 5.000.000 đồng đối với hành vi:\\nThực hiện không đúng các quy định do cơ quan nhà nước có thẩm quyền ban hành về phương thức mua, bán đối với từng loại hàng dự trữ quốc gia.\\n3. Phạt tiền từ 5.000.000 đồng đến 7.000.000 đồng đối với một trong các hành vi sau đây:\\na) Không thực hiện việc mua hàng dự trữ quốc gia khi đã có đủ các điều kiện theo quyết định của cơ quan nhà nước có thẩm quyền;\\nb) Mua, bán hàng dự trữ quốc gia khi không có sự đồng ý bằng văn bản của cơ quan nhà nước có thẩm quyền;\\nc) Mua, bán hàng dự trữ quốc gia khi thời hạn về mua, bán hàng dự trữ quốc gia đã hết hiệu lực;\\nd) Mua, bán hàng dự trữ quốc gia không đúng về số lượng, chủng loại, quy cách, tiêu chuẩn, chất lượng đã được cơ quan nhà nước có thẩm quyền phê duyệt;\\nđ) Không thực hiện các quy định do cơ quan nhà nước có thẩm quyền ban hành về phương thức mua, bán đối với từng loại hàng dự trữ quốc gia.\\n4. Phạt tiền từ 10.000.000 đồng đến 20.000.000 đồng đối với hành vi tự ý thay đổi giá mua, bán hàng dự trữ quốc gia để trục lợi.\\n5. Biện pháp khắc phục hậu quả:\\nBuộc nộp lại số lợi bất hợp pháp có được do thực hiện hành vi quy định tại khoản 1, khoản 2, khoản 3 Điều này.   \n",
       "2145                                                                                                                                                                                                                                                                                                                                                                                                                                                                                                                                                                                                                                                                                                                                                                                                                                                                                                                                                                                                                                                                                                                                                                                                                                                                                                                                                                                                                                                                                                                                                                                                                                                                                                                                                                                                                                                                                                                                                                                                                                                                                                                                                                                                                                                                                                                                                                                                                                                                                                                                                                                                                                                                                                                                                                                                                                                                                                                                                                                                                                                                                                                                                                                                                                                                                                                                                                                                                                                                                                                                                                                                                                                                                                                                                                                                                                                                                                                                                                                                                                                                                                                                                                                                                                                                                                                                                                                                                                                                                                                                                                                                                                                                                                                                                                                                                                                                                                                                                                                                                                                                                                                                                                                                                                                                                                                                                                                                                                                                                                                                                                                                                                                                                                                                                                                                                                                                                                                                                                                                                                                                                                                                                                                                                                                                                                                                                                                                                                                                                                                                                                                                                                                                                                                                                                                                                                                                                                                                                                                                                              1. Cơ quan quản lý thi hành án hình sự thuộc Bộ Công an có con dấu riêng để sử dụng trong hoạt động quản lý thi hành án hình sự với tên gọi là: Bộ Công an - Cơ quan quản lý thi hành án hình sự.\\n2. Cơ quan thi hành án hình sự Công an cấp tỉnh có con dấu riêng để sử dụng trong hoạt động thi hành án hình sự với tên gọi là: Công an tỉnh, thành phố trực thuộc Trung ương - Cơ quan thi hành án hình sự.\\n3. Cơ quan thi hành án hình sự Công an cấp huyện có con dấu riêng để sử dụng trong hoạt động thi hành án hình sự với tên gọi là: Công an tỉnh, thành phố trực thuộc Trung ương - Công an huyện, quận, thị xã, thành phố thuộc tỉnh - Cơ quan thi hành án hình sự.   \n",
       "2146                                                                                                                                                                                                                                                                                                                                                                                                                                                                                                                                                                                                                                                                                                                                                                                                                                                                                                                                                                                                                                                                                                                                                                                                                                                                                                                                                                                                                                                                                                                                                                                                                                                                                                                                                                                                                                                                                                                                                                                                                                                                                                                                                                                                                                                                                                                                                                                                                                                                                                                                                                                                                                                                                                                                                                                                                                                                                                                                                                                                                                                                                                                                                                                                                                                                                                                                                                                                                                                                                                                                                                                                                                                                                                                                                                                                                                                                                                                                                                                                                                                                                                                                                                                                                                                                                                                                                                                                                                                                                                                                                                                                                                                                                                                                                                                                                                                                                                                                                                                                                                                                                                                                                                                                                                                                                                                                                                                                                                                                                                                                                                                                                                                                                                                                                                                                                                                                                                                                                                    Trong Thông tư này, các thuật ngữ dưới đây được hiểu như sau:\\n1. Quản lý tổng hợp tài nguyên vùng bờ là việc hoạch định và tổ chức thực hiện các cơ chế, chính sách, công cụ điều phối liên ngành, liên vùng để bảo đảm tài nguyên vùng bờ được khai thác, sử dụng hiệu quả, duy trì chức năng và cấu trúc của các hệ sinh thái vùng bờ nhằm phát triển bền vững, góp phần bảo vệ chủ quyền, quyền chủ quyền, quyền tài phán quốc gia của Việt Nam trên biển, bảo đảm quốc phòng, an ninh.\\n2. Chương trình quản lý tổng hợp tài nguyên vùng bờ là tập hợp các hoạt động quản lý tổng hợp trên một vùng bờ cụ thể trong một khoảng thời gian nhất định, được thực hiện theo lộ trình từ quy trình lập, phê duyệt, tổ chức thực hiện, đến đánh giá, điều chỉnh và đề xuất hoàn thiện cho giai đoạn tiếp theo.\\n3. Đánh giá hiện trạng vùng bờ là đánh giá hiện trạng tài nguyên, môi trường vùng bờ và quản lý tổng hợp tài nguyên vùng bờ (bao gồm các hoạt động khai thác, sử dụng tài nguyên và không gian vùng bờ; bảo vệ môi trường vùng bờ và thể chế, chính sách, pháp luật liên quan) tại một thời điểm nhất định, thông qua các chỉ thị đánh giá được lựa chọn.\\n4. Đánh giá kết quả thực hiện chương trình là đánh giá kết quả thực hiện chương trình so với mục tiêu đề ra, tính hiệu quả, tác động của chương trình thông qua sự thay đổi của tài nguyên, môi trường vùng bờ và hoạt động quản lý tổng hợp tài nguyên vùng bờ dựa trên các đánh giá hiện trạng vùng bờ trước, sau và trong quá trình triển khai chương trình.\\n5. Chỉ thị đánh giá chương trình là sự thể hiện (định tính, định lượng) một yếu tố đặc trưng của chương trình quản lý tổng hợp tài nguyên vùng bờ và liên quan đến các mục tiêu của chương trình.   \n",
       "\n",
       "      groundedness_score  relevance_score  standalone_score  \n",
       "0                      2                3                 5  \n",
       "1                      3                1                 2  \n",
       "2                      3                5                 5  \n",
       "3                      5                5                 5  \n",
       "4                      5                4                 5  \n",
       "...                  ...              ...               ...  \n",
       "2142                   5                5                 4  \n",
       "2143                   3                5                 2  \n",
       "2144                   5                5                 5  \n",
       "2145                   4                5                 5  \n",
       "2146                   5                4                 5  \n",
       "\n",
       "[2147 rows x 6 columns]"
      ]
     },
     "metadata": {},
     "output_type": "display_data"
    },
    {
     "name": "stdout",
     "output_type": "stream",
     "text": [
      "============================================\n",
      "Final evaluation dataset:\n"
     ]
    },
    {
     "data": {
      "text/html": [
       "<div>\n",
       "<style scoped>\n",
       "    .dataframe tbody tr th:only-of-type {\n",
       "        vertical-align: middle;\n",
       "    }\n",
       "\n",
       "    .dataframe tbody tr th {\n",
       "        vertical-align: top;\n",
       "    }\n",
       "\n",
       "    .dataframe thead th {\n",
       "        text-align: right;\n",
       "    }\n",
       "</style>\n",
       "<table border=\"1\" class=\"dataframe\">\n",
       "  <thead>\n",
       "    <tr style=\"text-align: right;\">\n",
       "      <th></th>\n",
       "      <th>question</th>\n",
       "      <th>answer</th>\n",
       "      <th>groundedness_score</th>\n",
       "      <th>relevance_score</th>\n",
       "      <th>standalone_score</th>\n",
       "    </tr>\n",
       "  </thead>\n",
       "  <tbody>\n",
       "    <tr>\n",
       "      <th>3</th>\n",
       "      <td>Trách nhiệm của Bộ Khoa học và Công nghệ về quản lý và phát triển công nghiệp an ninh được quy định như thế nào?</td>\n",
       "      <td>Bộ Khoa học và Công nghệ có trách nhiệm chủ trì, phối hợp, hướng dẫn Bộ Công an và các tổ chức, cá nhân thực hiện các chương trình, nhiệm vụ nghiên cứu, ứng dụng khoa học công nghệ phục vụ xây dựng, phát triển công nghiệp an ninh, tập trung nghiên cứu, ứng dụng, cập nhật, phát triển sản phẩm mới, sản phẩm chuyên dụng công nghệ cao đáp ứng yêu cầu ngày càng cao của nhiệm vụ bảo vệ an ninh quốc gia, bảo đảm trật tự, an toàn xã hội trong tình hình mới; phối hợp, hướng dẫn, kiểm tra công tác chuyển giao công nghệ, giải mã công nghệ; ban hành quy chuẩn kỹ thuật quốc gia về các sản phẩm công nghiệp an ninh chuyên dụng và việc huy động các chuyên gia, nhà khoa học tham gia nghiên cứu, phát triển công nghiệp an ninh.</td>\n",
       "      <td>5</td>\n",
       "      <td>5</td>\n",
       "      <td>5</td>\n",
       "    </tr>\n",
       "    <tr>\n",
       "      <th>4</th>\n",
       "      <td>Mức phạt khi sử dụng trái phép lòng đường đô thị, hè phố để rửa xe</td>\n",
       "      <td>Phạt tiền từ 4.000.000 đồng đến 6.000.000 đồng đối với cá nhân, từ 8.000.000 đồng đến 12.000.000 đồng đối với tổ chức.</td>\n",
       "      <td>5</td>\n",
       "      <td>4</td>\n",
       "      <td>5</td>\n",
       "    </tr>\n",
       "    <tr>\n",
       "      <th>5</th>\n",
       "      <td>Hai công ty con chung công ty mẹ có được tham dự gói thầu của nhau không?</td>\n",
       "      <td>Nếu sản phẩm, dịch vụ thuộc gói thầu là ngành nghề sản xuất kinh doanh chính của tập đoàn và là đầu ra của công ty này, đồng thời là đầu vào của công ty kia trong tập đoàn thì hai công ty con đó được phép tham dự quá trình lựa chọn nhà thầu của nhau.</td>\n",
       "      <td>4</td>\n",
       "      <td>4</td>\n",
       "      <td>5</td>\n",
       "    </tr>\n",
       "    <tr>\n",
       "      <th>6</th>\n",
       "      <td>Mức phạt khi không thực hiện đúng quy trình tuyển sinh theo quy định của pháp luật là bao nhiêu?</td>\n",
       "      <td>Phạt tiền từ 20.000.000 đồng đến 30.000.000 đồng.</td>\n",
       "      <td>5</td>\n",
       "      <td>5</td>\n",
       "      <td>5</td>\n",
       "    </tr>\n",
       "    <tr>\n",
       "      <th>8</th>\n",
       "      <td>Dự án thuộc ngành nghề ưu đãi đầu tư tại địa bàn khó khăn được hưởng ưu đãi như thế nào?</td>\n",
       "      <td>Dự án đầu tư thuộc ngành, nghề ưu đãi đầu tư thực hiện tại địa bàn có điều kiện kinh tế - xã hội khó khăn được hưởng ưu đãi đầu tư như quy định đối với dự án đầu tư thuộc địa bàn có điều kiện kinh tế - xã hội đặc biệt khó khăn.</td>\n",
       "      <td>5</td>\n",
       "      <td>4</td>\n",
       "      <td>5</td>\n",
       "    </tr>\n",
       "    <tr>\n",
       "      <th>...</th>\n",
       "      <td>...</td>\n",
       "      <td>...</td>\n",
       "      <td>...</td>\n",
       "      <td>...</td>\n",
       "      <td>...</td>\n",
       "    </tr>\n",
       "    <tr>\n",
       "      <th>2141</th>\n",
       "      <td>Mức phạt khi thi công trên đường bộ đang khai thác không treo biển báo thông tin công trình</td>\n",
       "      <td>Cảnh cáo hoặc phạt tiền từ 250.000 đồng đến 500.000 đồng đối với cá nhân, từ 500.000 đồng đến 1.000.000 đồng đối với tổ chức.</td>\n",
       "      <td>5</td>\n",
       "      <td>5</td>\n",
       "      <td>5</td>\n",
       "    </tr>\n",
       "    <tr>\n",
       "      <th>2142</th>\n",
       "      <td>Việc đàm phán, hoàn thiện hợp đồng đối với dự án đầu tư có sử dụng đất dựa trên cơ sở nào?</td>\n",
       "      <td>Việc đàm phán, hoàn thiện hợp đồng đối với dự án đầu tư có sử dụng đất dựa trên cơ sở sau: Báo cáo đánh giá hồ sơ dự thầu; Hồ sơ dự thầu và các tài liệu làm rõ, sửa đổi hồ sơ dự thầu (nếu có) của nhà đầu tư; Hồ sơ mời thầu.</td>\n",
       "      <td>5</td>\n",
       "      <td>5</td>\n",
       "      <td>4</td>\n",
       "    </tr>\n",
       "    <tr>\n",
       "      <th>2144</th>\n",
       "      <td>Mức phạt đối với hành vi không niêm yết công khai giá mua bán hàng dự trữ quốc gia được quy định như thế nào?</td>\n",
       "      <td>Mức phạt đối với hành vi không thông báo hoặc niêm yết công khai về giá mua, bán hàng dự trữ quốc gia được quy định là phạt tiền từ 1.000.000 đồng đến 3.000.000 đồng.</td>\n",
       "      <td>5</td>\n",
       "      <td>5</td>\n",
       "      <td>5</td>\n",
       "    </tr>\n",
       "    <tr>\n",
       "      <th>2145</th>\n",
       "      <td>Con dấu của Cơ quan quản lý thi hành án hình sự thuộc Bộ Công an được quy định thế nào?</td>\n",
       "      <td>Con dấu của Cơ quan quản lý thi hành án hình sự thuộc Bộ Công an có tên gọi là: Bộ Công an - Cơ quan quản lý thi hành án hình sự.</td>\n",
       "      <td>4</td>\n",
       "      <td>5</td>\n",
       "      <td>5</td>\n",
       "    </tr>\n",
       "    <tr>\n",
       "      <th>2146</th>\n",
       "      <td>Đánh giá hiện trạng vùng bờ là gì?</td>\n",
       "      <td>Đánh giá hiện trạng vùng bờ là đánh giá hiện trạng tài nguyên, môi trường vùng bờ và quản lý tổng hợp tài nguyên vùng bờ (bao gồm các hoạt động khai thác, sử dụng tài nguyên và không gian vùng bờ; bảo vệ môi trường vùng bờ và thể chế, chính sách, pháp luật liên quan) tại một thời điểm nhất định, thông qua các chỉ thị đánh giá được lựa chọn.</td>\n",
       "      <td>5</td>\n",
       "      <td>4</td>\n",
       "      <td>5</td>\n",
       "    </tr>\n",
       "  </tbody>\n",
       "</table>\n",
       "<p>1251 rows × 5 columns</p>\n",
       "</div>"
      ],
      "text/plain": [
       "                                                                                                              question  \\\n",
       "3     Trách nhiệm của Bộ Khoa học và Công nghệ về quản lý và phát triển công nghiệp an ninh được quy định như thế nào?   \n",
       "4                                                   Mức phạt khi sử dụng trái phép lòng đường đô thị, hè phố để rửa xe   \n",
       "5                                            Hai công ty con chung công ty mẹ có được tham dự gói thầu của nhau không?   \n",
       "6                     Mức phạt khi không thực hiện đúng quy trình tuyển sinh theo quy định của pháp luật là bao nhiêu?   \n",
       "8                             Dự án thuộc ngành nghề ưu đãi đầu tư tại địa bàn khó khăn được hưởng ưu đãi như thế nào?   \n",
       "...                                                                                                                ...   \n",
       "2141                       Mức phạt khi thi công trên đường bộ đang khai thác không treo biển báo thông tin công trình   \n",
       "2142                        Việc đàm phán, hoàn thiện hợp đồng đối với dự án đầu tư có sử dụng đất dựa trên cơ sở nào?   \n",
       "2144     Mức phạt đối với hành vi không niêm yết công khai giá mua bán hàng dự trữ quốc gia được quy định như thế nào?   \n",
       "2145                           Con dấu của Cơ quan quản lý thi hành án hình sự thuộc Bộ Công an được quy định thế nào?   \n",
       "2146                                                                                Đánh giá hiện trạng vùng bờ là gì?   \n",
       "\n",
       "                                                                                                                                                                                                                                                                                                                                                                                                                                                                                                                                                                                                                                                                                                                                              answer  \\\n",
       "3     Bộ Khoa học và Công nghệ có trách nhiệm chủ trì, phối hợp, hướng dẫn Bộ Công an và các tổ chức, cá nhân thực hiện các chương trình, nhiệm vụ nghiên cứu, ứng dụng khoa học công nghệ phục vụ xây dựng, phát triển công nghiệp an ninh, tập trung nghiên cứu, ứng dụng, cập nhật, phát triển sản phẩm mới, sản phẩm chuyên dụng công nghệ cao đáp ứng yêu cầu ngày càng cao của nhiệm vụ bảo vệ an ninh quốc gia, bảo đảm trật tự, an toàn xã hội trong tình hình mới; phối hợp, hướng dẫn, kiểm tra công tác chuyển giao công nghệ, giải mã công nghệ; ban hành quy chuẩn kỹ thuật quốc gia về các sản phẩm công nghiệp an ninh chuyên dụng và việc huy động các chuyên gia, nhà khoa học tham gia nghiên cứu, phát triển công nghiệp an ninh.   \n",
       "4                                                                                                                                                                                                                                                                                                                                                                                                                                                                                                                                                                                                                             Phạt tiền từ 4.000.000 đồng đến 6.000.000 đồng đối với cá nhân, từ 8.000.000 đồng đến 12.000.000 đồng đối với tổ chức.   \n",
       "5                                                                                                                                                                                                                                                                                                                                                                                                                                                                                         Nếu sản phẩm, dịch vụ thuộc gói thầu là ngành nghề sản xuất kinh doanh chính của tập đoàn và là đầu ra của công ty này, đồng thời là đầu vào của công ty kia trong tập đoàn thì hai công ty con đó được phép tham dự quá trình lựa chọn nhà thầu của nhau.   \n",
       "6                                                                                                                                                                                                                                                                                                                                                                                                                                                                                                                                                                                                                                                                                                  Phạt tiền từ 20.000.000 đồng đến 30.000.000 đồng.   \n",
       "8                                                                                                                                                                                                                                                                                                                                                                                                                                                                                                                Dự án đầu tư thuộc ngành, nghề ưu đãi đầu tư thực hiện tại địa bàn có điều kiện kinh tế - xã hội khó khăn được hưởng ưu đãi đầu tư như quy định đối với dự án đầu tư thuộc địa bàn có điều kiện kinh tế - xã hội đặc biệt khó khăn.   \n",
       "...                                                                                                                                                                                                                                                                                                                                                                                                                                                                                                                                                                                                                                                                                                                                              ...   \n",
       "2141                                                                                                                                                                                                                                                                                                                                                                                                                                                                                                                                                                                                                   Cảnh cáo hoặc phạt tiền từ 250.000 đồng đến 500.000 đồng đối với cá nhân, từ 500.000 đồng đến 1.000.000 đồng đối với tổ chức.   \n",
       "2142                                                                                                                                                                                                                                                                                                                                                                                                                                                                                                                 Việc đàm phán, hoàn thiện hợp đồng đối với dự án đầu tư có sử dụng đất dựa trên cơ sở sau: Báo cáo đánh giá hồ sơ dự thầu; Hồ sơ dự thầu và các tài liệu làm rõ, sửa đổi hồ sơ dự thầu (nếu có) của nhà đầu tư; Hồ sơ mời thầu.   \n",
       "2144                                                                                                                                                                                                                                                                                                                                                                                                                                                                                                                                                                          Mức phạt đối với hành vi không thông báo hoặc niêm yết công khai về giá mua, bán hàng dự trữ quốc gia được quy định là phạt tiền từ 1.000.000 đồng đến 3.000.000 đồng.   \n",
       "2145                                                                                                                                                                                                                                                                                                                                                                                                                                                                                                                                                                                                               Con dấu của Cơ quan quản lý thi hành án hình sự thuộc Bộ Công an có tên gọi là: Bộ Công an - Cơ quan quản lý thi hành án hình sự.   \n",
       "2146                                                                                                                                                                                                                                                                                                                                                                                          Đánh giá hiện trạng vùng bờ là đánh giá hiện trạng tài nguyên, môi trường vùng bờ và quản lý tổng hợp tài nguyên vùng bờ (bao gồm các hoạt động khai thác, sử dụng tài nguyên và không gian vùng bờ; bảo vệ môi trường vùng bờ và thể chế, chính sách, pháp luật liên quan) tại một thời điểm nhất định, thông qua các chỉ thị đánh giá được lựa chọn.   \n",
       "\n",
       "      groundedness_score  relevance_score  standalone_score  \n",
       "3                      5                5                 5  \n",
       "4                      5                4                 5  \n",
       "5                      4                4                 5  \n",
       "6                      5                5                 5  \n",
       "8                      5                4                 5  \n",
       "...                  ...              ...               ...  \n",
       "2141                   5                5                 5  \n",
       "2142                   5                5                 4  \n",
       "2144                   5                5                 5  \n",
       "2145                   4                5                 5  \n",
       "2146                   5                4                 5  \n",
       "\n",
       "[1251 rows x 5 columns]"
      ]
     },
     "metadata": {},
     "output_type": "display_data"
    }
   ],
   "source": [
    "\n",
    "\n",
    "import pandas as pd\n",
    "import datasets\n",
    "pd.set_option(\"display.max_colwidth\", None)\n",
    "\n",
    "generated_questions = pd.DataFrame(data)\n",
    "\n",
    "print(\"Evaluation dataset before filtering:\")\n",
    "display(\n",
    "    generated_questions[\n",
    "        [\n",
    "            \"question\",\n",
    "            \"answer\",\n",
    "            \"context\", \n",
    "            \"groundedness_score\",\n",
    "            \"relevance_score\",\n",
    "            \"standalone_score\",\n",
    "        ]\n",
    "    ]\n",
    ")\n",
    "generated_questions = generated_questions.loc[\n",
    "    (generated_questions[\"groundedness_score\"] >= 4)\n",
    "    & (generated_questions[\"relevance_score\"] >= 4)\n",
    "    & (generated_questions[\"standalone_score\"] >= 4)\n",
    "]\n",
    "print(\"============================================\")\n",
    "print(\"Final evaluation dataset:\")\n",
    "display(\n",
    "    generated_questions[\n",
    "        [\n",
    "            \"question\",\n",
    "            \"answer\",\n",
    "            \"groundedness_score\",\n",
    "            \"relevance_score\",\n",
    "            \"standalone_score\",\n",
    "        ]\n",
    "    ]\n",
    ")\n",
    "\n",
    "eval_dataset = datasets.Dataset.from_pandas(generated_questions, split=\"train\", preserve_index=False)"
   ]
  },
  {
   "cell_type": "code",
   "execution_count": 35,
   "metadata": {},
   "outputs": [
    {
     "name": "stdout",
     "output_type": "stream",
     "text": [
      "<class 'datasets.arrow_dataset.Dataset'>\n",
      "dict_keys(['question', 'answer', 'context', 'groundedness_score', 'groundedness_eval', 'relevance_score', 'relevance_eval', 'standalone_score', 'standalone_eval'])\n"
     ]
    }
   ],
   "source": [
    "print(type(eval_dataset))\n",
    "fields = eval_dataset.features.keys()\n",
    "print(fields)"
   ]
  },
  {
   "cell_type": "code",
   "execution_count": 10,
   "metadata": {},
   "outputs": [
    {
     "data": {
      "application/vnd.jupyter.widget-view+json": {
       "model_id": "cc073b53c1ae434d863e085e365faeef",
       "version_major": 2,
       "version_minor": 0
      },
      "text/plain": [
       "Uploading the dataset shards:   0%|          | 0/1 [00:00<?, ?it/s]"
      ]
     },
     "metadata": {},
     "output_type": "display_data"
    },
    {
     "data": {
      "application/vnd.jupyter.widget-view+json": {
       "model_id": "545298b21e4e4fdc88f4b86d3f4544cf",
       "version_major": 2,
       "version_minor": 0
      },
      "text/plain": [
       "Creating parquet from Arrow format:   0%|          | 0/2 [00:00<?, ?ba/s]"
      ]
     },
     "metadata": {},
     "output_type": "display_data"
    },
    {
     "data": {
      "application/vnd.jupyter.widget-view+json": {
       "model_id": "dae0cbc5367f407bbe010becec69166c",
       "version_major": 2,
       "version_minor": 0
      },
      "text/plain": [
       "README.md:   0%|          | 0.00/649 [00:00<?, ?B/s]"
      ]
     },
     "metadata": {},
     "output_type": "display_data"
    },
    {
     "data": {
      "text/plain": [
       "CommitInfo(commit_url='https://huggingface.co/datasets/tuananh18/Eval-RAG-Vietnamese/commit/3ad9e43532ab8204a62a08d570a59a4adcf0d75f', commit_message='Upload dataset', commit_description='', oid='3ad9e43532ab8204a62a08d570a59a4adcf0d75f', pr_url=None, pr_revision=None, pr_num=None)"
      ]
     },
     "execution_count": 10,
     "metadata": {},
     "output_type": "execute_result"
    }
   ],
   "source": [
    "import datasets\n",
    "from datasets import DatasetDict\n",
    "\n",
    "\n",
    "dataset_dict = DatasetDict({\"train\": eval_dataset})\n",
    "\n",
    "\n",
    "dataset_dict.push_to_hub(\"Eval-RAG-Vietnamese\", 'legal-data')\n"
   ]
  },
  {
   "cell_type": "markdown",
   "metadata": {},
   "source": [
    "### chuẩn hóa lại context "
   ]
  },
  {
   "cell_type": "code",
   "execution_count": 1,
   "metadata": {},
   "outputs": [
    {
     "name": "stdout",
     "output_type": "stream",
     "text": [
      "Cloning into 'Eval-RAG-Vietnamese'...\n",
      "remote: Enumerating objects: 13, done.\u001b[K\n",
      "remote: Counting objects: 100% (10/10), done.\u001b[K\n",
      "remote: Compressing objects: 100% (10/10), done.\u001b[K\n",
      "remote: Total 13 (delta 1), reused 0 (delta 0), pack-reused 3 (from 1)\u001b[K\n",
      "Unpacking objects: 100% (13/13), 3.80 KiB | 3.80 MiB/s, done.\n"
     ]
    }
   ],
   "source": [
    "!git clone https://huggingface.co/datasets/tuananh18/Eval-RAG-Vietnamese"
   ]
  },
  {
   "cell_type": "code",
   "execution_count": 10,
   "metadata": {},
   "outputs": [],
   "source": [
    "from datasets import load_dataset\n",
    "import json\n",
    "\n",
    "# Load the dataset\n",
    "ds_legalRAG = load_dataset(\"sailor2/Vietnamese_RAG\", 'LegalRAG')\n",
    "\n",
    "# Select the 'train' split\n",
    "data = ds_legalRAG['train']\n",
    "\n",
    "# Convert the data to a list of dictionaries\n",
    "data_list = [row for row in data]\n",
    "\n",
    "# Write the data to a JSON file\n",
    "with open('legal_duy.json', 'w', encoding='utf-8') as f:\n",
    "    json.dump(data_list, f, ensure_ascii=False, indent=4)\n"
   ]
  },
  {
   "cell_type": "code",
   "execution_count": 8,
   "metadata": {},
   "outputs": [],
   "source": [
    "import json\n",
    "\n",
    "# Load JSON files\n",
    "with open('/home/justtuananh/AI4TUAN/DOAN2024/eval_rag_vietnamese/legal_data_after.json', 'r', encoding='utf-8') as f1:\n",
    "    data1 = json.load(f1)\n",
    "\n",
    "with open('/home/justtuananh/AI4TUAN/DOAN2024/eval_rag_vietnamese/eval-data/legal_eval.json', 'r', encoding='utf-8') as f2:\n",
    "    data2 = json.load(f2)\n",
    "\n",
    "# Create a dictionary to map questions to contexts from file 2\n",
    "context_map_2 = {entry['question']: entry['context'] for entry in data2}\n",
    "\n",
    "# Update context in file1 based on matching questions\n",
    "for entry in data1:\n",
    "    question = entry['question']\n",
    "    if question in context_map_2:\n",
    "        entry['context'] = context_map_2[question]\n",
    "\n",
    "# Save the updated JSON file 1\n",
    "with open('file1_updated1.json', 'w', encoding='utf-8') as f1_updated:\n",
    "    json.dump(data1, f1_updated, ensure_ascii=False, indent=4)\n"
   ]
  }
 ],
 "metadata": {
  "kernelspec": {
   "display_name": "end-project",
   "language": "python",
   "name": "python3"
  },
  "language_info": {
   "codemirror_mode": {
    "name": "ipython",
    "version": 3
   },
   "file_extension": ".py",
   "mimetype": "text/x-python",
   "name": "python",
   "nbconvert_exporter": "python",
   "pygments_lexer": "ipython3",
   "version": "3.12.2"
  }
 },
 "nbformat": 4,
 "nbformat_minor": 2
}
