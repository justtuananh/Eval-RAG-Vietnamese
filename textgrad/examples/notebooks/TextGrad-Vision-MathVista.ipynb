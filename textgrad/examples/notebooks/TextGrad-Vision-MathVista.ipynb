{
 "cells": [
  {
   "cell_type": "code",
   "execution_count": 21,
   "id": "8dd3140c-45d0-478e-b184-ec5faed66964",
   "metadata": {
    "vscode": {
     "languageId": "shellscript"
    }
   },
   "outputs": [],
   "source": [
    "# Some utils to read images\n",
    "\n",
    "import io\n",
    "from PIL import Image"
   ]
  },
  {
   "cell_type": "code",
   "execution_count": 22,
   "id": "3ca4c62b-2d83-412d-b410-0ed5272a6f06",
   "metadata": {
    "vscode": {
     "languageId": "shellscript"
    }
   },
   "outputs": [],
   "source": [
    "import textgrad as tg\n",
    "from textgrad import get_engine\n",
    "from textgrad.autograd import MultimodalLLMCall\n",
    "from textgrad.loss import ImageQALoss"
   ]
  },
  {
   "cell_type": "code",
   "execution_count": 23,
   "id": "5fae4779",
   "metadata": {
    "vscode": {
     "languageId": "shellscript"
    }
   },
   "outputs": [],
   "source": [
    "import os\n",
    "\n",
    "# Assuming the OpenAI API key is stored in an environment variable named 'OPENAI_API_KEY'\n",
    "openai_api_key = os.getenv('OPENAI_API_KEY')\n",
    "assert openai_api_key is not None and len(openai_api_key) > 0, \"Please set the OPENAI_API_KEY environment variable\""
   ]
  },
  {
   "cell_type": "code",
   "execution_count": 24,
   "id": "d1986a01-3afd-46a8-a99e-e977b1141768",
   "metadata": {
    "vscode": {
     "languageId": "shellscript"
    }
   },
   "outputs": [],
   "source": [
    "tg.set_backward_engine(\"gpt-4o\", override=True)"
   ]
  },
  {
   "cell_type": "markdown",
   "id": "48623c79-b296-44b6-b688-70b5cf5c2f95",
   "metadata": {},
   "source": [
    "# Simply answering questions about images"
   ]
  },
  {
   "cell_type": "code",
   "execution_count": 25,
   "id": "e0629de4-9fcf-4df4-9316-cc86455929e6",
   "metadata": {
    "vscode": {
     "languageId": "shellscript"
    }
   },
   "outputs": [
    {
     "name": "stdout",
     "output_type": "stream",
     "text": [
      "b'\\x89PNG\\r\\n\\x1a\\n\\x00\\x00'\n"
     ]
    }
   ],
   "source": [
    "# import httpx\n",
    "\n",
    "# image_url = \"https://upload.wikimedia.org/wikipedia/commons/a/a7/Camponotus_flavomarginatus_ant.jpg\"\n",
    "# image_data = httpx.get(image_url).content\n",
    "\n",
    "# Import necessary library\n",
    "import httpx\n",
    "\n",
    "# Path to the local image\n",
    "image_path = \".assets/176.png\"\n",
    "\n",
    "# Read the local image file in binary mode\n",
    "with open(image_path, 'rb') as file:\n",
    "    image_data = file.read()\n",
    "\n",
    "# Print the first few bytes of the image data to verify (optional)\n",
    "print(image_data[:10])"
   ]
  },
  {
   "cell_type": "code",
   "execution_count": 26,
   "id": "a4a2fadb",
   "metadata": {
    "vscode": {
     "languageId": "shellscript"
    }
   },
   "outputs": [
    {
     "data": {
      "text/plain": [
       "'Hint: Please answer the question and provide the correct option letter, e.g., A, B, C, D, at the end. \\nQuestion: Find $RS$ if $\\triangle QRS$ is an equilateral triangle. \\nChoices: (A) 0.5 (B) 1 (C) 1.5 (D) 2'"
      ]
     },
     "execution_count": 26,
     "metadata": {},
     "output_type": "execute_result"
    }
   ],
   "source": [
    "image_variable = tg.Variable(image_data, role_description=\"image to answer a question about\", requires_grad=False)\n",
    "\n",
    "# MathVista-176, ground truth = (D) 2\n",
    "question_text = \"\"\"\n",
    "Hint: Please answer the question and provide the correct option letter, e.g., A, B, C, D, at the end. \n",
    "Question: Find $RS$ if $\\triangle QRS$ is an equilateral triangle. \n",
    "Choices: (A) 0.5 (B) 1 (C) 1.5 (D) 2\n",
    "\"\"\"\n",
    "question_text = question_text.strip()\n",
    "question_text"
   ]
  },
  {
   "cell_type": "code",
   "execution_count": 27,
   "id": "22829367",
   "metadata": {
    "vscode": {
     "languageId": "shellscript"
    }
   },
   "outputs": [
    {
     "data": {
      "text/plain": [
       "Variable(value=Hint: Please answer the question and provide the correct option letter, e.g., A, B, C, D, at the end. \n",
       "Question: Find $RS$ if $\triangle QRS$ is an equilateral triangle. \n",
       "Choices: (A) 0.5 (B) 1 (C) 1.5 (D) 2, role=question, grads=set())"
      ]
     },
     "execution_count": 27,
     "metadata": {},
     "output_type": "execute_result"
    }
   ],
   "source": [
    "question_variable = tg.Variable(question_text, role_description=\"question\", requires_grad=False)\n",
    "question_variable"
   ]
  },
  {
   "cell_type": "code",
   "execution_count": 28,
   "id": "4858dce2",
   "metadata": {
    "vscode": {
     "languageId": "shellscript"
    }
   },
   "outputs": [
    {
     "data": {
      "text/plain": [
       "Variable(value=Since \\( \\triangle QRS \\) is an equilateral triangle, all sides are equal. Therefore, we can set up the following equations based on the given side lengths:\n",
       "\n",
       "\\[ 4x = 6x - 1 \\]\n",
       "\\[ 4x = 2x + 1 \\]\n",
       "\n",
       "First, solve the equation \\( 4x = 6x - 1 \\):\n",
       "\n",
       "\\[ 4x = 6x - 1 \\]\n",
       "\\[ 4x - 6x = -1 \\]\n",
       "\\[ -2x = -1 \\]\n",
       "\\[ x = \\frac{1}{2} \\]\n",
       "\n",
       "Next, solve the equation \\( 4x = 2x + 1 \\):\n",
       "\n",
       "\\[ 4x = 2x + 1 \\]\n",
       "\\[ 4x - 2x = 1 \\]\n",
       "\\[ 2x = 1 \\]\n",
       "\\[ x = \\frac{1}{2} \\]\n",
       "\n",
       "Now that we have \\( x = \\frac{1}{2} \\), we can find the length of \\( RS \\):\n",
       "\n",
       "\\[ RS = 2x + 1 \\]\n",
       "\\[ RS = 2\\left(\\frac{1}{2}\\right) + 1 \\]\n",
       "\\[ RS = 1 + 1 \\]\n",
       "\\[ RS = 2 \\]\n",
       "\n",
       "Therefore, the length of \\( RS \\) is 2. The correct option is (D)., role=response from the language model, grads=set())"
      ]
     },
     "execution_count": 28,
     "metadata": {},
     "output_type": "execute_result"
    }
   ],
   "source": [
    "response = MultimodalLLMCall(\"gpt-4o\")([image_variable, question_variable])\n",
    "response"
   ]
  },
  {
   "cell_type": "code",
   "execution_count": 29,
   "id": "7d541981-ed39-4ae1-9ca0-7ce751709972",
   "metadata": {
    "vscode": {
     "languageId": "shellscript"
    }
   },
   "outputs": [
    {
     "data": {
      "image/png": "[encoded data removed]",
      "text/plain": [
       "<PIL.PngImagePlugin.PngImageFile image mode=RGBA size=305x292>"
      ]
     },
     "execution_count": 29,
     "metadata": {},
     "output_type": "execute_result"
    }
   ],
   "source": [
    "Image.open(io.BytesIO(image_data))"
   ]
  },
  {
   "cell_type": "code",
   "execution_count": 30,
   "id": "29affc0a-cedc-40fd-bec4-6bf5178409cf",
   "metadata": {
    "vscode": {
     "languageId": "shellscript"
    }
   },
   "outputs": [
    {
     "data": {
      "text/plain": [
       "<textgrad.loss.ImageQALoss at 0x7b15ca729630>"
      ]
     },
     "execution_count": 30,
     "metadata": {},
     "output_type": "execute_result"
    }
   ],
   "source": [
    "loss_fn = ImageQALoss(\n",
    "    evaluation_instruction=\"Does this seem like a complete and good answer for the image? Criticize heavily.\",\n",
    "    # engine=\"claude-3-5-sonnet-20240620\"\n",
    "    engine=\"gpt-4o\",\n",
    ")\n",
    "loss_fn"
   ]
  },
  {
   "cell_type": "code",
   "execution_count": 31,
   "id": "ca9b6c47",
   "metadata": {
    "vscode": {
     "languageId": "shellscript"
    }
   },
   "outputs": [
    {
     "data": {
      "text/plain": [
       "Variable(value=The provided answer is mostly correct but can be improved for clarity and completeness. Here is a detailed critique:\n",
       "\n",
       "1. **Introduction and Setup**:\n",
       "   - The answer correctly identifies that since \\( \\triangle QRS \\) is an equilateral triangle, all sides are equal.\n",
       "   - It sets up the correct equations based on the given side lengths: \\( 4x = 6x - 1 \\) and \\( 4x = 2x + 1 \\).\n",
       "\n",
       "2. **Solving the Equations**:\n",
       "   - The solution to the first equation \\( 4x = 6x - 1 \\) is correctly shown step-by-step:\n",
       "     \\[\n",
       "     4x = 6x - 1 \\\\\n",
       "     4x - 6x = -1 \\\\\n",
       "     -2x = -1 \\\\\n",
       "     x = \\frac{1}{2}\n",
       "     \\]\n",
       "   - The solution to the second equation \\( 4x = 2x + 1 \\) is also correctly shown:\n",
       "     \\[\n",
       "     4x = 2x + 1 \\\\\n",
       "     4x - 2x = 1 \\\\\n",
       "     2x = 1 \\\\\n",
       "     x = \\frac{1}{2}\n",
       "     \\]\n",
       "\n",
       "3. **Finding \\( RS \\)**:\n",
       "   - The calculation for \\( RS \\) is correctly performed:\n",
       "     \\[\n",
       "     RS = 2x + 1 \\\\\n",
       "     RS = 2\\left(\\frac{1}{2}\\right) + 1 \\\\\n",
       "     RS = 1 + 1 \\\\\n",
       "     RS = 2\n",
       "     \\]\n",
       "\n",
       "4. **Conclusion**:\n",
       "   - The answer correctly concludes that the length of \\( RS \\) is 2 and identifies the correct option as (D).\n",
       "\n",
       "**Critique and Improvements**:\n",
       "- The answer is clear and logically structured, but it can be improved by explicitly stating that the two equations \\( 4x = 6x - 1 \\) and \\( 4x = 2x + 1 \\) are derived from the property of the equilateral triangle where all sides are equal.\n",
       "- It would be beneficial to mention that solving both equations independently confirms the consistency of the value of \\( x \\).\n",
       "\n",
       "**Revised Answer**:\n",
       "Since \\( \\triangle QRS \\) is an equilateral triangle, all sides are equal. Therefore, we can set up the following equations based on the given side lengths:\n",
       "\n",
       "\\[ 4x = 6x - 1 \\]\n",
       "\\[ 4x = 2x + 1 \\]\n",
       "\n",
       "First, solve the equation \\( 4x = 6x - 1 \\):\n",
       "\n",
       "\\[ 4x = 6x - 1 \\]\n",
       "\\[ 4x - 6x = -1 \\]\n",
       "\\[ -2x = -1 \\]\n",
       "\\[ x = \\frac{1}{2} \\]\n",
       "\n",
       "Next, solve the equation \\( 4x = 2x + 1 \\):\n",
       "\n",
       "\\[ 4x = 2x + 1 \\]\n",
       "\\[ 4x - 2x = 1 \\]\n",
       "\\[ 2x = 1 \\]\n",
       "\\[ x = \\frac{1}{2} \\]\n",
       "\n",
       "Both equations give the same value for \\( x \\), confirming the consistency. Now that we have \\( x = \\frac{1}{2} \\), we can find the length of \\( RS \\):\n",
       "\n",
       "\\[ RS = 2x + 1 \\]\n",
       "\\[ RS = 2\\left(\\frac{1}{2}\\right) + 1 \\]\n",
       "\\[ RS = 1 + 1 \\]\n",
       "\\[ RS = 2 \\]\n",
       "\n",
       "Therefore, the length of \\( RS \\) is 2. The correct option is (D)., role=evaluation of the response from the language model, grads=set())"
      ]
     },
     "execution_count": 31,
     "metadata": {},
     "output_type": "execute_result"
    }
   ],
   "source": [
    "loss = loss_fn(question=question_variable, image=image_variable, response=response)\n",
    "loss"
   ]
  },
  {
   "cell_type": "code",
   "execution_count": 32,
   "id": "38c2d4ff-1458-459d-8915-3d1a254564fb",
   "metadata": {
    "vscode": {
     "languageId": "shellscript"
    }
   },
   "outputs": [
    {
     "data": {
      "text/plain": [
       "<textgrad.optimizer.optimizer.TextualGradientDescent at 0x7b15e4de7b50>"
      ]
     },
     "execution_count": 32,
     "metadata": {},
     "output_type": "execute_result"
    }
   ],
   "source": [
    "optimizer = tg.TGD(parameters=[response])\n",
    "optimizer"
   ]
  },
  {
   "cell_type": "code",
   "execution_count": 33,
   "id": "66d2c361",
   "metadata": {
    "vscode": {
     "languageId": "shellscript"
    }
   },
   "outputs": [
    {
     "name": "stdout",
     "output_type": "stream",
     "text": [
      "Since \\( \\triangle QRS \\) is an equilateral triangle, all sides are equal. Therefore, we can set up the following equations based on the equality of the sides \\( QR \\), \\( QS \\), and \\( RS \\):\n",
      "\n",
      "\\[ 4x = 6x - 1 \\]\n",
      "\\[ 4x = 2x + 1 \\]\n",
      "\n",
      "First, solve the equation \\( 4x = 6x - 1 \\):\n",
      "\n",
      "\\[ 4x = 6x - 1 \\]\n",
      "\\[ 4x - 6x = -1 \\]\n",
      "\\[ -2x = -1 \\]\n",
      "\\[ x = \\frac{1}{2} \\]\n",
      "\n",
      "Next, solve the equation \\( 4x = 2x + 1 \\):\n",
      "\n",
      "\\[ 4x = 2x + 1 \\]\n",
      "\\[ 4x - 2x = 1 \\]\n",
      "\\[ 2x = 1 \\]\n",
      "\\[ x = \\frac{1}{2} \\]\n",
      "\n",
      "Both equations give the same value for \\( x \\), confirming the consistency. Now that we have \\( x = \\frac{1}{2} \\), we can find the length of \\( RS \\) by substituting \\( x \\) into the expression for \\( RS \\):\n",
      "\n",
      "\\[ RS = 2x + 1 \\]\n",
      "\\[ RS = 2\\left(\\frac{1}{2}\\right) + 1 \\]\n",
      "\\[ RS = 1 + 1 \\]\n",
      "\\[ RS = 2 \\]\n",
      "\n",
      "Therefore, the length of \\( RS \\) is 2. The correct option is (D).\n"
     ]
    }
   ],
   "source": [
    "loss.backward()\n",
    "optimizer.step()\n",
    "print(response.value)"
   ]
  },
  {
   "cell_type": "code",
   "execution_count": null,
   "id": "a46a87c8-31a2-41f6-8ba8-b9c99ae60f27",
   "metadata": {
    "vscode": {
     "languageId": "shellscript"
    }
   },
   "outputs": [],
   "source": []
  }
 ],
 "metadata": {
  "kernelspec": {
   "display_name": "textgrad",
   "language": "python",
   "name": "python3"
  },
  "language_info": {
   "codemirror_mode": {
    "name": "ipython",
    "version": 3
   },
   "file_extension": ".py",
   "mimetype": "text/x-python",
   "name": "python",
   "nbconvert_exporter": "python",
   "pygments_lexer": "ipython3",
   "version": "3.10.14"
  }
 },
 "nbformat": 4,
 "nbformat_minor": 5
}
